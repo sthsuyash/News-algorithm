{
 "cells": [
  {
   "cell_type": "code",
   "execution_count": 1,
   "metadata": {},
   "outputs": [],
   "source": [
    "import warnings\n",
    "\n",
    "warnings.filterwarnings(\"ignore\")"
   ]
  },
  {
   "cell_type": "code",
   "execution_count": 2,
   "metadata": {},
   "outputs": [],
   "source": [
    "import os\n",
    "import pandas as pd\n",
    "\n",
    "from sqlalchemy import create_engine"
   ]
  },
  {
   "cell_type": "code",
   "execution_count": 3,
   "metadata": {},
   "outputs": [],
   "source": [
    "import sys\n",
    "\n",
    "sys.path.append(\"..\")\n",
    "from recommender import NewsRecommendationSystem"
   ]
  },
  {
   "cell_type": "code",
   "execution_count": 4,
   "metadata": {},
   "outputs": [],
   "source": [
    "# Load database URL from environment variables\n",
    "DATABASE_URL = os.getenv(\"DATABASE_URL\")\n",
    "\n",
    "# Establish a connection to the database\n",
    "engine = create_engine(DATABASE_URL)"
   ]
  },
  {
   "cell_type": "code",
   "execution_count": 5,
   "metadata": {},
   "outputs": [],
   "source": [
    "QUERY = \"\"\"\n",
    "SELECT \n",
    "    \"Post\".id,\n",
    "    \"Post\".title AS heading,\n",
    "    \"Post\".\"createdAt\" AS date,\n",
    "    \"Post\".\"visitCount\",\n",
    "    \"Category\".name AS category_name,\n",
    "    \"Sentiment\".name AS sentiment_name\n",
    "FROM \n",
    "    \"Post\"\n",
    "LEFT JOIN \"Category\" ON \"Post\".\"categoryId\" = \"Category\".id\n",
    "LEFT JOIN \"Sentiment\" ON \"Post\".\"sentimentId\" = \"Sentiment\".id\n",
    "WHERE\n",
    "    \"Sentiment\".name != 'NEGATIVE'\n",
    "\"\"\""
   ]
  },
  {
   "cell_type": "code",
   "execution_count": 6,
   "metadata": {},
   "outputs": [],
   "source": [
    "df = pd.read_sql_query(QUERY, engine)"
   ]
  },
  {
   "cell_type": "code",
   "execution_count": 7,
   "metadata": {},
   "outputs": [],
   "source": [
    "# Convert DataFrame to a list of dictionaries for easier processing\n",
    "articles = df.to_dict(orient=\"records\")"
   ]
  },
  {
   "cell_type": "code",
   "execution_count": 8,
   "metadata": {},
   "outputs": [
    {
     "name": "stdout",
     "output_type": "stream",
     "text": [
      "Sample article records:\n",
      "[{'id': 'cm6cglxr40001gjp8jmi8adbz', 'heading': 'नेपालमा शिक्षा प्रणाली सुधार', 'date': Timestamp('2025-01-25 17:23:15.616000'), 'visitCount': 0, 'category_name': 'economy', 'sentiment_name': 'POSITIVE'}, {'id': 'cm6cglyjo0002gjp8n9x8e2om', 'heading': 'नेपालमा महिलाको सशक्तिकरण', 'date': Timestamp('2025-01-25 17:23:16.645000'), 'visitCount': 0, 'category_name': 'economy', 'sentiment_name': 'NEUTRAL'}, {'id': 'cm6cglzcu0003gjp8cl64f1im', 'heading': 'नेपालमा आगामी चुनावको तयारी', 'date': Timestamp('2025-01-25 17:23:17.695000'), 'visitCount': 0, 'category_name': 'economy', 'sentiment_name': 'POSITIVE'}, {'id': 'cm6cgm06d0004gjp8rdu7icct', 'heading': 'नेपालमा महिलाको सशक्तिकरण', 'date': Timestamp('2025-01-25 17:23:18.758000'), 'visitCount': 0, 'category_name': 'economy', 'sentiment_name': 'POSITIVE'}, {'id': 'cm6cgm10u0005gjp8t3x1g2a0', 'heading': 'नेपालका प्रमुख पर्यटकीय गन्तव्यहरू', 'date': Timestamp('2025-01-25 17:23:19.855000'), 'visitCount': 0, 'category_name': 'opinion', 'sentiment_name': 'POSITIVE'}]\n"
     ]
    }
   ],
   "source": [
    "# Display the first few records\n",
    "print(\"Sample article records:\")\n",
    "print(articles[:5])"
   ]
  },
  {
   "cell_type": "code",
   "execution_count": 9,
   "metadata": {},
   "outputs": [],
   "source": [
    "MODEL_DIR = os.path.join(os.getcwd(), \"..\", \"models\")\n",
    "if not os.path.exists(MODEL_DIR):\n",
    "    print(f\"Creating directory: {MODEL_DIR}\")\n",
    "    os.makedirs(MODEL_DIR)\n",
    "\n",
    "MODEL_PATH = os.path.join(MODEL_DIR, \"news_recommendation_model.pkl\")"
   ]
  },
  {
   "cell_type": "code",
   "execution_count": 10,
   "metadata": {},
   "outputs": [],
   "source": [
    "sample_article_id = articles[0][\"id\"]"
   ]
  },
  {
   "cell_type": "code",
   "execution_count": 11,
   "metadata": {},
   "outputs": [],
   "source": [
    "recommender_saved = NewsRecommendationSystem.load_model(MODEL_PATH)"
   ]
  },
  {
   "cell_type": "code",
   "execution_count": 12,
   "metadata": {},
   "outputs": [],
   "source": [
    "op = recommender_saved.recommend(sample_article_id)"
   ]
  },
  {
   "cell_type": "code",
   "execution_count": 13,
   "metadata": {},
   "outputs": [
    {
     "data": {
      "text/plain": [
       "[('cm6cglzcu0003gjp8cl64f1im', 1.261624932178372),\n",
       " ('cm6dw2oy20004gjx8aqtorl2q', 1.2652088311816925),\n",
       " ('cm6cgm06d0004gjp8rdu7icct', 1.2883576606946117),\n",
       " ('cm6cgmwvj0016gjp8skudadsf', 1.4142135623730951),\n",
       " ('cm6dw2mk70001gjx8a1tkndwj', 1.4174116963698524)]"
      ]
     },
     "execution_count": 13,
     "metadata": {},
     "output_type": "execute_result"
    }
   ],
   "source": [
    "op"
   ]
  },
  {
   "cell_type": "code",
   "execution_count": 14,
   "metadata": {},
   "outputs": [],
   "source": [
    "def get_recommendation_data(recommended_id: str):\n",
    "    \"\"\"\n",
    "    Fetch and display details of a recommended article.\n",
    "\n",
    "    Args:\n",
    "        recommended_id: The ID of the article to fetch.\n",
    "    \"\"\"\n",
    "    article = next(a for a in articles if a[\"id\"] == recommended_id)\n",
    "    print(f\"ID: {article['id']}\")\n",
    "    print(f\"Category: {article['category_name']}\")\n",
    "    print(f\"Heading: {article['heading']}\")\n",
    "    print(f\"Sentiment: {article['sentiment_name']}\")\n",
    "    print(f\"Date: {article['date']}\")"
   ]
  },
  {
   "cell_type": "code",
   "execution_count": 15,
   "metadata": {},
   "outputs": [
    {
     "name": "stdout",
     "output_type": "stream",
     "text": [
      "Testing with article: {'id': 'cm6cgm06d0004gjp8rdu7icct', 'heading': 'नेपालमा महिलाको सशक्तिकरण', 'date': Timestamp('2025-01-25 17:23:18.758000'), 'visitCount': 0, 'category_name': 'economy', 'sentiment_name': 'POSITIVE'}\n",
      "Recommended articles:\n",
      "ID: cm6cgm3km0008gjp8wg6dsn5x\n",
      "Category: opinion\n",
      "Heading: नेपालको नयाँ विकास योजनाहरू\n",
      "Sentiment: POSITIVE\n",
      "Date: 2025-01-25 17:23:23.159000\n",
      "------------------------\n",
      "ID: cm6cgm10u0005gjp8t3x1g2a0\n",
      "Category: opinion\n",
      "Heading: नेपालका प्रमुख पर्यटकीय गन्तव्यहरू\n",
      "Sentiment: POSITIVE\n",
      "Date: 2025-01-25 17:23:19.855000\n",
      "------------------------\n",
      "ID: cm6dw3lj00014gjx81p020bju\n",
      "Category: health\n",
      "Heading: नेपालको अर्थव्यवस्था र भविष्य\n",
      "Sentiment: POSITIVE\n",
      "Date: 2025-01-26 17:24:39.997000\n",
      "------------------------\n",
      "ID: cm6dw3a5s000rgjx8j1xbds3d\n",
      "Category: diaspora\n",
      "Heading: नेपालको अर्थव्यवस्था र भविष्य\n",
      "Sentiment: POSITIVE\n",
      "Date: 2025-01-26 17:24:25.265000\n",
      "------------------------\n",
      "ID: cm6cgmbdv000hgjp8hzsg3cgr\n",
      "Category: sports\n",
      "Heading: नेपालको अर्थव्यवस्था र भविष्य\n",
      "Sentiment: POSITIVE\n",
      "Date: 2025-01-25 17:23:33.284000\n",
      "------------------------\n"
     ]
    }
   ],
   "source": [
    "new_test_article_id = articles[34][\"id\"]\n",
    "print(\"Testing with article:\", articles[3])\n",
    "\n",
    "recommendations = recommender_saved.recommend(new_test_article_id, limit=5)\n",
    "print(\"Recommended articles:\")\n",
    "for rec_id, distances in recommendations:\n",
    "    get_recommendation_data(rec_id)\n",
    "    print(\"------------------------\")"
   ]
  }
 ],
 "metadata": {
  "kernelspec": {
   "display_name": "nepali-news-algorithms-pgvW4vYa-py3.12",
   "language": "python",
   "name": "python3"
  },
  "language_info": {
   "codemirror_mode": {
    "name": "ipython",
    "version": 3
   },
   "file_extension": ".py",
   "mimetype": "text/x-python",
   "name": "python",
   "nbconvert_exporter": "python",
   "pygments_lexer": "ipython3",
   "version": "3.12.4"
  }
 },
 "nbformat": 4,
 "nbformat_minor": 2
}
