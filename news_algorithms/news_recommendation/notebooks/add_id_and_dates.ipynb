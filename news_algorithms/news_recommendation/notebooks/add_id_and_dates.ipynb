{
 "cells": [
  {
   "cell_type": "code",
   "execution_count": 1,
   "metadata": {},
   "outputs": [],
   "source": [
    "import pandas as pd\n",
    "import random\n",
    "from datetime import datetime, timedelta"
   ]
  },
  {
   "cell_type": "code",
   "execution_count": 2,
   "metadata": {},
   "outputs": [
    {
     "data": {
      "text/html": [
       "<div>\n",
       "<style scoped>\n",
       "    .dataframe tbody tr th:only-of-type {\n",
       "        vertical-align: middle;\n",
       "    }\n",
       "\n",
       "    .dataframe tbody tr th {\n",
       "        vertical-align: top;\n",
       "    }\n",
       "\n",
       "    .dataframe thead th {\n",
       "        text-align: right;\n",
       "    }\n",
       "</style>\n",
       "<table border=\"1\" class=\"dataframe\">\n",
       "  <thead>\n",
       "    <tr style=\"text-align: right;\">\n",
       "      <th></th>\n",
       "      <th>category</th>\n",
       "      <th>heading</th>\n",
       "    </tr>\n",
       "  </thead>\n",
       "  <tbody>\n",
       "    <tr>\n",
       "      <th>0</th>\n",
       "      <td>Market</td>\n",
       "      <td>नेपाल फ्रेड फर्वार्ड्स एसोसिएसनमा अधिकारी</td>\n",
       "    </tr>\n",
       "    <tr>\n",
       "      <th>1</th>\n",
       "      <td>Business</td>\n",
       "      <td>एप्पल इभेन्टको घोषणा, जुन ६ बाट शुरु हुने, आइफ...</td>\n",
       "    </tr>\n",
       "    <tr>\n",
       "      <th>2</th>\n",
       "      <td>Health</td>\n",
       "      <td>अत्यावश्यक परेकालाई मात्र गाउँ फर्काइँदै</td>\n",
       "    </tr>\n",
       "    <tr>\n",
       "      <th>3</th>\n",
       "      <td>Technology</td>\n",
       "      <td>रिचार्जर एपको योजना</td>\n",
       "    </tr>\n",
       "    <tr>\n",
       "      <th>4</th>\n",
       "      <td>Literature</td>\n",
       "      <td>सारंगीको धुन पछ्याउँदै साकिराको देशदेखि बाटुले...</td>\n",
       "    </tr>\n",
       "  </tbody>\n",
       "</table>\n",
       "</div>"
      ],
      "text/plain": [
       "     category                                            heading\n",
       "0      Market          नेपाल फ्रेड फर्वार्ड्स एसोसिएसनमा अधिकारी\n",
       "1    Business  एप्पल इभेन्टको घोषणा, जुन ६ बाट शुरु हुने, आइफ...\n",
       "2      Health           अत्यावश्यक परेकालाई मात्र गाउँ फर्काइँदै\n",
       "3  Technology                                रिचार्जर एपको योजना\n",
       "4  Literature  सारंगीको धुन पछ्याउँदै साकिराको देशदेखि बाटुले..."
      ]
     },
     "execution_count": 2,
     "metadata": {},
     "output_type": "execute_result"
    }
   ],
   "source": [
    "# Load your dataset\n",
    "file_path = \"balanced_dataset.csv\"  # Update this with your actual file path\n",
    "df = pd.read_csv(file_path)\n",
    "df.head()"
   ]
  },
  {
   "cell_type": "code",
   "execution_count": 3,
   "metadata": {},
   "outputs": [],
   "source": [
    "# Ensure the dataset has the required columns\n",
    "required_columns = [\"heading\", \"category\"]\n",
    "if not all(col in df.columns for col in required_columns):\n",
    "    raise ValueError(f\"Dataset must contain columns: {required_columns}\")"
   ]
  },
  {
   "cell_type": "code",
   "execution_count": 4,
   "metadata": {},
   "outputs": [],
   "source": [
    "# Generate unique IDs based on the row index\n",
    "df['id'] = [str(i) for i in range(1, len(df) + 1)]"
   ]
  },
  {
   "cell_type": "code",
   "execution_count": 5,
   "metadata": {},
   "outputs": [
    {
     "name": "stdout",
     "output_type": "stream",
     "text": [
      "Synthetic dates added to the dataset.\n"
     ]
    }
   ],
   "source": [
    "# Add synthetic dates (last 90 days)\n",
    "df[\"date\"] = [\n",
    "    (datetime.now() - timedelta(days=random.randint(0, 90))).strftime(\"%Y-%m-%d\")\n",
    "    for _ in range(len(df))\n",
    "]\n",
    "\n",
    "print(\"Synthetic dates added to the dataset.\")"
   ]
  },
  {
   "cell_type": "code",
   "execution_count": 6,
   "metadata": {},
   "outputs": [],
   "source": [
    "# Save the updated dataset for future use\n",
    "df.to_csv(\"news_data_with_dates.csv\", index=False)"
   ]
  }
 ],
 "metadata": {
  "kernelspec": {
   "display_name": "news-title-classifier-Q5gfBSGz-py3.12",
   "language": "python",
   "name": "python3"
  },
  "language_info": {
   "codemirror_mode": {
    "name": "ipython",
    "version": 3
   },
   "file_extension": ".py",
   "mimetype": "text/x-python",
   "name": "python",
   "nbconvert_exporter": "python",
   "pygments_lexer": "ipython3",
   "version": "3.12.4"
  }
 },
 "nbformat": 4,
 "nbformat_minor": 2
}
