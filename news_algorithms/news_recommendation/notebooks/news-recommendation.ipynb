{
 "cells": [
  {
   "cell_type": "markdown",
   "metadata": {},
   "source": [
    "# News Recommendation System using K-Nearest Neighbors (KNN)\n",
    "\n",
    "This notebook demonstrates how to build a news recommendation system using KNN.\n"
   ]
  },
  {
   "cell_type": "code",
   "execution_count": 1,
   "metadata": {},
   "outputs": [],
   "source": [
    "import warnings\n",
    "warnings.filterwarnings(\"ignore\")"
   ]
  },
  {
   "cell_type": "code",
   "execution_count": 2,
   "metadata": {},
   "outputs": [],
   "source": [
    "import os\n",
    "import pandas as pd\n",
    "import joblib\n",
    "\n",
    "from sqlalchemy import create_engine"
   ]
  },
  {
   "cell_type": "code",
   "execution_count": 3,
   "metadata": {},
   "outputs": [],
   "source": [
    "import sys\n",
    "\n",
    "sys.path.append(\"..\")\n",
    "from recommender import NewsRecommendationSystem"
   ]
  },
  {
   "cell_type": "markdown",
   "metadata": {},
   "source": [
    "---"
   ]
  },
  {
   "cell_type": "markdown",
   "metadata": {},
   "source": [
    "## 2. Database Configuration\n"
   ]
  },
  {
   "cell_type": "code",
   "execution_count": 4,
   "metadata": {},
   "outputs": [],
   "source": [
    "# Load database URL from environment variables\n",
    "DATABASE_URL = os.getenv(\"DATABASE_URL\")\n",
    "\n",
    "# Establish a connection to the database\n",
    "engine = create_engine(DATABASE_URL)"
   ]
  },
  {
   "cell_type": "markdown",
   "metadata": {},
   "source": [
    "## 3. Load and Inspect Data"
   ]
  },
  {
   "cell_type": "code",
   "execution_count": 5,
   "metadata": {},
   "outputs": [],
   "source": [
    "QUERY = \"\"\"\n",
    "SELECT \n",
    "    \"Post\".id,\n",
    "    \"Post\".title AS heading,\n",
    "    \"Post\".\"createdAt\" AS date,\n",
    "    \"Post\".\"visitCount\",\n",
    "    \"Category\".name AS category_name,\n",
    "    \"Sentiment\".name AS sentiment_name\n",
    "FROM \n",
    "    \"Post\"\n",
    "LEFT JOIN \"Category\" ON \"Post\".\"categoryId\" = \"Category\".id\n",
    "LEFT JOIN \"Sentiment\" ON \"Post\".\"sentimentId\" = \"Sentiment\".id\n",
    "WHERE\n",
    "    \"Sentiment\".name != 'NEGATIVE'\n",
    "\"\"\""
   ]
  },
  {
   "cell_type": "code",
   "execution_count": 6,
   "metadata": {},
   "outputs": [],
   "source": [
    "df = pd.read_sql_query(QUERY, engine)"
   ]
  },
  {
   "cell_type": "code",
   "execution_count": 7,
   "metadata": {},
   "outputs": [
    {
     "data": {
      "text/html": [
       "<div>\n",
       "<style scoped>\n",
       "    .dataframe tbody tr th:only-of-type {\n",
       "        vertical-align: middle;\n",
       "    }\n",
       "\n",
       "    .dataframe tbody tr th {\n",
       "        vertical-align: top;\n",
       "    }\n",
       "\n",
       "    .dataframe thead th {\n",
       "        text-align: right;\n",
       "    }\n",
       "</style>\n",
       "<table border=\"1\" class=\"dataframe\">\n",
       "  <thead>\n",
       "    <tr style=\"text-align: right;\">\n",
       "      <th></th>\n",
       "      <th>id</th>\n",
       "      <th>heading</th>\n",
       "      <th>date</th>\n",
       "      <th>visitCount</th>\n",
       "      <th>category_name</th>\n",
       "      <th>sentiment_name</th>\n",
       "    </tr>\n",
       "  </thead>\n",
       "  <tbody>\n",
       "    <tr>\n",
       "      <th>0</th>\n",
       "      <td>cm6cglxr40001gjp8jmi8adbz</td>\n",
       "      <td>नेपालमा शिक्षा प्रणाली सुधार</td>\n",
       "      <td>2025-01-25 17:23:15.616</td>\n",
       "      <td>0</td>\n",
       "      <td>economy</td>\n",
       "      <td>POSITIVE</td>\n",
       "    </tr>\n",
       "    <tr>\n",
       "      <th>1</th>\n",
       "      <td>cm6cglyjo0002gjp8n9x8e2om</td>\n",
       "      <td>नेपालमा महिलाको सशक्तिकरण</td>\n",
       "      <td>2025-01-25 17:23:16.645</td>\n",
       "      <td>0</td>\n",
       "      <td>economy</td>\n",
       "      <td>NEUTRAL</td>\n",
       "    </tr>\n",
       "    <tr>\n",
       "      <th>2</th>\n",
       "      <td>cm6cglzcu0003gjp8cl64f1im</td>\n",
       "      <td>नेपालमा आगामी चुनावको तयारी</td>\n",
       "      <td>2025-01-25 17:23:17.695</td>\n",
       "      <td>0</td>\n",
       "      <td>economy</td>\n",
       "      <td>POSITIVE</td>\n",
       "    </tr>\n",
       "    <tr>\n",
       "      <th>3</th>\n",
       "      <td>cm6cgm06d0004gjp8rdu7icct</td>\n",
       "      <td>नेपालमा महिलाको सशक्तिकरण</td>\n",
       "      <td>2025-01-25 17:23:18.758</td>\n",
       "      <td>0</td>\n",
       "      <td>economy</td>\n",
       "      <td>POSITIVE</td>\n",
       "    </tr>\n",
       "    <tr>\n",
       "      <th>4</th>\n",
       "      <td>cm6cgm10u0005gjp8t3x1g2a0</td>\n",
       "      <td>नेपालका प्रमुख पर्यटकीय गन्तव्यहरू</td>\n",
       "      <td>2025-01-25 17:23:19.855</td>\n",
       "      <td>0</td>\n",
       "      <td>opinion</td>\n",
       "      <td>POSITIVE</td>\n",
       "    </tr>\n",
       "  </tbody>\n",
       "</table>\n",
       "</div>"
      ],
      "text/plain": [
       "                          id                             heading  \\\n",
       "0  cm6cglxr40001gjp8jmi8adbz        नेपालमा शिक्षा प्रणाली सुधार   \n",
       "1  cm6cglyjo0002gjp8n9x8e2om           नेपालमा महिलाको सशक्तिकरण   \n",
       "2  cm6cglzcu0003gjp8cl64f1im         नेपालमा आगामी चुनावको तयारी   \n",
       "3  cm6cgm06d0004gjp8rdu7icct           नेपालमा महिलाको सशक्तिकरण   \n",
       "4  cm6cgm10u0005gjp8t3x1g2a0  नेपालका प्रमुख पर्यटकीय गन्तव्यहरू   \n",
       "\n",
       "                     date  visitCount category_name sentiment_name  \n",
       "0 2025-01-25 17:23:15.616           0       economy       POSITIVE  \n",
       "1 2025-01-25 17:23:16.645           0       economy        NEUTRAL  \n",
       "2 2025-01-25 17:23:17.695           0       economy       POSITIVE  \n",
       "3 2025-01-25 17:23:18.758           0       economy       POSITIVE  \n",
       "4 2025-01-25 17:23:19.855           0       opinion       POSITIVE  "
      ]
     },
     "execution_count": 7,
     "metadata": {},
     "output_type": "execute_result"
    }
   ],
   "source": [
    "df.head()"
   ]
  },
  {
   "cell_type": "code",
   "execution_count": 8,
   "metadata": {},
   "outputs": [
    {
     "name": "stdout",
     "output_type": "stream",
     "text": [
      "Total number of articles: 64\n",
      "\n",
      "Articles per category:\n",
      "category_name\n",
      "diaspora         7\n",
      "economy          9\n",
      "entertainment    8\n",
      "health           5\n",
      "literature       6\n",
      "national         6\n",
      "opinion          6\n",
      "sports           5\n",
      "technology       7\n",
      "world            5\n",
      "dtype: int64\n"
     ]
    }
   ],
   "source": [
    "# Print dataset statistics\n",
    "print(f\"Total number of articles: {df.shape[0]}\")\n",
    "print(\"\\nArticles per category:\")\n",
    "print(df.groupby(\"category_name\").size())"
   ]
  },
  {
   "cell_type": "markdown",
   "metadata": {},
   "source": [
    "---"
   ]
  },
  {
   "cell_type": "markdown",
   "metadata": {},
   "source": [
    "## 4. Prepare Data for Recommendation System"
   ]
  },
  {
   "cell_type": "code",
   "execution_count": 9,
   "metadata": {},
   "outputs": [],
   "source": [
    "# Convert DataFrame to a list of dictionaries for easier processing\n",
    "articles = df.to_dict(orient=\"records\")"
   ]
  },
  {
   "cell_type": "code",
   "execution_count": 10,
   "metadata": {},
   "outputs": [
    {
     "name": "stdout",
     "output_type": "stream",
     "text": [
      "Sample article records:\n",
      "[{'id': 'cm6cglxr40001gjp8jmi8adbz', 'heading': 'नेपालमा शिक्षा प्रणाली सुधार', 'date': Timestamp('2025-01-25 17:23:15.616000'), 'visitCount': 0, 'category_name': 'economy', 'sentiment_name': 'POSITIVE'}, {'id': 'cm6cglyjo0002gjp8n9x8e2om', 'heading': 'नेपालमा महिलाको सशक्तिकरण', 'date': Timestamp('2025-01-25 17:23:16.645000'), 'visitCount': 0, 'category_name': 'economy', 'sentiment_name': 'NEUTRAL'}, {'id': 'cm6cglzcu0003gjp8cl64f1im', 'heading': 'नेपालमा आगामी चुनावको तयारी', 'date': Timestamp('2025-01-25 17:23:17.695000'), 'visitCount': 0, 'category_name': 'economy', 'sentiment_name': 'POSITIVE'}, {'id': 'cm6cgm06d0004gjp8rdu7icct', 'heading': 'नेपालमा महिलाको सशक्तिकरण', 'date': Timestamp('2025-01-25 17:23:18.758000'), 'visitCount': 0, 'category_name': 'economy', 'sentiment_name': 'POSITIVE'}, {'id': 'cm6cgm10u0005gjp8t3x1g2a0', 'heading': 'नेपालका प्रमुख पर्यटकीय गन्तव्यहरू', 'date': Timestamp('2025-01-25 17:23:19.855000'), 'visitCount': 0, 'category_name': 'opinion', 'sentiment_name': 'POSITIVE'}]\n"
     ]
    }
   ],
   "source": [
    "# Display the first few records\n",
    "print(\"Sample article records:\")\n",
    "print(articles[:5])"
   ]
  },
  {
   "cell_type": "markdown",
   "metadata": {},
   "source": [
    "---"
   ]
  },
  {
   "cell_type": "markdown",
   "metadata": {},
   "source": [
    "## 5. Train the News Recommendation Model\n"
   ]
  },
  {
   "cell_type": "markdown",
   "metadata": {},
   "source": [
    "### Initialize the recommendation system with KNN\n"
   ]
  },
  {
   "cell_type": "code",
   "execution_count": 11,
   "metadata": {},
   "outputs": [],
   "source": [
    "recommender = NewsRecommendationSystem(k=5)"
   ]
  },
  {
   "cell_type": "markdown",
   "metadata": {},
   "source": [
    "### Train the model"
   ]
  },
  {
   "cell_type": "code",
   "execution_count": 12,
   "metadata": {},
   "outputs": [],
   "source": [
    "recommender.fit(articles)"
   ]
  },
  {
   "cell_type": "markdown",
   "metadata": {},
   "source": [
    "### Save the model"
   ]
  },
  {
   "cell_type": "code",
   "execution_count": null,
   "metadata": {},
   "outputs": [],
   "source": [
    "MODEL_DIR = os.path.join(os.getcwd(), \"..\", \"models\")\n",
    "if not os.path.exists(MODEL_DIR):\n",
    "    print(f\"Creating directory: {MODEL_DIR}\")\n",
    "    os.makedirs(MODEL_DIR)\n",
    "\n",
    "MODEL_PATH = os.path.join(MODEL_DIR, \"news_recommendation_model.pkl\")"
   ]
  },
  {
   "cell_type": "code",
   "execution_count": 17,
   "metadata": {},
   "outputs": [
    {
     "name": "stdout",
     "output_type": "stream",
     "text": [
      "Model saved to: c:\\Users\\Suyash Shrestha\\Personal\\_Nepali_news_project\\News-algorithm\\news_algorithms\\news_recommendation\\notebooks\\..\\models\\news_recommendation_model.pkl\n"
     ]
    }
   ],
   "source": [
    "try:\n",
    "    recommender.save_model(MODEL_PATH)\n",
    "    print(f\"Model saved to: {MODEL_PATH}\")\n",
    "except Exception as e:\n",
    "    print(f\"Failed to save model: {e}\")"
   ]
  },
  {
   "cell_type": "markdown",
   "metadata": {},
   "source": [
    "---"
   ]
  },
  {
   "cell_type": "markdown",
   "metadata": {},
   "source": [
    "## 6. Test the Model with Recommendations"
   ]
  },
  {
   "cell_type": "markdown",
   "metadata": {},
   "source": [
    "### Select an article ID for testing\n"
   ]
  },
  {
   "cell_type": "code",
   "execution_count": 12,
   "metadata": {},
   "outputs": [],
   "source": [
    "sample_article_id = articles[0][\"id\"]"
   ]
  },
  {
   "cell_type": "markdown",
   "metadata": {},
   "source": [
    "### Get recommendations\n"
   ]
  },
  {
   "cell_type": "code",
   "execution_count": 13,
   "metadata": {},
   "outputs": [],
   "source": [
    "recommender_saved = NewsRecommendationSystem.load_model(MODEL_PATH)"
   ]
  },
  {
   "cell_type": "code",
   "execution_count": 14,
   "metadata": {},
   "outputs": [],
   "source": [
    "op = recommender_saved.recommend(sample_article_id)"
   ]
  },
  {
   "cell_type": "code",
   "execution_count": 15,
   "metadata": {},
   "outputs": [
    {
     "data": {
      "text/plain": [
       "[('cm6cglzcu0003gjp8cl64f1im', 1.261624932178372),\n",
       " ('cm6dw2oy20004gjx8aqtorl2q', 1.2652088311816925),\n",
       " ('cm6cgm06d0004gjp8rdu7icct', 1.2883576606946117),\n",
       " ('cm6cgmwvj0016gjp8skudadsf', 1.4142135623730951),\n",
       " ('cm6dw2mk70001gjx8a1tkndwj', 1.4174116963698524)]"
      ]
     },
     "execution_count": 15,
     "metadata": {},
     "output_type": "execute_result"
    }
   ],
   "source": [
    "op"
   ]
  },
  {
   "cell_type": "markdown",
   "metadata": {},
   "source": [
    "### Display the recommended articles\n"
   ]
  },
  {
   "cell_type": "code",
   "execution_count": 15,
   "metadata": {},
   "outputs": [
    {
     "name": "stdout",
     "output_type": "stream",
     "text": [
      "Recommendations for article ID cm6cglxr40001gjp8jmi8adbz:\n",
      "ID: cm6cglzcu0003gjp8cl64f1im\n",
      "Heading: नेपालमा आगामी चुनावको तयारी\n",
      "Category: economy\n",
      "--------------------------------------------------\n",
      "ID: cm6dw2oy20004gjx8aqtorl2q\n",
      "Heading: नेपालमा आगामी चुनावको तयारी\n",
      "Category: economy\n",
      "--------------------------------------------------\n",
      "ID: cm6cgm06d0004gjp8rdu7icct\n",
      "Heading: नेपालमा महिलाको सशक्तिकरण\n",
      "Category: economy\n",
      "--------------------------------------------------\n",
      "ID: cm6cgmwvj0016gjp8skudadsf\n",
      "Heading: नेपालमा शिक्षा प्रणाली सुधार\n",
      "Category: health\n",
      "--------------------------------------------------\n",
      "ID: cm6dw2mk70001gjx8a1tkndwj\n",
      "Heading: नेपालका प्रमुख खेलकुद गतिविधिहरू\n",
      "Category: economy\n",
      "--------------------------------------------------\n"
     ]
    }
   ],
   "source": [
    "recommendations_with_distances = recommender.recommend(sample_article_id, limit=5)\n",
    "\n",
    "print(f\"Recommendations for article ID {sample_article_id}:\")\n",
    "for rec_id, distance in recommendations_with_distances:\n",
    "    article = next(a for a in articles if a[\"id\"] == rec_id)\n",
    "    print(f\"ID: {article['id']}\")\n",
    "    print(f\"Heading: {article['heading']}\")\n",
    "    print(f\"Category: {article['category_name']}\")\n",
    "    # print(f\"Distance: {distance:.4f}\")\n",
    "    print(\"-\"*50)"
   ]
  },
  {
   "cell_type": "markdown",
   "metadata": {},
   "source": [
    "---"
   ]
  },
  {
   "cell_type": "markdown",
   "metadata": {},
   "source": [
    "## 7. Save and Load the Model"
   ]
  },
  {
   "cell_type": "markdown",
   "metadata": {},
   "source": [
    "### Save the trained model\n"
   ]
  },
  {
   "cell_type": "code",
   "execution_count": 17,
   "metadata": {},
   "outputs": [
    {
     "name": "stdout",
     "output_type": "stream",
     "text": [
      "Model saved to c:\\Users\\Suyash Shrestha\\Personal\\_Nepali_news_project\\News-algorithm\\news_algorithms\\news_recommendation\\notebooks\\..\\models\\news_recommendation_model.pkl\n"
     ]
    }
   ],
   "source": [
    "joblib.dump(recommender, MODEL_PATH)\n",
    "print(f\"Model saved to {MODEL_PATH}\")"
   ]
  },
  {
   "cell_type": "markdown",
   "metadata": {},
   "source": [
    "### Load the Saved Model"
   ]
  },
  {
   "cell_type": "code",
   "execution_count": 18,
   "metadata": {},
   "outputs": [],
   "source": [
    "recommender = NewsRecommendationSystem(k=5, metric=\"euclidean\", time_decay_factor=0.1)"
   ]
  },
  {
   "cell_type": "code",
   "execution_count": 19,
   "metadata": {},
   "outputs": [
    {
     "name": "stdout",
     "output_type": "stream",
     "text": [
      "Model loaded successfully.\n"
     ]
    }
   ],
   "source": [
    "recommender_saved = joblib.load(MODEL_PATH)\n",
    "print(\"Model loaded successfully.\")"
   ]
  },
  {
   "cell_type": "markdown",
   "metadata": {},
   "source": [
    "---"
   ]
  },
  {
   "cell_type": "markdown",
   "metadata": {},
   "source": [
    "## 8. Generate Recommendations from Loaded Model"
   ]
  },
  {
   "cell_type": "code",
   "execution_count": 20,
   "metadata": {},
   "outputs": [],
   "source": [
    "def get_recommendation_data(recommended_id: str):\n",
    "    \"\"\"\n",
    "    Fetch and display details of a recommended article.\n",
    "    \n",
    "    Args:\n",
    "        recommended_id: The ID of the article to fetch.\n",
    "    \"\"\"\n",
    "    article = next(a for a in articles if a[\"id\"] == recommended_id)\n",
    "    print(f\"ID: {article['id']}\")\n",
    "    print(f\"Category: {article['category_name']}\")\n",
    "    print(f\"Heading: {article['heading']}\")\n",
    "    print(f\"Date: {article['date']}\")"
   ]
  },
  {
   "cell_type": "markdown",
   "metadata": {},
   "source": [
    "### Test the saved model with recommendations\n"
   ]
  },
  {
   "cell_type": "code",
   "execution_count": 21,
   "metadata": {},
   "outputs": [
    {
     "name": "stdout",
     "output_type": "stream",
     "text": [
      "Testing with article: {'id': 'cm6cgm06d0004gjp8rdu7icct', 'heading': 'नेपालमा महिलाको सशक्तिकरण', 'date': Timestamp('2025-01-25 17:23:18.758000'), 'visitCount': 0, 'category_name': 'economy', 'sentiment_name': 'POSITIVE'}\n",
      "Recommended articles:\n",
      "ID: cm6cglxr40001gjp8jmi8adbz\n",
      "Category: economy\n",
      "Heading: नेपालमा शिक्षा प्रणाली सुधार\n",
      "Date: 2025-01-25 17:23:15.616000\n",
      "------------------------\n",
      "ID: cm6cglzcu0003gjp8cl64f1im\n",
      "Category: economy\n",
      "Heading: नेपालमा आगामी चुनावको तयारी\n",
      "Date: 2025-01-25 17:23:17.695000\n",
      "------------------------\n",
      "ID: cm6dw2oy20004gjx8aqtorl2q\n",
      "Category: economy\n",
      "Heading: नेपालमा आगामी चुनावको तयारी\n",
      "Date: 2025-01-26 17:23:57.770000\n",
      "------------------------\n",
      "ID: cm6cglyjo0002gjp8n9x8e2om\n",
      "Category: economy\n",
      "Heading: नेपालमा महिलाको सशक्तिकरण\n",
      "Date: 2025-01-25 17:23:16.645000\n",
      "------------------------\n",
      "ID: cm6cgmimg000pgjp8hmypm7nc\n",
      "Category: diaspora\n",
      "Heading: नेपालमा महिलाको सशक्तिकरण\n",
      "Date: 2025-01-25 17:23:42.665000\n",
      "------------------------\n"
     ]
    }
   ],
   "source": [
    "new_test_article_id = articles[3][\"id\"]\n",
    "print(\"Testing with article:\", articles[3])\n",
    "\n",
    "recommendations = recommender_saved.recommend(new_test_article_id, limit=5)\n",
    "print(\"Recommended articles:\")\n",
    "for rec_id, distances in recommendations:\n",
    "    get_recommendation_data(rec_id)\n",
    "    print(\"------------------------\")"
   ]
  },
  {
   "cell_type": "markdown",
   "metadata": {},
   "source": [
    "---"
   ]
  },
  {
   "cell_type": "markdown",
   "metadata": {},
   "source": [
    "## Conclusion\n",
    "\n",
    "- We successfully built a KNN-based news recommendation system.\n",
    "- The model was saved and loaded correctly.\n",
    "- Recommendations were generated based on test articles."
   ]
  }
 ],
 "metadata": {
  "kernelspec": {
   "display_name": "nepali-news-algorithms-pgvW4vYa-py3.12",
   "language": "python",
   "name": "python3"
  },
  "language_info": {
   "codemirror_mode": {
    "name": "ipython",
    "version": 3
   },
   "file_extension": ".py",
   "mimetype": "text/x-python",
   "name": "python",
   "nbconvert_exporter": "python",
   "pygments_lexer": "ipython3",
   "version": "3.12.4"
  }
 },
 "nbformat": 4,
 "nbformat_minor": 2
}
