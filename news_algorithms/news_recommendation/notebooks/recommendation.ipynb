{
 "cells": [
  {
   "cell_type": "code",
   "execution_count": 1,
   "metadata": {},
   "outputs": [],
   "source": [
    "import pandas as pd\n",
    "from recommender import NewsRecommendationSystem"
   ]
  },
  {
   "cell_type": "code",
   "execution_count": 2,
   "metadata": {},
   "outputs": [
    {
     "data": {
      "text/html": [
       "<div>\n",
       "<style scoped>\n",
       "    .dataframe tbody tr th:only-of-type {\n",
       "        vertical-align: middle;\n",
       "    }\n",
       "\n",
       "    .dataframe tbody tr th {\n",
       "        vertical-align: top;\n",
       "    }\n",
       "\n",
       "    .dataframe thead th {\n",
       "        text-align: right;\n",
       "    }\n",
       "</style>\n",
       "<table border=\"1\" class=\"dataframe\">\n",
       "  <thead>\n",
       "    <tr style=\"text-align: right;\">\n",
       "      <th></th>\n",
       "      <th>category</th>\n",
       "      <th>heading</th>\n",
       "      <th>id</th>\n",
       "      <th>date</th>\n",
       "    </tr>\n",
       "  </thead>\n",
       "  <tbody>\n",
       "    <tr>\n",
       "      <th>0</th>\n",
       "      <td>Market</td>\n",
       "      <td>नेपाल फ्रेड फर्वार्ड्स एसोसिएसनमा अधिकारी</td>\n",
       "      <td>1</td>\n",
       "      <td>2024-10-10</td>\n",
       "    </tr>\n",
       "    <tr>\n",
       "      <th>1</th>\n",
       "      <td>Business</td>\n",
       "      <td>एप्पल इभेन्टको घोषणा, जुन ६ बाट शुरु हुने, आइफ...</td>\n",
       "      <td>2</td>\n",
       "      <td>2024-11-06</td>\n",
       "    </tr>\n",
       "    <tr>\n",
       "      <th>2</th>\n",
       "      <td>Health</td>\n",
       "      <td>अत्यावश्यक परेकालाई मात्र गाउँ फर्काइँदै</td>\n",
       "      <td>3</td>\n",
       "      <td>2024-11-12</td>\n",
       "    </tr>\n",
       "    <tr>\n",
       "      <th>3</th>\n",
       "      <td>Technology</td>\n",
       "      <td>रिचार्जर एपको योजना</td>\n",
       "      <td>4</td>\n",
       "      <td>2024-09-14</td>\n",
       "    </tr>\n",
       "    <tr>\n",
       "      <th>4</th>\n",
       "      <td>Literature</td>\n",
       "      <td>सारंगीको धुन पछ्याउँदै साकिराको देशदेखि बाटुले...</td>\n",
       "      <td>5</td>\n",
       "      <td>2024-10-10</td>\n",
       "    </tr>\n",
       "  </tbody>\n",
       "</table>\n",
       "</div>"
      ],
      "text/plain": [
       "     category                                            heading  id  \\\n",
       "0      Market          नेपाल फ्रेड फर्वार्ड्स एसोसिएसनमा अधिकारी   1   \n",
       "1    Business  एप्पल इभेन्टको घोषणा, जुन ६ बाट शुरु हुने, आइफ...   2   \n",
       "2      Health           अत्यावश्यक परेकालाई मात्र गाउँ फर्काइँदै   3   \n",
       "3  Technology                                रिचार्जर एपको योजना   4   \n",
       "4  Literature  सारंगीको धुन पछ्याउँदै साकिराको देशदेखि बाटुले...   5   \n",
       "\n",
       "         date  \n",
       "0  2024-10-10  \n",
       "1  2024-11-06  \n",
       "2  2024-11-12  \n",
       "3  2024-09-14  \n",
       "4  2024-10-10  "
      ]
     },
     "execution_count": 2,
     "metadata": {},
     "output_type": "execute_result"
    }
   ],
   "source": [
    "# Load data\n",
    "df = pd.read_csv(\"news_data_with_dates.csv\")  # Columns: id, heading, category, date\n",
    "df.head()"
   ]
  },
  {
   "cell_type": "code",
   "execution_count": 3,
   "metadata": {},
   "outputs": [
    {
     "data": {
      "text/plain": [
       "[{'category': 'Market',\n",
       "  'heading': 'नेपाल फ्रेड फर्वार्ड्स एसोसिएसनमा अधिकारी',\n",
       "  'id': 1,\n",
       "  'date': '2024-10-10'},\n",
       " {'category': 'Business',\n",
       "  'heading': 'एप्पल इभेन्टको घोषणा, जुन ६ बाट शुरु हुने, आइफोन प्रयोगकर्तालाई ठूलो उपहार हुन सक्ने',\n",
       "  'id': 2,\n",
       "  'date': '2024-11-06'},\n",
       " {'category': 'Health',\n",
       "  'heading': 'अत्यावश्यक परेकालाई मात्र गाउँ फर्काइँदै',\n",
       "  'id': 3,\n",
       "  'date': '2024-11-12'},\n",
       " {'category': 'Technology',\n",
       "  'heading': 'रिचार्जर एपको योजना',\n",
       "  'id': 4,\n",
       "  'date': '2024-09-14'},\n",
       " {'category': 'Literature',\n",
       "  'heading': 'सारंगीको धुन पछ्याउँदै साकिराको देशदेखि बाटुलेचौरसम्म',\n",
       "  'id': 5,\n",
       "  'date': '2024-10-10'}]"
      ]
     },
     "execution_count": 3,
     "metadata": {},
     "output_type": "execute_result"
    }
   ],
   "source": [
    "articles = df.to_dict(orient=\"records\")\n",
    "articles[:5]"
   ]
  },
  {
   "cell_type": "code",
   "execution_count": 4,
   "metadata": {},
   "outputs": [
    {
     "name": "stdout",
     "output_type": "stream",
     "text": [
      "Total articles: 58928\n",
      "58928\n"
     ]
    }
   ],
   "source": [
    "print(f\"Total articles: {len(articles)}\")\n",
    "print(df.shape[0])"
   ]
  },
  {
   "cell_type": "code",
   "execution_count": 5,
   "metadata": {},
   "outputs": [],
   "source": [
    "# Initialize and train model\n",
    "recommender = NewsRecommendationSystem(\n",
    "        k=5, \n",
    "        metric=\"euclidean\", \n",
    "        time_decay_factor=0.1\n",
    "        )\n",
    "recommender.fit(articles)"
   ]
  },
  {
   "cell_type": "code",
   "execution_count": 10,
   "metadata": {},
   "outputs": [],
   "source": [
    "def get_recommendation_data(recommended_id):\n",
    "    recommended_id = recommended_id - 1\n",
    "    print(f\"Id: {articles[recommended_id]['id']}\")\n",
    "    print(f\"Category: {articles[recommended_id]['category']}\")\n",
    "    print(f\"Heading: {articles[recommended_id]['heading']}\")\n",
    "    print(f\"Date: {articles[recommended_id]['date']}\")"
   ]
  },
  {
   "cell_type": "code",
   "execution_count": 7,
   "metadata": {},
   "outputs": [
    {
     "name": "stdout",
     "output_type": "stream",
     "text": [
      "Article details:\n",
      "{'category': 'Economy', 'heading': 'उत्पादनशील क्षेत्र र व्यावसायिक क्षेत्रको ब्याजदर फरक पारिने', 'id': 8523, 'date': '2024-09-25'}\n"
     ]
    }
   ],
   "source": [
    "# Test recommendation\n",
    "test_article_id = articles[8522][\"id\"]\n",
    "\n",
    "# print test article details from articles\n",
    "print(f\"Article details:\\n{articles[8522]}\")"
   ]
  },
  {
   "cell_type": "code",
   "execution_count": 8,
   "metadata": {},
   "outputs": [
    {
     "name": "stdout",
     "output_type": "stream",
     "text": [
      "[3015, 27259, 52480, 44483, 19524]\n"
     ]
    }
   ],
   "source": [
    "recommendations = recommender.recommend(test_article_id, limit=5)\n",
    "print(recommendations)"
   ]
  },
  {
   "cell_type": "code",
   "execution_count": 12,
   "metadata": {},
   "outputs": [
    {
     "name": "stdout",
     "output_type": "stream",
     "text": [
      "Recommendations for article 8523:\n",
      "\n",
      "Id: 3015\n",
      "Category: Economy\n",
      "Heading: चुलिँदै चुनौती\n",
      "Date: 2024-09-06\n",
      "------------------------\n",
      "Id: 27259\n",
      "Category: Economy\n",
      "Heading: सुस्तायो विद्युतीय कारोबार\n",
      "Date: 2024-10-29\n",
      "------------------------\n",
      "Id: 52480\n",
      "Category: Economy\n",
      "Heading: पुँजी बजारको विकास लागि उत्पादनशील क्षेत्रमा लगानीकर्ताको आकर्षण बढाइने\n",
      "Date: 2024-10-09\n",
      "------------------------\n",
      "Id: 44483\n",
      "Category: Economy\n",
      "Heading: अब मुद्दती र अन्य निक्षेपको ब्याजदर पाँच प्रतिशतभन्दा बढी फरक पार्न नपाइने\n",
      "Date: 2024-09-13\n",
      "------------------------\n",
      "Id: 19524\n",
      "Category: Economy\n",
      "Heading: वाणिज्य बैंकले घटाए कर्जाको ब्याजदर\n",
      "Date: 2024-09-21\n",
      "------------------------\n"
     ]
    }
   ],
   "source": [
    "print(f\"Recommendations for article {test_article_id}:\\n\")\n",
    "for recommendation in recommendations:\n",
    "    get_recommendation_data(recommended_id=recommendation)\n",
    "    print(\"------------------------\")"
   ]
  }
 ],
 "metadata": {
  "kernelspec": {
   "display_name": "news-title-classifier-Q5gfBSGz-py3.12",
   "language": "python",
   "name": "python3"
  },
  "language_info": {
   "codemirror_mode": {
    "name": "ipython",
    "version": 3
   },
   "file_extension": ".py",
   "mimetype": "text/x-python",
   "name": "python",
   "nbconvert_exporter": "python",
   "pygments_lexer": "ipython3",
   "version": "3.12.4"
  }
 },
 "nbformat": 4,
 "nbformat_minor": 2
}
