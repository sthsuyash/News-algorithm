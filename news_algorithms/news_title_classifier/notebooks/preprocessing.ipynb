{
 "cells": [
  {
   "cell_type": "markdown",
   "id": "22a770b8",
   "metadata": {},
   "source": [
    "### Objective\n",
    "To convert the raw data to csv format for easy use"
   ]
  },
  {
   "cell_type": "code",
   "execution_count": 1,
   "id": "3098358e",
   "metadata": {},
   "outputs": [],
   "source": [
    "import os\n",
    "import pandas as pd\n",
    "import numpy  as np\n",
    "from tqdm import tqdm"
   ]
  },
  {
   "cell_type": "code",
   "execution_count": 2,
   "id": "54f7b9a6",
   "metadata": {},
   "outputs": [],
   "source": [
    "DATA_DIR = os.path.abspath('./dataset/20_news')\n",
    "OUTPUT_DIR = os.path.join('./dataset/output')\n"
   ]
  },
  {
   "cell_type": "markdown",
   "id": "1ebf57fc",
   "metadata": {},
   "source": [
    "### Converting raw data to csv format\n",
    "Data Format: id, class, text"
   ]
  },
  {
   "cell_type": "code",
   "execution_count": 3,
   "id": "7fd473e7",
   "metadata": {},
   "outputs": [],
   "source": [
    "RAW_DATA_DIR = DATA_DIR\n",
    "OUTPUT_FILENAME = 'data.csv'"
   ]
  },
  {
   "cell_type": "code",
   "execution_count": 4,
   "id": "07c9310d",
   "metadata": {},
   "outputs": [],
   "source": [
    "classes = os.listdir(RAW_DATA_DIR)\n",
    "columns = ['id', 'class', 'text']"
   ]
  },
  {
   "cell_type": "code",
   "execution_count": 5,
   "id": "9139d9f4",
   "metadata": {},
   "outputs": [],
   "source": [
    "data_dict = {\n",
    "    'id': [],\n",
    "    'class': [],\n",
    "    'text': []\n",
    "}"
   ]
  },
  {
   "cell_type": "code",
   "execution_count": 6,
   "id": "82711ef1",
   "metadata": {},
   "outputs": [],
   "source": [
    "# Function to try multiple encodings\n",
    "def try_open_file(file_path):\n",
    "    encodings = ['utf-8', 'ISO-8859-1', 'latin-1', 'cp1252']\n",
    "    for encoding in encodings:\n",
    "        try:\n",
    "            with open(file_path, encoding=encoding) as content:\n",
    "                return content.read().strip()\n",
    "        except UnicodeDecodeError:\n",
    "            continue\n",
    "        except Exception as e:\n",
    "            print(f\"Error reading {file_path} with encoding {encoding}: {e}\")\n",
    "            break\n",
    "    return None"
   ]
  },
  {
   "cell_type": "code",
   "execution_count": 7,
   "id": "d99b8a3c",
   "metadata": {},
   "outputs": [
    {
     "name": "stderr",
     "output_type": "stream",
     "text": [
      "100%|██████████| 100/100 [00:00<00:00, 118.93it/s]\n",
      "100%|██████████| 95/95 [00:01<00:00, 91.37it/s] \n",
      "100%|██████████| 417/417 [00:07<00:00, 53.19it/s]\n",
      "100%|██████████| 209/209 [00:03<00:00, 53.05it/s]\n",
      "100%|██████████| 142/142 [00:02<00:00, 57.83it/s]\n",
      "100%|██████████| 500/500 [00:05<00:00, 87.32it/s] \n",
      "100%|██████████| 85/85 [00:00<00:00, 91.72it/s] \n",
      "100%|██████████| 154/154 [00:01<00:00, 78.55it/s]\n",
      "100%|██████████| 500/500 [00:05<00:00, 87.92it/s] \n",
      "100%|██████████| 31/31 [00:00<00:00, 48.90it/s]\n",
      "100%|██████████| 229/229 [00:03<00:00, 60.67it/s]\n",
      "100%|██████████| 102/102 [00:00<00:00, 135.00it/s]\n",
      "100%|██████████| 111/111 [00:00<00:00, 137.76it/s]\n",
      "100%|██████████| 500/500 [00:05<00:00, 94.69it/s] \n",
      "100%|██████████| 500/500 [00:05<00:00, 96.48it/s] \n",
      "100%|██████████| 253/253 [00:04<00:00, 53.72it/s]\n",
      "100%|██████████| 500/500 [00:05<00:00, 83.62it/s]\n",
      "100%|██████████| 100/100 [00:01<00:00, 86.54it/s]\n",
      "100%|██████████| 150/150 [00:01<00:00, 96.93it/s] \n",
      "100%|██████████| 212/212 [00:01<00:00, 123.57it/s]\n"
     ]
    }
   ],
   "source": [
    "# Iterate over all classes (categories)\n",
    "for label in classes:\n",
    "    label_path = os.path.join(RAW_DATA_DIR, label)\n",
    "\n",
    "    # Check if label_path is a valid directory\n",
    "    if os.path.isdir(label_path):\n",
    "        for f in tqdm(os.listdir(label_path)):\n",
    "            id_ = f.split('.')[0]\n",
    "\n",
    "            try:\n",
    "                file_path = os.path.join(label_path, f)\n",
    "\n",
    "                # Check if the file exists\n",
    "                if not os.path.exists(file_path):\n",
    "                    print(f\"File does not exist: {file_path}\")\n",
    "                    continue\n",
    "\n",
    "                # Attempt to read the file using multiple encodings\n",
    "                text = try_open_file(file_path)\n",
    "                \n",
    "                # Skip the file if it couldn't be opened\n",
    "                if text is None:\n",
    "                    print(f\"Failed to decode {file_path}\")\n",
    "                    continue\n",
    "                \n",
    "                # Add the data to the dictionary\n",
    "                data_dict['id'].append(id_)\n",
    "                data_dict['class'].append(label)\n",
    "                data_dict['text'].append(text)\n",
    "\n",
    "            except Exception as e:\n",
    "                print(f\"Failed to load {label}/{id_}: {e}\")"
   ]
  },
  {
   "cell_type": "code",
   "execution_count": 8,
   "id": "2e2e26e7",
   "metadata": {},
   "outputs": [
    {
     "name": "stdout",
     "output_type": "stream",
     "text": [
      "4890\n"
     ]
    }
   ],
   "source": [
    "# length of data dictionary\n",
    "print(len(data_dict['id']))"
   ]
  },
  {
   "cell_type": "code",
   "execution_count": 9,
   "id": "424579b2",
   "metadata": {
    "scrolled": true
   },
   "outputs": [],
   "source": [
    "df = pd.DataFrame(data_dict, columns=columns, dtype=object)"
   ]
  },
  {
   "cell_type": "code",
   "execution_count": 10,
   "id": "00972013",
   "metadata": {},
   "outputs": [],
   "source": [
    "nan_value = float(\"NaN\")\n",
    "df.replace(\"\", nan_value, inplace=True)\n",
    "df.dropna(subset=[\"text\"], inplace=True)"
   ]
  },
  {
   "cell_type": "code",
   "execution_count": 11,
   "id": "c291fc8e",
   "metadata": {},
   "outputs": [
    {
     "data": {
      "text/html": [
       "<div>\n",
       "<style scoped>\n",
       "    .dataframe tbody tr th:only-of-type {\n",
       "        vertical-align: middle;\n",
       "    }\n",
       "\n",
       "    .dataframe tbody tr th {\n",
       "        vertical-align: top;\n",
       "    }\n",
       "\n",
       "    .dataframe thead th {\n",
       "        text-align: right;\n",
       "    }\n",
       "</style>\n",
       "<table border=\"1\" class=\"dataframe\">\n",
       "  <thead>\n",
       "    <tr style=\"text-align: right;\">\n",
       "      <th></th>\n",
       "      <th>id</th>\n",
       "      <th>class</th>\n",
       "      <th>text</th>\n",
       "    </tr>\n",
       "  </thead>\n",
       "  <tbody>\n",
       "    <tr>\n",
       "      <th>0</th>\n",
       "      <td>0</td>\n",
       "      <td>Agriculture</td>\n",
       "      <td>﻿काठमाडौंमा पहिलो पटक स्ट्रबेरीको व्यवसायिक खे...</td>\n",
       "    </tr>\n",
       "    <tr>\n",
       "      <th>1</th>\n",
       "      <td>1</td>\n",
       "      <td>Agriculture</td>\n",
       "      <td>जिल्लाका किसानले लगाएको अदुवामा गानो कुहिने, ग...</td>\n",
       "    </tr>\n",
       "    <tr>\n",
       "      <th>2</th>\n",
       "      <td>2</td>\n",
       "      <td>Agriculture</td>\n",
       "      <td>काभ्रेपलाञ्चोकमा कृषकले एसआरआई प्रविधिमा गरेको...</td>\n",
       "    </tr>\n",
       "    <tr>\n",
       "      <th>3</th>\n",
       "      <td>3</td>\n",
       "      <td>Agriculture</td>\n",
       "      <td>राजधानीमा यतिबेला तरकारीको मूल्य आकासिएको छ। क...</td>\n",
       "    </tr>\n",
       "    <tr>\n",
       "      <th>4</th>\n",
       "      <td>4</td>\n",
       "      <td>Agriculture</td>\n",
       "      <td>पाल पोल्ट्री तथा लाइभस्टक क्षेत्रको समग्र विका...</td>\n",
       "    </tr>\n",
       "  </tbody>\n",
       "</table>\n",
       "</div>"
      ],
      "text/plain": [
       "   id        class                                               text\n",
       "0   0  Agriculture  ﻿काठमाडौंमा पहिलो पटक स्ट्रबेरीको व्यवसायिक खे...\n",
       "1   1  Agriculture  जिल्लाका किसानले लगाएको अदुवामा गानो कुहिने, ग...\n",
       "2   2  Agriculture  काभ्रेपलाञ्चोकमा कृषकले एसआरआई प्रविधिमा गरेको...\n",
       "3   3  Agriculture  राजधानीमा यतिबेला तरकारीको मूल्य आकासिएको छ। क...\n",
       "4   4  Agriculture  पाल पोल्ट्री तथा लाइभस्टक क्षेत्रको समग्र विका..."
      ]
     },
     "execution_count": 11,
     "metadata": {},
     "output_type": "execute_result"
    }
   ],
   "source": [
    "df.reset_index(inplace=True, drop=True)\n",
    "df['id'] = df.index\n",
    "df.head()"
   ]
  },
  {
   "cell_type": "code",
   "execution_count": 12,
   "id": "aa78176c",
   "metadata": {},
   "outputs": [
    {
     "data": {
      "text/plain": [
       "id                                                       5\n",
       "class                                          Agriculture\n",
       "text     माग अनुसारको आपूर्ति नभएपछि तरकारीको मुल्य दोब...\n",
       "Name: 5, dtype: object"
      ]
     },
     "execution_count": 12,
     "metadata": {},
     "output_type": "execute_result"
    }
   ],
   "source": [
    "df.loc[5]"
   ]
  },
  {
   "cell_type": "code",
   "execution_count": 13,
   "id": "74bf00fe",
   "metadata": {},
   "outputs": [
    {
     "data": {
      "text/html": [
       "<div>\n",
       "<style scoped>\n",
       "    .dataframe tbody tr th:only-of-type {\n",
       "        vertical-align: middle;\n",
       "    }\n",
       "\n",
       "    .dataframe tbody tr th {\n",
       "        vertical-align: top;\n",
       "    }\n",
       "\n",
       "    .dataframe thead th {\n",
       "        text-align: right;\n",
       "    }\n",
       "</style>\n",
       "<table border=\"1\" class=\"dataframe\">\n",
       "  <thead>\n",
       "    <tr style=\"text-align: right;\">\n",
       "      <th></th>\n",
       "      <th>class</th>\n",
       "      <th>text</th>\n",
       "    </tr>\n",
       "    <tr>\n",
       "      <th>id</th>\n",
       "      <th></th>\n",
       "      <th></th>\n",
       "    </tr>\n",
       "  </thead>\n",
       "  <tbody>\n",
       "    <tr>\n",
       "      <th>0</th>\n",
       "      <td>Agriculture</td>\n",
       "      <td>﻿काठमाडौंमा पहिलो पटक स्ट्रबेरीको व्यवसायिक खे...</td>\n",
       "    </tr>\n",
       "    <tr>\n",
       "      <th>1</th>\n",
       "      <td>Agriculture</td>\n",
       "      <td>जिल्लाका किसानले लगाएको अदुवामा गानो कुहिने, ग...</td>\n",
       "    </tr>\n",
       "    <tr>\n",
       "      <th>2</th>\n",
       "      <td>Agriculture</td>\n",
       "      <td>काभ्रेपलाञ्चोकमा कृषकले एसआरआई प्रविधिमा गरेको...</td>\n",
       "    </tr>\n",
       "    <tr>\n",
       "      <th>3</th>\n",
       "      <td>Agriculture</td>\n",
       "      <td>राजधानीमा यतिबेला तरकारीको मूल्य आकासिएको छ। क...</td>\n",
       "    </tr>\n",
       "    <tr>\n",
       "      <th>4</th>\n",
       "      <td>Agriculture</td>\n",
       "      <td>पाल पोल्ट्री तथा लाइभस्टक क्षेत्रको समग्र विका...</td>\n",
       "    </tr>\n",
       "  </tbody>\n",
       "</table>\n",
       "</div>"
      ],
      "text/plain": [
       "          class                                               text\n",
       "id                                                                \n",
       "0   Agriculture  ﻿काठमाडौंमा पहिलो पटक स्ट्रबेरीको व्यवसायिक खे...\n",
       "1   Agriculture  जिल्लाका किसानले लगाएको अदुवामा गानो कुहिने, ग...\n",
       "2   Agriculture  काभ्रेपलाञ्चोकमा कृषकले एसआरआई प्रविधिमा गरेको...\n",
       "3   Agriculture  राजधानीमा यतिबेला तरकारीको मूल्य आकासिएको छ। क...\n",
       "4   Agriculture  पाल पोल्ट्री तथा लाइभस्टक क्षेत्रको समग्र विका..."
      ]
     },
     "execution_count": 13,
     "metadata": {},
     "output_type": "execute_result"
    }
   ],
   "source": [
    "df = df.set_index('id')\n",
    "df.head()"
   ]
  },
  {
   "cell_type": "markdown",
   "id": "589f1553",
   "metadata": {},
   "source": [
    "#### Merging Classes"
   ]
  },
  {
   "cell_type": "code",
   "execution_count": 14,
   "id": "d09014ef",
   "metadata": {},
   "outputs": [],
   "source": [
    "# Define the mapping for merging classes\n",
    "class_mapping = {\n",
    "    'Bank': 'Economics',\n",
    "    'Business': 'Economics',\n",
    "    'Economy': 'Economics',\n",
    "    'Employment': 'Economics',\n",
    "    'Sports': 'Leisure',\n",
    "    'Entertainment': 'Leisure',\n",
    "    'Politics': 'Politics & Society',\n",
    "    'Opinion': 'Politics & Society',\n",
    "    'Society': 'Politics & Society',\n",
    "    'Interview': 'Politics & Society',\n",
    "    'World': 'World & Migration',\n",
    "    'Migration': 'World & Migration',\n",
    "    'Technology': 'Technology & Innovation',\n",
    "    'Automobiles': 'Technology & Innovation',\n",
    "    'Agriculture': 'Technology & Innovation',\n",
    "    'Tourism': 'Technology & Innovation',\n",
    "    'Literature': 'Culture & Literature',\n",
    "    'Blog': 'Culture & Literature',\n",
    "    'Education': 'Education',\n",
    "    'Health': 'Health'\n",
    "}\n",
    "\n",
    "\n",
    "df['class'] = df['class'].map(class_mapping).fillna(df['class'])  # Keep original class if not in the mapping"
   ]
  },
  {
   "cell_type": "code",
   "execution_count": 15,
   "id": "72cfba02",
   "metadata": {},
   "outputs": [],
   "source": [
    "# %% [markdown]\n",
    "# ### Update Classes Based on the Mapping\n",
    "\n",
    "# Apply the class mapping to the 'class' column\n",
    "\n",
    "# %% [markdown]\n",
    "# ### Save the New CSV\n",
    "\n",
    "# Set the new output file name\n",
    "MERGED_OUTPUT_FILENAME = 'merged_data.csv'\n",
    "\n",
    "# Save the updated dataframe to a new CSV file\n",
    "df.to_csv(os.path.join(OUTPUT_DIR, MERGED_OUTPUT_FILENAME), index=False)\n",
    "\n"
   ]
  },
  {
   "cell_type": "markdown",
   "id": "4757ea4e",
   "metadata": {},
   "source": [
    "#### Check the distribution of the newly merged classes"
   ]
  },
  {
   "cell_type": "code",
   "execution_count": 16,
   "id": "fddd90c5",
   "metadata": {},
   "outputs": [
    {
     "name": "stdout",
     "output_type": "stream",
     "text": [
      "New class distribution after merging:\n",
      "class\n",
      "Politics & Society         1482\n",
      "Economics                  1213\n",
      "Leisure                    1000\n",
      "Technology & Innovation     445\n",
      "World & Migration           323\n",
      "Culture & Literature        311\n",
      "Education                    85\n",
      "Health                       31\n",
      "Name: count, dtype: int64\n"
     ]
    }
   ],
   "source": [
    "print(\"New class distribution after merging:\")\n",
    "print(df['class'].value_counts())"
   ]
  },
  {
   "cell_type": "markdown",
   "id": "3c576357",
   "metadata": {},
   "source": [
    "### Check for Duplicates and Missing Values"
   ]
  },
  {
   "cell_type": "code",
   "execution_count": 17,
   "id": "229ff9e7",
   "metadata": {},
   "outputs": [
    {
     "name": "stdout",
     "output_type": "stream",
     "text": [
      "Duplicated rows: 33\n",
      "Null values: 0\n"
     ]
    }
   ],
   "source": [
    "# Print the number of duplicated rows and missing values\n",
    "print(f\"Duplicated rows: {df.duplicated().sum()}\")\n",
    "print(f\"Null values: {df.isnull().sum().sum()}\")"
   ]
  }
 ],
 "metadata": {
  "kernelspec": {
   "display_name": "news-title-classifier-Q5gfBSGz-py3.12",
   "language": "python",
   "name": "python3"
  },
  "language_info": {
   "codemirror_mode": {
    "name": "ipython",
    "version": 3
   },
   "file_extension": ".py",
   "mimetype": "text/x-python",
   "name": "python",
   "nbconvert_exporter": "python",
   "pygments_lexer": "ipython3",
   "version": "3.12.4"
  }
 },
 "nbformat": 4,
 "nbformat_minor": 5
}
