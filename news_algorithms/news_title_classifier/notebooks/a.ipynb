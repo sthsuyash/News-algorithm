{
 "cells": [
  {
   "cell_type": "code",
   "execution_count": 1,
   "metadata": {},
   "outputs": [],
   "source": [
    "import os\n",
    "import pandas as pd\n",
    "import numpy as np\n",
    "import matplotlib.pyplot as plt\n",
    "import seaborn as sns\n",
    "import pickle\n",
    "from sklearn.feature_extraction.text import CountVectorizer, TfidfTransformer\n",
    "from sklearn.model_selection import train_test_split\n",
    "from sklearn.naive_bayes import MultinomialNB\n",
    "from sklearn.metrics import classification_report, confusion_matrix\n",
    "from snowballstemmer import NepaliStemmer\n",
    "from sklearn.pipeline import Pipeline"
   ]
  },
  {
   "cell_type": "code",
   "execution_count": 2,
   "metadata": {},
   "outputs": [
    {
     "data": {
      "text/html": [
       "<div>\n",
       "<style scoped>\n",
       "    .dataframe tbody tr th:only-of-type {\n",
       "        vertical-align: middle;\n",
       "    }\n",
       "\n",
       "    .dataframe tbody tr th {\n",
       "        vertical-align: top;\n",
       "    }\n",
       "\n",
       "    .dataframe thead th {\n",
       "        text-align: right;\n",
       "    }\n",
       "</style>\n",
       "<table border=\"1\" class=\"dataframe\">\n",
       "  <thead>\n",
       "    <tr style=\"text-align: right;\">\n",
       "      <th></th>\n",
       "      <th>class</th>\n",
       "      <th>text</th>\n",
       "    </tr>\n",
       "  </thead>\n",
       "  <tbody>\n",
       "    <tr>\n",
       "      <th>3404</th>\n",
       "      <td>Politics &amp; Society</td>\n",
       "      <td>﻿बृजमान तामाङ/बिरेन्द्र बजार, २४ चैत । नेपाल त...</td>\n",
       "    </tr>\n",
       "    <tr>\n",
       "      <th>3208</th>\n",
       "      <td>Politics &amp; Society</td>\n",
       "      <td>﻿बीरगञ्ज, २९ माघ । राष्ट्रिय मधेश समाजवादी पार...</td>\n",
       "    </tr>\n",
       "    <tr>\n",
       "      <th>4348</th>\n",
       "      <td>Leisure</td>\n",
       "      <td>﻿प्रमुख प्रतिपक्षी नेकपा एमालेले प्याकेज सहमति...</td>\n",
       "    </tr>\n",
       "    <tr>\n",
       "      <th>2256</th>\n",
       "      <td>Politics &amp; Society</td>\n",
       "      <td>﻿बहुचर्चित धोबीघाट भेलापछि माओवादी आन्दोलनमा व...</td>\n",
       "    </tr>\n",
       "    <tr>\n",
       "      <th>604</th>\n",
       "      <td>Economics</td>\n",
       "      <td>कुल बजार पुँजीकरणमा १५.२० अर्ब रुपैयाँ वृद्धि\\...</td>\n",
       "    </tr>\n",
       "  </tbody>\n",
       "</table>\n",
       "</div>"
      ],
      "text/plain": [
       "                   class                                               text\n",
       "3404  Politics & Society  ﻿बृजमान तामाङ/बिरेन्द्र बजार, २४ चैत । नेपाल त...\n",
       "3208  Politics & Society  ﻿बीरगञ्ज, २९ माघ । राष्ट्रिय मधेश समाजवादी पार...\n",
       "4348             Leisure  ﻿प्रमुख प्रतिपक्षी नेकपा एमालेले प्याकेज सहमति...\n",
       "2256  Politics & Society  ﻿बहुचर्चित धोबीघाट भेलापछि माओवादी आन्दोलनमा व...\n",
       "604            Economics  कुल बजार पुँजीकरणमा १५.२० अर्ब रुपैयाँ वृद्धि\\..."
      ]
     },
     "execution_count": 2,
     "metadata": {},
     "output_type": "execute_result"
    }
   ],
   "source": [
    "df = pd.read_csv('dataset/output/merged_data.csv')\n",
    "df.sample(5)"
   ]
  },
  {
   "cell_type": "code",
   "execution_count": 3,
   "metadata": {},
   "outputs": [],
   "source": [
    "# Function to load stopwords from a file\n",
    "def load_stopwords(file_path):\n",
    "    with open(file_path, encoding='utf-8') as fp:\n",
    "        return list(map(lambda x: x.strip(), fp.readlines()))\n",
    "\n",
    "\n",
    "# Function to load punctuation words from a file\n",
    "def load_punctuation(file_path):\n",
    "    with open(file_path, encoding='utf-8') as fp:\n",
    "        return list(map(lambda x: x.strip(), fp.readlines()))\n",
    "\n",
    "\n",
    "\n"
   ]
  },
  {
   "cell_type": "code",
   "execution_count": 4,
   "metadata": {},
   "outputs": [],
   "source": [
    "from tqdm import tqdm\n",
    "\n",
    "# Update the preprocess_text function to include tqdm\n",
    "def preprocess_text(data, stop_words, punctuation_words, stemmer, noise_chars):\n",
    "    clean_text = []\n",
    "    # Wrap the loop with tqdm to track the progress\n",
    "    for row in tqdm(data, desc=\"Preprocessing text data\", unit=\"text\"):\n",
    "        words = row.strip().split(\" \")\n",
    "        nwords = []\n",
    "        for word in words:\n",
    "            if word not in punctuation_words and word not in stop_words:\n",
    "                word = stemmer.stemWord(word)\n",
    "                if not any(noise in word for noise in noise_chars) and len(word) > 1:\n",
    "                    word = word.replace(\"(\", \"\").replace(\")\", \"\")\n",
    "                    nwords.append(word)\n",
    "        clean_text.append(\" \".join(nwords))\n",
    "    return clean_text\n",
    "\n",
    "\n"
   ]
  },
  {
   "cell_type": "code",
   "execution_count": 5,
   "metadata": {},
   "outputs": [],
   "source": [
    "# Create a pipeline to handle vectorization, TF-IDF transformation, and classification\n",
    "def create_model(ngram_range=(1, 2), alpha=1.0):\n",
    "    vectorizer = CountVectorizer(ngram_range=ngram_range)\n",
    "    tfidf_transformer = TfidfTransformer()\n",
    "    model = MultinomialNB(alpha=alpha)\n",
    "\n",
    "    pipeline = Pipeline([\n",
    "        ('vectorizer', vectorizer),\n",
    "        ('tfidf', tfidf_transformer),\n",
    "        ('classifier', model)\n",
    "    ])\n",
    "\n",
    "    return pipeline"
   ]
  },
  {
   "cell_type": "code",
   "execution_count": 6,
   "metadata": {},
   "outputs": [
    {
     "data": {
      "text/plain": [
       "{'Technology & Innovation': 0,\n",
       " 'Economics': 1,\n",
       " 'Culture & Literature': 2,\n",
       " 'Education': 3,\n",
       " 'Leisure': 4,\n",
       " 'Health': 5,\n",
       " 'Politics & Society': 6,\n",
       " 'World & Migration': 7}"
      ]
     },
     "execution_count": 6,
     "metadata": {},
     "output_type": "execute_result"
    }
   ],
   "source": [
    "classes = {c: i for i, c in enumerate(df['class'].unique())}\n",
    "classes"
   ]
  },
  {
   "cell_type": "code",
   "execution_count": 7,
   "metadata": {},
   "outputs": [],
   "source": [
    "# Model fitting and evaluation\n",
    "def train_and_evaluate(X_train, Y_train, X_test, Y_test, ngram_range=(1, 2), alpha=1.0):\n",
    "    # Create the model pipeline\n",
    "    pipeline = create_model(ngram_range, alpha)\n",
    "\n",
    "    # Train the model\n",
    "    pipeline.fit(X_train, Y_train)\n",
    "\n",
    "    # Make predictions\n",
    "    y_pred = pipeline.predict(X_test)\n",
    "\n",
    "    # Print classification report\n",
    "    print(classification_report(Y_test, y_pred))\n",
    "\n",
    "    # Confusion matrix visualization\n",
    "    cm = confusion_matrix(Y_test, y_pred)\n",
    "    sns.heatmap(cm, annot=True, fmt=\"d\", cmap=\"Blues\", xticklabels=classes.keys(), yticklabels=classes.keys())\n",
    "    plt.xlabel(\"Predicted\")\n",
    "    plt.ylabel(\"True\")\n",
    "    plt.title(\"Confusion Matrix\")\n",
    "    plt.show()\n",
    "\n",
    "    # Return the trained pipeline for saving\n",
    "    return pipeline\n"
   ]
  },
  {
   "cell_type": "code",
   "execution_count": 8,
   "metadata": {},
   "outputs": [],
   "source": [
    "# Save model and vectorizer to files\n",
    "def save_model(model, model_filename, vectorizer_filename):\n",
    "    pickle.dump(model, open(model_filename, 'wb'))\n",
    "    pickle.dump(model.named_steps['vectorizer'], open(vectorizer_filename, 'wb'))"
   ]
  },
  {
   "cell_type": "code",
   "execution_count": 9,
   "metadata": {},
   "outputs": [],
   "source": [
    "# Load stopwords and punctuation words\n",
    "stop_words = load_stopwords(\"nepali_stopwords.txt\")\n",
    "punctuation_words = load_punctuation(\"nepali_punctuation.txt\")\n",
    "\n",
    "# Create a stemmer\n",
    "stemmer = NepaliStemmer()\n",
    "\n",
    "# Define noise characters (numbers)\n",
    "noise_chars = \"1,2,3,4,5,6,7,8,9,0,०,१,२,३,४,५,६,७,८,९\".split(\",\")"
   ]
  },
  {
   "cell_type": "code",
   "execution_count": 11,
   "metadata": {},
   "outputs": [
    {
     "name": "stderr",
     "output_type": "stream",
     "text": [
      "Preprocessing text data:   7%|▋         | 361/4890 [00:01<00:15, 296.47text/s]"
     ]
    },
    {
     "name": "stderr",
     "output_type": "stream",
     "text": [
      "Preprocessing text data: 100%|██████████| 4890/4890 [00:21<00:00, 223.42text/s]\n"
     ]
    }
   ],
   "source": [
    "# Preprocess text data with progress bar\n",
    "data = pd.DataFrame()\n",
    "data[\"text\"] = preprocess_text(df[\"text\"], stop_words, punctuation_words, stemmer, noise_chars)\n",
    "data[\"label\"] = df[\"class\"]"
   ]
  },
  {
   "cell_type": "code",
   "execution_count": 12,
   "metadata": {},
   "outputs": [],
   "source": [
    "# Split data into training and testing sets\n",
    "X_train, X_test, Y_train, Y_test = train_test_split(data[\"text\"], data[\"label\"], test_size=0.2, random_state=42)"
   ]
  },
  {
   "cell_type": "code",
   "execution_count": 13,
   "metadata": {},
   "outputs": [
    {
     "name": "stderr",
     "output_type": "stream",
     "text": [
      "c:\\Users\\Suyash Shrestha\\AppData\\Local\\pypoetry\\Cache\\virtualenvs\\news-title-classifier-Q5gfBSGz-py3.12\\Lib\\site-packages\\sklearn\\metrics\\_classification.py:1531: UndefinedMetricWarning: Precision is ill-defined and being set to 0.0 in labels with no predicted samples. Use `zero_division` parameter to control this behavior.\n",
      "  _warn_prf(average, modifier, f\"{metric.capitalize()} is\", len(result))\n",
      "c:\\Users\\Suyash Shrestha\\AppData\\Local\\pypoetry\\Cache\\virtualenvs\\news-title-classifier-Q5gfBSGz-py3.12\\Lib\\site-packages\\sklearn\\metrics\\_classification.py:1531: UndefinedMetricWarning: Precision is ill-defined and being set to 0.0 in labels with no predicted samples. Use `zero_division` parameter to control this behavior.\n",
      "  _warn_prf(average, modifier, f\"{metric.capitalize()} is\", len(result))\n",
      "c:\\Users\\Suyash Shrestha\\AppData\\Local\\pypoetry\\Cache\\virtualenvs\\news-title-classifier-Q5gfBSGz-py3.12\\Lib\\site-packages\\sklearn\\metrics\\_classification.py:1531: UndefinedMetricWarning: Precision is ill-defined and being set to 0.0 in labels with no predicted samples. Use `zero_division` parameter to control this behavior.\n",
      "  _warn_prf(average, modifier, f\"{metric.capitalize()} is\", len(result))\n"
     ]
    },
    {
     "name": "stdout",
     "output_type": "stream",
     "text": [
      "                         precision    recall  f1-score   support\n",
      "\n",
      "   Culture & Literature       0.00      0.00      0.00        69\n",
      "              Economics       0.75      0.51      0.61       251\n",
      "              Education       0.00      0.00      0.00        23\n",
      "                 Health       0.00      0.00      0.00         8\n",
      "                Leisure       1.00      0.09      0.16       184\n",
      "     Politics & Society       0.34      0.97      0.51       280\n",
      "Technology & Innovation       0.00      0.00      0.00        89\n",
      "      World & Migration       0.00      0.00      0.00        74\n",
      "\n",
      "               accuracy                           0.42       978\n",
      "              macro avg       0.26      0.20      0.16       978\n",
      "           weighted avg       0.48      0.42      0.33       978\n",
      "\n"
     ]
    },
    {
     "data": {
      "image/png": "[encoded data removed]",
      "text/plain": [
       "<Figure size 640x480 with 2 Axes>"
      ]
     },
     "metadata": {},
     "output_type": "display_data"
    }
   ],
   "source": [
    "# Train and evaluate the model\n",
    "model = train_and_evaluate(X_train, Y_train, X_test, Y_test)"
   ]
  },
  {
   "cell_type": "code",
   "execution_count": 14,
   "metadata": {},
   "outputs": [],
   "source": [
    "# Save the trained model and vectorizer\n",
    "save_model(model, 'news_pred_model_v1.pickle', 'news_pred_vectorizer_v1.pickle')"
   ]
  },
  {
   "cell_type": "code",
   "execution_count": 15,
   "metadata": {},
   "outputs": [
    {
     "name": "stdout",
     "output_type": "stream",
     "text": [
      "Predicted category: ['Politics & Society']\n"
     ]
    }
   ],
   "source": [
    "# Example of predicting new text\n",
    "new_text = \"\"\"\n",
    "काठमाडौँ — नेपाली यू–१९ महिला क्रिकेट टोलीले आईसीसी यू–१९ महिला ट्वान्टी–२० विश्वकपको एसिया छनोटमा तेस्रो जित हात पारेको छ । नेपालले यूएईमा भइरहेको प्रतियोगितामा आइतबार थाइल्यान्डलाई १ सय ६ रनले पराजित गर्‍यो ।\n",
    "\"\"\"\n",
    "\n",
    "prediction = model.predict([new_text])\n",
    "print(\"Predicted category:\", prediction)"
   ]
  }
 ],
 "metadata": {
  "kernelspec": {
   "display_name": "news-title-classifier-Q5gfBSGz-py3.12",
   "language": "python",
   "name": "python3"
  },
  "language_info": {
   "codemirror_mode": {
    "name": "ipython",
    "version": 3
   },
   "file_extension": ".py",
   "mimetype": "text/x-python",
   "name": "python",
   "nbconvert_exporter": "python",
   "pygments_lexer": "ipython3",
   "version": "3.12.4"
  }
 },
 "nbformat": 4,
 "nbformat_minor": 2
}
