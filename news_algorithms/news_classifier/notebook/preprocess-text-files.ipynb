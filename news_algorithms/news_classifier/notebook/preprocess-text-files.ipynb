{
 "cells": [
  {
   "cell_type": "code",
   "execution_count": 1,
   "metadata": {},
   "outputs": [],
   "source": [
    "import os\n",
    "import re\n",
    "import pandas as pd\n",
    "from tqdm import tqdm"
   ]
  },
  {
   "cell_type": "code",
   "execution_count": 2,
   "metadata": {},
   "outputs": [],
   "source": [
    "def preprocess_text(text):\n",
    "    \"\"\"\n",
    "    Cleans and preprocesses the text data.\n",
    "    \"\"\"\n",
    "    # Remove double quotes\n",
    "    text = text.replace('\"', '')\n",
    "\n",
    "    # Remove redundant spaces and newline characters\n",
    "    text = re.sub(r'\\s+', ' ', text).strip()\n",
    "\n",
    "    # Normalize other whitespace\n",
    "    text = re.sub(r'[ \\t]+', ' ', text)\n",
    "\n",
    "    # Remove duplicate sentences/lines\n",
    "    sentences = list(dict.fromkeys(text.split('. ')))\n",
    "    processed_text = '. '.join(sentences)\n",
    "\n",
    "    return processed_text"
   ]
  },
  {
   "cell_type": "code",
   "execution_count": 3,
   "metadata": {},
   "outputs": [],
   "source": [
    "def load_and_preprocess_data_by_category(directory):\n",
    "    \"\"\"\n",
    "    Loads and preprocesses text data from a given directory and creates separate CSV files for each category.\n",
    "    \"\"\"\n",
    "    categories = [\n",
    "        folder\n",
    "        for folder in os.listdir(directory)\n",
    "        if os.path.isdir(os.path.join(directory, folder))\n",
    "    ]\n",
    "\n",
    "    print(f\"Found {len(categories)} categories: {categories}\")\n",
    "\n",
    "    # Traverse through each category folder\n",
    "    for category in tqdm(categories, desc=\"Processing categories\", unit=\"category\"):\n",
    "        category_path = os.path.join(directory, category)\n",
    "        txt_files = [\n",
    "            f\n",
    "            for f in os.listdir(category_path)\n",
    "            if f.endswith(\".txt\")\n",
    "        ]\n",
    "\n",
    "        print(f\" - Found {len(txt_files)} files in category '{category}'.\\n\")\n",
    "\n",
    "        category_data = []\n",
    "\n",
    "        for filename in tqdm(txt_files, desc=f\"Processing files in {category}\", unit=\"file\", leave=False):\n",
    "            file_path = os.path.join(category_path, filename)\n",
    "\n",
    "            # Read file content\n",
    "            with open(file_path, 'r', encoding='utf-8') as file:\n",
    "                content = file.read()\n",
    "\n",
    "            # Preprocess the content\n",
    "            processed_content = preprocess_text(content)\n",
    "\n",
    "            # Append to category data\n",
    "            category_data.append({\n",
    "                \"category\": category,\n",
    "                \"text\": processed_content\n",
    "            })\n",
    "\n",
    "        # Convert category data to DataFrame\n",
    "        df = pd.DataFrame(category_data)\n",
    "\n",
    "        # Save to CSV\n",
    "        output_file = f\"../dataset/processed/{category}.csv\"\n",
    "        df.to_csv(output_file, index=False, encoding='utf-8')\n",
    "        print(f\"Saved {len(category_data)} records to {output_file}\")"
   ]
  },
  {
   "cell_type": "code",
   "execution_count": 4,
   "metadata": {},
   "outputs": [
    {
     "name": "stdout",
     "output_type": "stream",
     "text": [
      "Starting data loading and preprocessing by category...\n",
      "Found 10 categories: ['ArthaBanijya', 'Bichar', 'Desh', 'Khelkud', 'Manoranjan', 'Prabas', 'Sahitya', 'SuchanaPrabidhi', 'Swasthya', 'Viswa']\n"
     ]
    },
    {
     "name": "stderr",
     "output_type": "stream",
     "text": [
      "Processing categories:   0%|          | 0/10 [00:00<?, ?category/s]"
     ]
    },
    {
     "name": "stdout",
     "output_type": "stream",
     "text": [
      " - Found 1000 files in category 'ArthaBanijya'.\n",
      "\n"
     ]
    },
    {
     "name": "stderr",
     "output_type": "stream",
     "text": [
      "Processing categories:  10%|█         | 1/10 [00:00<00:03,  2.77category/s]"
     ]
    },
    {
     "name": "stdout",
     "output_type": "stream",
     "text": [
      "Saved 1000 records to ../dataset/processed/ArthaBanijya.csv\n",
      " - Found 1000 files in category 'Bichar'.\n",
      "\n"
     ]
    },
    {
     "name": "stderr",
     "output_type": "stream",
     "text": [
      "Processing categories:  20%|██        | 2/10 [00:01<00:04,  1.64category/s]"
     ]
    },
    {
     "name": "stdout",
     "output_type": "stream",
     "text": [
      "Saved 1000 records to ../dataset/processed/Bichar.csv\n",
      " - Found 1000 files in category 'Desh'.\n",
      "\n"
     ]
    },
    {
     "name": "stderr",
     "output_type": "stream",
     "text": [
      "Processing categories:  30%|███       | 3/10 [00:01<00:03,  2.29category/s]"
     ]
    },
    {
     "name": "stdout",
     "output_type": "stream",
     "text": [
      "Saved 1000 records to ../dataset/processed/Desh.csv\n",
      " - Found 1000 files in category 'Khelkud'.\n",
      "\n"
     ]
    },
    {
     "name": "stderr",
     "output_type": "stream",
     "text": [
      "Processing categories:  40%|████      | 4/10 [00:01<00:02,  2.64category/s]"
     ]
    },
    {
     "name": "stdout",
     "output_type": "stream",
     "text": [
      "Saved 1000 records to ../dataset/processed/Khelkud.csv\n",
      " - Found 1000 files in category 'Manoranjan'.\n",
      "\n"
     ]
    },
    {
     "name": "stderr",
     "output_type": "stream",
     "text": [
      "Processing categories:  50%|█████     | 5/10 [00:01<00:01,  2.91category/s]"
     ]
    },
    {
     "name": "stdout",
     "output_type": "stream",
     "text": [
      "Saved 1000 records to ../dataset/processed/Manoranjan.csv\n",
      " - Found 1000 files in category 'Prabas'.\n",
      "\n"
     ]
    },
    {
     "name": "stderr",
     "output_type": "stream",
     "text": [
      "Processing categories:  60%|██████    | 6/10 [00:02<00:01,  3.09category/s]"
     ]
    },
    {
     "name": "stdout",
     "output_type": "stream",
     "text": [
      "Saved 1000 records to ../dataset/processed/Prabas.csv\n",
      " - Found 1000 files in category 'Sahitya'.\n",
      "\n"
     ]
    },
    {
     "name": "stderr",
     "output_type": "stream",
     "text": [
      "Processing categories:  70%|███████   | 7/10 [00:02<00:00,  3.09category/s]"
     ]
    },
    {
     "name": "stdout",
     "output_type": "stream",
     "text": [
      "Saved 1000 records to ../dataset/processed/Sahitya.csv\n",
      " - Found 1000 files in category 'SuchanaPrabidhi'.\n",
      "\n"
     ]
    },
    {
     "name": "stderr",
     "output_type": "stream",
     "text": [
      "Processing categories:  80%|████████  | 8/10 [00:02<00:00,  3.16category/s]"
     ]
    },
    {
     "name": "stdout",
     "output_type": "stream",
     "text": [
      "Saved 1000 records to ../dataset/processed/SuchanaPrabidhi.csv\n",
      " - Found 1000 files in category 'Swasthya'.\n",
      "\n"
     ]
    },
    {
     "name": "stderr",
     "output_type": "stream",
     "text": [
      "Processing categories:  90%|█████████ | 9/10 [00:03<00:00,  3.07category/s]"
     ]
    },
    {
     "name": "stdout",
     "output_type": "stream",
     "text": [
      "Saved 1000 records to ../dataset/processed/Swasthya.csv\n",
      " - Found 1000 files in category 'Viswa'.\n",
      "\n"
     ]
    },
    {
     "name": "stderr",
     "output_type": "stream",
     "text": [
      "Processing categories: 100%|██████████| 10/10 [00:03<00:00,  2.88category/s]"
     ]
    },
    {
     "name": "stdout",
     "output_type": "stream",
     "text": [
      "Saved 1000 records to ../dataset/processed/Viswa.csv\n",
      "All category data has been processed and saved to respective CSV files.\n"
     ]
    },
    {
     "name": "stderr",
     "output_type": "stream",
     "text": [
      "\n"
     ]
    }
   ],
   "source": [
    "# Directory path\n",
    "dataset_directory = \"../dataset/NepaliNewsDataset\"\n",
    "\n",
    "# Load and preprocess data by category\n",
    "print(\"Starting data loading and preprocessing by category...\")\n",
    "load_and_preprocess_data_by_category(dataset_directory)\n",
    "print(\"All category data has been processed and saved to respective CSV files.\")"
   ]
  }
 ],
 "metadata": {
  "kernelspec": {
   "display_name": "my-nn-dBpyKSjE-py3.12",
   "language": "python",
   "name": "python3"
  },
  "language_info": {
   "codemirror_mode": {
    "name": "ipython",
    "version": 3
   },
   "file_extension": ".py",
   "mimetype": "text/x-python",
   "name": "python",
   "nbconvert_exporter": "python",
   "pygments_lexer": "ipython3",
   "version": "3.12.4"
  }
 },
 "nbformat": 4,
 "nbformat_minor": 2
}
