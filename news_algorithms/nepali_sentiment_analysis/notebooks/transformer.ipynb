{
 "cells": [
  {
   "cell_type": "markdown",
   "metadata": {},
   "source": [
    "# Nepali Text Sentiment Analysis"
   ]
  },
  {
   "cell_type": "code",
   "execution_count": 1,
   "metadata": {},
   "outputs": [],
   "source": [
    "import os\n",
    "import pandas as pd\n",
    "import numpy as np\n",
    "import torch\n",
    "import torch.nn as nn\n",
    "import torch.nn.functional as F\n",
    "import torch.optim as optim\n",
    "import matplotlib.pyplot as plt\n",
    "import seaborn as sns\n",
    "from tqdm import tqdm\n",
    "from sklearn.metrics import classification_report, confusion_matrix, f1_score, precision_score, recall_score\n",
    "from torch.utils.data import DataLoader, TensorDataset, random_split\n",
    "from sklearn.model_selection import train_test_split\n",
    "import re"
   ]
  },
  {
   "cell_type": "code",
   "execution_count": 2,
   "metadata": {},
   "outputs": [
    {
     "name": "stdout",
     "output_type": "stream",
     "text": [
      "Device: cuda\n"
     ]
    }
   ],
   "source": [
    "device = torch.device(\"cuda\" if torch.cuda.is_available() else \"cpu\")\n",
    "print(\"Device:\", device)"
   ]
  },
  {
   "cell_type": "code",
   "execution_count": 3,
   "metadata": {},
   "outputs": [],
   "source": [
    "import os\n",
    "import sys\n",
    "\n",
    "# Get the current working directory\n",
    "current_dir = os.getcwd()\n",
    "\n",
    "# Move 3 levels up to the project root directory and append to sys.path\n",
    "project_root = os.path.abspath(os.path.join(current_dir, '../../'))\n",
    "sys.path.append(project_root)"
   ]
  },
  {
   "cell_type": "code",
   "execution_count": 4,
   "metadata": {},
   "outputs": [],
   "source": [
    "DATASET_PATH = os.path.join(\n",
    "    project_root,\n",
    "    'nepali_sentiment_analysis',\n",
    "    'dataset',\n",
    "    'processed',\n",
    "    'combined_cleaned_data.csv'\n",
    ")\n",
    "\n",
    "df = pd.read_csv(DATASET_PATH)"
   ]
  },
  {
   "cell_type": "code",
   "execution_count": 5,
   "metadata": {},
   "outputs": [
    {
     "data": {
      "text/html": [
       "<div>\n",
       "<style scoped>\n",
       "    .dataframe tbody tr th:only-of-type {\n",
       "        vertical-align: middle;\n",
       "    }\n",
       "\n",
       "    .dataframe tbody tr th {\n",
       "        vertical-align: top;\n",
       "    }\n",
       "\n",
       "    .dataframe thead th {\n",
       "        text-align: right;\n",
       "    }\n",
       "</style>\n",
       "<table border=\"1\" class=\"dataframe\">\n",
       "  <thead>\n",
       "    <tr style=\"text-align: right;\">\n",
       "      <th></th>\n",
       "      <th>Sentiment</th>\n",
       "      <th>Sentences</th>\n",
       "    </tr>\n",
       "  </thead>\n",
       "  <tbody>\n",
       "    <tr>\n",
       "      <th>0</th>\n",
       "      <td>0</td>\n",
       "      <td>पुन निर्वाचन गरे यस्तै हुने हो</td>\n",
       "    </tr>\n",
       "    <tr>\n",
       "      <th>1</th>\n",
       "      <td>0</td>\n",
       "      <td>निर्वाचन कति गरिरहने</td>\n",
       "    </tr>\n",
       "    <tr>\n",
       "      <th>2</th>\n",
       "      <td>0</td>\n",
       "      <td>शासन व्यवस्था चुनाव पध्दति फेर्नु एउटा उपचार हो</td>\n",
       "    </tr>\n",
       "    <tr>\n",
       "      <th>3</th>\n",
       "      <td>0</td>\n",
       "      <td>क्या अचम्मकाे नगरपालिका डाेजरम्यान बालेनकाे</td>\n",
       "    </tr>\n",
       "    <tr>\n",
       "      <th>4</th>\n",
       "      <td>0</td>\n",
       "      <td>प्युठान नगरपालिका नेपाल स्वयंसेवक राष्ट्रिय सम...</td>\n",
       "    </tr>\n",
       "  </tbody>\n",
       "</table>\n",
       "</div>"
      ],
      "text/plain": [
       "   Sentiment                                          Sentences\n",
       "0          0                     पुन निर्वाचन गरे यस्तै हुने हो\n",
       "1          0                               निर्वाचन कति गरिरहने\n",
       "2          0    शासन व्यवस्था चुनाव पध्दति फेर्नु एउटा उपचार हो\n",
       "3          0        क्या अचम्मकाे नगरपालिका डाेजरम्यान बालेनकाे\n",
       "4          0  प्युठान नगरपालिका नेपाल स्वयंसेवक राष्ट्रिय सम..."
      ]
     },
     "execution_count": 5,
     "metadata": {},
     "output_type": "execute_result"
    }
   ],
   "source": [
    "df.head()"
   ]
  },
  {
   "cell_type": "code",
   "execution_count": 6,
   "metadata": {},
   "outputs": [
    {
     "name": "stdout",
     "output_type": "stream",
     "text": [
      "\n",
      "Sentiment Distribution:\n",
      "Sentiment\n",
      "1    15951\n",
      "2    14422\n",
      "0    13263\n",
      "Name: count, dtype: int64\n"
     ]
    }
   ],
   "source": [
    "print(\"\\nSentiment Distribution:\")\n",
    "print(df['Sentiment'].value_counts())"
   ]
  },
  {
   "cell_type": "code",
   "execution_count": null,
   "metadata": {},
   "outputs": [],
   "source": []
  },
  {
   "cell_type": "code",
   "execution_count": 7,
   "metadata": {},
   "outputs": [
    {
     "data": {
      "image/png": "[encoded data removed]",
      "text/plain": [
       "<Figure size 600x400 with 1 Axes>"
      ]
     },
     "metadata": {},
     "output_type": "display_data"
    }
   ],
   "source": [
    "from nepali_sentiment_analysis.utils import visualization\n",
    "\n",
    "labels_dict = {0: 'Neutral', 1: 'Positive', 2: 'Negative'}\n",
    "\n",
    "visualization.plot_sentiment_distribution(\n",
    "    df, 'Sentiment Distribution', labels_dict\n",
    ")"
   ]
  },
  {
   "cell_type": "markdown",
   "metadata": {},
   "source": [
    "---"
   ]
  },
  {
   "cell_type": "code",
   "execution_count": 8,
   "metadata": {},
   "outputs": [],
   "source": [
    "from utils.preprocess import preprocess"
   ]
  },
  {
   "cell_type": "code",
   "execution_count": 9,
   "metadata": {},
   "outputs": [
    {
     "name": "stderr",
     "output_type": "stream",
     "text": [
      "100%|██████████| 43636/43636 [00:01<00:00, 37122.16it/s]\n"
     ]
    }
   ],
   "source": [
    "# Apply preprocessing to all sentences\n",
    "tqdm.pandas()\n",
    "df[\"Processed_Sentences\"] = df[\"Sentences\"].progress_apply(lambda x: preprocess(x)[0])"
   ]
  },
  {
   "cell_type": "code",
   "execution_count": 10,
   "metadata": {},
   "outputs": [
    {
     "name": "stdout",
     "output_type": "stream",
     "text": [
      "\n",
      "Sample Preprocessed Text:\n"
     ]
    },
    {
     "data": {
      "text/html": [
       "<div>\n",
       "<style scoped>\n",
       "    .dataframe tbody tr th:only-of-type {\n",
       "        vertical-align: middle;\n",
       "    }\n",
       "\n",
       "    .dataframe tbody tr th {\n",
       "        vertical-align: top;\n",
       "    }\n",
       "\n",
       "    .dataframe thead th {\n",
       "        text-align: right;\n",
       "    }\n",
       "</style>\n",
       "<table border=\"1\" class=\"dataframe\">\n",
       "  <thead>\n",
       "    <tr style=\"text-align: right;\">\n",
       "      <th></th>\n",
       "      <th>Sentiment</th>\n",
       "      <th>Sentences</th>\n",
       "      <th>Processed_Sentences</th>\n",
       "    </tr>\n",
       "  </thead>\n",
       "  <tbody>\n",
       "    <tr>\n",
       "      <th>43382</th>\n",
       "      <td>0</td>\n",
       "      <td>ईटहरी तिर कहिले आईपुग्ने हो</td>\n",
       "      <td>ईटहरी कहिले आईपुग्ने हो</td>\n",
       "    </tr>\n",
       "    <tr>\n",
       "      <th>39002</th>\n",
       "      <td>1</td>\n",
       "      <td>कोभिड कञ्चनपुरमा सेनाको सेवा सराहनीय</td>\n",
       "      <td>कोभिड कञ्चनपुरमा सेनाको सेवा सराहनीय</td>\n",
       "    </tr>\n",
       "    <tr>\n",
       "      <th>15866</th>\n",
       "      <td>1</td>\n",
       "      <td>मौसम फेरीय जसरी फेरीने का भनाई हरूले कोरोना को...</td>\n",
       "      <td>मौसम फेरीय जसरी फेरीने भनाई हरूले कोरोना कोभिड...</td>\n",
       "    </tr>\n",
       "    <tr>\n",
       "      <th>34593</th>\n",
       "      <td>2</td>\n",
       "      <td>सरकारको चौथो अङ्ग सञ्चार माध्यमले कोभिड बारे ज...</td>\n",
       "      <td>सरकारको चौथो अङ्ग सञ्चार माध्यमले कोभिड बारे ज...</td>\n",
       "    </tr>\n",
       "    <tr>\n",
       "      <th>6844</th>\n",
       "      <td>0</td>\n",
       "      <td>सुझावको लागि</td>\n",
       "      <td>सुझावको लागि</td>\n",
       "    </tr>\n",
       "  </tbody>\n",
       "</table>\n",
       "</div>"
      ],
      "text/plain": [
       "       Sentiment                                          Sentences  \\\n",
       "43382          0                        ईटहरी तिर कहिले आईपुग्ने हो   \n",
       "39002          1               कोभिड कञ्चनपुरमा सेनाको सेवा सराहनीय   \n",
       "15866          1  मौसम फेरीय जसरी फेरीने का भनाई हरूले कोरोना को...   \n",
       "34593          2  सरकारको चौथो अङ्ग सञ्चार माध्यमले कोभिड बारे ज...   \n",
       "6844           0                                       सुझावको लागि   \n",
       "\n",
       "                                     Processed_Sentences  \n",
       "43382                            ईटहरी कहिले आईपुग्ने हो  \n",
       "39002               कोभिड कञ्चनपुरमा सेनाको सेवा सराहनीय  \n",
       "15866  मौसम फेरीय जसरी फेरीने भनाई हरूले कोरोना कोभिड...  \n",
       "34593  सरकारको चौथो अङ्ग सञ्चार माध्यमले कोभिड बारे ज...  \n",
       "6844                                        सुझावको लागि  "
      ]
     },
     "execution_count": 10,
     "metadata": {},
     "output_type": "execute_result"
    }
   ],
   "source": [
    "# Display preprocessed text\n",
    "print(\"\\nSample Preprocessed Text:\")\n",
    "df.sample(5)"
   ]
  },
  {
   "cell_type": "code",
   "execution_count": 11,
   "metadata": {},
   "outputs": [
    {
     "data": {
      "text/plain": [
       "'निर्वाचन कति गरिरहने'"
      ]
     },
     "execution_count": 11,
     "metadata": {},
     "output_type": "execute_result"
    }
   ],
   "source": [
    "df.iloc[1]['Sentences']"
   ]
  },
  {
   "cell_type": "code",
   "execution_count": 12,
   "metadata": {},
   "outputs": [],
   "source": [
    "from utils.embedding import Embeddings"
   ]
  },
  {
   "cell_type": "code",
   "execution_count": 13,
   "metadata": {},
   "outputs": [
    {
     "name": "stdout",
     "output_type": "stream",
     "text": [
      "Loaded embeddings with dimension: 300\n"
     ]
    }
   ],
   "source": [
    "# Load pretrained word2vec embeddings\n",
    "embedding_path = \"models/nepali_embeddings_word2vec.kv\"\n",
    "word_vectors = Embeddings().load_vector()\n",
    "\n",
    "# Define embedding dimension\n",
    "embedding_dim = word_vectors.vector_size\n",
    "print(f\"Loaded embeddings with dimension: {embedding_dim}\")"
   ]
  },
  {
   "cell_type": "code",
   "execution_count": 14,
   "metadata": {},
   "outputs": [
    {
     "name": "stdout",
     "output_type": "stream",
     "text": [
      "Embedded Sentences Shape: (43636, 32, 300)\n"
     ]
    }
   ],
   "source": [
    "# Tokenize and convert sentences to embeddings\n",
    "max_length = 32  # Maximum number of tokens per sentence\n",
    "\n",
    "\n",
    "def sentence_to_embedding(sentence):\n",
    "    tokens = sentence.split()\n",
    "    embeddings = [\n",
    "        word_vectors[token] if token in word_vectors else np.zeros(\n",
    "            embedding_dim)\n",
    "        for token in tokens\n",
    "    ]\n",
    "    # Padding/truncating to max_length\n",
    "    if len(embeddings) > max_length:\n",
    "        embeddings = embeddings[:max_length]\n",
    "    else:\n",
    "        embeddings += [np.zeros(embedding_dim)] * \\\n",
    "            (max_length - len(embeddings))\n",
    "    return np.array(embeddings)\n",
    "\n",
    "\n",
    "# Apply to all processed sentences\n",
    "embedded_sentences = np.array(\n",
    "    df[\"Processed_Sentences\"].apply(sentence_to_embedding).tolist())\n",
    "sentiments = df[\"Sentiment\"].values\n",
    "\n",
    "print(f\"Embedded Sentences Shape: {embedded_sentences.shape}\")"
   ]
  },
  {
   "cell_type": "code",
   "execution_count": 15,
   "metadata": {},
   "outputs": [],
   "source": [
    "import math"
   ]
  },
  {
   "cell_type": "code",
   "execution_count": 16,
   "metadata": {},
   "outputs": [],
   "source": [
    "# %%\n",
    "class SentimentTransformer(nn.Module):\n",
    "    def __init__(self, d_model, num_heads, num_layers, num_classes, d_ff, max_len, dropout):\n",
    "        super(SentimentTransformer, self).__init__()\n",
    "        self.positional_encoding = PositionalEncoding(d_model, max_len)\n",
    "        self.encoder_layers = nn.ModuleList(\n",
    "            [EncoderLayer(d_model, num_heads, d_ff, dropout)\n",
    "             for _ in range(num_layers)]\n",
    "        )\n",
    "        self.classifier = nn.Linear(d_model, num_classes)\n",
    "\n",
    "    def forward(self, x):\n",
    "        x = self.positional_encoding(x)\n",
    "        for layer in self.encoder_layers:\n",
    "            x = layer(x)\n",
    "        x = x.mean(dim=1)\n",
    "        return self.classifier(x)\n",
    "\n",
    "# Helper classes for positional encoding and encoder layers\n",
    "\n",
    "\n",
    "class PositionalEncoding(nn.Module):\n",
    "    def __init__(self, d_model, max_len):\n",
    "        super(PositionalEncoding, self).__init__()\n",
    "        self.encoding = torch.zeros(max_len, d_model)\n",
    "        position = torch.arange(0, max_len).unsqueeze(1)\n",
    "        div_term = torch.exp(-torch.arange(0, d_model, 2)\n",
    "                             * (math.log(10000.0) / d_model))\n",
    "        self.encoding[:, 0::2] = torch.sin(position * div_term)\n",
    "        self.encoding[:, 1::2] = torch.cos(position * div_term)\n",
    "        self.encoding = self.encoding.unsqueeze(0)\n",
    "\n",
    "    def forward(self, x):\n",
    "        return x + self.encoding[:, :x.size(1), :].to(x.device)\n",
    "\n",
    "\n",
    "class EncoderLayer(nn.Module):\n",
    "    def __init__(self, d_model, num_heads, d_ff, dropout):\n",
    "        super(EncoderLayer, self).__init__()\n",
    "        self.self_attn = MultiHeadAttention(d_model, num_heads)\n",
    "        self.feed_forward = nn.Sequential(\n",
    "            nn.Linear(d_model, d_ff),\n",
    "            nn.ReLU(),\n",
    "            nn.Linear(d_ff, d_model)\n",
    "        )\n",
    "        self.norm1 = nn.LayerNorm(d_model)\n",
    "        self.norm2 = nn.LayerNorm(d_model)\n",
    "        self.dropout = nn.Dropout(dropout)\n",
    "\n",
    "    def forward(self, x):\n",
    "        attn_output = self.self_attn(x, x, x)\n",
    "        x = self.norm1(x + attn_output)\n",
    "        x = self.norm2(x + self.feed_forward(x))\n",
    "        return self.dropout(x)\n",
    "\n",
    "\n",
    "class MultiHeadAttention(nn.Module):\n",
    "    def __init__(self, d_model, num_heads):\n",
    "        super(MultiHeadAttention, self).__init__()\n",
    "        assert d_model % num_heads == 0\n",
    "        self.d_k = d_model // num_heads\n",
    "        self.num_heads = num_heads\n",
    "        self.q_linear = nn.Linear(d_model, d_model)\n",
    "        self.k_linear = nn.Linear(d_model, d_model)\n",
    "        self.v_linear = nn.Linear(d_model, d_model)\n",
    "        self.out = nn.Linear(d_model, d_model)\n",
    "\n",
    "    def forward(self, q, k, v):\n",
    "        bs = q.size(0)\n",
    "        q = self.q_linear(q).view(bs, -1, self.num_heads,\n",
    "                                  self.d_k).transpose(1, 2)\n",
    "        k = self.k_linear(k).view(bs, -1, self.num_heads,\n",
    "                                  self.d_k).transpose(1, 2)\n",
    "        v = self.v_linear(v).view(bs, -1, self.num_heads,\n",
    "                                  self.d_k).transpose(1, 2)\n",
    "        scores = torch.matmul(q, k.transpose(-2, -1)) / math.sqrt(self.d_k)\n",
    "        attn = F.softmax(scores, dim=-1)\n",
    "        output = torch.matmul(attn, v).transpose(\n",
    "            1, 2).contiguous().view(bs, -1, self.num_heads * self.d_k)\n",
    "        return self.out(output)"
   ]
  },
  {
   "cell_type": "code",
   "execution_count": 17,
   "metadata": {},
   "outputs": [
    {
     "name": "stdout",
     "output_type": "stream",
     "text": [
      "Training Set Size: 34908\n",
      "Validation Set Size: 8728\n"
     ]
    }
   ],
   "source": [
    "# %%\n",
    "# Convert data to tensors\n",
    "embedded_sentences_tensor = torch.tensor(\n",
    "    embedded_sentences, dtype=torch.float32)\n",
    "sentiments_tensor = torch.tensor(sentiments, dtype=torch.long)\n",
    "\n",
    "# Create dataset and split\n",
    "dataset = TensorDataset(embedded_sentences_tensor, sentiments_tensor)\n",
    "train_size = int(0.8 * len(dataset))\n",
    "val_size = len(dataset) - train_size\n",
    "train_dataset, val_dataset = random_split(dataset, [train_size, val_size])\n",
    "\n",
    "# Create DataLoader for batch processing\n",
    "batch_size = 32\n",
    "train_loader = DataLoader(train_dataset, batch_size=batch_size, shuffle=True)\n",
    "val_loader = DataLoader(val_dataset, batch_size=batch_size)\n",
    "\n",
    "# Print dataset sizes\n",
    "print(f\"Training Set Size: {train_size}\")\n",
    "print(f\"Validation Set Size: {val_size}\")"
   ]
  },
  {
   "cell_type": "code",
   "execution_count": 18,
   "metadata": {},
   "outputs": [
    {
     "name": "stdout",
     "output_type": "stream",
     "text": [
      "SentimentTransformer(\n",
      "  (positional_encoding): PositionalEncoding()\n",
      "  (encoder_layers): ModuleList(\n",
      "    (0-1): 2 x EncoderLayer(\n",
      "      (self_attn): MultiHeadAttention(\n",
      "        (q_linear): Linear(in_features=300, out_features=300, bias=True)\n",
      "        (k_linear): Linear(in_features=300, out_features=300, bias=True)\n",
      "        (v_linear): Linear(in_features=300, out_features=300, bias=True)\n",
      "        (out): Linear(in_features=300, out_features=300, bias=True)\n",
      "      )\n",
      "      (feed_forward): Sequential(\n",
      "        (0): Linear(in_features=300, out_features=128, bias=True)\n",
      "        (1): ReLU()\n",
      "        (2): Linear(in_features=128, out_features=300, bias=True)\n",
      "      )\n",
      "      (norm1): LayerNorm((300,), eps=1e-05, elementwise_affine=True)\n",
      "      (norm2): LayerNorm((300,), eps=1e-05, elementwise_affine=True)\n",
      "      (dropout): Dropout(p=0.1, inplace=False)\n",
      "    )\n",
      "  )\n",
      "  (classifier): Linear(in_features=300, out_features=3, bias=True)\n",
      ")\n"
     ]
    }
   ],
   "source": [
    "# %%\n",
    "# Model parameters\n",
    "d_model = embedding_dim  # Embedding dimension\n",
    "num_heads = 4  # Number of attention heads\n",
    "num_layers = 2  # Number of encoder layers\n",
    "num_classes = 3  # Neutral, Positive, Negative\n",
    "d_ff = 128  # Dimension of feedforward network\n",
    "dropout = 0.1  # Dropout rate\n",
    "max_len = max_length\n",
    "\n",
    "# Instantiate the model\n",
    "model = SentimentTransformer(\n",
    "    d_model, num_heads, num_layers, num_classes, d_ff, max_len, dropout).to(device)\n",
    "\n",
    "# Define loss function and optimizer\n",
    "criterion = nn.CrossEntropyLoss()\n",
    "optimizer = optim.Adam(model.parameters(), lr=0.001)\n",
    "\n",
    "# Print model summary\n",
    "print(model)"
   ]
  },
  {
   "cell_type": "markdown",
   "metadata": {},
   "source": [
    "---"
   ]
  },
  {
   "cell_type": "markdown",
   "metadata": {},
   "source": [
    "## Training"
   ]
  },
  {
   "cell_type": "markdown",
   "metadata": {},
   "source": [
    "Train the model over multiple epochs, tracking loss and accuracy."
   ]
  },
  {
   "cell_type": "code",
   "execution_count": 19,
   "metadata": {},
   "outputs": [
    {
     "name": "stdout",
     "output_type": "stream",
     "text": [
      "Epoch 1/50, Train Loss: 0.7569, Validation Loss: 0.7161, Validation Accuracy: 0.6955\n",
      "Epoch 2/50, Train Loss: 0.7273, Validation Loss: 0.7169, Validation Accuracy: 0.6853\n",
      "Epoch 3/50, Train Loss: 0.7265, Validation Loss: 0.7237, Validation Accuracy: 0.6895\n",
      "Epoch 4/50, Train Loss: 0.7129, Validation Loss: 0.7236, Validation Accuracy: 0.6852\n",
      "Epoch 5/50, Train Loss: 0.7137, Validation Loss: 0.7137, Validation Accuracy: 0.6911\n",
      "Epoch 6/50, Train Loss: 0.7069, Validation Loss: 0.7149, Validation Accuracy: 0.6915\n",
      "Epoch 7/50, Train Loss: 0.6958, Validation Loss: 0.7219, Validation Accuracy: 0.6921\n",
      "Epoch 8/50, Train Loss: 0.7012, Validation Loss: 0.7212, Validation Accuracy: 0.6912\n",
      "Epoch 9/50, Train Loss: 0.6965, Validation Loss: 0.7093, Validation Accuracy: 0.6940\n",
      "Epoch 10/50, Train Loss: 0.7004, Validation Loss: 0.7082, Validation Accuracy: 0.6956\n",
      "Epoch 11/50, Train Loss: 0.6965, Validation Loss: 0.7242, Validation Accuracy: 0.6913\n",
      "Epoch 12/50, Train Loss: 0.6905, Validation Loss: 0.7081, Validation Accuracy: 0.6960\n",
      "Epoch 13/50, Train Loss: 0.6804, Validation Loss: 0.6995, Validation Accuracy: 0.6986\n",
      "Epoch 14/50, Train Loss: 0.6773, Validation Loss: 0.6957, Validation Accuracy: 0.6984\n",
      "Epoch 15/50, Train Loss: 0.6789, Validation Loss: 0.7092, Validation Accuracy: 0.6948\n",
      "Epoch 16/50, Train Loss: 0.6709, Validation Loss: 0.6997, Validation Accuracy: 0.6986\n",
      "Epoch 17/50, Train Loss: 0.6710, Validation Loss: 0.7008, Validation Accuracy: 0.6981\n",
      "Epoch 18/50, Train Loss: 0.6718, Validation Loss: 0.7073, Validation Accuracy: 0.6965\n",
      "Epoch 19/50, Train Loss: 0.6696, Validation Loss: 0.7029, Validation Accuracy: 0.6967\n",
      "Epoch 20/50, Train Loss: 0.6665, Validation Loss: 0.6904, Validation Accuracy: 0.6978\n",
      "Epoch 21/50, Train Loss: 0.6645, Validation Loss: 0.6989, Validation Accuracy: 0.6966\n",
      "Epoch 22/50, Train Loss: 0.6616, Validation Loss: 0.6907, Validation Accuracy: 0.7030\n",
      "Epoch 23/50, Train Loss: 0.6596, Validation Loss: 0.7022, Validation Accuracy: 0.6959\n",
      "Epoch 24/50, Train Loss: 0.6701, Validation Loss: 0.6903, Validation Accuracy: 0.6999\n",
      "Epoch 25/50, Train Loss: 0.6575, Validation Loss: 0.6904, Validation Accuracy: 0.6991\n",
      "Epoch 26/50, Train Loss: 0.6655, Validation Loss: 0.6977, Validation Accuracy: 0.6975\n",
      "Epoch 27/50, Train Loss: 0.6693, Validation Loss: 0.7057, Validation Accuracy: 0.6911\n",
      "Epoch 28/50, Train Loss: 0.6643, Validation Loss: 0.6900, Validation Accuracy: 0.7054\n",
      "Epoch 29/50, Train Loss: 0.6584, Validation Loss: 0.7011, Validation Accuracy: 0.7000\n",
      "Epoch 30/50, Train Loss: 0.6599, Validation Loss: 0.7009, Validation Accuracy: 0.6970\n",
      "Epoch 31/50, Train Loss: 0.6531, Validation Loss: 0.6971, Validation Accuracy: 0.7053\n",
      "Epoch 32/50, Train Loss: 0.6564, Validation Loss: 0.6949, Validation Accuracy: 0.7063\n",
      "Epoch 33/50, Train Loss: 0.6552, Validation Loss: 0.7037, Validation Accuracy: 0.6976\n",
      "Epoch 34/50, Train Loss: 0.6590, Validation Loss: 0.7117, Validation Accuracy: 0.6916\n",
      "Epoch 35/50, Train Loss: 0.6611, Validation Loss: 0.6980, Validation Accuracy: 0.6995\n",
      "Epoch 36/50, Train Loss: 0.6565, Validation Loss: 0.6980, Validation Accuracy: 0.6953\n",
      "Epoch 37/50, Train Loss: 0.6530, Validation Loss: 0.6964, Validation Accuracy: 0.6982\n",
      "Epoch 38/50, Train Loss: 0.6486, Validation Loss: 0.6955, Validation Accuracy: 0.6975\n",
      "Epoch 39/50, Train Loss: 0.6492, Validation Loss: 0.6885, Validation Accuracy: 0.7021\n",
      "Epoch 40/50, Train Loss: 0.6485, Validation Loss: 0.6900, Validation Accuracy: 0.7037\n",
      "Epoch 41/50, Train Loss: 0.6498, Validation Loss: 0.6970, Validation Accuracy: 0.6999\n",
      "Epoch 42/50, Train Loss: 0.6484, Validation Loss: 0.6959, Validation Accuracy: 0.7065\n",
      "Epoch 43/50, Train Loss: 0.6455, Validation Loss: 0.6905, Validation Accuracy: 0.7081\n",
      "Epoch 44/50, Train Loss: 0.6414, Validation Loss: 0.6943, Validation Accuracy: 0.7012\n",
      "Epoch 45/50, Train Loss: 0.6445, Validation Loss: 0.7013, Validation Accuracy: 0.6989\n",
      "Epoch 46/50, Train Loss: 0.6522, Validation Loss: 0.6944, Validation Accuracy: 0.7043\n",
      "Epoch 47/50, Train Loss: 0.6504, Validation Loss: 0.7048, Validation Accuracy: 0.7012\n",
      "Epoch 48/50, Train Loss: 0.6491, Validation Loss: 0.6864, Validation Accuracy: 0.7049\n",
      "Epoch 49/50, Train Loss: 0.6472, Validation Loss: 0.6994, Validation Accuracy: 0.6965\n",
      "Epoch 50/50, Train Loss: 0.6500, Validation Loss: 0.6976, Validation Accuracy: 0.6974\n"
     ]
    }
   ],
   "source": [
    "# %%\n",
    "# Training loop\n",
    "num_epochs = 50\n",
    "train_losses, val_losses, val_accuracies = [], [], []\n",
    "\n",
    "for epoch in range(num_epochs):\n",
    "    # Training phase\n",
    "    model.train()\n",
    "    total_train_loss = 0\n",
    "\n",
    "    for inputs, labels in train_loader:\n",
    "        inputs, labels = inputs.to(device), labels.to(device)\n",
    "\n",
    "        # Forward pass\n",
    "        outputs = model(inputs)\n",
    "        loss = criterion(outputs, labels)\n",
    "\n",
    "        # Backward pass\n",
    "        optimizer.zero_grad()\n",
    "        loss.backward()\n",
    "        optimizer.step()\n",
    "\n",
    "        total_train_loss += loss.item()\n",
    "\n",
    "    # Validation phase\n",
    "    model.eval()\n",
    "    total_val_loss, correct_predictions = 0, 0\n",
    "    with torch.no_grad():\n",
    "        for inputs, labels in val_loader:\n",
    "            inputs, labels = inputs.to(device), labels.to(device)\n",
    "            outputs = model(inputs)\n",
    "            loss = criterion(outputs, labels)\n",
    "            total_val_loss += loss.item()\n",
    "\n",
    "            # Compute accuracy\n",
    "            _, predicted = torch.max(outputs, 1)\n",
    "            correct_predictions += (predicted == labels).sum().item()\n",
    "\n",
    "    # Calculate metrics\n",
    "    train_loss = total_train_loss / len(train_loader)\n",
    "    val_loss = total_val_loss / len(val_loader)\n",
    "    val_accuracy = correct_predictions / len(val_loader.dataset)\n",
    "\n",
    "    # Save metrics\n",
    "    train_losses.append(train_loss)\n",
    "    val_losses.append(val_loss)\n",
    "    val_accuracies.append(val_accuracy)\n",
    "\n",
    "    # Print epoch summary\n",
    "    print(f\"Epoch {epoch+1}/{num_epochs}, Train Loss: {train_loss:.4f}, Validation Loss: {\n",
    "          val_loss:.4f}, Validation Accuracy: {val_accuracy:.4f}\")"
   ]
  },
  {
   "cell_type": "code",
   "execution_count": 20,
   "metadata": {},
   "outputs": [
    {
     "data": {
      "image/png": "[encoded data removed]",
      "text/plain": [
       "<Figure size 1000x500 with 1 Axes>"
      ]
     },
     "metadata": {},
     "output_type": "display_data"
    },
    {
     "data": {
      "image/png": "[encoded data removed]",
      "text/plain": [
       "<Figure size 1000x500 with 1 Axes>"
      ]
     },
     "metadata": {},
     "output_type": "display_data"
    }
   ],
   "source": [
    "# %%\n",
    "# Plot training and validation loss\n",
    "plt.figure(figsize=(10, 5))\n",
    "plt.plot(train_losses, label=\"Train Loss\")\n",
    "plt.plot(val_losses, label=\"Validation Loss\")\n",
    "plt.title(\"Loss Curve\")\n",
    "plt.xlabel(\"Epochs\")\n",
    "plt.ylabel(\"Loss\")\n",
    "plt.legend()\n",
    "plt.show()\n",
    "\n",
    "# %%\n",
    "# Plot validation accuracy\n",
    "plt.figure(figsize=(10, 5))\n",
    "plt.plot(val_accuracies, label=\"Validation Accuracy\", color=\"green\")\n",
    "plt.title(\"Validation Accuracy Curve\")\n",
    "plt.xlabel(\"Epochs\")\n",
    "plt.ylabel(\"Accuracy\")\n",
    "plt.legend()\n",
    "plt.show()"
   ]
  },
  {
   "cell_type": "code",
   "execution_count": 21,
   "metadata": {},
   "outputs": [
    {
     "name": "stdout",
     "output_type": "stream",
     "text": [
      "F1 Score: 0.6973\n",
      "Precision: 0.6976\n",
      "Recall: 0.6974\n",
      "\n",
      "Classification Report:\n",
      "              precision    recall  f1-score   support\n",
      "\n",
      "     Neutral       0.70      0.69      0.70      2559\n",
      "    Positive       0.70      0.68      0.69      3176\n",
      "    Negative       0.69      0.72      0.71      2993\n",
      "\n",
      "    accuracy                           0.70      8728\n",
      "   macro avg       0.70      0.70      0.70      8728\n",
      "weighted avg       0.70      0.70      0.70      8728\n",
      "\n"
     ]
    },
    {
     "data": {
      "image/png": "[encoded data removed]",
      "text/plain": [
       "<Figure size 800x600 with 2 Axes>"
      ]
     },
     "metadata": {},
     "output_type": "display_data"
    }
   ],
   "source": [
    "# %%\n",
    "# Evaluate model on validation set\n",
    "model.eval()\n",
    "predictions, actuals = [], []\n",
    "\n",
    "with torch.no_grad():\n",
    "    for inputs, labels in val_loader:\n",
    "        inputs, labels = inputs.to(device), labels.to(device)\n",
    "        outputs = model(inputs)\n",
    "        _, predicted = torch.max(outputs, 1)\n",
    "        predictions.extend(predicted.cpu().numpy())\n",
    "        actuals.extend(labels.cpu().numpy())\n",
    "\n",
    "# Calculate metrics\n",
    "f1 = f1_score(actuals, predictions, average=\"weighted\")\n",
    "precision = precision_score(actuals, predictions, average=\"weighted\")\n",
    "recall = recall_score(actuals, predictions, average=\"weighted\")\n",
    "conf_matrix = confusion_matrix(actuals, predictions)\n",
    "\n",
    "# Display metrics\n",
    "print(f\"F1 Score: {f1:.4f}\")\n",
    "print(f\"Precision: {precision:.4f}\")\n",
    "print(f\"Recall: {recall:.4f}\")\n",
    "print(\"\\nClassification Report:\")\n",
    "print(classification_report(actuals, predictions,\n",
    "      target_names=[\"Neutral\", \"Positive\", \"Negative\"]))\n",
    "\n",
    "# Plot confusion matrix\n",
    "plt.figure(figsize=(8, 6))\n",
    "sns.heatmap(conf_matrix, annot=True, fmt='d', cmap='Blues', xticklabels=[\n",
    "            \"Neutral\", \"Positive\", \"Negative\"], yticklabels=[\"Neutral\", \"Positive\", \"Negative\"])\n",
    "plt.title(\"Confusion Matrix\")\n",
    "plt.xlabel(\"Predicted\")\n",
    "plt.ylabel(\"Actual\")\n",
    "plt.show()"
   ]
  },
  {
   "cell_type": "markdown",
   "metadata": {},
   "source": [
    "---"
   ]
  },
  {
   "cell_type": "markdown",
   "metadata": {},
   "source": [
    "## Saving the Model"
   ]
  },
  {
   "cell_type": "code",
   "execution_count": 22,
   "metadata": {},
   "outputs": [
    {
     "name": "stdout",
     "output_type": "stream",
     "text": [
      "Model saved to c:\\Users\\Suyash Shrestha\\Personal\\_Nepali_news_project\\Nepali_News_algorithms\\news_algorithms\\nepali_sentiment_analysis\\models\\sentiment_transformer_model.pth\n"
     ]
    }
   ],
   "source": [
    "# Get the current path and go one step up\n",
    "current_path = os.path.abspath(os.path.join(current_dir, '..'))\n",
    "\n",
    "# Check if 'models' directory exists, if not, create it\n",
    "models_dir = os.path.join(current_path, 'models')\n",
    "if not os.path.exists(models_dir):\n",
    "    os.makedirs(models_dir)\n",
    "\n",
    "# Save the model\n",
    "model_save_path = os.path.join(models_dir, \"sentiment_transformer_model.pth\")\n",
    "torch.save(model.state_dict(), model_save_path)\n",
    "print(f\"Model saved to {model_save_path}\")"
   ]
  },
  {
   "cell_type": "markdown",
   "metadata": {},
   "source": [
    "---"
   ]
  },
  {
   "cell_type": "markdown",
   "metadata": {},
   "source": [
    "## Loading the Model"
   ]
  },
  {
   "cell_type": "code",
   "execution_count": 23,
   "metadata": {},
   "outputs": [
    {
     "name": "stdout",
     "output_type": "stream",
     "text": [
      "Model loaded successfully for inference!\n"
     ]
    },
    {
     "name": "stderr",
     "output_type": "stream",
     "text": [
      "C:\\Users\\Suyash Shrestha\\AppData\\Local\\Temp\\ipykernel_10548\\3791078217.py:11: FutureWarning: You are using `torch.load` with `weights_only=False` (the current default value), which uses the default pickle module implicitly. It is possible to construct malicious pickle data which will execute arbitrary code during unpickling (See https://github.com/pytorch/pytorch/blob/main/SECURITY.md#untrusted-models for more details). In a future release, the default value for `weights_only` will be flipped to `True`. This limits the functions that could be executed during unpickling. Arbitrary objects will no longer be allowed to be loaded via this mode unless they are explicitly allowlisted by the user via `torch.serialization.add_safe_globals`. We recommend you start setting `weights_only=True` for any use case where you don't have full control of the loaded file. Please open an issue on GitHub for any issues related to this experimental feature.\n",
      "  loaded_model.load_state_dict(torch.load(model_save_path))\n"
     ]
    }
   ],
   "source": [
    "# Load the model for inference\n",
    "loaded_model = SentimentTransformer(\n",
    "    d_model,\n",
    "    num_heads,\n",
    "    num_layers,\n",
    "    num_classes,\n",
    "    d_ff,\n",
    "    max_len,\n",
    "    dropout\n",
    ")\n",
    "loaded_model.load_state_dict(torch.load(model_save_path))\n",
    "loaded_model.to(device)\n",
    "loaded_model.eval()\n",
    "print(\"Model loaded successfully for inference!\")"
   ]
  },
  {
   "cell_type": "code",
   "execution_count": 24,
   "metadata": {},
   "outputs": [],
   "source": [
    "# Sample sentences for inference\n",
    "sentences = [\n",
    "    \"म आजको खाना खान गरें।\",\n",
    "    \"मलाई यो गाउँ मन पर्छ।\",\n",
    "    \"म यो गाडी नचलाउन चाहन्छु\"\n",
    "]"
   ]
  },
  {
   "cell_type": "code",
   "execution_count": 25,
   "metadata": {},
   "outputs": [],
   "source": [
    "# Preprocess and tokenize sentences\n",
    "processed_sentences = [preprocess(sentence)[0] for sentence in sentences]\n",
    "embedded_sentences = np.array(\n",
    "    [sentence_to_embedding(sentence) for sentence in processed_sentences])"
   ]
  },
  {
   "cell_type": "code",
   "execution_count": 26,
   "metadata": {},
   "outputs": [],
   "source": [
    "# Convert to tensor\n",
    "embedded_sentences_tensor = torch.tensor(\n",
    "    embedded_sentences,\n",
    "    dtype=torch.float32\n",
    ").to(device)"
   ]
  },
  {
   "cell_type": "code",
   "execution_count": 27,
   "metadata": {},
   "outputs": [],
   "source": [
    "# Perform inference\n",
    "predictions = []\n",
    "\n",
    "with torch.no_grad():\n",
    "    for inputs in embedded_sentences_tensor:\n",
    "        inputs = inputs.unsqueeze(0)\n",
    "        outputs = loaded_model(inputs)\n",
    "        _, predicted = torch.max(outputs, 1)\n",
    "        predictions.append(predicted.item())"
   ]
  },
  {
   "cell_type": "code",
   "execution_count": 28,
   "metadata": {},
   "outputs": [
    {
     "name": "stdout",
     "output_type": "stream",
     "text": [
      "Sentence: म आजको खाना खान गरें।\n",
      "Predicted Sentiment: Neutral\n",
      "\n",
      "Sentence: मलाई यो गाउँ मन पर्छ।\n",
      "Predicted Sentiment: Neutral\n",
      "\n",
      "Sentence: म यो गाडी नचलाउन चाहन्छु\n",
      "Predicted Sentiment: Neutral\n",
      "\n"
     ]
    }
   ],
   "source": [
    "# Display predictions\n",
    "for sentence, prediction in zip(sentences, predictions):\n",
    "    print(f\"Sentence: {sentence}\")\n",
    "    print(f\"Predicted Sentiment: {labels_dict[prediction]}\\n\")"
   ]
  },
  {
   "cell_type": "code",
   "execution_count": 29,
   "metadata": {},
   "outputs": [
    {
     "name": "stdout",
     "output_type": "stream",
     "text": [
      "Text: म खुसी छु\n",
      "Predicted Sentiment: Positive\n"
     ]
    }
   ],
   "source": [
    "text = \"म खुसी छु\"\n",
    "processed_text = preprocess(text)[0]\n",
    "embedded_text = sentence_to_embedding(processed_text)\n",
    "embedded_text_tensor = torch.tensor(\n",
    "    embedded_text,\n",
    "    dtype=torch.float32\n",
    ").unsqueeze(0).to(device)\n",
    "\n",
    "# Perform inference\n",
    "with torch.no_grad():\n",
    "    outputs = loaded_model(embedded_text_tensor)\n",
    "    _, predicted = torch.max(outputs, 1)\n",
    "\n",
    "# Display prediction\n",
    "print(f\"Text: {text}\")\n",
    "print(f\"Predicted Sentiment: {labels_dict[predicted.item()]}\")"
   ]
  },
  {
   "cell_type": "code",
   "execution_count": 32,
   "metadata": {},
   "outputs": [
    {
     "name": "stdout",
     "output_type": "stream",
     "text": [
      "Text: म खुशी छैन\n",
      "Predicted Sentiment: Negative\n"
     ]
    }
   ],
   "source": [
    "neg = \"म खुशी छैन\"\n",
    "processed_text = preprocess(neg)[0]\n",
    "embedded_text = sentence_to_embedding(processed_text)\n",
    "embedded_text_tensor = torch.tensor(\n",
    "    embedded_text,\n",
    "    dtype=torch.float32\n",
    ").unsqueeze(0).to(device)\n",
    "\n",
    "# Perform inference\n",
    "with torch.no_grad():\n",
    "    outputs = loaded_model(embedded_text_tensor)\n",
    "    _, predicted = torch.max(outputs, 1)\n",
    "\n",
    "# Display prediction\n",
    "print(f\"Text: {neg}\")\n",
    "print(f\"Predicted Sentiment: {labels_dict[predicted.item()]}\")"
   ]
  },
  {
   "cell_type": "code",
   "execution_count": 34,
   "metadata": {},
   "outputs": [],
   "source": [
    "def predict_sentiment(text):\n",
    "    processed_text = preprocess(text)[0]\n",
    "    embedded_text = sentence_to_embedding(processed_text)\n",
    "    embedded_text_tensor = torch.tensor(\n",
    "        embedded_text,\n",
    "        dtype=torch.float32\n",
    "    ).unsqueeze(0).to(device)\n",
    "\n",
    "    # Perform inference\n",
    "    with torch.no_grad():\n",
    "        outputs = loaded_model(embedded_text_tensor)\n",
    "        _, predicted = torch.max(outputs, 1)\n",
    "\n",
    "    return labels_dict[predicted.item()]"
   ]
  },
  {
   "cell_type": "code",
   "execution_count": 35,
   "metadata": {},
   "outputs": [
    {
     "name": "stdout",
     "output_type": "stream",
     "text": [
      "Text: म दुखी छु\n",
      "Predicted Sentiment: Negative\n"
     ]
    }
   ],
   "source": [
    "# Test the function\n",
    "test_text = \"म दुखी छु\"\n",
    "predicted_sentiment = predict_sentiment(test_text)\n",
    "print(f\"Text: {test_text}\")\n",
    "print(f\"Predicted Sentiment: {predicted_sentiment}\")"
   ]
  },
  {
   "cell_type": "code",
   "execution_count": 36,
   "metadata": {},
   "outputs": [
    {
     "name": "stdout",
     "output_type": "stream",
     "text": [
      "Text: म मर्न चाहन्छु\n",
      "Predicted Sentiment: Neutral\n"
     ]
    }
   ],
   "source": [
    "test_text = \"म मर्न चाहन्छु\"\n",
    "predicted_sentiment = predict_sentiment(test_text)\n",
    "print(f\"Text: {test_text}\")\n",
    "print(f\"Predicted Sentiment: {predicted_sentiment}\")"
   ]
  }
 ],
 "metadata": {
  "kernelspec": {
   "display_name": "nepali-news-algorithms-J5nQd0Uu-py3.12",
   "language": "python",
   "name": "python3"
  },
  "language_info": {
   "codemirror_mode": {
    "name": "ipython",
    "version": 3
   },
   "file_extension": ".py",
   "mimetype": "text/x-python",
   "name": "python",
   "nbconvert_exporter": "python",
   "pygments_lexer": "ipython3",
   "version": "3.12.4"
  }
 },
 "nbformat": 4,
 "nbformat_minor": 2
}
