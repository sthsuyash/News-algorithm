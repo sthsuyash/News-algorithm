{
 "cells": [
  {
   "cell_type": "markdown",
   "id": "f77b6b2e",
   "metadata": {},
   "source": [
    "# Process the tweets dataset to extract neutral data"
   ]
  },
  {
   "cell_type": "code",
   "execution_count": 1,
   "id": "b76a2f1f-da8f-4364-9e7c-4be779bf2f93",
   "metadata": {},
   "outputs": [],
   "source": [
    "import os\n",
    "import sys\n",
    "import pandas as pd\n",
    "import seaborn as sns\n",
    "import matplotlib.pyplot as plt"
   ]
  },
  {
   "cell_type": "markdown",
   "id": "c88c7993",
   "metadata": {},
   "source": [
    "## Check for one of the excel files"
   ]
  },
  {
   "cell_type": "code",
   "execution_count": 2,
   "id": "d532c340",
   "metadata": {},
   "outputs": [],
   "source": [
    "current_dir = os.getcwd()\n",
    "project_root = os.path.abspath(os.path.join(current_dir, '../../../'))\n",
    "sys.path.append(project_root)"
   ]
  },
  {
   "cell_type": "code",
   "execution_count": 3,
   "id": "86bd826a",
   "metadata": {},
   "outputs": [
    {
     "name": "stdout",
     "output_type": "stream",
     "text": [
      "['0_to_8897.xlsx', '17794_to_26691.xlsx', '26691_to_35588.xlsx', '35588_to_44485.xlsx', '44485_to_53382.xlsx', '53382_to_62279.xlsx', '62279_to_71176.xlsx', '71176_to_80073.xlsx', '80073_to_88973.xlsx', '8897_to_17794.xlsx']\n"
     ]
    }
   ],
   "source": [
    "UNIQUE_TWEETS_PATH = os.path.join(\n",
    "    project_root,\n",
    "    'nepali_sentiment_analysis',\n",
    "    'dataset',\n",
    "    'raw',\n",
    "    'unique_tweets'\n",
    ")\n",
    "\n",
    "print(os.listdir(UNIQUE_TWEETS_PATH))"
   ]
  },
  {
   "cell_type": "code",
   "execution_count": 5,
   "id": "5638bce1-efd6-4806-bb28-3efbd7a7e0af",
   "metadata": {},
   "outputs": [
    {
     "data": {
      "text/html": [
       "<div>\n",
       "<style scoped>\n",
       "    .dataframe tbody tr th:only-of-type {\n",
       "        vertical-align: middle;\n",
       "    }\n",
       "\n",
       "    .dataframe tbody tr th {\n",
       "        vertical-align: top;\n",
       "    }\n",
       "\n",
       "    .dataframe thead th {\n",
       "        text-align: right;\n",
       "    }\n",
       "</style>\n",
       "<table border=\"1\" class=\"dataframe\">\n",
       "  <thead>\n",
       "    <tr style=\"text-align: right;\">\n",
       "      <th></th>\n",
       "      <th>id</th>\n",
       "      <th>text</th>\n",
       "      <th>label</th>\n",
       "      <th>Unnamed: 3</th>\n",
       "    </tr>\n",
       "  </thead>\n",
       "  <tbody>\n",
       "    <tr>\n",
       "      <th>0</th>\n",
       "      <td>1601363673259290880</td>\n",
       "      <td>@thakurkc @mayor_harka हर्कराज साम्पाङ बालेन श...</td>\n",
       "      <td>2</td>\n",
       "      <td>NaN</td>\n",
       "    </tr>\n",
       "    <tr>\n",
       "      <th>1</th>\n",
       "      <td>1601226348013707008</td>\n",
       "      <td>@KanakManiDixit @Himal_Khabar अब नयाँ जनप्रतिन...</td>\n",
       "      <td>2</td>\n",
       "      <td>NaN</td>\n",
       "    </tr>\n",
       "    <tr>\n",
       "      <th>2</th>\n",
       "      <td>1601225158538117120</td>\n",
       "      <td>@damasebijaya च्याखे थापेर करारका जनप्रतिनिधिन...</td>\n",
       "      <td>2</td>\n",
       "      <td>NaN</td>\n",
       "    </tr>\n",
       "    <tr>\n",
       "      <th>3</th>\n",
       "      <td>1601130318731259904</td>\n",
       "      <td>अहिले सत्तारुढ र एमाले दुवै गठबन्धनका नेताहरू ...</td>\n",
       "      <td>2</td>\n",
       "      <td>NaN</td>\n",
       "    </tr>\n",
       "    <tr>\n",
       "      <th>4</th>\n",
       "      <td>1601069274998504960</td>\n",
       "      <td>सत्तारुढ भारतीय जनता पार्टीको गुजरातमा ऐतिहासि...</td>\n",
       "      <td>3</td>\n",
       "      <td>NaN</td>\n",
       "    </tr>\n",
       "  </tbody>\n",
       "</table>\n",
       "</div>"
      ],
      "text/plain": [
       "                    id                                               text  \\\n",
       "0  1601363673259290880  @thakurkc @mayor_harka हर्कराज साम्पाङ बालेन श...   \n",
       "1  1601226348013707008  @KanakManiDixit @Himal_Khabar अब नयाँ जनप्रतिन...   \n",
       "2  1601225158538117120  @damasebijaya च्याखे थापेर करारका जनप्रतिनिधिन...   \n",
       "3  1601130318731259904  अहिले सत्तारुढ र एमाले दुवै गठबन्धनका नेताहरू ...   \n",
       "4  1601069274998504960  सत्तारुढ भारतीय जनता पार्टीको गुजरातमा ऐतिहासि...   \n",
       "\n",
       "   label Unnamed: 3  \n",
       "0      2        NaN  \n",
       "1      2        NaN  \n",
       "2      2        NaN  \n",
       "3      2        NaN  \n",
       "4      3        NaN  "
      ]
     },
     "execution_count": 5,
     "metadata": {},
     "output_type": "execute_result"
    }
   ],
   "source": [
    "df = pd.read_excel(os.path.join(UNIQUE_TWEETS_PATH, '0_to_8897.xlsx'))\n",
    "df.head()"
   ]
  },
  {
   "cell_type": "code",
   "execution_count": 6,
   "id": "a727df72-159b-469e-9e97-22ab200dde93",
   "metadata": {},
   "outputs": [
    {
     "data": {
      "text/html": [
       "<div>\n",
       "<style scoped>\n",
       "    .dataframe tbody tr th:only-of-type {\n",
       "        vertical-align: middle;\n",
       "    }\n",
       "\n",
       "    .dataframe tbody tr th {\n",
       "        vertical-align: top;\n",
       "    }\n",
       "\n",
       "    .dataframe thead th {\n",
       "        text-align: right;\n",
       "    }\n",
       "</style>\n",
       "<table border=\"1\" class=\"dataframe\">\n",
       "  <thead>\n",
       "    <tr style=\"text-align: right;\">\n",
       "      <th></th>\n",
       "      <th>text</th>\n",
       "      <th>label</th>\n",
       "    </tr>\n",
       "  </thead>\n",
       "  <tbody>\n",
       "    <tr>\n",
       "      <th>0</th>\n",
       "      <td>@thakurkc @mayor_harka हर्कराज साम्पाङ बालेन श...</td>\n",
       "      <td>2</td>\n",
       "    </tr>\n",
       "    <tr>\n",
       "      <th>1</th>\n",
       "      <td>@KanakManiDixit @Himal_Khabar अब नयाँ जनप्रतिन...</td>\n",
       "      <td>2</td>\n",
       "    </tr>\n",
       "    <tr>\n",
       "      <th>2</th>\n",
       "      <td>@damasebijaya च्याखे थापेर करारका जनप्रतिनिधिन...</td>\n",
       "      <td>2</td>\n",
       "    </tr>\n",
       "    <tr>\n",
       "      <th>3</th>\n",
       "      <td>अहिले सत्तारुढ र एमाले दुवै गठबन्धनका नेताहरू ...</td>\n",
       "      <td>2</td>\n",
       "    </tr>\n",
       "    <tr>\n",
       "      <th>4</th>\n",
       "      <td>सत्तारुढ भारतीय जनता पार्टीको गुजरातमा ऐतिहासि...</td>\n",
       "      <td>3</td>\n",
       "    </tr>\n",
       "  </tbody>\n",
       "</table>\n",
       "</div>"
      ],
      "text/plain": [
       "                                                text  label\n",
       "0  @thakurkc @mayor_harka हर्कराज साम्पाङ बालेन श...      2\n",
       "1  @KanakManiDixit @Himal_Khabar अब नयाँ जनप्रतिन...      2\n",
       "2  @damasebijaya च्याखे थापेर करारका जनप्रतिनिधिन...      2\n",
       "3  अहिले सत्तारुढ र एमाले दुवै गठबन्धनका नेताहरू ...      2\n",
       "4  सत्तारुढ भारतीय जनता पार्टीको गुजरातमा ऐतिहासि...      3"
      ]
     },
     "execution_count": 6,
     "metadata": {},
     "output_type": "execute_result"
    }
   ],
   "source": [
    "df = df.drop(columns=['Unnamed: 3', 'id'])\n",
    "df = df.reset_index(drop=True)\n",
    "df.head()"
   ]
  },
  {
   "cell_type": "code",
   "execution_count": 6,
   "id": "f9d2d804-55c9-465f-b046-7a4179364d21",
   "metadata": {},
   "outputs": [
    {
     "name": "stdout",
     "output_type": "stream",
     "text": [
      "Info:\n",
      "<class 'pandas.core.frame.DataFrame'>\n",
      "RangeIndex: 8897 entries, 0 to 8896\n",
      "Data columns (total 2 columns):\n",
      " #   Column  Non-Null Count  Dtype \n",
      "---  ------  --------------  ----- \n",
      " 0   text    8897 non-null   object\n",
      " 1   label   8897 non-null   int64 \n",
      "dtypes: int64(1), object(1)\n",
      "memory usage: 139.1+ KB\n",
      "None\n",
      "--------------------------------------------------\n",
      "Describe:\n",
      "             label\n",
      "count  8897.000000\n",
      "mean      1.245701\n",
      "std       0.760190\n",
      "min       0.000000\n",
      "25%       1.000000\n",
      "50%       1.000000\n",
      "75%       2.000000\n",
      "max       3.000000\n"
     ]
    }
   ],
   "source": [
    "print(\"Info:\")\n",
    "print(df.info())\n",
    "print(\"-\" * 50)\n",
    "print(\"Describe:\")\n",
    "print(df.describe())\n"
   ]
  },
  {
   "cell_type": "code",
   "execution_count": 10,
   "id": "bc509e69-f2f0-4115-91bf-400267e601d2",
   "metadata": {},
   "outputs": [
    {
     "data": {
      "image/png": "[encoded data removed]",
      "text/plain": [
       "<Figure size 600x400 with 1 Axes>"
      ]
     },
     "metadata": {},
     "output_type": "display_data"
    }
   ],
   "source": [
    "labels_dict = {0: \"Neutral\", 1: \"Positive\", 2: \"Negative\", 3: \"Non Political\"}\n",
    "sentiment_counts = df[\"label\"].value_counts().sort_index()\n",
    "\n",
    "plt.figure(figsize=(6, 4))\n",
    "plt.bar(labels_dict.keys(), sentiment_counts, color=[\"blue\", \"green\", \"red\", \"orange\"])\n",
    "plt.title(\"Sentiment Distribution\")\n",
    "plt.xlabel(\"Sentiment\")\n",
    "plt.ylabel(\"Count\")\n",
    "plt.show()"
   ]
  },
  {
   "cell_type": "code",
   "execution_count": 8,
   "id": "2f612e57-4fd7-4395-933d-bb7e3b2edca2",
   "metadata": {},
   "outputs": [
    {
     "data": {
      "text/html": [
       "<div>\n",
       "<style scoped>\n",
       "    .dataframe tbody tr th:only-of-type {\n",
       "        vertical-align: middle;\n",
       "    }\n",
       "\n",
       "    .dataframe tbody tr th {\n",
       "        vertical-align: top;\n",
       "    }\n",
       "\n",
       "    .dataframe thead th {\n",
       "        text-align: right;\n",
       "    }\n",
       "</style>\n",
       "<table border=\"1\" class=\"dataframe\">\n",
       "  <thead>\n",
       "    <tr style=\"text-align: right;\">\n",
       "      <th></th>\n",
       "      <th>text</th>\n",
       "      <th>label</th>\n",
       "    </tr>\n",
       "  </thead>\n",
       "  <tbody>\n",
       "    <tr>\n",
       "      <th>0</th>\n",
       "      <td>@DilipMuna पुन निर्वाचन गरे पनि यस्तै हुने हो ...</td>\n",
       "      <td>0</td>\n",
       "    </tr>\n",
       "    <tr>\n",
       "      <th>1</th>\n",
       "      <td>@juction4love क्या अचम्मकाे नगरपालिका छ डाेजरम...</td>\n",
       "      <td>0</td>\n",
       "    </tr>\n",
       "    <tr>\n",
       "      <th>2</th>\n",
       "      <td>प्युठान नगरपालिका र नेपाल स्वयंसेवक राष्ट्रिय ...</td>\n",
       "      <td>0</td>\n",
       "    </tr>\n",
       "    <tr>\n",
       "      <th>3</th>\n",
       "      <td>कपिलवस्तुको शिवराज नगरपालिका–२ का बासिन्दाले प...</td>\n",
       "      <td>0</td>\n",
       "    </tr>\n",
       "    <tr>\n",
       "      <th>4</th>\n",
       "      <td>कपिलवस्तुको शिवराज नगरपालिका–२ का बासिन्दाले ५...</td>\n",
       "      <td>0</td>\n",
       "    </tr>\n",
       "  </tbody>\n",
       "</table>\n",
       "</div>"
      ],
      "text/plain": [
       "                                                text  label\n",
       "0  @DilipMuna पुन निर्वाचन गरे पनि यस्तै हुने हो ...      0\n",
       "1  @juction4love क्या अचम्मकाे नगरपालिका छ डाेजरम...      0\n",
       "2  प्युठान नगरपालिका र नेपाल स्वयंसेवक राष्ट्रिय ...      0\n",
       "3  कपिलवस्तुको शिवराज नगरपालिका–२ का बासिन्दाले प...      0\n",
       "4  कपिलवस्तुको शिवराज नगरपालिका–२ का बासिन्दाले ५...      0"
      ]
     },
     "execution_count": 8,
     "metadata": {},
     "output_type": "execute_result"
    }
   ],
   "source": [
    "df_label_0 = df[df['label'] == 0]\n",
    "# Reset index\n",
    "df_label_0 = df_label_0.reset_index(drop=True)\n",
    "df_label_0.head()"
   ]
  },
  {
   "cell_type": "code",
   "execution_count": 9,
   "id": "d1df5168",
   "metadata": {},
   "outputs": [],
   "source": [
    "import re\n",
    "from utils.preprocess import remove_html_tags, remove_extra_whitespace"
   ]
  },
  {
   "cell_type": "code",
   "execution_count": 10,
   "id": "00b023e2",
   "metadata": {},
   "outputs": [],
   "source": [
    "from deep_translator import GoogleTranslator\n",
    "import re\n",
    "\n",
    "\n",
    "def translate_english_to_nepali_deep_translator(text):\n",
    "    # Initialize the translator\n",
    "    translator = GoogleTranslator(source='en', target='ne')\n",
    "\n",
    "    # Regex to find English phrases or words\n",
    "    english_phrases = re.findall(r'[a-zA-Z0-9 ()]+', text)\n",
    "\n",
    "    # Translate each phrase contextually\n",
    "    for phrase in english_phrases:\n",
    "        # Avoid translating small tokens or unnecessary spaces\n",
    "        if len(phrase.strip()) > 1:\n",
    "            translated = translator.translate(phrase.strip())\n",
    "            text = text.replace(phrase, f\" {translated} \")\n",
    "\n",
    "    # Replace multiple spaces with a single space and strip leading/trailing spaces\n",
    "    text = re.sub(r'\\s+', ' ', text).strip()\n",
    "\n",
    "    return text"
   ]
  },
  {
   "cell_type": "code",
   "execution_count": 11,
   "id": "88549ae5",
   "metadata": {},
   "outputs": [],
   "source": [
    "def remove_stopwords(text):\n",
    "    with open(os.path.join(project_root, 'nepali_sentiment_analysis', 'dataset', 'nepali_stopwords.txt'), 'r', encoding='utf-8') as file:\n",
    "        stopwords = file.read().split('\\n')\n",
    "    text = ' '.join([word for word in text.split() if word not in stopwords])\n",
    "    return text"
   ]
  },
  {
   "cell_type": "code",
   "execution_count": 12,
   "id": "a30f38e3-bbc6-42a4-a1b6-5063e1f41147",
   "metadata": {},
   "outputs": [],
   "source": [
    "import re\n",
    "\n",
    "\n",
    "def preprocess(text):\n",
    "    \"\"\"\n",
    "    Preprocesses a text string to retain only Nepali characters, numbers, and specific punctuation.\n",
    "    Removes HTML tags, mentions, URLs, and extra whitespaces.\n",
    "    \n",
    "    Args:\n",
    "        text (str): The input text to preprocess.\n",
    "    \n",
    "    Returns:\n",
    "        str: The preprocessed text.\n",
    "    \"\"\"\n",
    "    # Remove HTML tags\n",
    "    text = remove_html_tags(text)\n",
    "\n",
    "    # Remove mentions (e.g., @username)\n",
    "    text = re.sub(r'@\\w+', '', text)\n",
    "\n",
    "    # Remove URLs\n",
    "    text = re.sub(r'http.?://[^\\s]+[\\s]?', '', text)\n",
    "\n",
    "    # Replace multiple spaces with a single space and strip leading/trailing spaces\n",
    "    text = re.sub(r'\\s+', ' ', text).strip()\n",
    "\n",
    "    # Retain English characters, Nepali characters, nepali numbers, english numbers, and specific punctuation\n",
    "    text = re.sub(r'[^\\u0900-\\u097Fa-zA-Z0-9०-९।?]', ' ', text)\n",
    "\n",
    "    # Translate English characters to Nepali characters\n",
    "    text = translate_english_to_nepali_deep_translator(text)\n",
    "\n",
    "    # Finally, retain only the Nepali characters, numbers, and specific punctuation\n",
    "    text = re.sub(r'[^\\u0900-\\u097F०-९।?]', ' ', text)\n",
    "\n",
    "    # remove stopwords\n",
    "    text = remove_stopwords(text)\n",
    "\n",
    "    # Replace multiple spaces with a single space and strip leading/trailing spaces\n",
    "    text = remove_extra_whitespace(text)\n",
    "\n",
    "    return text"
   ]
  },
  {
   "cell_type": "code",
   "execution_count": 13,
   "id": "08ae7d91-42fb-4cad-9357-43d139ba318e",
   "metadata": {},
   "outputs": [
    {
     "name": "stdout",
     "output_type": "stream",
     "text": [
      "Original text:\n",
      "@kedar_sharmaa को ओलि को देउवा त्यो नि बताउनुस 🤣\n",
      "\n",
      "Cleaned text:\n",
      "ओलि देउवा नि बताउनुस\n"
     ]
    }
   ],
   "source": [
    "text = df_label_0.iloc[15]['text']\n",
    "\n",
    "cleaned_text = preprocess(text)\n",
    "\n",
    "print(f\"Original text:\\n{text}\")\n",
    "print(f\"\\nCleaned text:\\n{cleaned_text}\")"
   ]
  },
  {
   "cell_type": "code",
   "execution_count": 14,
   "id": "d6a5f35c-58c5-4844-b62b-317ebebb47fd",
   "metadata": {},
   "outputs": [
    {
     "name": "stderr",
     "output_type": "stream",
     "text": [
      "100%|██████████| 1532/1532 [03:14<00:00,  7.89it/s]\n"
     ]
    }
   ],
   "source": [
    "from tqdm import tqdm\n",
    "tqdm.pandas()\n",
    "\n",
    "# Apply the preprocess_text function to the 'text' column\n",
    "df_label_0.loc[:, 'text'] = df_label_0['text'].progress_apply(preprocess)"
   ]
  },
  {
   "cell_type": "code",
   "execution_count": 15,
   "id": "e580af79",
   "metadata": {},
   "outputs": [
    {
     "data": {
      "text/html": [
       "<div>\n",
       "<style scoped>\n",
       "    .dataframe tbody tr th:only-of-type {\n",
       "        vertical-align: middle;\n",
       "    }\n",
       "\n",
       "    .dataframe tbody tr th {\n",
       "        vertical-align: top;\n",
       "    }\n",
       "\n",
       "    .dataframe thead th {\n",
       "        text-align: right;\n",
       "    }\n",
       "</style>\n",
       "<table border=\"1\" class=\"dataframe\">\n",
       "  <thead>\n",
       "    <tr style=\"text-align: right;\">\n",
       "      <th></th>\n",
       "      <th>text</th>\n",
       "      <th>label</th>\n",
       "    </tr>\n",
       "  </thead>\n",
       "  <tbody>\n",
       "    <tr>\n",
       "      <th>0</th>\n",
       "      <td>पुन निर्वाचन गरे यस्तै हुने हो । निर्वाचन कति ...</td>\n",
       "      <td>0</td>\n",
       "    </tr>\n",
       "    <tr>\n",
       "      <th>1</th>\n",
       "      <td>क्या अचम्मकाे नगरपालिका डाेजरम्यान बालेनकाे।</td>\n",
       "      <td>0</td>\n",
       "    </tr>\n",
       "    <tr>\n",
       "      <th>2</th>\n",
       "      <td>प्युठान नगरपालिका नेपाल स्वयंसेवक राष्ट्रिय सम...</td>\n",
       "      <td>0</td>\n",
       "    </tr>\n",
       "    <tr>\n",
       "      <th>3</th>\n",
       "      <td>कपिलवस्तुको शिवराज नगरपालिका २ का बासिन्दाले प...</td>\n",
       "      <td>0</td>\n",
       "    </tr>\n",
       "    <tr>\n",
       "      <th>4</th>\n",
       "      <td>कपिलवस्तुको शिवराज नगरपालिका २ का बासिन्दाले ५...</td>\n",
       "      <td>0</td>\n",
       "    </tr>\n",
       "  </tbody>\n",
       "</table>\n",
       "</div>"
      ],
      "text/plain": [
       "                                                text  label\n",
       "0  पुन निर्वाचन गरे यस्तै हुने हो । निर्वाचन कति ...      0\n",
       "1       क्या अचम्मकाे नगरपालिका डाेजरम्यान बालेनकाे।      0\n",
       "2  प्युठान नगरपालिका नेपाल स्वयंसेवक राष्ट्रिय सम...      0\n",
       "3  कपिलवस्तुको शिवराज नगरपालिका २ का बासिन्दाले प...      0\n",
       "4  कपिलवस्तुको शिवराज नगरपालिका २ का बासिन्दाले ५...      0"
      ]
     },
     "execution_count": 15,
     "metadata": {},
     "output_type": "execute_result"
    }
   ],
   "source": [
    "df_label_0.head()"
   ]
  },
  {
   "cell_type": "code",
   "execution_count": 16,
   "id": "8d0990b7",
   "metadata": {},
   "outputs": [
    {
     "name": "stdout",
     "output_type": "stream",
     "text": [
      "Empty DataFrame\n",
      "Columns: [text, label]\n",
      "Index: []\n"
     ]
    }
   ],
   "source": [
    "print(df_label_0[df_label_0['text'].str.contains(r'[a-zA-Z]')])"
   ]
  },
  {
   "cell_type": "code",
   "execution_count": 17,
   "id": "00b904cd",
   "metadata": {},
   "outputs": [
    {
     "data": {
      "text/plain": [
       "104"
      ]
     },
     "execution_count": 17,
     "metadata": {},
     "output_type": "execute_result"
    }
   ],
   "source": [
    "# check for duplicate rows\n",
    "df_label_0.duplicated().sum()\n"
   ]
  },
  {
   "cell_type": "code",
   "execution_count": 18,
   "id": "e9f07a26",
   "metadata": {},
   "outputs": [
    {
     "data": {
      "text/html": [
       "<div>\n",
       "<style scoped>\n",
       "    .dataframe tbody tr th:only-of-type {\n",
       "        vertical-align: middle;\n",
       "    }\n",
       "\n",
       "    .dataframe tbody tr th {\n",
       "        vertical-align: top;\n",
       "    }\n",
       "\n",
       "    .dataframe thead th {\n",
       "        text-align: right;\n",
       "    }\n",
       "</style>\n",
       "<table border=\"1\" class=\"dataframe\">\n",
       "  <thead>\n",
       "    <tr style=\"text-align: right;\">\n",
       "      <th></th>\n",
       "      <th>text</th>\n",
       "      <th>label</th>\n",
       "    </tr>\n",
       "  </thead>\n",
       "  <tbody>\n",
       "    <tr>\n",
       "      <th>10</th>\n",
       "      <td>विश्वकपमा ब्राजिल अर्जेन्टिना मलाई नेपाली राजन...</td>\n",
       "      <td>0</td>\n",
       "    </tr>\n",
       "    <tr>\n",
       "      <th>16</th>\n",
       "      <td>विश्वकपमा ब्राजिल अर्जेन्टिना मलाई नेपाली राजन...</td>\n",
       "      <td>0</td>\n",
       "    </tr>\n",
       "    <tr>\n",
       "      <th>41</th>\n",
       "      <td>राप्रपा केन्द्रीय कार्य सम्पादन समितिको बैठक श...</td>\n",
       "      <td>0</td>\n",
       "    </tr>\n",
       "    <tr>\n",
       "      <th>42</th>\n",
       "      <td>राप्रपा केन्द्रीय कार्य सम्पादन समितिको बैठक श...</td>\n",
       "      <td>0</td>\n",
       "    </tr>\n",
       "    <tr>\n",
       "      <th>44</th>\n",
       "      <td>राप्रपा केन्द्रीय कार्य सम्पादन समितिको बैठक श...</td>\n",
       "      <td>0</td>\n",
       "    </tr>\n",
       "    <tr>\n",
       "      <th>...</th>\n",
       "      <td>...</td>\n",
       "      <td>...</td>\n",
       "    </tr>\n",
       "    <tr>\n",
       "      <th>1399</th>\n",
       "      <td>झापा ३ १२०० मत गन्दा राजेन्द्र लिङ्देन राप्रपा...</td>\n",
       "      <td>0</td>\n",
       "    </tr>\n",
       "    <tr>\n",
       "      <th>1416</th>\n",
       "      <td>झापा ३ १२०० मत गन्दा राजेन्द्र लिङ्देन राप्रपा...</td>\n",
       "      <td>0</td>\n",
       "    </tr>\n",
       "    <tr>\n",
       "      <th>1419</th>\n",
       "      <td>डडेल्धुरा प्रतिनिधिसभा शेरबहादुर देउवा नेपाली ...</td>\n",
       "      <td>0</td>\n",
       "    </tr>\n",
       "    <tr>\n",
       "      <th>1483</th>\n",
       "      <td>अहिलेकै मत प्रतिशत कायम रहे ६ वटा राष्ट्रिय दल...</td>\n",
       "      <td>0</td>\n",
       "    </tr>\n",
       "    <tr>\n",
       "      <th>1484</th>\n",
       "      <td>अहिलेकै मत प्रतिशत कायम रहे ६ वटा राष्ट्रिय दल...</td>\n",
       "      <td>0</td>\n",
       "    </tr>\n",
       "  </tbody>\n",
       "</table>\n",
       "<p>158 rows × 2 columns</p>\n",
       "</div>"
      ],
      "text/plain": [
       "                                                   text  label\n",
       "10    विश्वकपमा ब्राजिल अर्जेन्टिना मलाई नेपाली राजन...      0\n",
       "16    विश्वकपमा ब्राजिल अर्जेन्टिना मलाई नेपाली राजन...      0\n",
       "41    राप्रपा केन्द्रीय कार्य सम्पादन समितिको बैठक श...      0\n",
       "42    राप्रपा केन्द्रीय कार्य सम्पादन समितिको बैठक श...      0\n",
       "44    राप्रपा केन्द्रीय कार्य सम्पादन समितिको बैठक श...      0\n",
       "...                                                 ...    ...\n",
       "1399  झापा ३ १२०० मत गन्दा राजेन्द्र लिङ्देन राप्रपा...      0\n",
       "1416  झापा ३ १२०० मत गन्दा राजेन्द्र लिङ्देन राप्रपा...      0\n",
       "1419  डडेल्धुरा प्रतिनिधिसभा शेरबहादुर देउवा नेपाली ...      0\n",
       "1483  अहिलेकै मत प्रतिशत कायम रहे ६ वटा राष्ट्रिय दल...      0\n",
       "1484  अहिलेकै मत प्रतिशत कायम रहे ६ वटा राष्ट्रिय दल...      0\n",
       "\n",
       "[158 rows x 2 columns]"
      ]
     },
     "execution_count": 18,
     "metadata": {},
     "output_type": "execute_result"
    }
   ],
   "source": [
    "df_label_0[df_label_0.duplicated(subset=['text'], keep=False)]"
   ]
  },
  {
   "cell_type": "code",
   "execution_count": 19,
   "id": "fe78d24c",
   "metadata": {},
   "outputs": [],
   "source": [
    "# drop duplicates\n",
    "df_label_0 = df_label_0.drop_duplicates(subset=['text'], keep='first')"
   ]
  },
  {
   "cell_type": "code",
   "execution_count": 20,
   "id": "8e8d3329",
   "metadata": {},
   "outputs": [
    {
     "data": {
      "text/plain": [
       "0"
      ]
     },
     "execution_count": 20,
     "metadata": {},
     "output_type": "execute_result"
    }
   ],
   "source": [
    "df_label_0.duplicated().sum()"
   ]
  },
  {
   "cell_type": "code",
   "execution_count": 21,
   "id": "f7e5e3b8",
   "metadata": {},
   "outputs": [],
   "source": [
    "# save the cleaned data\n",
    "df_label_0.to_csv(\"cleaned_data.csv\", index=False)"
   ]
  },
  {
   "cell_type": "markdown",
   "id": "daddc61d",
   "metadata": {},
   "source": [
    "---"
   ]
  },
  {
   "cell_type": "markdown",
   "id": "04520a55",
   "metadata": {},
   "source": [
    "## Process all the excel files to extract neutral data"
   ]
  },
  {
   "cell_type": "code",
   "execution_count": 23,
   "id": "6748e3b0-74a7-4ba2-9d74-478ba6732cfa",
   "metadata": {},
   "outputs": [
    {
     "name": "stdout",
     "output_type": "stream",
     "text": [
      "Processing 0_to_8897.xlsx...\n"
     ]
    },
    {
     "name": "stderr",
     "output_type": "stream",
     "text": [
      "100%|██████████| 2563/2563 [03:04<00:00, 13.90it/s]\n"
     ]
    },
    {
     "name": "stdout",
     "output_type": "stream",
     "text": [
      "Processed file: 0_to_8897.xlsx. Total records: 1966\n",
      "Processing 17794_to_26691.xlsx...\n"
     ]
    },
    {
     "name": "stderr",
     "output_type": "stream",
     "text": [
      "100%|██████████| 596/596 [00:35<00:00, 16.94it/s]\n"
     ]
    },
    {
     "name": "stdout",
     "output_type": "stream",
     "text": [
      "Processed file: 17794_to_26691.xlsx. Total records: 433\n",
      "Processing 26691_to_35588.xlsx...\n"
     ]
    },
    {
     "name": "stderr",
     "output_type": "stream",
     "text": [
      "100%|██████████| 873/873 [02:26<00:00,  5.94it/s]\n"
     ]
    },
    {
     "name": "stdout",
     "output_type": "stream",
     "text": [
      "Processed file: 26691_to_35588.xlsx. Total records: 760\n",
      "Processing 35588_to_44485.xlsx...\n"
     ]
    },
    {
     "name": "stderr",
     "output_type": "stream",
     "text": [
      "100%|██████████| 1283/1283 [04:32<00:00,  4.72it/s]\n"
     ]
    },
    {
     "name": "stdout",
     "output_type": "stream",
     "text": [
      "Processed file: 35588_to_44485.xlsx. Total records: 1199\n",
      "Processing 44485_to_53382.xlsx...\n"
     ]
    },
    {
     "name": "stderr",
     "output_type": "stream",
     "text": [
      "100%|██████████| 1076/1076 [04:35<00:00,  3.91it/s]\n"
     ]
    },
    {
     "name": "stdout",
     "output_type": "stream",
     "text": [
      "Processed file: 44485_to_53382.xlsx. Total records: 1013\n",
      "Processing 53382_to_62279.xlsx...\n"
     ]
    },
    {
     "name": "stderr",
     "output_type": "stream",
     "text": [
      "100%|██████████| 216/216 [00:12<00:00, 17.52it/s]\n"
     ]
    },
    {
     "name": "stdout",
     "output_type": "stream",
     "text": [
      "Processed file: 53382_to_62279.xlsx. Total records: 158\n",
      "Processing 62279_to_71176.xlsx...\n"
     ]
    },
    {
     "name": "stderr",
     "output_type": "stream",
     "text": [
      "100%|██████████| 46/46 [00:01<00:00, 27.64it/s]\n"
     ]
    },
    {
     "name": "stdout",
     "output_type": "stream",
     "text": [
      "Processed file: 62279_to_71176.xlsx. Total records: 28\n",
      "Processing 71176_to_80073.xlsx...\n"
     ]
    },
    {
     "name": "stderr",
     "output_type": "stream",
     "text": [
      "100%|██████████| 228/228 [00:06<00:00, 36.21it/s]\n"
     ]
    },
    {
     "name": "stdout",
     "output_type": "stream",
     "text": [
      "Processed file: 71176_to_80073.xlsx. Total records: 147\n",
      "Processing 80073_to_88973.xlsx...\n"
     ]
    },
    {
     "name": "stderr",
     "output_type": "stream",
     "text": [
      "100%|██████████| 296/296 [00:15<00:00, 19.25it/s]\n"
     ]
    },
    {
     "name": "stdout",
     "output_type": "stream",
     "text": [
      "Processed file: 80073_to_88973.xlsx. Total records: 203\n",
      "Processing 8897_to_17794.xlsx...\n"
     ]
    },
    {
     "name": "stderr",
     "output_type": "stream",
     "text": [
      "100%|██████████| 560/560 [00:57<00:00,  9.75it/s]"
     ]
    },
    {
     "name": "stdout",
     "output_type": "stream",
     "text": [
      "Processed file: 8897_to_17794.xlsx. Total records: 437\n",
      "Processed all files. Total records: 6344\n"
     ]
    },
    {
     "name": "stderr",
     "output_type": "stream",
     "text": [
      "\n"
     ]
    }
   ],
   "source": [
    "# Initialize an empty DataFrame to accumulate the results\n",
    "all_data = pd.DataFrame(columns=['Sentiment', 'Sentences'])\n",
    "\n",
    "# Loop through all Excel files in the directory\n",
    "for file in os.listdir(UNIQUE_TWEETS_PATH):\n",
    "    if file.endswith('.xlsx') or file.endswith('.xls'):\n",
    "        print(f\"Processing {file}...\")\n",
    "\n",
    "        # Load the Excel file\n",
    "        file_path = os.path.join(UNIQUE_TWEETS_PATH, file)\n",
    "        df = pd.read_excel(file_path)\n",
    "\n",
    "        # Reset index and drop duplicates based on the 'text' column\n",
    "        if 'text' in df.columns:\n",
    "            df = df.reset_index(drop=True).drop_duplicates(subset=['text'])\n",
    "\n",
    "        # Ensure the required columns exist\n",
    "        if 'text' in df.columns and 'label' in df.columns:\n",
    "            # Keep only the 'text' and 'label' columns\n",
    "            df = df[['text', 'label']]\n",
    "\n",
    "            # Filter rows where label is 0\n",
    "            df_label_0 = df[df['label'] == 0]\n",
    "\n",
    "            # Split the sentences into separate rows based on '।' or '?'\n",
    "            df_split = df_label_0['text'].str.split(r'[।?]').explode().str.strip().reset_index(drop=True)\n",
    "\n",
    "            # Repeat the Sentiment for each sentence\n",
    "            df_final_label_0 = df_label_0.loc[\n",
    "                df_label_0.index.repeat(\n",
    "                    df_label_0['text'].str.split(r'[।?]').apply(len)\n",
    "                )].reset_index(drop=True)\n",
    "\n",
    "            # Align the sentiment column with the newly split sentences\n",
    "            df_final_label_0['text'] = df_split\n",
    "\n",
    "            # Reset the index for the final DataFrame\n",
    "            df_final_label_0 = df_final_label_0.reset_index(drop=True)\n",
    "\n",
    "            # Preprocess the 'text' column\n",
    "            df_final_label_0['text'] = df_final_label_0['text'].progress_apply(preprocess)\n",
    "\n",
    "            # Drop rows with null, empty, or whitespace-only strings in 'text'\n",
    "            df_final_label_0 = df_final_label_0.loc[df_final_label_0['text'].notna()]\n",
    "            df_final_label_0 = df_final_label_0.loc[df_final_label_0['text'].str.strip() != '']\n",
    "\n",
    "            # Rename columns to match desired output\n",
    "            df_final_label_0 = df_final_label_0.rename(columns={\n",
    "                'label': 'Sentiment',\n",
    "                'text': 'Sentences'\n",
    "            })\n",
    "\n",
    "            # Append the processed data to the accumulated DataFrame\n",
    "            all_data = pd.concat([all_data, df_final_label_0], ignore_index=True)\n",
    "\n",
    "            print(f\"Processed file: {file}. Total records: {len(df_final_label_0)}\")\n",
    "\n",
    "# Ensure correct datatypes for the final DataFrame\n",
    "all_data['Sentiment'] = all_data['Sentiment'].astype(int)\n",
    "all_data['Sentences'] = all_data['Sentences'].astype(str)\n",
    "\n",
    "# Output processing status\n",
    "print(f\"Processed all files. Total records: {len(all_data)}\")"
   ]
  },
  {
   "cell_type": "code",
   "execution_count": 24,
   "id": "a08b6255",
   "metadata": {},
   "outputs": [
    {
     "name": "stdout",
     "output_type": "stream",
     "text": [
      "<class 'pandas.core.frame.DataFrame'>\n",
      "RangeIndex: 6344 entries, 0 to 6343\n",
      "Data columns (total 2 columns):\n",
      " #   Column     Non-Null Count  Dtype \n",
      "---  ------     --------------  ----- \n",
      " 0   Sentiment  6344 non-null   int32 \n",
      " 1   Sentences  6344 non-null   object\n",
      "dtypes: int32(1), object(1)\n",
      "memory usage: 74.5+ KB\n"
     ]
    }
   ],
   "source": [
    "all_data.info()"
   ]
  },
  {
   "cell_type": "code",
   "execution_count": 25,
   "id": "7f36f759-85d4-45e8-8f44-1b95018d07a5",
   "metadata": {},
   "outputs": [
    {
     "data": {
      "text/html": [
       "<div>\n",
       "<style scoped>\n",
       "    .dataframe tbody tr th:only-of-type {\n",
       "        vertical-align: middle;\n",
       "    }\n",
       "\n",
       "    .dataframe tbody tr th {\n",
       "        vertical-align: top;\n",
       "    }\n",
       "\n",
       "    .dataframe thead th {\n",
       "        text-align: right;\n",
       "    }\n",
       "</style>\n",
       "<table border=\"1\" class=\"dataframe\">\n",
       "  <thead>\n",
       "    <tr style=\"text-align: right;\">\n",
       "      <th></th>\n",
       "      <th>Sentiment</th>\n",
       "      <th>Sentences</th>\n",
       "    </tr>\n",
       "  </thead>\n",
       "  <tbody>\n",
       "    <tr>\n",
       "      <th>0</th>\n",
       "      <td>0</td>\n",
       "      <td>पुन निर्वाचन गरे यस्तै हुने हो</td>\n",
       "    </tr>\n",
       "    <tr>\n",
       "      <th>1</th>\n",
       "      <td>0</td>\n",
       "      <td>निर्वाचन कति गरिरहने</td>\n",
       "    </tr>\n",
       "    <tr>\n",
       "      <th>2</th>\n",
       "      <td>0</td>\n",
       "      <td>शासन व्यवस्था चुनाव पध्दति फेर्नु एउटा उपचार हो</td>\n",
       "    </tr>\n",
       "    <tr>\n",
       "      <th>3</th>\n",
       "      <td>0</td>\n",
       "      <td>क्या अचम्मकाे नगरपालिका डाेजरम्यान बालेनकाे</td>\n",
       "    </tr>\n",
       "    <tr>\n",
       "      <th>4</th>\n",
       "      <td>0</td>\n",
       "      <td>प्युठान नगरपालिका नेपाल स्वयंसेवक राष्ट्रिय सम...</td>\n",
       "    </tr>\n",
       "  </tbody>\n",
       "</table>\n",
       "</div>"
      ],
      "text/plain": [
       "   Sentiment                                          Sentences\n",
       "0          0                     पुन निर्वाचन गरे यस्तै हुने हो\n",
       "1          0                               निर्वाचन कति गरिरहने\n",
       "2          0    शासन व्यवस्था चुनाव पध्दति फेर्नु एउटा उपचार हो\n",
       "3          0        क्या अचम्मकाे नगरपालिका डाेजरम्यान बालेनकाे\n",
       "4          0  प्युठान नगरपालिका नेपाल स्वयंसेवक राष्ट्रिय सम..."
      ]
     },
     "execution_count": 25,
     "metadata": {},
     "output_type": "execute_result"
    }
   ],
   "source": [
    "all_data.head()"
   ]
  },
  {
   "cell_type": "code",
   "execution_count": 26,
   "id": "886aa393",
   "metadata": {},
   "outputs": [
    {
     "data": {
      "text/html": [
       "<div>\n",
       "<style scoped>\n",
       "    .dataframe tbody tr th:only-of-type {\n",
       "        vertical-align: middle;\n",
       "    }\n",
       "\n",
       "    .dataframe tbody tr th {\n",
       "        vertical-align: top;\n",
       "    }\n",
       "\n",
       "    .dataframe thead th {\n",
       "        text-align: right;\n",
       "    }\n",
       "</style>\n",
       "<table border=\"1\" class=\"dataframe\">\n",
       "  <thead>\n",
       "    <tr style=\"text-align: right;\">\n",
       "      <th></th>\n",
       "      <th>Sentiment</th>\n",
       "      <th>Sentences</th>\n",
       "    </tr>\n",
       "  </thead>\n",
       "  <tbody>\n",
       "  </tbody>\n",
       "</table>\n",
       "</div>"
      ],
      "text/plain": [
       "Empty DataFrame\n",
       "Columns: [Sentiment, Sentences]\n",
       "Index: []"
      ]
     },
     "execution_count": 26,
     "metadata": {},
     "output_type": "execute_result"
    }
   ],
   "source": [
    "# locate the first instance of column 'Sentences' containing the exact match of ''\n",
    "all_data[all_data['Sentences'] == '']"
   ]
  },
  {
   "cell_type": "code",
   "execution_count": 27,
   "id": "708c16fb",
   "metadata": {},
   "outputs": [
    {
     "data": {
      "text/html": [
       "<div>\n",
       "<style scoped>\n",
       "    .dataframe tbody tr th:only-of-type {\n",
       "        vertical-align: middle;\n",
       "    }\n",
       "\n",
       "    .dataframe tbody tr th {\n",
       "        vertical-align: top;\n",
       "    }\n",
       "\n",
       "    .dataframe thead th {\n",
       "        text-align: right;\n",
       "    }\n",
       "</style>\n",
       "<table border=\"1\" class=\"dataframe\">\n",
       "  <thead>\n",
       "    <tr style=\"text-align: right;\">\n",
       "      <th></th>\n",
       "      <th>Sentiment</th>\n",
       "      <th>Sentences</th>\n",
       "    </tr>\n",
       "  </thead>\n",
       "  <tbody>\n",
       "  </tbody>\n",
       "</table>\n",
       "</div>"
      ],
      "text/plain": [
       "Empty DataFrame\n",
       "Columns: [Sentiment, Sentences]\n",
       "Index: []"
      ]
     },
     "execution_count": 27,
     "metadata": {},
     "output_type": "execute_result"
    }
   ],
   "source": [
    "# locate the first instance of column 'Sentences' containing the exact match of ' '\n",
    "all_data[all_data['Sentences'] == ' ']"
   ]
  },
  {
   "cell_type": "code",
   "execution_count": 28,
   "id": "a185f122",
   "metadata": {},
   "outputs": [
    {
     "data": {
      "text/plain": [
       "Sentiment    0\n",
       "Sentences    0\n",
       "dtype: int64"
      ]
     },
     "execution_count": 28,
     "metadata": {},
     "output_type": "execute_result"
    }
   ],
   "source": [
    "# check for null values\n",
    "all_data.isnull().sum()"
   ]
  },
  {
   "cell_type": "code",
   "execution_count": 29,
   "id": "5976386b",
   "metadata": {},
   "outputs": [
    {
     "data": {
      "text/plain": [
       "388"
      ]
     },
     "execution_count": 29,
     "metadata": {},
     "output_type": "execute_result"
    }
   ],
   "source": [
    "# search for duplicate rows, based on 'Sentences' column\n",
    "all_data.duplicated(subset=['Sentences']).sum()"
   ]
  },
  {
   "cell_type": "code",
   "execution_count": 30,
   "id": "97bf74d7",
   "metadata": {},
   "outputs": [
    {
     "data": {
      "text/html": [
       "<div>\n",
       "<style scoped>\n",
       "    .dataframe tbody tr th:only-of-type {\n",
       "        vertical-align: middle;\n",
       "    }\n",
       "\n",
       "    .dataframe tbody tr th {\n",
       "        vertical-align: top;\n",
       "    }\n",
       "\n",
       "    .dataframe thead th {\n",
       "        text-align: right;\n",
       "    }\n",
       "</style>\n",
       "<table border=\"1\" class=\"dataframe\">\n",
       "  <thead>\n",
       "    <tr style=\"text-align: right;\">\n",
       "      <th></th>\n",
       "      <th>Sentiment</th>\n",
       "      <th>Sentences</th>\n",
       "    </tr>\n",
       "  </thead>\n",
       "  <tbody>\n",
       "    <tr>\n",
       "      <th>12</th>\n",
       "      <td>0</td>\n",
       "      <td>विश्वकपमा ब्राजिल अर्जेन्टिना मलाई नेपाली राजन...</td>\n",
       "    </tr>\n",
       "    <tr>\n",
       "      <th>19</th>\n",
       "      <td>0</td>\n",
       "      <td>विश्वकपमा ब्राजिल अर्जेन्टिना मलाई नेपाली राजन...</td>\n",
       "    </tr>\n",
       "    <tr>\n",
       "      <th>36</th>\n",
       "      <td>0</td>\n",
       "      <td>शेर बहादुर देउवा</td>\n",
       "    </tr>\n",
       "    <tr>\n",
       "      <th>42</th>\n",
       "      <td>0</td>\n",
       "      <td>राप्रपा</td>\n",
       "    </tr>\n",
       "    <tr>\n",
       "      <th>51</th>\n",
       "      <td>0</td>\n",
       "      <td>राप्रपा केन्द्रीय कार्य सम्पादन समितिको बैठक श...</td>\n",
       "    </tr>\n",
       "  </tbody>\n",
       "</table>\n",
       "</div>"
      ],
      "text/plain": [
       "    Sentiment                                          Sentences\n",
       "12          0  विश्वकपमा ब्राजिल अर्जेन्टिना मलाई नेपाली राजन...\n",
       "19          0  विश्वकपमा ब्राजिल अर्जेन्टिना मलाई नेपाली राजन...\n",
       "36          0                                   शेर बहादुर देउवा\n",
       "42          0                                            राप्रपा\n",
       "51          0  राप्रपा केन्द्रीय कार्य सम्पादन समितिको बैठक श..."
      ]
     },
     "execution_count": 30,
     "metadata": {},
     "output_type": "execute_result"
    }
   ],
   "source": [
    "# show the duplicate rows based on 'Sentences' column\n",
    "all_data[all_data.duplicated(subset=['Sentences'], keep=False)].head()"
   ]
  },
  {
   "cell_type": "code",
   "execution_count": 31,
   "id": "17bc0bd1",
   "metadata": {},
   "outputs": [
    {
     "data": {
      "text/html": [
       "<div>\n",
       "<style scoped>\n",
       "    .dataframe tbody tr th:only-of-type {\n",
       "        vertical-align: middle;\n",
       "    }\n",
       "\n",
       "    .dataframe tbody tr th {\n",
       "        vertical-align: top;\n",
       "    }\n",
       "\n",
       "    .dataframe thead th {\n",
       "        text-align: right;\n",
       "    }\n",
       "</style>\n",
       "<table border=\"1\" class=\"dataframe\">\n",
       "  <thead>\n",
       "    <tr style=\"text-align: right;\">\n",
       "      <th></th>\n",
       "      <th>Sentiment</th>\n",
       "      <th>Sentences</th>\n",
       "    </tr>\n",
       "  </thead>\n",
       "  <tbody>\n",
       "    <tr>\n",
       "      <th>42</th>\n",
       "      <td>0</td>\n",
       "      <td>राप्रपा</td>\n",
       "    </tr>\n",
       "    <tr>\n",
       "      <th>1079</th>\n",
       "      <td>0</td>\n",
       "      <td>राप्रपा</td>\n",
       "    </tr>\n",
       "    <tr>\n",
       "      <th>2040</th>\n",
       "      <td>0</td>\n",
       "      <td>राप्रपा</td>\n",
       "    </tr>\n",
       "    <tr>\n",
       "      <th>2134</th>\n",
       "      <td>0</td>\n",
       "      <td>राप्रपा</td>\n",
       "    </tr>\n",
       "    <tr>\n",
       "      <th>2137</th>\n",
       "      <td>0</td>\n",
       "      <td>राप्रपा</td>\n",
       "    </tr>\n",
       "    <tr>\n",
       "      <th>6312</th>\n",
       "      <td>0</td>\n",
       "      <td>राप्रपा</td>\n",
       "    </tr>\n",
       "  </tbody>\n",
       "</table>\n",
       "</div>"
      ],
      "text/plain": [
       "      Sentiment Sentences\n",
       "42            0   राप्रपा\n",
       "1079          0   राप्रपा\n",
       "2040          0   राप्रपा\n",
       "2134          0   राप्रपा\n",
       "2137          0   राप्रपा\n",
       "6312          0   राप्रपा"
      ]
     },
     "execution_count": 31,
     "metadata": {},
     "output_type": "execute_result"
    }
   ],
   "source": [
    "# check the rows containing only value 'राप्रपा'\n",
    "all_data[all_data['Sentences'] == 'राप्रपा']"
   ]
  },
  {
   "cell_type": "code",
   "execution_count": 32,
   "id": "4d661c4b",
   "metadata": {},
   "outputs": [
    {
     "data": {
      "text/html": [
       "<div>\n",
       "<style scoped>\n",
       "    .dataframe tbody tr th:only-of-type {\n",
       "        vertical-align: middle;\n",
       "    }\n",
       "\n",
       "    .dataframe tbody tr th {\n",
       "        vertical-align: top;\n",
       "    }\n",
       "\n",
       "    .dataframe thead th {\n",
       "        text-align: right;\n",
       "    }\n",
       "</style>\n",
       "<table border=\"1\" class=\"dataframe\">\n",
       "  <thead>\n",
       "    <tr style=\"text-align: right;\">\n",
       "      <th></th>\n",
       "      <th>Sentiment</th>\n",
       "      <th>Sentences</th>\n",
       "    </tr>\n",
       "  </thead>\n",
       "  <tbody>\n",
       "    <tr>\n",
       "      <th>36</th>\n",
       "      <td>0</td>\n",
       "      <td>शेर बहादुर देउवा</td>\n",
       "    </tr>\n",
       "    <tr>\n",
       "      <th>2363</th>\n",
       "      <td>0</td>\n",
       "      <td>शेर बहादुर देउवा</td>\n",
       "    </tr>\n",
       "  </tbody>\n",
       "</table>\n",
       "</div>"
      ],
      "text/plain": [
       "      Sentiment         Sentences\n",
       "36            0  शेर बहादुर देउवा\n",
       "2363          0  शेर बहादुर देउवा"
      ]
     },
     "execution_count": 32,
     "metadata": {},
     "output_type": "execute_result"
    }
   ],
   "source": [
    "all_data[all_data['Sentences'] == 'शेर बहादुर देउवा']"
   ]
  },
  {
   "cell_type": "code",
   "execution_count": 33,
   "id": "3ed532a0",
   "metadata": {},
   "outputs": [],
   "source": [
    "# Keep the first instance of duplicates and remove others\n",
    "all_data = all_data.drop_duplicates(subset=['Sentences'], keep='first')"
   ]
  },
  {
   "cell_type": "code",
   "execution_count": 34,
   "id": "4a0c3c06",
   "metadata": {},
   "outputs": [
    {
     "data": {
      "text/html": [
       "<div>\n",
       "<style scoped>\n",
       "    .dataframe tbody tr th:only-of-type {\n",
       "        vertical-align: middle;\n",
       "    }\n",
       "\n",
       "    .dataframe tbody tr th {\n",
       "        vertical-align: top;\n",
       "    }\n",
       "\n",
       "    .dataframe thead th {\n",
       "        text-align: right;\n",
       "    }\n",
       "</style>\n",
       "<table border=\"1\" class=\"dataframe\">\n",
       "  <thead>\n",
       "    <tr style=\"text-align: right;\">\n",
       "      <th></th>\n",
       "      <th>Sentiment</th>\n",
       "      <th>Sentences</th>\n",
       "    </tr>\n",
       "  </thead>\n",
       "  <tbody>\n",
       "    <tr>\n",
       "      <th>36</th>\n",
       "      <td>0</td>\n",
       "      <td>शेर बहादुर देउवा</td>\n",
       "    </tr>\n",
       "  </tbody>\n",
       "</table>\n",
       "</div>"
      ],
      "text/plain": [
       "    Sentiment         Sentences\n",
       "36          0  शेर बहादुर देउवा"
      ]
     },
     "execution_count": 34,
     "metadata": {},
     "output_type": "execute_result"
    }
   ],
   "source": [
    "all_data[all_data['Sentences'] == 'शेर बहादुर देउवा']"
   ]
  },
  {
   "cell_type": "code",
   "execution_count": 35,
   "id": "1ad3933c",
   "metadata": {},
   "outputs": [
    {
     "data": {
      "text/html": [
       "<div>\n",
       "<style scoped>\n",
       "    .dataframe tbody tr th:only-of-type {\n",
       "        vertical-align: middle;\n",
       "    }\n",
       "\n",
       "    .dataframe tbody tr th {\n",
       "        vertical-align: top;\n",
       "    }\n",
       "\n",
       "    .dataframe thead th {\n",
       "        text-align: right;\n",
       "    }\n",
       "</style>\n",
       "<table border=\"1\" class=\"dataframe\">\n",
       "  <thead>\n",
       "    <tr style=\"text-align: right;\">\n",
       "      <th></th>\n",
       "      <th>Sentiment</th>\n",
       "      <th>Sentences</th>\n",
       "    </tr>\n",
       "  </thead>\n",
       "  <tbody>\n",
       "    <tr>\n",
       "      <th>42</th>\n",
       "      <td>0</td>\n",
       "      <td>राप्रपा</td>\n",
       "    </tr>\n",
       "  </tbody>\n",
       "</table>\n",
       "</div>"
      ],
      "text/plain": [
       "    Sentiment Sentences\n",
       "42          0   राप्रपा"
      ]
     },
     "execution_count": 35,
     "metadata": {},
     "output_type": "execute_result"
    }
   ],
   "source": [
    "all_data[all_data['Sentences'] == 'राप्रपा']"
   ]
  },
  {
   "cell_type": "code",
   "execution_count": 36,
   "id": "ad6fa522",
   "metadata": {},
   "outputs": [
    {
     "data": {
      "text/plain": [
       "(5956, 2)"
      ]
     },
     "execution_count": 36,
     "metadata": {},
     "output_type": "execute_result"
    }
   ],
   "source": [
    "all_data.shape"
   ]
  },
  {
   "cell_type": "markdown",
   "id": "97ca9caf",
   "metadata": {},
   "source": [
    "---"
   ]
  },
  {
   "cell_type": "markdown",
   "id": "cea4a373",
   "metadata": {},
   "source": [
    "Finally, check for null and duplicate values in the dataset after cleaning the data."
   ]
  },
  {
   "cell_type": "code",
   "execution_count": 37,
   "id": "d4b773ef",
   "metadata": {},
   "outputs": [
    {
     "data": {
      "text/plain": [
       "0"
      ]
     },
     "execution_count": 37,
     "metadata": {},
     "output_type": "execute_result"
    }
   ],
   "source": [
    "all_data.duplicated().sum()"
   ]
  },
  {
   "cell_type": "code",
   "execution_count": 38,
   "id": "0ea36286",
   "metadata": {},
   "outputs": [
    {
     "data": {
      "text/plain": [
       "Sentiment    0\n",
       "Sentences    0\n",
       "dtype: int64"
      ]
     },
     "execution_count": 38,
     "metadata": {},
     "output_type": "execute_result"
    }
   ],
   "source": [
    "# check for null values\n",
    "all_data.isnull().sum()"
   ]
  },
  {
   "cell_type": "markdown",
   "id": "b2d46050",
   "metadata": {},
   "source": [
    "---"
   ]
  },
  {
   "cell_type": "markdown",
   "id": "0601c0bf",
   "metadata": {},
   "source": [
    "Process one last time to remove any extra spaces and save the dataset as a csv file."
   ]
  },
  {
   "cell_type": "code",
   "execution_count": 39,
   "id": "b7a5930b",
   "metadata": {},
   "outputs": [],
   "source": [
    "# process the 'Sentences' column to remove extra whitespaces\n",
    "all_data['Sentences'] = all_data['Sentences'].str.strip()"
   ]
  },
  {
   "cell_type": "code",
   "execution_count": 40,
   "id": "0755a397",
   "metadata": {},
   "outputs": [],
   "source": [
    "# Reset the index of the DataFrame\n",
    "all_data = all_data.reset_index(drop=True)"
   ]
  },
  {
   "cell_type": "code",
   "execution_count": 41,
   "id": "6879ee95",
   "metadata": {},
   "outputs": [
    {
     "data": {
      "text/html": [
       "<div>\n",
       "<style scoped>\n",
       "    .dataframe tbody tr th:only-of-type {\n",
       "        vertical-align: middle;\n",
       "    }\n",
       "\n",
       "    .dataframe tbody tr th {\n",
       "        vertical-align: top;\n",
       "    }\n",
       "\n",
       "    .dataframe thead th {\n",
       "        text-align: right;\n",
       "    }\n",
       "</style>\n",
       "<table border=\"1\" class=\"dataframe\">\n",
       "  <thead>\n",
       "    <tr style=\"text-align: right;\">\n",
       "      <th></th>\n",
       "      <th>Sentiment</th>\n",
       "      <th>Sentences</th>\n",
       "    </tr>\n",
       "  </thead>\n",
       "  <tbody>\n",
       "    <tr>\n",
       "      <th>0</th>\n",
       "      <td>0</td>\n",
       "      <td>पुन निर्वाचन गरे यस्तै हुने हो</td>\n",
       "    </tr>\n",
       "    <tr>\n",
       "      <th>1</th>\n",
       "      <td>0</td>\n",
       "      <td>निर्वाचन कति गरिरहने</td>\n",
       "    </tr>\n",
       "    <tr>\n",
       "      <th>2</th>\n",
       "      <td>0</td>\n",
       "      <td>शासन व्यवस्था चुनाव पध्दति फेर्नु एउटा उपचार हो</td>\n",
       "    </tr>\n",
       "    <tr>\n",
       "      <th>3</th>\n",
       "      <td>0</td>\n",
       "      <td>क्या अचम्मकाे नगरपालिका डाेजरम्यान बालेनकाे</td>\n",
       "    </tr>\n",
       "    <tr>\n",
       "      <th>4</th>\n",
       "      <td>0</td>\n",
       "      <td>प्युठान नगरपालिका नेपाल स्वयंसेवक राष्ट्रिय सम...</td>\n",
       "    </tr>\n",
       "  </tbody>\n",
       "</table>\n",
       "</div>"
      ],
      "text/plain": [
       "   Sentiment                                          Sentences\n",
       "0          0                     पुन निर्वाचन गरे यस्तै हुने हो\n",
       "1          0                               निर्वाचन कति गरिरहने\n",
       "2          0    शासन व्यवस्था चुनाव पध्दति फेर्नु एउटा उपचार हो\n",
       "3          0        क्या अचम्मकाे नगरपालिका डाेजरम्यान बालेनकाे\n",
       "4          0  प्युठान नगरपालिका नेपाल स्वयंसेवक राष्ट्रिय सम..."
      ]
     },
     "execution_count": 41,
     "metadata": {},
     "output_type": "execute_result"
    }
   ],
   "source": [
    "all_data.head()"
   ]
  },
  {
   "cell_type": "code",
   "execution_count": 46,
   "id": "22b247de",
   "metadata": {},
   "outputs": [],
   "source": [
    "# remove rows with empty 'Sentences' column or if the sentence is only a single character\n",
    "all_data = all_data.loc[all_data['Sentences'].str.len() > 1]"
   ]
  },
  {
   "cell_type": "code",
   "execution_count": 47,
   "id": "30451c0f",
   "metadata": {},
   "outputs": [
    {
     "data": {
      "text/plain": [
       "(5953, 2)"
      ]
     },
     "execution_count": 47,
     "metadata": {},
     "output_type": "execute_result"
    }
   ],
   "source": [
    "all_data.shape"
   ]
  },
  {
   "cell_type": "markdown",
   "id": "a23b2acc",
   "metadata": {},
   "source": [
    "---"
   ]
  },
  {
   "cell_type": "markdown",
   "id": "52ca26f1",
   "metadata": {},
   "source": [
    "## Save the cleaned data to csv file"
   ]
  },
  {
   "cell_type": "code",
   "execution_count": 48,
   "id": "e50b8e12",
   "metadata": {},
   "outputs": [
    {
     "name": "stdout",
     "output_type": "stream",
     "text": [
      "File successfully saved at c:\\Users\\Suyash Shrestha\\Personal\\_Nepali_news_project\\Nepali_News_algorithms\\news_algorithms\\nepali_sentiment_analysis\\dataset\\cleaned\\cleaned_neutral_data.csv\n"
     ]
    }
   ],
   "source": [
    "OUTPUT_DIR = os.path.join(\n",
    "    project_root,\n",
    "    'nepali_sentiment_analysis',\n",
    "    'dataset',\n",
    "    'cleaned',\n",
    ")\n",
    "\n",
    "if not os.path.exists(OUTPUT_DIR):\n",
    "    os.makedirs(OUTPUT_DIR)\n",
    "\n",
    "OUTPUT_PATH = os.path.join(OUTPUT_DIR, 'cleaned_neutral_data.csv')\n",
    "\n",
    "all_data.to_csv(OUTPUT_PATH, index=False)\n",
    "if os.path.exists(OUTPUT_PATH):\n",
    "    print(f\"File successfully saved at {OUTPUT_PATH}\")\n",
    "else:\n",
    "    print(\"Failed to save the file.\")"
   ]
  }
 ],
 "metadata": {
  "kernelspec": {
   "display_name": "nepali-news-algorithms-pgvW4vYa-py3.12",
   "language": "python",
   "name": "python3"
  },
  "language_info": {
   "codemirror_mode": {
    "name": "ipython",
    "version": 3
   },
   "file_extension": ".py",
   "mimetype": "text/x-python",
   "name": "python",
   "nbconvert_exporter": "python",
   "pygments_lexer": "ipython3",
   "version": "3.12.4"
  }
 },
 "nbformat": 4,
 "nbformat_minor": 5
}
