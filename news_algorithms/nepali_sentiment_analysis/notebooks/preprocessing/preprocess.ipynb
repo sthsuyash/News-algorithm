{
 "cells": [
  {
   "cell_type": "markdown",
   "metadata": {},
   "source": [
    "# Preprocessing for Sentiment Analysis"
   ]
  },
  {
   "cell_type": "code",
   "execution_count": 1,
   "metadata": {
    "editable": true,
    "slideshow": {
     "slide_type": ""
    },
    "tags": []
   },
   "outputs": [],
   "source": [
    "import os\n",
    "import sys\n",
    "import pandas as pd\n",
    "from tqdm import tqdm"
   ]
  },
  {
   "cell_type": "code",
   "execution_count": 2,
   "metadata": {},
   "outputs": [],
   "source": [
    "# Change to the root directory of your project\n",
    "os.chdir(\"../../..\")"
   ]
  },
  {
   "cell_type": "markdown",
   "metadata": {},
   "source": [
    "### Load files"
   ]
  },
  {
   "cell_type": "code",
   "execution_count": 3,
   "metadata": {},
   "outputs": [],
   "source": [
    "neutral_df = pd.read_csv(\"dataset/neutral_dataset.csv\", encoding='utf-8')\n",
    "sentiment_final_df = pd.read_csv(\"dataset/sentiment_analysis_nepali_final.csv\", encoding='utf-8')\n",
    "test_df = pd.read_csv(\"dataset/test.csv\", encoding='utf-8')\n",
    "train_df = pd.read_csv(\"dataset/train.csv\", encoding='utf-8')"
   ]
  },
  {
   "cell_type": "markdown",
   "metadata": {},
   "source": [
    "### Mapping for labels"
   ]
  },
  {
   "cell_type": "code",
   "execution_count": 4,
   "metadata": {},
   "outputs": [],
   "source": [
    "label_mapping_final = {-1: 2, 0: 0, 1: 1}  # sentiment_analysis_nepali_final\n",
    "label_mapping_test_train = {0: 2, 1: 1, 2: 0}  # train and test\n",
    "label_mapping_neutral = {0: 0}  # neutral dataset"
   ]
  },
  {
   "cell_type": "code",
   "execution_count": 5,
   "metadata": {},
   "outputs": [],
   "source": [
    "from src.utils.preprocessing import preprocess_text\n",
    "from src.utils.labelling import standardize_labels\n",
    "from src.utils.visualization import plot_sentiment_distribution"
   ]
  },
  {
   "cell_type": "markdown",
   "metadata": {},
   "source": [
    "### Standardize each dataset"
   ]
  },
  {
   "cell_type": "code",
   "execution_count": 6,
   "metadata": {},
   "outputs": [],
   "source": [
    "neutral_df = standardize_labels(neutral_df, 'Sentences', 'Sentiment', label_mapping_neutral)\n",
    "sentiment_final_df = standardize_labels(sentiment_final_df, 'Sentences', 'Sentiment', label_mapping_final)\n",
    "test_df = standardize_labels(test_df, 'text', 'label', label_mapping_test_train)\n",
    "train_df = standardize_labels(train_df, 'text', 'label', label_mapping_test_train)"
   ]
  },
  {
   "cell_type": "code",
   "execution_count": 7,
   "metadata": {},
   "outputs": [],
   "source": [
    "# Combine datasets\n",
    "combined_df = pd.concat([neutral_df, sentiment_final_df, test_df, train_df], ignore_index=True)"
   ]
  },
  {
   "cell_type": "code",
   "execution_count": 8,
   "metadata": {},
   "outputs": [
    {
     "name": "stdout",
     "output_type": "stream",
     "text": [
      "Number of duplicate rows before dropping: 2567\n"
     ]
    }
   ],
   "source": [
    "# Check for duplicates before dropping\n",
    "duplicate_count_before = combined_df.duplicated(subset='Sentences').sum()\n",
    "print(f\"Number of duplicate rows before dropping: {duplicate_count_before}\")"
   ]
  },
  {
   "cell_type": "code",
   "execution_count": 9,
   "metadata": {},
   "outputs": [
    {
     "name": "stdout",
     "output_type": "stream",
     "text": [
      "Number of rows with null values in 'Sentences' before dropping: 3\n"
     ]
    }
   ],
   "source": [
    "# Check for null values before dropping\n",
    "null_count_before = combined_df['Sentences'].isnull().sum()\n",
    "print(f\"Number of rows with null values in 'Sentences' before dropping: {null_count_before}\")"
   ]
  },
  {
   "cell_type": "code",
   "execution_count": 10,
   "metadata": {},
   "outputs": [],
   "source": [
    "# Remove duplicates and handle missing values\n",
    "combined_df.drop_duplicates(subset='Sentences', inplace=True)\n",
    "combined_df.dropna(subset=['Sentences', 'Sentiment'], inplace=True)"
   ]
  },
  {
   "cell_type": "code",
   "execution_count": 11,
   "metadata": {},
   "outputs": [
    {
     "name": "stdout",
     "output_type": "stream",
     "text": [
      "Number of duplicate rows after dropping: 0\n"
     ]
    }
   ],
   "source": [
    "# Check for duplicates after dropping\n",
    "duplicate_count_after = combined_df.duplicated(subset='Sentences').sum()\n",
    "print(f\"Number of duplicate rows after dropping: {duplicate_count_after}\")"
   ]
  },
  {
   "cell_type": "code",
   "execution_count": 12,
   "metadata": {},
   "outputs": [
    {
     "name": "stdout",
     "output_type": "stream",
     "text": [
      "Number of rows with null values in 'Sentences' after dropping: 0\n"
     ]
    }
   ],
   "source": [
    "null_count_after = combined_df['Sentences'].isnull().sum()\n",
    "print(f\"Number of rows with null values in 'Sentences' after dropping: {null_count_after}\")"
   ]
  },
  {
   "cell_type": "code",
   "execution_count": 13,
   "metadata": {},
   "outputs": [
    {
     "data": {
      "text/html": [
       "<div>\n",
       "<style scoped>\n",
       "    .dataframe tbody tr th:only-of-type {\n",
       "        vertical-align: middle;\n",
       "    }\n",
       "\n",
       "    .dataframe tbody tr th {\n",
       "        vertical-align: top;\n",
       "    }\n",
       "\n",
       "    .dataframe thead th {\n",
       "        text-align: right;\n",
       "    }\n",
       "</style>\n",
       "<table border=\"1\" class=\"dataframe\">\n",
       "  <thead>\n",
       "    <tr style=\"text-align: right;\">\n",
       "      <th></th>\n",
       "      <th>Sentiment</th>\n",
       "      <th>Sentences</th>\n",
       "      <th>id</th>\n",
       "    </tr>\n",
       "  </thead>\n",
       "  <tbody>\n",
       "    <tr>\n",
       "      <th>0</th>\n",
       "      <td>0.0</td>\n",
       "      <td>पुन निर्वाचन गरे पनि यस्तै हुने हो । निर्वाचन ...</td>\n",
       "      <td>NaN</td>\n",
       "    </tr>\n",
       "    <tr>\n",
       "      <th>1</th>\n",
       "      <td>0.0</td>\n",
       "      <td>क्या अचम्मकाे नगरपालिका छ डाेजरम्यान बालेनकाे।</td>\n",
       "      <td>NaN</td>\n",
       "    </tr>\n",
       "    <tr>\n",
       "      <th>2</th>\n",
       "      <td>0.0</td>\n",
       "      <td>प्युठान नगरपालिका र नेपाल स्वयंसेवक राष्ट्रिय ...</td>\n",
       "      <td>NaN</td>\n",
       "    </tr>\n",
       "    <tr>\n",
       "      <th>3</th>\n",
       "      <td>0.0</td>\n",
       "      <td>कपिलवस्तुको शिवराज नगरपालिका२ का बासिन्दाले पा...</td>\n",
       "      <td>NaN</td>\n",
       "    </tr>\n",
       "    <tr>\n",
       "      <th>4</th>\n",
       "      <td>0.0</td>\n",
       "      <td>कपिलवस्तुको शिवराज नगरपालिका२ का बासिन्दाले ५२...</td>\n",
       "      <td>NaN</td>\n",
       "    </tr>\n",
       "  </tbody>\n",
       "</table>\n",
       "</div>"
      ],
      "text/plain": [
       "   Sentiment                                          Sentences  id\n",
       "0        0.0  पुन निर्वाचन गरे पनि यस्तै हुने हो । निर्वाचन ... NaN\n",
       "1        0.0     क्या अचम्मकाे नगरपालिका छ डाेजरम्यान बालेनकाे। NaN\n",
       "2        0.0  प्युठान नगरपालिका र नेपाल स्वयंसेवक राष्ट्रिय ... NaN\n",
       "3        0.0  कपिलवस्तुको शिवराज नगरपालिका२ का बासिन्दाले पा... NaN\n",
       "4        0.0  कपिलवस्तुको शिवराज नगरपालिका२ का बासिन्दाले ५२... NaN"
      ]
     },
     "execution_count": 13,
     "metadata": {},
     "output_type": "execute_result"
    }
   ],
   "source": [
    "combined_df.head()"
   ]
  },
  {
   "cell_type": "markdown",
   "metadata": {},
   "source": [
    "### Apply preprocessing to the combined dataset"
   ]
  },
  {
   "cell_type": "code",
   "execution_count": 14,
   "metadata": {},
   "outputs": [],
   "source": [
    "# Ensure Sentiment column is integer and Sentences are str\n",
    "combined_df['Sentiment'] = combined_df['Sentiment'].astype(int)\n",
    "combined_df['Sentences'] = combined_df['Sentences'].astype(str)"
   ]
  },
  {
   "cell_type": "code",
   "execution_count": 15,
   "metadata": {},
   "outputs": [
    {
     "name": "stderr",
     "output_type": "stream",
     "text": [
      "100%|█████████████████████████████████████████████████████████████████████████| 40708/40708 [00:00<00:00, 55481.43it/s]\n"
     ]
    }
   ],
   "source": [
    "tqdm.pandas()\n",
    "combined_df['Sentences'] = combined_df['Sentences'].progress_apply(preprocess_text)"
   ]
  },
  {
   "cell_type": "code",
   "execution_count": 16,
   "metadata": {},
   "outputs": [],
   "source": [
    "# Keep only the relevant columns and rename them to standardize\n",
    "relevant_columns = {\n",
    "    'Sentences': 'Sentences',  # For consistency in renaming\n",
    "    'Sentiment': 'Sentiment'   # Keep Sentiment as is\n",
    "}\n",
    "\n",
    "# Drop irrelevant columns\n",
    "combined_df = combined_df[list(relevant_columns.keys())]"
   ]
  },
  {
   "cell_type": "code",
   "execution_count": 17,
   "metadata": {},
   "outputs": [],
   "source": [
    "# Drop irrelevant columns\n",
    "combined_df = combined_df[list(relevant_columns.keys())]\n",
    "\n",
    "# Rename columns\n",
    "combined_df.rename(columns=relevant_columns, inplace=True)"
   ]
  },
  {
   "cell_type": "code",
   "execution_count": 18,
   "metadata": {},
   "outputs": [
    {
     "data": {
      "text/html": [
       "<div>\n",
       "<style scoped>\n",
       "    .dataframe tbody tr th:only-of-type {\n",
       "        vertical-align: middle;\n",
       "    }\n",
       "\n",
       "    .dataframe tbody tr th {\n",
       "        vertical-align: top;\n",
       "    }\n",
       "\n",
       "    .dataframe thead th {\n",
       "        text-align: right;\n",
       "    }\n",
       "</style>\n",
       "<table border=\"1\" class=\"dataframe\">\n",
       "  <thead>\n",
       "    <tr style=\"text-align: right;\">\n",
       "      <th></th>\n",
       "      <th>Sentences</th>\n",
       "      <th>Sentiment</th>\n",
       "    </tr>\n",
       "  </thead>\n",
       "  <tbody>\n",
       "    <tr>\n",
       "      <th>0</th>\n",
       "      <td>पुन निर्वाचन गरे यस्तै हुने हो निर्वाचन कति गर...</td>\n",
       "      <td>0</td>\n",
       "    </tr>\n",
       "    <tr>\n",
       "      <th>1</th>\n",
       "      <td>क्या अचम्मकाे नगरपालिका डाेजरम्यान बालेनकाे</td>\n",
       "      <td>0</td>\n",
       "    </tr>\n",
       "    <tr>\n",
       "      <th>2</th>\n",
       "      <td>प्युठान नगरपालिका नेपाल स्वयंसेवक राष्ट्रिय सम...</td>\n",
       "      <td>0</td>\n",
       "    </tr>\n",
       "    <tr>\n",
       "      <th>3</th>\n",
       "      <td>कपिलवस्तुको शिवराज नगरपालिका का बासिन्दाले पाए...</td>\n",
       "      <td>0</td>\n",
       "    </tr>\n",
       "    <tr>\n",
       "      <th>4</th>\n",
       "      <td>कपिलवस्तुको शिवराज नगरपालिका का बासिन्दाले वर्...</td>\n",
       "      <td>0</td>\n",
       "    </tr>\n",
       "  </tbody>\n",
       "</table>\n",
       "</div>"
      ],
      "text/plain": [
       "                                           Sentences  Sentiment\n",
       "0  पुन निर्वाचन गरे यस्तै हुने हो निर्वाचन कति गर...          0\n",
       "1        क्या अचम्मकाे नगरपालिका डाेजरम्यान बालेनकाे          0\n",
       "2  प्युठान नगरपालिका नेपाल स्वयंसेवक राष्ट्रिय सम...          0\n",
       "3  कपिलवस्तुको शिवराज नगरपालिका का बासिन्दाले पाए...          0\n",
       "4  कपिलवस्तुको शिवराज नगरपालिका का बासिन्दाले वर्...          0"
      ]
     },
     "execution_count": 18,
     "metadata": {},
     "output_type": "execute_result"
    }
   ],
   "source": [
    "combined_df.head()"
   ]
  },
  {
   "cell_type": "code",
   "execution_count": 19,
   "metadata": {},
   "outputs": [
    {
     "data": {
      "image/png": "[encoded data removed]",
      "text/plain": [
       "<Figure size 600x400 with 1 Axes>"
      ]
     },
     "metadata": {},
     "output_type": "display_data"
    }
   ],
   "source": [
    "plot_sentiment_distribution(combined_df, \"Combined Dataset Sentiment Distribution\")\n"
   ]
  },
  {
   "cell_type": "markdown",
   "metadata": {},
   "source": [
    "### Save final dataset"
   ]
  },
  {
   "cell_type": "code",
   "execution_count": 20,
   "metadata": {},
   "outputs": [],
   "source": [
    "output_file = \"dataset/processed/combined_sentiment_dataset.csv\"\n",
    "combined_df.to_csv(output_file, index=False, encoding='utf-8')"
   ]
  },
  {
   "cell_type": "markdown",
   "metadata": {},
   "source": [
    "## Now open the preprocessed csv file for checking purposes"
   ]
  },
  {
   "cell_type": "code",
   "execution_count": 21,
   "metadata": {},
   "outputs": [],
   "source": [
    "output_df = pd.read_csv(output_file, encoding='utf-8')"
   ]
  },
  {
   "cell_type": "code",
   "execution_count": 22,
   "metadata": {},
   "outputs": [
    {
     "data": {
      "text/html": [
       "<div>\n",
       "<style scoped>\n",
       "    .dataframe tbody tr th:only-of-type {\n",
       "        vertical-align: middle;\n",
       "    }\n",
       "\n",
       "    .dataframe tbody tr th {\n",
       "        vertical-align: top;\n",
       "    }\n",
       "\n",
       "    .dataframe thead th {\n",
       "        text-align: right;\n",
       "    }\n",
       "</style>\n",
       "<table border=\"1\" class=\"dataframe\">\n",
       "  <thead>\n",
       "    <tr style=\"text-align: right;\">\n",
       "      <th></th>\n",
       "      <th>Sentences</th>\n",
       "      <th>Sentiment</th>\n",
       "    </tr>\n",
       "  </thead>\n",
       "  <tbody>\n",
       "    <tr>\n",
       "      <th>15782</th>\n",
       "      <td>कोभिड संक्रमणबाट साता विदेशमा थप एक जना नेपाली...</td>\n",
       "      <td>2</td>\n",
       "    </tr>\n",
       "    <tr>\n",
       "      <th>36765</th>\n",
       "      <td>इटालीमा कोरोना भाइरस कोभिड संक्रमणबाट मृत्यु ह...</td>\n",
       "      <td>2</td>\n",
       "    </tr>\n",
       "    <tr>\n",
       "      <th>31732</th>\n",
       "      <td>कोरोना भाइरस कोभिड परीक्षण महत्त्वपूर्ण</td>\n",
       "      <td>1</td>\n",
       "    </tr>\n",
       "    <tr>\n",
       "      <th>26965</th>\n",
       "      <td>एकआपसमा भारतको विरोध गरेर केहि हुॅदैन ट्वीटरमा...</td>\n",
       "      <td>1</td>\n",
       "    </tr>\n",
       "    <tr>\n",
       "      <th>13864</th>\n",
       "      <td>हर्ड इम्युनिटीका बारेमा धेरैलाई भ्रम कोभिड सन्...</td>\n",
       "      <td>0</td>\n",
       "    </tr>\n",
       "  </tbody>\n",
       "</table>\n",
       "</div>"
      ],
      "text/plain": [
       "                                               Sentences  Sentiment\n",
       "15782  कोभिड संक्रमणबाट साता विदेशमा थप एक जना नेपाली...          2\n",
       "36765  इटालीमा कोरोना भाइरस कोभिड संक्रमणबाट मृत्यु ह...          2\n",
       "31732            कोरोना भाइरस कोभिड परीक्षण महत्त्वपूर्ण          1\n",
       "26965  एकआपसमा भारतको विरोध गरेर केहि हुॅदैन ट्वीटरमा...          1\n",
       "13864  हर्ड इम्युनिटीका बारेमा धेरैलाई भ्रम कोभिड सन्...          0"
      ]
     },
     "execution_count": 22,
     "metadata": {},
     "output_type": "execute_result"
    }
   ],
   "source": [
    "output_df.sample(5)"
   ]
  }
 ],
 "metadata": {
  "kernelspec": {
   "display_name": "Python 3 (ipykernel)",
   "language": "python",
   "name": "python3"
  },
  "language_info": {
   "codemirror_mode": {
    "name": "ipython",
    "version": 3
   },
   "file_extension": ".py",
   "mimetype": "text/x-python",
   "name": "python",
   "nbconvert_exporter": "python",
   "pygments_lexer": "ipython3",
   "version": "3.12.4"
  }
 },
 "nbformat": 4,
 "nbformat_minor": 4
}
