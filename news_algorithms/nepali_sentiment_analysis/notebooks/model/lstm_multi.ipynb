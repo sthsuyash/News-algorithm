{
 "cells": [
  {
   "cell_type": "markdown",
   "metadata": {
    "id": "h8MxH0KQZdA5"
   },
   "source": [
    "# 1. Data Import and Analysis"
   ]
  },
  {
   "cell_type": "code",
   "execution_count": 1,
   "metadata": {
    "id": "KJKhnaCTZdA8"
   },
   "outputs": [
    {
     "name": "stdout",
     "output_type": "stream",
     "text": [
      "Note: you may need to restart the kernel to use updated packages.\n"
     ]
    },
    {
     "name": "stderr",
     "output_type": "stream",
     "text": [
      "\n",
      "[notice] A new release of pip is available: 24.2 -> 24.3.1\n",
      "[notice] To update, run: python.exe -m pip install --upgrade pip\n"
     ]
    }
   ],
   "source": [
    "%pip install --quiet gensim nltk optuna seaborn torch"
   ]
  },
  {
   "cell_type": "code",
   "execution_count": 2,
   "metadata": {
    "colab": {
     "base_uri": "https://localhost:8080/"
    },
    "id": "l5Iy7-hiZdA-",
    "outputId": "d60e517d-14e3-4d46-fb2d-c8702468bbb7"
   },
   "outputs": [],
   "source": [
    "import os\n",
    "import numpy as np\n",
    "import pandas as pd\n",
    "import seaborn as sns\n",
    "import matplotlib.pyplot as plt\n",
    "\n",
    "import torch\n",
    "import torch.nn as nn\n",
    "import torch.optim as optim\n",
    "from torch.utils.data import DataLoader, TensorDataset\n",
    "\n",
    "import pickle\n",
    "import gensim\n",
    "from gensim.models import Word2Vec\n",
    "\n",
    "from sklearn.model_selection import train_test_split\n",
    "from sklearn.metrics import accuracy_score, precision_score, recall_score, f1_score, confusion_matrix, classification_report"
   ]
  },
  {
   "cell_type": "code",
   "execution_count": 3,
   "metadata": {},
   "outputs": [],
   "source": [
    "os.chdir(\"../../..\")"
   ]
  },
  {
   "cell_type": "code",
   "execution_count": 4,
   "metadata": {},
   "outputs": [],
   "source": [
    "from src.utils.preprocessing import preprocess_text\n",
    "from src.utils.visualization import plot_sentiment_distribution"
   ]
  },
  {
   "cell_type": "code",
   "execution_count": 5,
   "metadata": {
    "id": "kf-vYM9sZdBA"
   },
   "outputs": [
    {
     "data": {
      "text/html": [
       "<div>\n",
       "<style scoped>\n",
       "    .dataframe tbody tr th:only-of-type {\n",
       "        vertical-align: middle;\n",
       "    }\n",
       "\n",
       "    .dataframe tbody tr th {\n",
       "        vertical-align: top;\n",
       "    }\n",
       "\n",
       "    .dataframe thead th {\n",
       "        text-align: right;\n",
       "    }\n",
       "</style>\n",
       "<table border=\"1\" class=\"dataframe\">\n",
       "  <thead>\n",
       "    <tr style=\"text-align: right;\">\n",
       "      <th></th>\n",
       "      <th>Sentences</th>\n",
       "      <th>Sentiment</th>\n",
       "    </tr>\n",
       "  </thead>\n",
       "  <tbody>\n",
       "    <tr>\n",
       "      <th>0</th>\n",
       "      <td>पुन निर्वाचन गरे यस्तै हुने हो निर्वाचन कति गर...</td>\n",
       "      <td>0</td>\n",
       "    </tr>\n",
       "    <tr>\n",
       "      <th>1</th>\n",
       "      <td>क्या अचम्मकाे नगरपालिका डाेजरम्यान बालेनकाे</td>\n",
       "      <td>0</td>\n",
       "    </tr>\n",
       "    <tr>\n",
       "      <th>2</th>\n",
       "      <td>प्युठान नगरपालिका नेपाल स्वयंसेवक राष्ट्रिय सम...</td>\n",
       "      <td>0</td>\n",
       "    </tr>\n",
       "    <tr>\n",
       "      <th>3</th>\n",
       "      <td>कपिलवस्तुको शिवराज नगरपालिका का बासिन्दाले पाए...</td>\n",
       "      <td>0</td>\n",
       "    </tr>\n",
       "    <tr>\n",
       "      <th>4</th>\n",
       "      <td>कपिलवस्तुको शिवराज नगरपालिका का बासिन्दाले वर्...</td>\n",
       "      <td>0</td>\n",
       "    </tr>\n",
       "  </tbody>\n",
       "</table>\n",
       "</div>"
      ],
      "text/plain": [
       "                                           Sentences  Sentiment\n",
       "0  पुन निर्वाचन गरे यस्तै हुने हो निर्वाचन कति गर...          0\n",
       "1        क्या अचम्मकाे नगरपालिका डाेजरम्यान बालेनकाे          0\n",
       "2  प्युठान नगरपालिका नेपाल स्वयंसेवक राष्ट्रिय सम...          0\n",
       "3  कपिलवस्तुको शिवराज नगरपालिका का बासिन्दाले पाए...          0\n",
       "4  कपिलवस्तुको शिवराज नगरपालिका का बासिन्दाले वर्...          0"
      ]
     },
     "execution_count": 5,
     "metadata": {},
     "output_type": "execute_result"
    }
   ],
   "source": [
    "df = pd.read_csv(\n",
    "    'dataset/processed/combined_sentiment_dataset.csv', \n",
    "    encoding='utf-8'\n",
    ")\n",
    "df.head()"
   ]
  },
  {
   "cell_type": "code",
   "execution_count": 6,
   "metadata": {
    "colab": {
     "base_uri": "https://localhost:8080/"
    },
    "id": "CK90EEaZZdBF",
    "outputId": "55c364c3-42e2-4251-b323-09212b0b61a0"
   },
   "outputs": [
    {
     "data": {
      "text/plain": [
       "(40708, 2)"
      ]
     },
     "execution_count": 6,
     "metadata": {},
     "output_type": "execute_result"
    }
   ],
   "source": [
    "df.shape"
   ]
  },
  {
   "cell_type": "code",
   "execution_count": 7,
   "metadata": {},
   "outputs": [],
   "source": [
    "labels_dict = {\n",
    "    0: 'Neutral', \n",
    "    1: 'Positive', \n",
    "    2: 'Negative'\n",
    "}"
   ]
  },
  {
   "cell_type": "code",
   "execution_count": 8,
   "metadata": {
    "colab": {
     "base_uri": "https://localhost:8080/",
     "height": 331
    },
    "id": "PK9R7fhvZdBG",
    "outputId": "77307a76-b687-4e2a-cfd4-1f0ae327b108"
   },
   "outputs": [
    {
     "data": {
      "image/png": "[encoded data removed]",
      "text/plain": [
       "<Figure size 600x400 with 1 Axes>"
      ]
     },
     "metadata": {},
     "output_type": "display_data"
    }
   ],
   "source": [
    "plot_sentiment_distribution(\n",
    "    df, \n",
    "    'Sentiment Distribution', \n",
    "    labels_dict\n",
    ")"
   ]
  },
  {
   "cell_type": "markdown",
   "metadata": {
    "id": "QeTIH7U-ZdBK"
   },
   "source": [
    "### Length of the reviews"
   ]
  },
  {
   "cell_type": "code",
   "execution_count": 9,
   "metadata": {
    "colab": {
     "base_uri": "https://localhost:8080/"
    },
    "id": "cHrGR8DkZdBK",
    "outputId": "524907f0-a7cc-4ab7-b8af-04c1b55c6a30"
   },
   "outputs": [
    {
     "name": "stdout",
     "output_type": "stream",
     "text": [
      "Average length of Sentence : 16.050849955782645\n",
      "Average length of positive Sentence : 9.55924828151605\n",
      "Average length of negative Sentence : 34.86535121239491\n",
      "Average length of negative Sentence : 0.0\n"
     ]
    }
   ],
   "source": [
    "def print_len(data):\n",
    "    total_len = 0\n",
    "    pos_len = 0\n",
    "    neg_len = 0\n",
    "    neu_len = 0\n",
    "    for index, row in data.iterrows():\n",
    "        l = len(row['Sentences'].split(' '))\n",
    "        total_len += l\n",
    "        if row['Sentiment'] == 0:\n",
    "            pos_len += l\n",
    "        else:\n",
    "            neg_len += l\n",
    "\n",
    "    print('Average length of Sentence : ' +\n",
    "          str(total_len/len(data['Sentences'])))\n",
    "    print('Average length of positive Sentence : ' +\n",
    "          str(pos_len/df['Sentiment'].value_counts()[1]))\n",
    "    print('Average length of negative Sentence : ' +\n",
    "          str(neg_len/df['Sentiment'].value_counts()[2]))\n",
    "    print('Average length of negative Sentence : ' +\n",
    "          str(neu_len/df['Sentiment'].value_counts()[0]))\n",
    "\n",
    "\n",
    "print_len(df)"
   ]
  },
  {
   "cell_type": "markdown",
   "metadata": {
    "id": "nQwcCIjCZdBL"
   },
   "source": [
    "### Missing and Duplicated values"
   ]
  },
  {
   "cell_type": "code",
   "execution_count": 10,
   "metadata": {
    "colab": {
     "base_uri": "https://localhost:8080/",
     "height": 167
    },
    "id": "XrZh83DzZdBM",
    "outputId": "b6f32fc5-38d4-4d32-c113-633cc3e442f5"
   },
   "outputs": [
    {
     "data": {
      "text/plain": [
       "Sentences    0\n",
       "Sentiment    0\n",
       "dtype: int64"
      ]
     },
     "execution_count": 10,
     "metadata": {},
     "output_type": "execute_result"
    }
   ],
   "source": [
    "df.isna().sum()"
   ]
  },
  {
   "cell_type": "code",
   "execution_count": 11,
   "metadata": {
    "colab": {
     "base_uri": "https://localhost:8080/"
    },
    "id": "uyvw81gTZdBM",
    "outputId": "f7d59d4d-eb33-47a6-f22f-ca3811c5d022"
   },
   "outputs": [
    {
     "data": {
      "text/plain": [
       "321"
      ]
     },
     "execution_count": 11,
     "metadata": {},
     "output_type": "execute_result"
    }
   ],
   "source": [
    "df.duplicated().sum()"
   ]
  },
  {
   "cell_type": "code",
   "execution_count": 12,
   "metadata": {
    "id": "o0QKxsxCZdBN"
   },
   "outputs": [],
   "source": [
    "df = df.drop_duplicates()"
   ]
  },
  {
   "cell_type": "markdown",
   "metadata": {
    "id": "toJiBLwQZdBc"
   },
   "source": [
    "# 3. Text Understanding"
   ]
  },
  {
   "cell_type": "code",
   "execution_count": 13,
   "metadata": {
    "colab": {
     "base_uri": "https://localhost:8080/"
    },
    "id": "jEHhVV1eZdBc",
    "outputId": "fedd5e8b-1118-4681-82e9-e10656586e30"
   },
   "outputs": [
    {
     "name": "stdout",
     "output_type": "stream",
     "text": [
      "Top 20 Positive Words:\n",
      "कोभिड\n",
      "लागि\n",
      "तथा\n",
      "गर्न\n",
      "गरेको\n",
      "गर्ने\n",
      "स्वास्थ्य\n",
      "सरकारले\n",
      "परीक्षण\n",
      "सहयोग\n",
      "रोकथाम\n",
      "खोप\n",
      "नेपाल\n",
      "उपचार\n",
      "शुभकामना\n",
      "विरुद्धको\n",
      "नियन्त्रण\n",
      "हुने\n",
      "विरुद्ध\n",
      "गरिएको\n",
      "--------\n",
      "Top 20 Negative Words:\n",
      "कोरोना\n",
      "मृत्यु\n",
      "भाइरस\n",
      "भएको\n",
      "संक्रमण\n",
      "संख्या\n",
      "पुष्टि\n",
      "संक्रमित\n",
      "हजार\n",
      "जनामा\n",
      "कारण\n",
      "थप\n",
      "एक\n",
      "नेपालमा\n",
      "जना\n",
      "का\n",
      "लाख\n",
      "छन्\n",
      "संक्रमितको\n",
      "पुगेको\n",
      "---------\n",
      "Top 20 Neutral Words:\n",
      "एमाले\n",
      "कांग्रेस\n",
      "मेयर\n",
      "मत\n",
      "नेकपा\n",
      "माओवादी\n",
      "नगरपालिका\n",
      "उपमेयर\n",
      "राप्रपा\n",
      "वडा\n",
      "स्वतन्त्र\n",
      "अपडेट\n",
      "अध्यक्ष\n",
      "सुर्य\n",
      "नेपाली\n",
      "रुख\n",
      "गणना\n",
      "पार्टी\n",
      "निर्वाचन\n",
      "गठबन्धन\n"
     ]
    }
   ],
   "source": [
    "from collections import Counter\n",
    "\n",
    "# Extract sentences based on sentiment\n",
    "neutral_reviews = df[df['Sentiment'] == 0]['Sentences']\n",
    "positive_reviews = df[df['Sentiment'] == 1]['Sentences']\n",
    "negative_reviews = df[df['Sentiment'] == 2]['Sentences']\n",
    "\n",
    "# Combine reviews of each sentiment into a single string\n",
    "positive_text = ' '.join(positive_reviews)\n",
    "negative_text = ' '.join(negative_reviews)\n",
    "neutral_text = ' '.join(neutral_reviews)\n",
    "\n",
    "# Calculate word frequencies for each sentiment\n",
    "positive_word_freq = Counter(positive_text.split(' '))\n",
    "negative_word_freq = Counter(negative_text.split(' '))\n",
    "neutral_word_freq = Counter(neutral_text.split(' '))\n",
    "\n",
    "# Create a dictionary to store the frequency differences\n",
    "word_diff = {}\n",
    "\n",
    "# Calculate the frequency difference for each word across all three sentiments\n",
    "all_words = set(positive_word_freq.keys()).union(set(negative_word_freq.keys())).union(set(neutral_word_freq.keys()))\n",
    "\n",
    "for word in all_words:\n",
    "    pos_freq = positive_word_freq.get(word, 0)\n",
    "    neg_freq = negative_word_freq.get(word, 0)\n",
    "    neu_freq = neutral_word_freq.get(word, 0)\n",
    "    # We calculate the difference based on each sentiment's word frequency\n",
    "    word_diff[word] = abs(pos_freq - neg_freq) + abs(neg_freq - neu_freq) + abs(pos_freq - neu_freq)\n",
    "\n",
    "# Separate positive, negative, and neutral words based on frequency differences\n",
    "positive_words_diff = {}\n",
    "negative_words_diff = {}\n",
    "neutral_words_diff = {}\n",
    "\n",
    "# Classify words based on where they are most frequent\n",
    "for word, diff in word_diff.items():\n",
    "    if positive_word_freq.get(word, 0) > max(negative_word_freq.get(word, 0), neutral_word_freq.get(word, 0)):\n",
    "        positive_words_diff[word] = diff\n",
    "    elif negative_word_freq.get(word, 0) > max(positive_word_freq.get(word, 0), neutral_word_freq.get(word, 0)):\n",
    "        negative_words_diff[word] = diff\n",
    "    elif neutral_word_freq.get(word, 0) > max(positive_word_freq.get(word, 0), negative_word_freq.get(word, 0)):\n",
    "        neutral_words_diff[word] = diff\n",
    "\n",
    "# Sort the words by frequency difference (descending)\n",
    "sorted_positive_words = sorted(positive_words_diff.items(), key=lambda x: x[1], reverse=True)\n",
    "sorted_negative_words = sorted(negative_words_diff.items(), key=lambda x: x[1], reverse=True)\n",
    "sorted_neutral_words = sorted(neutral_words_diff.items(), key=lambda x: x[1], reverse=True)\n",
    "\n",
    "# Print the top 20 words for positive, negative, and neutral categories\n",
    "print(\"Top 20 Positive Words:\")\n",
    "for word, diff in sorted_positive_words[:20]:\n",
    "    print(word)\n",
    "\n",
    "print(\"--------\\nTop 20 Negative Words:\")\n",
    "for word, diff in sorted_negative_words[:20]:\n",
    "    print(word)\n",
    "\n",
    "print(\"---------\\nTop 20 Neutral Words:\")\n",
    "for word, diff in sorted_neutral_words[:20]:\n",
    "    print(word)\n"
   ]
  },
  {
   "cell_type": "markdown",
   "metadata": {
    "id": "IzF7SVLXZ-la"
   },
   "source": [
    "# LSTM Model"
   ]
  },
  {
   "cell_type": "code",
   "execution_count": 14,
   "metadata": {
    "id": "hfPWh3p5ZdBf"
   },
   "outputs": [],
   "source": [
    "sentences = [item for item in df['Sentences']]\n",
    "sentiments = [item for item in df['Sentiment']]"
   ]
  },
  {
   "cell_type": "code",
   "execution_count": 15,
   "metadata": {
    "id": "Y9L-6jwvaA2x"
   },
   "outputs": [],
   "source": [
    "from src.utils.preprocessing import tokenizer\n",
    "tokenized_sentences = [tokenizer.tokenize(sentence) for sentence in sentences]"
   ]
  },
  {
   "cell_type": "code",
   "execution_count": 16,
   "metadata": {},
   "outputs": [
    {
     "name": "stdout",
     "output_type": "stream",
     "text": [
      "90th percentile sentence length: 31.0\n"
     ]
    }
   ],
   "source": [
    "import numpy as np\n",
    "\n",
    "sentence_lengths = [len(tokens) for tokens in tokenized_sentences]  # List of sentence lengths\n",
    "percentile_90 = np.percentile(sentence_lengths, 90)\n",
    "print(f\"90th percentile sentence length: {percentile_90}\")"
   ]
  },
  {
   "cell_type": "code",
   "execution_count": 17,
   "metadata": {},
   "outputs": [],
   "source": [
    "from gensim.models import KeyedVectors\n",
    "\n",
    "embedding_model_file = 'src/models/word2vec_model.bin'\n",
    "word2vec_model = KeyedVectors.load_word2vec_format(embedding_model_file, binary=True)"
   ]
  },
  {
   "cell_type": "code",
   "execution_count": 18,
   "metadata": {},
   "outputs": [],
   "source": [
    "# Convert each token to its word2vec embedding\n",
    "max_length = 32\n",
    "\n",
    "embedded_reviews = []\n",
    "\n",
    "for tokens in tokenized_sentences:\n",
    "    review_vector = []\n",
    "    for token in tokens:\n",
    "        if token in word2vec_model:\n",
    "            review_vector.append(word2vec_model[token])\n",
    "        else:\n",
    "            # If token not found, use a zero vector\n",
    "            review_vector.append(np.zeros(word2vec_model.vector_size))\n",
    "\n",
    "    # Pad the review to max_length with zero vectors\n",
    "    if len(review_vector) > max_length:\n",
    "        review_vector = review_vector[:max_length]\n",
    "    else:\n",
    "        review_vector.extend(\n",
    "            [np.zeros(word2vec_model.vector_size)] * (max_length - len(review_vector)))\n",
    "\n",
    "    embedded_reviews.append(review_vector)"
   ]
  },
  {
   "cell_type": "code",
   "execution_count": 19,
   "metadata": {
    "colab": {
     "base_uri": "https://localhost:8080/"
    },
    "id": "UgG6QJjSaIvc",
    "outputId": "620fb754-42f4-4f98-bf52-b1766233b715"
   },
   "outputs": [
    {
     "data": {
      "text/plain": [
       "(40387, 32, 300)"
      ]
     },
     "execution_count": 19,
     "metadata": {},
     "output_type": "execute_result"
    }
   ],
   "source": [
    "embedded_reviews_array = np.array(embedded_reviews)\n",
    "embedded_reviews_array.shape"
   ]
  },
  {
   "cell_type": "code",
   "execution_count": 20,
   "metadata": {
    "id": "nXT-lIpIaKp_"
   },
   "outputs": [],
   "source": [
    "import numpy as np\n",
    "import torch\n",
    "import torch.nn as nn\n",
    "import torch.optim as optim\n",
    "from torch.utils.data import DataLoader, TensorDataset\n",
    "from sklearn.model_selection import train_test_split"
   ]
  },
  {
   "cell_type": "code",
   "execution_count": 21,
   "metadata": {
    "id": "Lys_FZ_WaPEg"
   },
   "outputs": [
    {
     "name": "stdout",
     "output_type": "stream",
     "text": [
      "Shape of X: torch.Size([40387, 32, 300])\n"
     ]
    }
   ],
   "source": [
    "X = torch.tensor(embedded_reviews_array, dtype=torch.float32)  # Shape: (40387, 32, 300)\n",
    "y = torch.tensor(sentiments, dtype=torch.long)  # Shape: (40387,)\n",
    "\n",
    "print(f\"Shape of X: {X.shape}\")"
   ]
  },
  {
   "cell_type": "markdown",
   "metadata": {},
   "source": [
    "Split the dataset into Training, Validation, and Test sets."
   ]
  },
  {
   "cell_type": "code",
   "execution_count": 22,
   "metadata": {
    "id": "D7cT2vjFaQQp"
   },
   "outputs": [],
   "source": [
    "# First, split into training and temp (validation + test) sets\n",
    "X_train, X_temp, y_train, y_temp = train_test_split(X, y, test_size=0.3, random_state=42)"
   ]
  },
  {
   "cell_type": "code",
   "execution_count": 23,
   "metadata": {},
   "outputs": [],
   "source": [
    "# Then, split the temp set into validation and test sets\n",
    "X_val, X_test, y_val, y_test = train_test_split(X_temp, y_temp, test_size=0.5, random_state=42)"
   ]
  },
  {
   "cell_type": "code",
   "execution_count": 24,
   "metadata": {
    "id": "fRzwA900aRuz"
   },
   "outputs": [],
   "source": [
    "# Convert to DataLoader for batch processing\n",
    "train_data = TensorDataset(X_train, y_train)\n",
    "val_data = TensorDataset(X_val, y_val)\n",
    "test_data = TensorDataset(X_test, y_test)"
   ]
  },
  {
   "cell_type": "code",
   "execution_count": 25,
   "metadata": {},
   "outputs": [],
   "source": [
    "train_loader = DataLoader(train_data, batch_size=64, shuffle=True)\n",
    "val_loader = DataLoader(val_data, batch_size=64, shuffle=False)\n",
    "test_loader = DataLoader(test_data, batch_size=64, shuffle=False)"
   ]
  },
  {
   "cell_type": "code",
   "execution_count": 26,
   "metadata": {
    "id": "oZ_6AiuCaTfD"
   },
   "outputs": [],
   "source": [
    "from src.models.lstm_multi import LSTMMultiModel"
   ]
  },
  {
   "cell_type": "code",
   "execution_count": 27,
   "metadata": {
    "id": "r7WGtrMsaUok"
   },
   "outputs": [],
   "source": [
    "# Model parameters\n",
    "input_dim = 300     # Embedding dimension\n",
    "hidden_dim = 256    # Number of LSTM units\n",
    "output_dim = 3      # Number of classes (0 or 1)\n",
    "num_layers = 3      # Number of LSTM layers"
   ]
  },
  {
   "cell_type": "code",
   "execution_count": 28,
   "metadata": {
    "id": "ulSi8a5FaV1Q"
   },
   "outputs": [],
   "source": [
    "# Instantiate the model, loss function, and optimizer\n",
    "model = LSTMMultiModel(input_dim, hidden_dim, output_dim, num_layers)\n",
    "criterion = nn.CrossEntropyLoss()\n",
    "optimizer = optim.AdamW(model.parameters(), lr=0.0001)"
   ]
  },
  {
   "cell_type": "code",
   "execution_count": 29,
   "metadata": {
    "colab": {
     "base_uri": "https://localhost:8080/"
    },
    "id": "lXdmxRpsaXZy",
    "outputId": "8de8b03a-a93d-4fea-f57f-f46189e34eb3"
   },
   "outputs": [
    {
     "name": "stdout",
     "output_type": "stream",
     "text": [
      "Device:  cuda\n"
     ]
    }
   ],
   "source": [
    "device = \"cuda\" if torch.cuda.is_available() else \"cpu\"\n",
    "print(\"Device: \", device)\n",
    "\n",
    "model = model.to(device)"
   ]
  },
  {
   "cell_type": "code",
   "execution_count": 30,
   "metadata": {},
   "outputs": [],
   "source": [
    "# Early stopping parameters\n",
    "patience = 10  # Number of epochs with no improvement before stopping\n",
    "best_val_loss = float('inf')\n",
    "epochs_without_improvement = 0\n",
    "\n",
    "# Learning rate scheduler\n",
    "scheduler = optim.lr_scheduler.ReduceLROnPlateau(optimizer, 'min', patience=2, factor=0.5)"
   ]
  },
  {
   "cell_type": "code",
   "execution_count": 31,
   "metadata": {},
   "outputs": [],
   "source": [
    "# Training and evaluation function\n",
    "def evaluate(model, loader, device):\n",
    "    model.eval()\n",
    "    correct = 0\n",
    "    total = len(loader.dataset)\n",
    "    all_labels = []\n",
    "    all_predictions = []\n",
    "    with torch.no_grad():\n",
    "        for inputs, labels in loader:\n",
    "            inputs = inputs.to(device)\n",
    "            labels = labels.to(device)\n",
    "            outputs = model(inputs)\n",
    "            _, predicted = torch.max(outputs, 1)  # For multiclass\n",
    "            all_labels.extend(labels.view(-1).cpu().numpy())\n",
    "            all_predictions.extend(predicted.view(-1).cpu().numpy())\n",
    "            correct += (predicted == labels).sum().item()\n",
    "\n",
    "    accuracy = 100 * correct / total\n",
    "    f1 = f1_score(all_labels, all_predictions, average='weighted')\n",
    "    precision = precision_score(all_labels, all_predictions, average='weighted')\n",
    "    recall = recall_score(all_labels, all_predictions, average='weighted')\n",
    "    return accuracy, f1, precision, recall"
   ]
  },
  {
   "cell_type": "code",
   "execution_count": 32,
   "metadata": {
    "colab": {
     "base_uri": "https://localhost:8080/"
    },
    "id": "ghlybZyOacBE",
    "outputId": "ae5d7b61-757b-4757-a8b1-370d7d4169ba"
   },
   "outputs": [
    {
     "name": "stdout",
     "output_type": "stream",
     "text": [
      "Epoch 1/100, Train Loss: 0.9376, Train Accuracy: 59.12%, Validation Loss: 0.8619, Validation Accuracy: 68.16%\n",
      "Model saved to src/models/outputs/lstm_multi_model.pth\n",
      "Epoch 2/100, Train Loss: 0.8486, Train Accuracy: 69.51%, Validation Loss: 0.8448, Validation Accuracy: 70.06%\n",
      "Model saved to src/models/outputs/lstm_multi_model.pth\n",
      "Epoch 3/100, Train Loss: 0.8267, Train Accuracy: 71.67%, Validation Loss: 0.8345, Validation Accuracy: 71.08%\n",
      "Model saved to src/models/outputs/lstm_multi_model.pth\n",
      "Epoch 4/100, Train Loss: 0.8085, Train Accuracy: 73.69%, Validation Loss: 0.8280, Validation Accuracy: 71.72%\n",
      "Model saved to src/models/outputs/lstm_multi_model.pth\n",
      "Epoch 5/100, Train Loss: 0.7979, Train Accuracy: 74.90%, Validation Loss: 0.8302, Validation Accuracy: 71.62%\n",
      "Epoch 6/100, Train Loss: 0.7860, Train Accuracy: 76.20%, Validation Loss: 0.8255, Validation Accuracy: 72.00%\n",
      "Model saved to src/models/outputs/lstm_multi_model.pth\n",
      "Epoch 7/100, Train Loss: 0.7782, Train Accuracy: 77.04%, Validation Loss: 0.8281, Validation Accuracy: 71.79%\n",
      "Epoch 8/100, Train Loss: 0.7742, Train Accuracy: 77.45%, Validation Loss: 0.8231, Validation Accuracy: 72.28%\n",
      "Model saved to src/models/outputs/lstm_multi_model.pth\n",
      "Epoch 9/100, Train Loss: 0.7659, Train Accuracy: 78.34%, Validation Loss: 0.8300, Validation Accuracy: 71.67%\n",
      "Epoch 10/100, Train Loss: 0.7604, Train Accuracy: 78.91%, Validation Loss: 0.8258, Validation Accuracy: 72.22%\n",
      "Epoch 11/100, Train Loss: 0.7579, Train Accuracy: 79.10%, Validation Loss: 0.8227, Validation Accuracy: 72.43%\n",
      "Model saved to src/models/outputs/lstm_multi_model.pth\n",
      "Epoch 12/100, Train Loss: 0.7549, Train Accuracy: 79.47%, Validation Loss: 0.8214, Validation Accuracy: 72.58%\n",
      "Model saved to src/models/outputs/lstm_multi_model.pth\n",
      "Epoch 13/100, Train Loss: 0.7487, Train Accuracy: 80.14%, Validation Loss: 0.8232, Validation Accuracy: 72.42%\n",
      "Epoch 14/100, Train Loss: 0.7465, Train Accuracy: 80.31%, Validation Loss: 0.8261, Validation Accuracy: 72.10%\n",
      "Epoch 15/100, Train Loss: 0.7454, Train Accuracy: 80.47%, Validation Loss: 0.8230, Validation Accuracy: 72.43%\n",
      "Epoch 16/100, Train Loss: 0.7435, Train Accuracy: 80.68%, Validation Loss: 0.8210, Validation Accuracy: 72.81%\n",
      "Model saved to src/models/outputs/lstm_multi_model.pth\n",
      "Epoch 17/100, Train Loss: 0.7371, Train Accuracy: 81.29%, Validation Loss: 0.8198, Validation Accuracy: 72.86%\n",
      "Model saved to src/models/outputs/lstm_multi_model.pth\n",
      "Epoch 18/100, Train Loss: 0.7374, Train Accuracy: 81.26%, Validation Loss: 0.8197, Validation Accuracy: 72.76%\n",
      "Model saved to src/models/outputs/lstm_multi_model.pth\n",
      "Epoch 19/100, Train Loss: 0.7356, Train Accuracy: 81.47%, Validation Loss: 0.8208, Validation Accuracy: 72.78%\n",
      "Epoch 20/100, Train Loss: 0.7344, Train Accuracy: 81.57%, Validation Loss: 0.8204, Validation Accuracy: 72.66%\n",
      "Epoch 21/100, Train Loss: 0.7305, Train Accuracy: 81.96%, Validation Loss: 0.8171, Validation Accuracy: 73.18%\n",
      "Model saved to src/models/outputs/lstm_multi_model.pth\n",
      "Epoch 22/100, Train Loss: 0.7316, Train Accuracy: 81.82%, Validation Loss: 0.8212, Validation Accuracy: 72.73%\n",
      "Epoch 23/100, Train Loss: 0.7269, Train Accuracy: 82.37%, Validation Loss: 0.8200, Validation Accuracy: 72.81%\n",
      "Epoch 24/100, Train Loss: 0.7289, Train Accuracy: 82.12%, Validation Loss: 0.8211, Validation Accuracy: 72.75%\n",
      "Epoch 25/100, Train Loss: 0.7256, Train Accuracy: 82.52%, Validation Loss: 0.8236, Validation Accuracy: 72.24%\n",
      "Epoch 26/100, Train Loss: 0.7223, Train Accuracy: 82.78%, Validation Loss: 0.8230, Validation Accuracy: 72.40%\n",
      "Epoch 27/100, Train Loss: 0.7239, Train Accuracy: 82.65%, Validation Loss: 0.8250, Validation Accuracy: 72.32%\n",
      "Epoch 28/100, Train Loss: 0.7239, Train Accuracy: 82.65%, Validation Loss: 0.8252, Validation Accuracy: 72.40%\n",
      "Epoch 29/100, Train Loss: 0.7211, Train Accuracy: 82.95%, Validation Loss: 0.8221, Validation Accuracy: 72.63%\n",
      "Epoch 30/100, Train Loss: 0.7171, Train Accuracy: 83.38%, Validation Loss: 0.8190, Validation Accuracy: 73.04%\n",
      "Epoch 31/100, Train Loss: 0.7234, Train Accuracy: 82.71%, Validation Loss: 0.8244, Validation Accuracy: 72.35%\n",
      "Early stopping triggered.\n"
     ]
    }
   ],
   "source": [
    "num_epochs = 100\n",
    "\n",
    "# Tracking metrics\n",
    "train_accuracies = []\n",
    "val_accuracies = []\n",
    "train_losses = []\n",
    "val_losses = []\n",
    "\n",
    "for epoch in range(num_epochs):\n",
    "    # Training loop\n",
    "    model.train()\n",
    "    running_loss = 0.0\n",
    "    correct_predictions = 0\n",
    "    total_predictions = 0\n",
    "    \n",
    "    for inputs, labels in train_loader:\n",
    "        inputs, labels = inputs.to(device), labels.to(device)\n",
    "        optimizer.zero_grad()\n",
    "\n",
    "        # Forward pass\n",
    "        outputs = model(inputs)\n",
    "        loss = criterion(outputs, labels)\n",
    "\n",
    "        # Backward pass\n",
    "        loss.backward()\n",
    "        optimizer.step()\n",
    "\n",
    "        # Track loss and accuracy\n",
    "        running_loss += loss.item()\n",
    "        _, predicted = torch.max(outputs, 1)\n",
    "        correct_predictions += (predicted == labels).sum().item()\n",
    "        total_predictions += labels.size(0)\n",
    "\n",
    "    train_loss = running_loss / len(train_loader)  # Average training loss\n",
    "    train_accuracy = 100 * correct_predictions / total_predictions\n",
    "\n",
    "    # Validation loop\n",
    "    model.eval()\n",
    "    val_loss = 0.0\n",
    "    correct_val_predictions = 0\n",
    "    total_val_predictions = 0\n",
    "\n",
    "    true_labels = []\n",
    "    predicted_labels = []\n",
    "\n",
    "    with torch.no_grad():\n",
    "        for inputs, labels in val_loader:\n",
    "            inputs, labels = inputs.to(device), labels.to(device)\n",
    "\n",
    "            # Forward pass\n",
    "            outputs = model(inputs)\n",
    "            loss = criterion(outputs, labels)\n",
    "            val_loss += loss.item()\n",
    "\n",
    "            _, predicted = torch.max(outputs, 1)\n",
    "            correct_val_predictions += (predicted == labels).sum().item()\n",
    "            total_val_predictions += labels.size(0)\n",
    "\n",
    "            # Store true and predicted labels for confusion matrix\n",
    "            true_labels.extend(labels.cpu().numpy())\n",
    "            predicted_labels.extend(predicted.cpu().numpy())\n",
    "\n",
    "    val_loss /= len(val_loader)  # Average validation loss\n",
    "    val_accuracy = 100 * correct_val_predictions / total_val_predictions\n",
    "\n",
    "    # Append metrics to lists for tracking\n",
    "    train_losses.append(train_loss)\n",
    "    val_losses.append(val_loss)\n",
    "    train_accuracies.append(train_accuracy)\n",
    "    val_accuracies.append(val_accuracy)\n",
    "\n",
    "    print(f\"Epoch {epoch+1}/{num_epochs}, \"\n",
    "          f\"Train Loss: {train_loss:.4f}, \"\n",
    "          f\"Train Accuracy: {train_accuracy:.2f}%, \"\n",
    "          f\"Validation Loss: {val_loss:.4f}, \"\n",
    "          f\"Validation Accuracy: {val_accuracy:.2f}%\")\n",
    "\n",
    "    # Early stopping and learning rate scheduling\n",
    "    if val_loss < best_val_loss:\n",
    "        best_val_loss = val_loss\n",
    "        epochs_without_improvement = 0\n",
    "        output_file = \"src/models/outputs/lstm_multi_model.pth\"\n",
    "        torch.save(model.state_dict(), output_file)\n",
    "        print(f\"Model saved to {output_file}\")\n",
    "    else:\n",
    "        epochs_without_improvement += 1\n",
    "        print(f\"{epochs_without_improvement}/10\")\n",
    "\n",
    "    if epochs_without_improvement >= patience:  # Early stopping condition\n",
    "        print(\"Early stopping triggered.\")\n",
    "        break\n"
   ]
  },
  {
   "cell_type": "code",
   "execution_count": 35,
   "metadata": {
    "colab": {
     "base_uri": "https://localhost:8080/",
     "height": 365
    },
    "id": "P_YDnfEXae1e",
    "outputId": "c8a43083-cdc7-45c2-a2f5-4d9acc12cf72"
   },
   "outputs": [
    {
     "name": "stdout",
     "output_type": "stream",
     "text": [
      "Test Accuracy: 72.52%\n",
      "Test F1 Score: 0.72\n",
      "Test Precision: 0.73\n",
      "Test Recall: 0.73\n",
      "\n",
      "Confusion Matrix:\n",
      "[[ 866  372  272]\n",
      " [ 122 1882  372]\n",
      " [ 133  404 1635]]\n"
     ]
    }
   ],
   "source": [
    "# Load best model for final evaluation\n",
    "model.load_state_dict(\n",
    "    torch.load(\n",
    "        output_file,\n",
    "        map_location=torch.device('cpu'),\n",
    "        weights_only=True\n",
    "    )\n",
    ")\n",
    "model.eval()\n",
    "\n",
    "# Evaluate on test set\n",
    "test_accuracy, test_f1, test_precision, test_recall = evaluate(model, test_loader, device)\n",
    "print(f\"Test Accuracy: {test_accuracy:.2f}%\")\n",
    "print(f\"Test F1 Score: {test_f1:.2f}\")\n",
    "print(f\"Test Precision: {test_precision:.2f}\")\n",
    "print(f\"Test Recall: {test_recall:.2f}\")\n",
    "conf_matrix = confusion_matrix(true_labels, predicted_labels)\n",
    "print(\"\\nConfusion Matrix:\")\n",
    "print(conf_matrix)"
   ]
  },
  {
   "cell_type": "code",
   "execution_count": 36,
   "metadata": {},
   "outputs": [
    {
     "data": {
      "image/png": "[encoded data removed]",
      "text/plain": [
       "<Figure size 1000x500 with 1 Axes>"
      ]
     },
     "metadata": {},
     "output_type": "display_data"
    }
   ],
   "source": [
    "import matplotlib.pyplot as plt\n",
    "\n",
    "plt.figure(figsize=(10, 5))\n",
    "plt.plot(train_accuracies, label='Train Accuracy')\n",
    "plt.plot(val_accuracies, label='Validation Accuracy')\n",
    "plt.xlabel('Epoch')\n",
    "plt.ylabel('Accuracy')\n",
    "plt.legend()\n",
    "plt.show()\n"
   ]
  },
  {
   "cell_type": "code",
   "execution_count": 37,
   "metadata": {},
   "outputs": [
    {
     "data": {
      "image/png": "[encoded data removed]",
      "text/plain": [
       "<Figure size 800x600 with 2 Axes>"
      ]
     },
     "metadata": {},
     "output_type": "display_data"
    },
    {
     "name": "stdout",
     "output_type": "stream",
     "text": [
      "\n",
      "Classification Report:\n",
      "              precision    recall  f1-score   support\n",
      "\n",
      "     Neutral       0.77      0.57      0.66      1510\n",
      "    Positive       0.71      0.79      0.75      2376\n",
      "    Negative       0.72      0.75      0.73      2172\n",
      "\n",
      "    accuracy                           0.72      6058\n",
      "   macro avg       0.73      0.71      0.71      6058\n",
      "weighted avg       0.73      0.72      0.72      6058\n",
      "\n"
     ]
    }
   ],
   "source": [
    "# visualize the confusion matrix\n",
    "plt.figure(figsize=(8, 6))\n",
    "sns.heatmap(conf_matrix, annot=True, fmt='d', cmap='Blues', xticklabels=['Neutral', 'Positive', 'Negative'], yticklabels=['Neutral', 'Positive', 'Negative'])\n",
    "plt.xlabel('Predicted')\n",
    "plt.ylabel('True')\n",
    "plt.title('Confusion Matrix')\n",
    "plt.show()\n",
    "\n",
    "# Print classification report\n",
    "print(\"\\nClassification Report:\")\n",
    "print(classification_report(true_labels, predicted_labels, target_names=['Neutral', 'Positive', 'Negative']))"
   ]
  },
  {
   "cell_type": "code",
   "execution_count": null,
   "metadata": {},
   "outputs": [],
   "source": []
  }
 ],
 "metadata": {
  "colab": {
   "collapsed_sections": [
    "hXCDqZ3rBd5-"
   ],
   "provenance": []
  },
  "kernelspec": {
   "display_name": "Python 3 (ipykernel)",
   "language": "python",
   "name": "python3"
  },
  "language_info": {
   "codemirror_mode": {
    "name": "ipython",
    "version": 3
   },
   "file_extension": ".py",
   "mimetype": "text/x-python",
   "name": "python",
   "nbconvert_exporter": "python",
   "pygments_lexer": "ipython3",
   "version": "3.12.4"
  }
 },
 "nbformat": 4,
 "nbformat_minor": 4
}
