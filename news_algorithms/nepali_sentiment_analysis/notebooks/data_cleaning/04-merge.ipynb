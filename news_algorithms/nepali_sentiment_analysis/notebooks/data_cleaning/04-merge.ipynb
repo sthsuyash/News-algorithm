{
 "cells": [
  {
   "cell_type": "markdown",
   "metadata": {},
   "source": [
    "# Merge all the cleaned csv files"
   ]
  },
  {
   "cell_type": "code",
   "execution_count": 1,
   "metadata": {},
   "outputs": [],
   "source": [
    "import os\n",
    "import sys\n",
    "import pandas as pd\n",
    "import seaborn as sns\n",
    "import matplotlib.pyplot as plt"
   ]
  },
  {
   "cell_type": "code",
   "execution_count": 2,
   "metadata": {},
   "outputs": [],
   "source": [
    "current_dir = os.getcwd()\n",
    "project_root = os.path.abspath(os.path.join(current_dir, '../../../'))\n",
    "sys.path.append(project_root)"
   ]
  },
  {
   "cell_type": "code",
   "execution_count": 3,
   "metadata": {},
   "outputs": [
    {
     "name": "stdout",
     "output_type": "stream",
     "text": [
      "['cleaned_neutral_data.csv', 'cleaned_sentiment_analysis_nepali_final.csv', 'cleaned_train_test_neutral_data.csv']\n"
     ]
    }
   ],
   "source": [
    "DATA_PATH = os.path.join(\n",
    "    project_root,\n",
    "    'nepali_sentiment_analysis',\n",
    "    'dataset',\n",
    "    'cleaned'\n",
    ")\n",
    "\n",
    "print(os.listdir(DATA_PATH))"
   ]
  },
  {
   "cell_type": "code",
   "execution_count": 4,
   "metadata": {},
   "outputs": [],
   "source": [
    "csv_files = [f for f in os.listdir(DATA_PATH) if f.endswith('.csv')]"
   ]
  },
  {
   "cell_type": "code",
   "execution_count": 5,
   "metadata": {},
   "outputs": [],
   "source": [
    "# Initialize an empty list to hold all the DataFrames\n",
    "dfs = []\n",
    "\n",
    "# Loop through each CSV file and load them into DataFrames\n",
    "for csv_file in csv_files:\n",
    "    file_path = os.path.join(DATA_PATH, csv_file)\n",
    "    df = pd.read_csv(file_path)\n",
    "    dfs.append(df)"
   ]
  },
  {
   "cell_type": "code",
   "execution_count": 6,
   "metadata": {},
   "outputs": [
    {
     "data": {
      "text/html": [
       "<div>\n",
       "<style scoped>\n",
       "    .dataframe tbody tr th:only-of-type {\n",
       "        vertical-align: middle;\n",
       "    }\n",
       "\n",
       "    .dataframe tbody tr th {\n",
       "        vertical-align: top;\n",
       "    }\n",
       "\n",
       "    .dataframe thead th {\n",
       "        text-align: right;\n",
       "    }\n",
       "</style>\n",
       "<table border=\"1\" class=\"dataframe\">\n",
       "  <thead>\n",
       "    <tr style=\"text-align: right;\">\n",
       "      <th></th>\n",
       "      <th>Sentiment</th>\n",
       "      <th>Sentences</th>\n",
       "    </tr>\n",
       "  </thead>\n",
       "  <tbody>\n",
       "    <tr>\n",
       "      <th>42041</th>\n",
       "      <td>0</td>\n",
       "      <td>नाममा अमेरिकाले लगानी गरेर नेपाल भुमी हडप्ने उ...</td>\n",
       "    </tr>\n",
       "    <tr>\n",
       "      <th>4319</th>\n",
       "      <td>0</td>\n",
       "      <td>भेरीगंगा नगरपालिका वडा २ प्रारम्भिक गणना अपडेट...</td>\n",
       "    </tr>\n",
       "    <tr>\n",
       "      <th>23425</th>\n",
       "      <td>2</td>\n",
       "      <td>आइतबार बिहानै जनामा कोभिड संक्रमण पुष्टि</td>\n",
       "    </tr>\n",
       "    <tr>\n",
       "      <th>43028</th>\n",
       "      <td>0</td>\n",
       "      <td>नम्बर दिनु</td>\n",
       "    </tr>\n",
       "    <tr>\n",
       "      <th>13236</th>\n",
       "      <td>2</td>\n",
       "      <td>जापानमा कोभिड बाट थप संक्रमित</td>\n",
       "    </tr>\n",
       "  </tbody>\n",
       "</table>\n",
       "</div>"
      ],
      "text/plain": [
       "       Sentiment                                          Sentences\n",
       "42041          0  नाममा अमेरिकाले लगानी गरेर नेपाल भुमी हडप्ने उ...\n",
       "4319           0  भेरीगंगा नगरपालिका वडा २ प्रारम्भिक गणना अपडेट...\n",
       "23425          2           आइतबार बिहानै जनामा कोभिड संक्रमण पुष्टि\n",
       "43028          0                                         नम्बर दिनु\n",
       "13236          2                      जापानमा कोभिड बाट थप संक्रमित"
      ]
     },
     "execution_count": 6,
     "metadata": {},
     "output_type": "execute_result"
    }
   ],
   "source": [
    "# Concatenate all the DataFrames\n",
    "combined_df = pd.concat(dfs, ignore_index=True)\n",
    "combined_df.sample(5)"
   ]
  },
  {
   "cell_type": "code",
   "execution_count": 7,
   "metadata": {},
   "outputs": [
    {
     "name": "stdout",
     "output_type": "stream",
     "text": [
      "Info:\n",
      "<class 'pandas.core.frame.DataFrame'>\n",
      "RangeIndex: 43637 entries, 0 to 43636\n",
      "Data columns (total 2 columns):\n",
      " #   Column     Non-Null Count  Dtype \n",
      "---  ------     --------------  ----- \n",
      " 0   Sentiment  43637 non-null  int64 \n",
      " 1   Sentences  43637 non-null  object\n",
      "dtypes: int64(1), object(1)\n",
      "memory usage: 682.0+ KB\n",
      "None\n",
      "--------------------------------------------------\n",
      "Describe:\n",
      "          Sentiment\n",
      "count  43637.000000\n",
      "mean       1.026537\n",
      "std        0.796098\n",
      "min        0.000000\n",
      "25%        0.000000\n",
      "50%        1.000000\n",
      "75%        2.000000\n",
      "max        2.000000\n"
     ]
    }
   ],
   "source": [
    "print(\"Info:\")\n",
    "print(combined_df.info())\n",
    "print(\"-\" * 50)\n",
    "print(\"Describe:\")\n",
    "print(combined_df.describe())"
   ]
  },
  {
   "cell_type": "code",
   "execution_count": 8,
   "metadata": {},
   "outputs": [
    {
     "data": {
      "image/png": "[encoded data removed]",
      "text/plain": [
       "<Figure size 500x300 with 1 Axes>"
      ]
     },
     "metadata": {},
     "output_type": "display_data"
    }
   ],
   "source": [
    "plt.figure(figsize=(5, 3))\n",
    "sns.countplot(data=combined_df, x='Sentiment')\n",
    "plt.show()"
   ]
  },
  {
   "cell_type": "code",
   "execution_count": 9,
   "metadata": {},
   "outputs": [
    {
     "name": "stdout",
     "output_type": "stream",
     "text": [
      "Missing Values:\n",
      "Sentiment    0\n",
      "Sentences    0\n",
      "dtype: int64\n",
      "Duplicates:\n",
      "1\n"
     ]
    }
   ],
   "source": [
    "# check for missing values and duplicates\n",
    "print(\"Missing Values:\")\n",
    "print(combined_df.isnull().sum())\n",
    "\n",
    "print(\"Duplicates:\")\n",
    "print(combined_df.duplicated().sum())"
   ]
  },
  {
   "cell_type": "code",
   "execution_count": 10,
   "metadata": {},
   "outputs": [],
   "source": [
    "# remove the duplicates \n",
    "combined_df.drop_duplicates(inplace=True)"
   ]
  },
  {
   "cell_type": "code",
   "execution_count": 11,
   "metadata": {},
   "outputs": [
    {
     "name": "stdout",
     "output_type": "stream",
     "text": [
      "Sentiment\n",
      "1    15951\n",
      "2    14422\n",
      "0    13263\n",
      "Name: count, dtype: int64\n"
     ]
    }
   ],
   "source": [
    "print(combined_df['Sentiment'].value_counts())"
   ]
  },
  {
   "cell_type": "code",
   "execution_count": 12,
   "metadata": {},
   "outputs": [
    {
     "name": "stdout",
     "output_type": "stream",
     "text": [
      "17.329040242002016\n",
      "476\n",
      "1\n"
     ]
    }
   ],
   "source": [
    "# find the average length of the Sentences column\n",
    "combined_df['Sentence Length'] = combined_df['Sentences'].apply(lambda x: len(x.split()))\n",
    "print(combined_df['Sentence Length'].mean())\n",
    "\n",
    "# maximum length of the sentence\n",
    "print(combined_df['Sentence Length'].max())\n",
    "\n",
    "# minimum length of the sentence\n",
    "print(combined_df['Sentence Length'].min())"
   ]
  },
  {
   "cell_type": "code",
   "execution_count": 13,
   "metadata": {},
   "outputs": [],
   "source": [
    "# remove the sentence length column\n",
    "combined_df.drop('Sentence Length', axis=1, inplace=True)"
   ]
  },
  {
   "cell_type": "code",
   "execution_count": 14,
   "metadata": {},
   "outputs": [
    {
     "name": "stdout",
     "output_type": "stream",
     "text": [
      "Data saved successfully\n"
     ]
    }
   ],
   "source": [
    "PROCESSED_DATA_PATH = os.path.join(\n",
    "    DATA_PATH,\n",
    "    '../',\n",
    "    'processed'\n",
    ")\n",
    "\n",
    "OUTPUT_PATH = os.path.join(\n",
    "    PROCESSED_DATA_PATH,\n",
    "    'combined_cleaned_data.csv'\n",
    ")\n",
    "\n",
    "combined_df.to_csv(os.path.join(OUTPUT_PATH), index=False)\n",
    "\n",
    "if os.path.exists(os.path.join(OUTPUT_PATH)):\n",
    "    print(\"Data saved successfully\")"
   ]
  }
 ],
 "metadata": {
  "kernelspec": {
   "display_name": "nepali-news-algorithms-J5nQd0Uu-py3.12",
   "language": "python",
   "name": "python3"
  },
  "language_info": {
   "codemirror_mode": {
    "name": "ipython",
    "version": 3
   },
   "file_extension": ".py",
   "mimetype": "text/x-python",
   "name": "python",
   "nbconvert_exporter": "python",
   "pygments_lexer": "ipython3",
   "version": "3.12.4"
  }
 },
 "nbformat": 4,
 "nbformat_minor": 2
}
