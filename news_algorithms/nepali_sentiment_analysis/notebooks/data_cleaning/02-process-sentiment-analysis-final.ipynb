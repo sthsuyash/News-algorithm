{
 "cells": [
  {
   "cell_type": "markdown",
   "metadata": {},
   "source": [
    "# Clean the '[Nepali Sentiment Analysis](https://www.kaggle.com/datasets/aayamoza/nepali-sentiment-analysis)' dataset"
   ]
  },
  {
   "cell_type": "code",
   "execution_count": 1,
   "metadata": {},
   "outputs": [],
   "source": [
    "import os\n",
    "import sys\n",
    "import pandas as pd\n",
    "import seaborn as sns\n",
    "import matplotlib.pyplot as plt"
   ]
  },
  {
   "cell_type": "code",
   "execution_count": 2,
   "metadata": {},
   "outputs": [],
   "source": [
    "current_dir = os.getcwd()\n",
    "project_root = os.path.abspath(os.path.join(current_dir, '../../../'))\n",
    "sys.path.append(project_root)"
   ]
  },
  {
   "cell_type": "code",
   "execution_count": 3,
   "metadata": {},
   "outputs": [
    {
     "name": "stdout",
     "output_type": "stream",
     "text": [
      "['sentiment_analysis_nepali_final.csv', 'test.csv', 'train.csv', 'unique_tweets']\n"
     ]
    }
   ],
   "source": [
    "DATASET_PATH = os.path.join(\n",
    "    project_root,\n",
    "    'nepali_sentiment_analysis',\n",
    "    'dataset',\n",
    "    'raw'\n",
    ")\n",
    "print(os.listdir(DATASET_PATH))"
   ]
  },
  {
   "cell_type": "code",
   "execution_count": 4,
   "metadata": {},
   "outputs": [
    {
     "data": {
      "text/html": [
       "<div>\n",
       "<style scoped>\n",
       "    .dataframe tbody tr th:only-of-type {\n",
       "        vertical-align: middle;\n",
       "    }\n",
       "\n",
       "    .dataframe tbody tr th {\n",
       "        vertical-align: top;\n",
       "    }\n",
       "\n",
       "    .dataframe thead th {\n",
       "        text-align: right;\n",
       "    }\n",
       "</style>\n",
       "<table border=\"1\" class=\"dataframe\">\n",
       "  <thead>\n",
       "    <tr style=\"text-align: right;\">\n",
       "      <th></th>\n",
       "      <th>id</th>\n",
       "      <th>Sentences</th>\n",
       "      <th>Sentiment</th>\n",
       "    </tr>\n",
       "  </thead>\n",
       "  <tbody>\n",
       "    <tr>\n",
       "      <th>0</th>\n",
       "      <td>0</td>\n",
       "      <td>म एक शिक्षक , शिक्षा क्षेत्रमा रमाएको मान्छे ।...</td>\n",
       "      <td>1</td>\n",
       "    </tr>\n",
       "    <tr>\n",
       "      <th>1</th>\n",
       "      <td>1</td>\n",
       "      <td>म सरकारी स्कूल/कलेजमा पढेर करीब १२ बर्ष भन्दा ...</td>\n",
       "      <td>1</td>\n",
       "    </tr>\n",
       "    <tr>\n",
       "      <th>2</th>\n",
       "      <td>2</td>\n",
       "      <td>कति राम्रो शिव मन्दिर देख्न पाइयो कुन ठाउको हो...</td>\n",
       "      <td>1</td>\n",
       "    </tr>\n",
       "    <tr>\n",
       "      <th>3</th>\n",
       "      <td>3</td>\n",
       "      <td>मारुनी भन्ने वितिकै सामान्य नाचनीमा आधारित कथा...</td>\n",
       "      <td>1</td>\n",
       "    </tr>\n",
       "    <tr>\n",
       "      <th>4</th>\n",
       "      <td>4</td>\n",
       "      <td>यो फ्लिम हेरिसकेपछी थाहा भयो कि किन दर्सकहरुले...</td>\n",
       "      <td>1</td>\n",
       "    </tr>\n",
       "  </tbody>\n",
       "</table>\n",
       "</div>"
      ],
      "text/plain": [
       "   id                                          Sentences  Sentiment\n",
       "0   0  म एक शिक्षक , शिक्षा क्षेत्रमा रमाएको मान्छे ।...          1\n",
       "1   1  म सरकारी स्कूल/कलेजमा पढेर करीब १२ बर्ष भन्दा ...          1\n",
       "2   2  कति राम्रो शिव मन्दिर देख्न पाइयो कुन ठाउको हो...          1\n",
       "3   3  मारुनी भन्ने वितिकै सामान्य नाचनीमा आधारित कथा...          1\n",
       "4   4  यो फ्लिम हेरिसकेपछी थाहा भयो कि किन दर्सकहरुले...          1"
      ]
     },
     "execution_count": 4,
     "metadata": {},
     "output_type": "execute_result"
    }
   ],
   "source": [
    "df = pd.read_csv(os.path.join(DATASET_PATH, 'sentiment_analysis_nepali_final.csv'))\n",
    "df.head()"
   ]
  },
  {
   "cell_type": "code",
   "execution_count": 5,
   "metadata": {},
   "outputs": [
    {
     "data": {
      "text/html": [
       "<div>\n",
       "<style scoped>\n",
       "    .dataframe tbody tr th:only-of-type {\n",
       "        vertical-align: middle;\n",
       "    }\n",
       "\n",
       "    .dataframe tbody tr th {\n",
       "        vertical-align: top;\n",
       "    }\n",
       "\n",
       "    .dataframe thead th {\n",
       "        text-align: right;\n",
       "    }\n",
       "</style>\n",
       "<table border=\"1\" class=\"dataframe\">\n",
       "  <thead>\n",
       "    <tr style=\"text-align: right;\">\n",
       "      <th></th>\n",
       "      <th>Sentences</th>\n",
       "      <th>Sentiment</th>\n",
       "    </tr>\n",
       "  </thead>\n",
       "  <tbody>\n",
       "    <tr>\n",
       "      <th>0</th>\n",
       "      <td>म एक शिक्षक , शिक्षा क्षेत्रमा रमाएको मान्छे ।...</td>\n",
       "      <td>1</td>\n",
       "    </tr>\n",
       "    <tr>\n",
       "      <th>1</th>\n",
       "      <td>म सरकारी स्कूल/कलेजमा पढेर करीब १२ बर्ष भन्दा ...</td>\n",
       "      <td>1</td>\n",
       "    </tr>\n",
       "    <tr>\n",
       "      <th>2</th>\n",
       "      <td>कति राम्रो शिव मन्दिर देख्न पाइयो कुन ठाउको हो...</td>\n",
       "      <td>1</td>\n",
       "    </tr>\n",
       "    <tr>\n",
       "      <th>3</th>\n",
       "      <td>मारुनी भन्ने वितिकै सामान्य नाचनीमा आधारित कथा...</td>\n",
       "      <td>1</td>\n",
       "    </tr>\n",
       "    <tr>\n",
       "      <th>4</th>\n",
       "      <td>यो फ्लिम हेरिसकेपछी थाहा भयो कि किन दर्सकहरुले...</td>\n",
       "      <td>1</td>\n",
       "    </tr>\n",
       "  </tbody>\n",
       "</table>\n",
       "</div>"
      ],
      "text/plain": [
       "                                           Sentences  Sentiment\n",
       "0  म एक शिक्षक , शिक्षा क्षेत्रमा रमाएको मान्छे ।...          1\n",
       "1  म सरकारी स्कूल/कलेजमा पढेर करीब १२ बर्ष भन्दा ...          1\n",
       "2  कति राम्रो शिव मन्दिर देख्न पाइयो कुन ठाउको हो...          1\n",
       "3  मारुनी भन्ने वितिकै सामान्य नाचनीमा आधारित कथा...          1\n",
       "4  यो फ्लिम हेरिसकेपछी थाहा भयो कि किन दर्सकहरुले...          1"
      ]
     },
     "execution_count": 5,
     "metadata": {},
     "output_type": "execute_result"
    }
   ],
   "source": [
    "df = df.drop(columns=['id'])\n",
    "df = df.reset_index(drop=True)\n",
    "df.head()"
   ]
  },
  {
   "cell_type": "code",
   "execution_count": 6,
   "metadata": {},
   "outputs": [
    {
     "name": "stdout",
     "output_type": "stream",
     "text": [
      "Info:\n",
      "<class 'pandas.core.frame.DataFrame'>\n",
      "RangeIndex: 35789 entries, 0 to 35788\n",
      "Data columns (total 2 columns):\n",
      " #   Column     Non-Null Count  Dtype \n",
      "---  ------     --------------  ----- \n",
      " 0   Sentences  35789 non-null  object\n",
      " 1   Sentiment  35789 non-null  int64 \n",
      "dtypes: int64(1), object(1)\n",
      "memory usage: 559.3+ KB\n",
      "None\n",
      "--------------------------------------------------\n",
      "Describe:\n",
      "          Sentiment\n",
      "count  35789.000000\n",
      "mean       0.041130\n",
      "std        0.919035\n",
      "min       -1.000000\n",
      "25%       -1.000000\n",
      "50%        0.000000\n",
      "75%        1.000000\n",
      "max        1.000000\n"
     ]
    }
   ],
   "source": [
    "print(\"Info:\")\n",
    "print(df.info())\n",
    "print(\"-\" * 50)\n",
    "print(\"Describe:\")\n",
    "print(df.describe())"
   ]
  },
  {
   "cell_type": "code",
   "execution_count": 7,
   "metadata": {},
   "outputs": [
    {
     "name": "stdout",
     "output_type": "stream",
     "text": [
      "Sentiment\n",
      " 1    15880\n",
      "-1    14408\n",
      " 0     5501\n",
      "Name: count, dtype: int64\n"
     ]
    }
   ],
   "source": [
    "print(df['Sentiment'].value_counts())"
   ]
  },
  {
   "cell_type": "code",
   "execution_count": 8,
   "metadata": {},
   "outputs": [],
   "source": [
    "# map -1 to 2, 0 to 0 and 1 to 1\n",
    "df['Sentiment'] = df['Sentiment'].map({-1: 2, 0: 0, 1: 1})"
   ]
  },
  {
   "cell_type": "code",
   "execution_count": 9,
   "metadata": {},
   "outputs": [
    {
     "name": "stdout",
     "output_type": "stream",
     "text": [
      "Sentiment\n",
      "1    15880\n",
      "2    14408\n",
      "0     5501\n",
      "Name: count, dtype: int64\n"
     ]
    }
   ],
   "source": [
    "print(df['Sentiment'].value_counts())"
   ]
  },
  {
   "cell_type": "code",
   "execution_count": 10,
   "metadata": {},
   "outputs": [
    {
     "data": {
      "image/png": "[encoded data removed]",
      "text/plain": [
       "<Figure size 500x300 with 1 Axes>"
      ]
     },
     "metadata": {},
     "output_type": "display_data"
    }
   ],
   "source": [
    "plt.figure(figsize=(5, 3))\n",
    "sns.countplot(data=df, x='Sentiment')\n",
    "plt.show()"
   ]
  },
  {
   "cell_type": "code",
   "execution_count": 11,
   "metadata": {},
   "outputs": [],
   "source": [
    "# Step 1: Split the sentences into separate rows based on '।' or '?'\n",
    "df_split = df['Sentences'].str.split(r'[।?]').explode().str.strip().reset_index(drop=True)\n",
    "\n",
    "# Step 2: Repeat the Sentiment for each sentence\n",
    "df_final = df.loc[df.index.repeat(df['Sentences'].str.split(\n",
    "    r'[।?]').apply(len))].reset_index(drop=True)\n",
    "\n",
    "# Step 3: Align the sentiment column with the newly split sentences\n",
    "df_final['Sentences'] = df_split\n",
    "\n",
    "# Reset the index for the final DataFrame\n",
    "df_final = df_final.reset_index(drop=True)"
   ]
  },
  {
   "cell_type": "code",
   "execution_count": 12,
   "metadata": {},
   "outputs": [
    {
     "data": {
      "text/html": [
       "<div>\n",
       "<style scoped>\n",
       "    .dataframe tbody tr th:only-of-type {\n",
       "        vertical-align: middle;\n",
       "    }\n",
       "\n",
       "    .dataframe tbody tr th {\n",
       "        vertical-align: top;\n",
       "    }\n",
       "\n",
       "    .dataframe thead th {\n",
       "        text-align: right;\n",
       "    }\n",
       "</style>\n",
       "<table border=\"1\" class=\"dataframe\">\n",
       "  <thead>\n",
       "    <tr style=\"text-align: right;\">\n",
       "      <th></th>\n",
       "      <th>Sentences</th>\n",
       "      <th>Sentiment</th>\n",
       "    </tr>\n",
       "  </thead>\n",
       "  <tbody>\n",
       "    <tr>\n",
       "      <th>0</th>\n",
       "      <td>म एक शिक्षक , शिक्षा क्षेत्रमा रमाएको मान्छे</td>\n",
       "      <td>1</td>\n",
       "    </tr>\n",
       "    <tr>\n",
       "      <th>1</th>\n",
       "      <td>सामुदायिक विद्यालयमा अध्यापन गराउछु</td>\n",
       "      <td>1</td>\n",
       "    </tr>\n",
       "    <tr>\n",
       "      <th>2</th>\n",
       "      <td>मलाइ यो चलचित्रले मन नै छोयो</td>\n",
       "      <td>1</td>\n",
       "    </tr>\n",
       "    <tr>\n",
       "      <th>3</th>\n",
       "      <td>वास्तविक घटना यहि हो कि नेपालका तमाम सामुदायिक...</td>\n",
       "      <td>1</td>\n",
       "    </tr>\n",
       "    <tr>\n",
       "      <th>4</th>\n",
       "      <td>यस्तै शिक्षा सम्बन्धीको चलचित्र बनोस भनेर अपेक...</td>\n",
       "      <td>1</td>\n",
       "    </tr>\n",
       "    <tr>\n",
       "      <th>5</th>\n",
       "      <td>धन्यवाद सबै लाइ</td>\n",
       "      <td>1</td>\n",
       "    </tr>\n",
       "    <tr>\n",
       "      <th>6</th>\n",
       "      <td>म सरकारी स्कूल/कलेजमा पढेर करीब १२ बर्ष भन्दा ...</td>\n",
       "      <td>1</td>\n",
       "    </tr>\n",
       "    <tr>\n",
       "      <th>7</th>\n",
       "      <td>फिल्म सन्देशमुलक छ</td>\n",
       "      <td>1</td>\n",
       "    </tr>\n",
       "    <tr>\n",
       "      <th>8</th>\n",
       "      <td>सबैले हेर्नुहोला</td>\n",
       "      <td>1</td>\n",
       "    </tr>\n",
       "    <tr>\n",
       "      <th>9</th>\n",
       "      <td></td>\n",
       "      <td>1</td>\n",
       "    </tr>\n",
       "    <tr>\n",
       "      <th>10</th>\n",
       "      <td>कति राम्रो शिव मन्दिर देख्न पाइयो कुन ठाउको होला</td>\n",
       "      <td>1</td>\n",
       "    </tr>\n",
       "    <tr>\n",
       "      <th>11</th>\n",
       "      <td>धन्यवाद सम्पुर्ण टिमलाई विशेष केदार अनि काली आमा</td>\n",
       "      <td>1</td>\n",
       "    </tr>\n",
       "    <tr>\n",
       "      <th>12</th>\n",
       "      <td>मारुनी भन्ने वितिकै सामान्य नाचनीमा आधारित कथा...</td>\n",
       "      <td>1</td>\n",
       "    </tr>\n",
       "    <tr>\n",
       "      <th>13</th>\n",
       "      <td>तर यस्तो कथामा आधारित र यती राम्रो कहानी फिल्म...</td>\n",
       "      <td>1</td>\n",
       "    </tr>\n",
       "    <tr>\n",
       "      <th>14</th>\n",
       "      <td>जव फिल्म पूरा हेरियो साचै नेपाली फिल्म इन्ड्रस...</td>\n",
       "      <td>1</td>\n",
       "    </tr>\n",
       "    <tr>\n",
       "      <th>15</th>\n",
       "      <td>रेटिङ ५ स्टार</td>\n",
       "      <td>1</td>\n",
       "    </tr>\n",
       "    <tr>\n",
       "      <th>16</th>\n",
       "      <td>मारुनी फिल्म टिमलाई धन्यवाद</td>\n",
       "      <td>1</td>\n",
       "    </tr>\n",
       "    <tr>\n",
       "      <th>17</th>\n",
       "      <td></td>\n",
       "      <td>1</td>\n",
       "    </tr>\n",
       "    <tr>\n",
       "      <th>18</th>\n",
       "      <td>यो फ्लिम हेरिसकेपछी थाहा भयो कि किन दर्सकहरुले...</td>\n",
       "      <td>1</td>\n",
       "    </tr>\n",
       "    <tr>\n",
       "      <th>19</th>\n",
       "      <td>उहाको अभिनयको जति नै तारिफ गरे नि कमै हुन्छ</td>\n",
       "      <td>1</td>\n",
       "    </tr>\n",
       "  </tbody>\n",
       "</table>\n",
       "</div>"
      ],
      "text/plain": [
       "                                            Sentences  Sentiment\n",
       "0        म एक शिक्षक , शिक्षा क्षेत्रमा रमाएको मान्छे          1\n",
       "1                 सामुदायिक विद्यालयमा अध्यापन गराउछु          1\n",
       "2                        मलाइ यो चलचित्रले मन नै छोयो          1\n",
       "3   वास्तविक घटना यहि हो कि नेपालका तमाम सामुदायिक...          1\n",
       "4   यस्तै शिक्षा सम्बन्धीको चलचित्र बनोस भनेर अपेक...          1\n",
       "5                                     धन्यवाद सबै लाइ          1\n",
       "6   म सरकारी स्कूल/कलेजमा पढेर करीब १२ बर्ष भन्दा ...          1\n",
       "7                                  फिल्म सन्देशमुलक छ          1\n",
       "8                                    सबैले हेर्नुहोला          1\n",
       "9                                                              1\n",
       "10   कति राम्रो शिव मन्दिर देख्न पाइयो कुन ठाउको होला          1\n",
       "11   धन्यवाद सम्पुर्ण टिमलाई विशेष केदार अनि काली आमा          1\n",
       "12  मारुनी भन्ने वितिकै सामान्य नाचनीमा आधारित कथा...          1\n",
       "13  तर यस्तो कथामा आधारित र यती राम्रो कहानी फिल्म...          1\n",
       "14  जव फिल्म पूरा हेरियो साचै नेपाली फिल्म इन्ड्रस...          1\n",
       "15                                      रेटिङ ५ स्टार          1\n",
       "16                        मारुनी फिल्म टिमलाई धन्यवाद          1\n",
       "17                                                             1\n",
       "18  यो फ्लिम हेरिसकेपछी थाहा भयो कि किन दर्सकहरुले...          1\n",
       "19        उहाको अभिनयको जति नै तारिफ गरे नि कमै हुन्छ          1"
      ]
     },
     "execution_count": 12,
     "metadata": {},
     "output_type": "execute_result"
    }
   ],
   "source": [
    "df_final.head(20)"
   ]
  },
  {
   "cell_type": "code",
   "execution_count": 13,
   "metadata": {},
   "outputs": [
    {
     "name": "stdout",
     "output_type": "stream",
     "text": [
      "Sentiment\n",
      "1    16142\n",
      "2    14544\n",
      "0     5571\n",
      "Name: count, dtype: int64\n"
     ]
    }
   ],
   "source": [
    "print(df_final['Sentiment'].value_counts())"
   ]
  },
  {
   "cell_type": "code",
   "execution_count": 14,
   "metadata": {},
   "outputs": [
    {
     "name": "stdout",
     "output_type": "stream",
     "text": [
      "373\n"
     ]
    }
   ],
   "source": [
    "# check for duplicates\n",
    "print(df_final.duplicated().sum())"
   ]
  },
  {
   "cell_type": "code",
   "execution_count": 15,
   "metadata": {},
   "outputs": [
    {
     "data": {
      "text/html": [
       "<div>\n",
       "<style scoped>\n",
       "    .dataframe tbody tr th:only-of-type {\n",
       "        vertical-align: middle;\n",
       "    }\n",
       "\n",
       "    .dataframe tbody tr th {\n",
       "        vertical-align: top;\n",
       "    }\n",
       "\n",
       "    .dataframe thead th {\n",
       "        text-align: right;\n",
       "    }\n",
       "</style>\n",
       "<table border=\"1\" class=\"dataframe\">\n",
       "  <thead>\n",
       "    <tr style=\"text-align: right;\">\n",
       "      <th></th>\n",
       "      <th>Sentences</th>\n",
       "      <th>Sentiment</th>\n",
       "    </tr>\n",
       "  </thead>\n",
       "  <tbody>\n",
       "    <tr>\n",
       "      <th>17</th>\n",
       "      <td></td>\n",
       "      <td>1</td>\n",
       "    </tr>\n",
       "    <tr>\n",
       "      <th>20</th>\n",
       "      <td></td>\n",
       "      <td>1</td>\n",
       "    </tr>\n",
       "    <tr>\n",
       "      <th>31</th>\n",
       "      <td></td>\n",
       "      <td>1</td>\n",
       "    </tr>\n",
       "    <tr>\n",
       "      <th>32</th>\n",
       "      <td></td>\n",
       "      <td>1</td>\n",
       "    </tr>\n",
       "    <tr>\n",
       "      <th>35</th>\n",
       "      <td></td>\n",
       "      <td>1</td>\n",
       "    </tr>\n",
       "    <tr>\n",
       "      <th>...</th>\n",
       "      <td>...</td>\n",
       "      <td>...</td>\n",
       "    </tr>\n",
       "    <tr>\n",
       "      <th>28791</th>\n",
       "      <td>परीक्षणको दायरालाई वृद्धि गर्न आजदेखि धनगढी ने...</td>\n",
       "      <td>1</td>\n",
       "    </tr>\n",
       "    <tr>\n",
       "      <th>28792</th>\n",
       "      <td>कोभिड हजार जनाको नमुना परीक्षण</td>\n",
       "      <td>2</td>\n",
       "    </tr>\n",
       "    <tr>\n",
       "      <th>28799</th>\n",
       "      <td>कोभिड को सङ्क्रमित व्यक्ति भेटिएको भन्दै अफवाह...</td>\n",
       "      <td>2</td>\n",
       "    </tr>\n",
       "    <tr>\n",
       "      <th>28800</th>\n",
       "      <td>कोभिड अपडेट संक्रमित को मृत्यु कुन देशमा कति म...</td>\n",
       "      <td>2</td>\n",
       "    </tr>\n",
       "    <tr>\n",
       "      <th>28802</th>\n",
       "      <td>लकडाउनमा पनि भारतीय नाका हुँदै नेपाल प्रवेश गर...</td>\n",
       "      <td>2</td>\n",
       "    </tr>\n",
       "  </tbody>\n",
       "</table>\n",
       "<p>373 rows × 2 columns</p>\n",
       "</div>"
      ],
      "text/plain": [
       "                                               Sentences  Sentiment\n",
       "17                                                                1\n",
       "20                                                                1\n",
       "31                                                                1\n",
       "32                                                                1\n",
       "35                                                                1\n",
       "...                                                  ...        ...\n",
       "28791  परीक्षणको दायरालाई वृद्धि गर्न आजदेखि धनगढी ने...          1\n",
       "28792                     कोभिड हजार जनाको नमुना परीक्षण          2\n",
       "28799  कोभिड को सङ्क्रमित व्यक्ति भेटिएको भन्दै अफवाह...          2\n",
       "28800  कोभिड अपडेट संक्रमित को मृत्यु कुन देशमा कति म...          2\n",
       "28802  लकडाउनमा पनि भारतीय नाका हुँदै नेपाल प्रवेश गर...          2\n",
       "\n",
       "[373 rows x 2 columns]"
      ]
     },
     "execution_count": 15,
     "metadata": {},
     "output_type": "execute_result"
    }
   ],
   "source": [
    "# show the duplicates\n",
    "df_final[df_final.duplicated()]"
   ]
  },
  {
   "cell_type": "code",
   "execution_count": 16,
   "metadata": {},
   "outputs": [
    {
     "data": {
      "text/plain": [
       "'परीक्षणको दायरालाई वृद्धि गर्न आजदेखि धनगढी नेपालगञ्ज र पोखरामा ठूला मेशिनको जडान भइरहेको छ स्वास्थ्य मन्त्रालयका प्रवक्ता डा विकास देवकोटाले भने भोलिदेखि नै ती मेशिनबाट परीक्षण शुरू हुनेछ कोभिड कोरोना'"
      ]
     },
     "execution_count": 16,
     "metadata": {},
     "output_type": "execute_result"
    }
   ],
   "source": [
    "# display the Sentences column for the data at row 28791\n",
    "df_final.loc[28791, 'Sentences']"
   ]
  },
  {
   "cell_type": "code",
   "execution_count": 17,
   "metadata": {},
   "outputs": [
    {
     "data": {
      "text/html": [
       "<div>\n",
       "<style scoped>\n",
       "    .dataframe tbody tr th:only-of-type {\n",
       "        vertical-align: middle;\n",
       "    }\n",
       "\n",
       "    .dataframe tbody tr th {\n",
       "        vertical-align: top;\n",
       "    }\n",
       "\n",
       "    .dataframe thead th {\n",
       "        text-align: right;\n",
       "    }\n",
       "</style>\n",
       "<table border=\"1\" class=\"dataframe\">\n",
       "  <thead>\n",
       "    <tr style=\"text-align: right;\">\n",
       "      <th></th>\n",
       "      <th>Sentences</th>\n",
       "      <th>Sentiment</th>\n",
       "    </tr>\n",
       "  </thead>\n",
       "  <tbody>\n",
       "    <tr>\n",
       "      <th>28775</th>\n",
       "      <td>परीक्षणको दायरालाई वृद्धि गर्न आजदेखि धनगढी ने...</td>\n",
       "      <td>1</td>\n",
       "    </tr>\n",
       "    <tr>\n",
       "      <th>28791</th>\n",
       "      <td>परीक्षणको दायरालाई वृद्धि गर्न आजदेखि धनगढी ने...</td>\n",
       "      <td>1</td>\n",
       "    </tr>\n",
       "  </tbody>\n",
       "</table>\n",
       "</div>"
      ],
      "text/plain": [
       "                                               Sentences  Sentiment\n",
       "28775  परीक्षणको दायरालाई वृद्धि गर्न आजदेखि धनगढी ने...          1\n",
       "28791  परीक्षणको दायरालाई वृद्धि गर्न आजदेखि धनगढी ने...          1"
      ]
     },
     "execution_count": 17,
     "metadata": {},
     "output_type": "execute_result"
    }
   ],
   "source": [
    "# display the rows containing the data ''\n",
    "df_final[df_final['Sentences'] == 'परीक्षणको दायरालाई वृद्धि गर्न आजदेखि धनगढी नेपालगञ्ज र पोखरामा ठूला मेशिनको जडान भइरहेको छ स्वास्थ्य मन्त्रालयका प्रवक्ता डा विकास देवकोटाले भने भोलिदेखि नै ती मेशिनबाट परीक्षण शुरू हुनेछ कोभिड कोरोना']"
   ]
  },
  {
   "cell_type": "code",
   "execution_count": 18,
   "metadata": {},
   "outputs": [
    {
     "name": "stdout",
     "output_type": "stream",
     "text": [
      "Empty DataFrame\n",
      "Columns: [Sentences, Sentiment]\n",
      "Index: []\n"
     ]
    }
   ],
   "source": [
    "# check if any row contains english characters in the 'Sentences' column and print the row\n",
    "print(df_final[df_final['Sentences'].str.contains(r'[a-zA-Z]')])"
   ]
  },
  {
   "cell_type": "code",
   "execution_count": 19,
   "metadata": {},
   "outputs": [],
   "source": [
    "# drop duplicates\n",
    "df_final = df_final.drop_duplicates()"
   ]
  },
  {
   "cell_type": "code",
   "execution_count": 20,
   "metadata": {},
   "outputs": [
    {
     "name": "stdout",
     "output_type": "stream",
     "text": [
      "0\n"
     ]
    }
   ],
   "source": [
    "print(df_final.duplicated().sum())"
   ]
  },
  {
   "cell_type": "code",
   "execution_count": 21,
   "metadata": {},
   "outputs": [
    {
     "data": {
      "image/png": "[encoded data removed]",
      "text/plain": [
       "<Figure size 500x300 with 1 Axes>"
      ]
     },
     "metadata": {},
     "output_type": "display_data"
    }
   ],
   "source": [
    "plt.figure(figsize=(5, 3))\n",
    "sns.countplot(data=df_final, x='Sentiment')\n",
    "plt.show()"
   ]
  },
  {
   "cell_type": "markdown",
   "metadata": {},
   "source": [
    "---"
   ]
  },
  {
   "cell_type": "code",
   "execution_count": 22,
   "metadata": {},
   "outputs": [],
   "source": [
    "import re\n",
    "from utils.preprocess import remove_html_tags, remove_extra_whitespace"
   ]
  },
  {
   "cell_type": "code",
   "execution_count": 23,
   "metadata": {},
   "outputs": [],
   "source": [
    "def preprocess(text):\n",
    "    \"\"\"\n",
    "    Preprocesses a text string to retain only Nepali characters, numbers, and specific punctuation.\n",
    "    Removes HTML tags, mentions, URLs, and extra whitespaces.\n",
    "    \n",
    "    Args:\n",
    "        text (str): The input text to preprocess.\n",
    "    \n",
    "    Returns:\n",
    "        str: The preprocessed text.\n",
    "    \"\"\"\n",
    "    # Remove HTML tags\n",
    "    text = remove_html_tags(text)\n",
    "\n",
    "    # Remove mentions (e.g., @username)\n",
    "    text = re.sub(r'@\\w+', '', text)\n",
    "\n",
    "    # Remove URLs\n",
    "    text = re.sub(r'http.?://[^\\s]+[\\s]?', '', text)\n",
    "\n",
    "    # Retain only Nepali character, and punctuations (? and Nepali purnabiram)\n",
    "    text = re.sub(r'[^\\u0900-\\u097F०-९।?]', ' ', text)\n",
    "\n",
    "    # Replace multiple spaces with a single space and strip leading/trailing spaces\n",
    "    text = re.sub(r'\\s+', ' ', text).strip()\n",
    "\n",
    "    return text"
   ]
  },
  {
   "cell_type": "code",
   "execution_count": 24,
   "metadata": {},
   "outputs": [
    {
     "name": "stdout",
     "output_type": "stream",
     "text": [
      "Original text:\n",
      "पुरुष भनेर ठाडो शिर बनाएर हिड्नु नि गार्हो यि पृथिवी को भार हरुले गर्दा\n",
      "\n",
      "Cleaned text:\n",
      "पुरुष भनेर ठाडो शिर बनाएर हिड्नु नि गार्हो यि पृथिवी को भार हरुले गर्दा\n"
     ]
    }
   ],
   "source": [
    "text = df_final.iloc[1598]['Sentences']\n",
    "\n",
    "cleaned_text = preprocess(text)\n",
    "\n",
    "print(f\"Original text:\\n{text}\")\n",
    "print(f\"\\nCleaned text:\\n{cleaned_text}\")"
   ]
  },
  {
   "cell_type": "code",
   "execution_count": 25,
   "metadata": {},
   "outputs": [
    {
     "name": "stderr",
     "output_type": "stream",
     "text": [
      "  0%|          | 0/35884 [00:00<?, ?it/s]"
     ]
    },
    {
     "name": "stderr",
     "output_type": "stream",
     "text": [
      "100%|██████████| 35884/35884 [00:00<00:00, 82803.57it/s]\n"
     ]
    }
   ],
   "source": [
    "from tqdm import tqdm\n",
    "tqdm.pandas()\n",
    "\n",
    "# Apply the preprocess_text function to the 'text' column\n",
    "df_final.loc[:, 'Sentences'] = df_final['Sentences'].progress_apply(preprocess)"
   ]
  },
  {
   "cell_type": "code",
   "execution_count": 26,
   "metadata": {},
   "outputs": [
    {
     "data": {
      "text/html": [
       "<div>\n",
       "<style scoped>\n",
       "    .dataframe tbody tr th:only-of-type {\n",
       "        vertical-align: middle;\n",
       "    }\n",
       "\n",
       "    .dataframe tbody tr th {\n",
       "        vertical-align: top;\n",
       "    }\n",
       "\n",
       "    .dataframe thead th {\n",
       "        text-align: right;\n",
       "    }\n",
       "</style>\n",
       "<table border=\"1\" class=\"dataframe\">\n",
       "  <thead>\n",
       "    <tr style=\"text-align: right;\">\n",
       "      <th></th>\n",
       "      <th>Sentences</th>\n",
       "      <th>Sentiment</th>\n",
       "    </tr>\n",
       "  </thead>\n",
       "  <tbody>\n",
       "    <tr>\n",
       "      <th>0</th>\n",
       "      <td>म एक शिक्षक शिक्षा क्षेत्रमा रमाएको मान्छे</td>\n",
       "      <td>1</td>\n",
       "    </tr>\n",
       "    <tr>\n",
       "      <th>1</th>\n",
       "      <td>सामुदायिक विद्यालयमा अध्यापन गराउछु</td>\n",
       "      <td>1</td>\n",
       "    </tr>\n",
       "    <tr>\n",
       "      <th>2</th>\n",
       "      <td>मलाइ यो चलचित्रले मन नै छोयो</td>\n",
       "      <td>1</td>\n",
       "    </tr>\n",
       "    <tr>\n",
       "      <th>3</th>\n",
       "      <td>वास्तविक घटना यहि हो कि नेपालका तमाम सामुदायिक...</td>\n",
       "      <td>1</td>\n",
       "    </tr>\n",
       "    <tr>\n",
       "      <th>4</th>\n",
       "      <td>यस्तै शिक्षा सम्बन्धीको चलचित्र बनोस भनेर अपेक...</td>\n",
       "      <td>1</td>\n",
       "    </tr>\n",
       "  </tbody>\n",
       "</table>\n",
       "</div>"
      ],
      "text/plain": [
       "                                           Sentences  Sentiment\n",
       "0         म एक शिक्षक शिक्षा क्षेत्रमा रमाएको मान्छे          1\n",
       "1                सामुदायिक विद्यालयमा अध्यापन गराउछु          1\n",
       "2                       मलाइ यो चलचित्रले मन नै छोयो          1\n",
       "3  वास्तविक घटना यहि हो कि नेपालका तमाम सामुदायिक...          1\n",
       "4  यस्तै शिक्षा सम्बन्धीको चलचित्र बनोस भनेर अपेक...          1"
      ]
     },
     "execution_count": 26,
     "metadata": {},
     "output_type": "execute_result"
    }
   ],
   "source": [
    "df_final.head()"
   ]
  },
  {
   "cell_type": "code",
   "execution_count": 27,
   "metadata": {},
   "outputs": [
    {
     "data": {
      "text/plain": [
       "(35884, 2)"
      ]
     },
     "execution_count": 27,
     "metadata": {},
     "output_type": "execute_result"
    }
   ],
   "source": [
    "df_final.shape"
   ]
  },
  {
   "cell_type": "code",
   "execution_count": 28,
   "metadata": {},
   "outputs": [
    {
     "data": {
      "text/html": [
       "<div>\n",
       "<style scoped>\n",
       "    .dataframe tbody tr th:only-of-type {\n",
       "        vertical-align: middle;\n",
       "    }\n",
       "\n",
       "    .dataframe tbody tr th {\n",
       "        vertical-align: top;\n",
       "    }\n",
       "\n",
       "    .dataframe thead th {\n",
       "        text-align: right;\n",
       "    }\n",
       "</style>\n",
       "<table border=\"1\" class=\"dataframe\">\n",
       "  <thead>\n",
       "    <tr style=\"text-align: right;\">\n",
       "      <th></th>\n",
       "      <th>Sentences</th>\n",
       "      <th>Sentiment</th>\n",
       "    </tr>\n",
       "  </thead>\n",
       "  <tbody>\n",
       "    <tr>\n",
       "      <th>9</th>\n",
       "      <td></td>\n",
       "      <td>1</td>\n",
       "    </tr>\n",
       "    <tr>\n",
       "      <th>23</th>\n",
       "      <td></td>\n",
       "      <td>2</td>\n",
       "    </tr>\n",
       "    <tr>\n",
       "      <th>892</th>\n",
       "      <td></td>\n",
       "      <td>1</td>\n",
       "    </tr>\n",
       "    <tr>\n",
       "      <th>1009</th>\n",
       "      <td>मनपरि नबोलौँ भन्छु साला यस्तै पोष्ट देखेपछि दि...</td>\n",
       "      <td>1</td>\n",
       "    </tr>\n",
       "    <tr>\n",
       "      <th>1069</th>\n",
       "      <td></td>\n",
       "      <td>0</td>\n",
       "    </tr>\n",
       "    <tr>\n",
       "      <th>...</th>\n",
       "      <td>...</td>\n",
       "      <td>...</td>\n",
       "    </tr>\n",
       "    <tr>\n",
       "      <th>28795</th>\n",
       "      <td>अहिले पनि झण्डै डेढ सय आयोजनामा एक लाख हजार का...</td>\n",
       "      <td>1</td>\n",
       "    </tr>\n",
       "    <tr>\n",
       "      <th>28796</th>\n",
       "      <td>हालसम्म टेकुस्थित राष्ट्रिय जनस्वास्थ्य प्रयोग...</td>\n",
       "      <td>1</td>\n",
       "    </tr>\n",
       "    <tr>\n",
       "      <th>28797</th>\n",
       "      <td>कोभिड द्धारा नेपालमा सृजित हुने प्रभावबारे त्र...</td>\n",
       "      <td>0</td>\n",
       "    </tr>\n",
       "    <tr>\n",
       "      <th>28798</th>\n",
       "      <td>कोभिड ले स्वास्थ्य खर्च अकासिने अर्थतन्त्र मन्...</td>\n",
       "      <td>2</td>\n",
       "    </tr>\n",
       "    <tr>\n",
       "      <th>28801</th>\n",
       "      <td>लकडाउन बैसाख गते सम्म हाम्रो उत्तम बिकल्प यहि ...</td>\n",
       "      <td>2</td>\n",
       "    </tr>\n",
       "  </tbody>\n",
       "</table>\n",
       "<p>72 rows × 2 columns</p>\n",
       "</div>"
      ],
      "text/plain": [
       "                                               Sentences  Sentiment\n",
       "9                                                                 1\n",
       "23                                                                2\n",
       "892                                                               1\n",
       "1009   मनपरि नबोलौँ भन्छु साला यस्तै पोष्ट देखेपछि दि...          1\n",
       "1069                                                              0\n",
       "...                                                  ...        ...\n",
       "28795  अहिले पनि झण्डै डेढ सय आयोजनामा एक लाख हजार का...          1\n",
       "28796  हालसम्म टेकुस्थित राष्ट्रिय जनस्वास्थ्य प्रयोग...          1\n",
       "28797  कोभिड द्धारा नेपालमा सृजित हुने प्रभावबारे त्र...          0\n",
       "28798  कोभिड ले स्वास्थ्य खर्च अकासिने अर्थतन्त्र मन्...          2\n",
       "28801  लकडाउन बैसाख गते सम्म हाम्रो उत्तम बिकल्प यहि ...          2\n",
       "\n",
       "[72 rows x 2 columns]"
      ]
     },
     "execution_count": 28,
     "metadata": {},
     "output_type": "execute_result"
    }
   ],
   "source": [
    "# check for duplicate rows based on the 'Sentences' column\n",
    "duplicates = df_final[df_final.duplicated(subset=['Sentences'], keep=False)]\n",
    "duplicates"
   ]
  },
  {
   "cell_type": "code",
   "execution_count": 29,
   "metadata": {},
   "outputs": [
    {
     "data": {
      "text/html": [
       "<div>\n",
       "<style scoped>\n",
       "    .dataframe tbody tr th:only-of-type {\n",
       "        vertical-align: middle;\n",
       "    }\n",
       "\n",
       "    .dataframe tbody tr th {\n",
       "        vertical-align: top;\n",
       "    }\n",
       "\n",
       "    .dataframe thead th {\n",
       "        text-align: right;\n",
       "    }\n",
       "</style>\n",
       "<table border=\"1\" class=\"dataframe\">\n",
       "  <thead>\n",
       "    <tr style=\"text-align: right;\">\n",
       "      <th></th>\n",
       "      <th>Sentences</th>\n",
       "      <th>Sentiment</th>\n",
       "    </tr>\n",
       "  </thead>\n",
       "  <tbody>\n",
       "    <tr>\n",
       "      <th>88</th>\n",
       "      <td>ताइ न तुइ को फिलिम</td>\n",
       "      <td>2</td>\n",
       "    </tr>\n",
       "  </tbody>\n",
       "</table>\n",
       "</div>"
      ],
      "text/plain": [
       "             Sentences  Sentiment\n",
       "88  ताइ न तुइ को फिलिम          2"
      ]
     },
     "execution_count": 29,
     "metadata": {},
     "output_type": "execute_result"
    }
   ],
   "source": [
    "df_final[df_final['Sentences'] == 'ताइ न तुइ को फिलिम']"
   ]
  },
  {
   "cell_type": "code",
   "execution_count": 30,
   "metadata": {},
   "outputs": [],
   "source": [
    "df_final = df_final.drop_duplicates(subset=['Sentences'], keep='first')"
   ]
  },
  {
   "cell_type": "code",
   "execution_count": 31,
   "metadata": {},
   "outputs": [
    {
     "name": "stdout",
     "output_type": "stream",
     "text": [
      "Number of duplicate rows: 0\n"
     ]
    }
   ],
   "source": [
    "# show the number of duplicate rows based on column 'Sentences'\n",
    "print(f\"Number of duplicate rows: {df_final.duplicated(subset=['Sentences']).sum()}\")"
   ]
  },
  {
   "cell_type": "code",
   "execution_count": 32,
   "metadata": {},
   "outputs": [
    {
     "name": "stdout",
     "output_type": "stream",
     "text": [
      "Sentences    0\n",
      "Sentiment    0\n",
      "dtype: int64\n"
     ]
    }
   ],
   "source": [
    "# show the number of null values in each column\n",
    "print(df_final.isnull().sum())"
   ]
  },
  {
   "cell_type": "code",
   "execution_count": 33,
   "metadata": {},
   "outputs": [
    {
     "data": {
      "text/plain": [
       "(35847, 2)"
      ]
     },
     "execution_count": 33,
     "metadata": {},
     "output_type": "execute_result"
    }
   ],
   "source": [
    "df_final.shape"
   ]
  },
  {
   "cell_type": "code",
   "execution_count": 34,
   "metadata": {},
   "outputs": [
    {
     "name": "stdout",
     "output_type": "stream",
     "text": [
      "Sentiment\n",
      "1    15952\n",
      "2    14421\n",
      "0     5474\n",
      "Name: count, dtype: int64\n"
     ]
    }
   ],
   "source": [
    "print(df_final['Sentiment'].value_counts())"
   ]
  },
  {
   "cell_type": "code",
   "execution_count": 35,
   "metadata": {},
   "outputs": [
    {
     "data": {
      "text/html": [
       "<div>\n",
       "<style scoped>\n",
       "    .dataframe tbody tr th:only-of-type {\n",
       "        vertical-align: middle;\n",
       "    }\n",
       "\n",
       "    .dataframe tbody tr th {\n",
       "        vertical-align: top;\n",
       "    }\n",
       "\n",
       "    .dataframe thead th {\n",
       "        text-align: right;\n",
       "    }\n",
       "</style>\n",
       "<table border=\"1\" class=\"dataframe\">\n",
       "  <thead>\n",
       "    <tr style=\"text-align: right;\">\n",
       "      <th></th>\n",
       "      <th>Sentences</th>\n",
       "      <th>Sentiment</th>\n",
       "    </tr>\n",
       "  </thead>\n",
       "  <tbody>\n",
       "    <tr>\n",
       "      <th>9</th>\n",
       "      <td></td>\n",
       "      <td>1</td>\n",
       "    </tr>\n",
       "  </tbody>\n",
       "</table>\n",
       "</div>"
      ],
      "text/plain": [
       "  Sentences  Sentiment\n",
       "9                    1"
      ]
     },
     "execution_count": 35,
     "metadata": {},
     "output_type": "execute_result"
    }
   ],
   "source": [
    "# find the rows with Sentences column as empty string, not null\n",
    "df_final[df_final['Sentences'] == '']"
   ]
  },
  {
   "cell_type": "code",
   "execution_count": 36,
   "metadata": {},
   "outputs": [],
   "source": [
    "# remove the rows with empty string in the 'Sentences' column\n",
    "df_final = df_final[df_final['Sentences'] != '']"
   ]
  },
  {
   "cell_type": "code",
   "execution_count": 37,
   "metadata": {},
   "outputs": [
    {
     "name": "stdout",
     "output_type": "stream",
     "text": [
      "File saved at c:\\Users\\Suyash Shrestha\\Personal\\_Nepali_news_project\\Nepali_News_algorithms\\news_algorithms\\nepali_sentiment_analysis\\dataset\\cleaned\\cleaned_sentiment_analysis_nepali_final.csv\n"
     ]
    }
   ],
   "source": [
    "OUTPUT_DIR = os.path.join(\n",
    "    project_root,\n",
    "    'nepali_sentiment_analysis',\n",
    "    'dataset',\n",
    "    'cleaned'\n",
    ")\n",
    "\n",
    "if not os.path.exists(OUTPUT_DIR):\n",
    "    os.makedirs(OUTPUT_DIR)\n",
    "\n",
    "OUTPUT_PATH = os.path.join(\n",
    "    OUTPUT_DIR,\n",
    "    'cleaned_sentiment_analysis_nepali_final.csv'\n",
    ")\n",
    "\n",
    "df_final.to_csv(OUTPUT_PATH, index=False)\n",
    "if os.path.exists(OUTPUT_PATH):\n",
    "    print(f\"File saved at {OUTPUT_PATH}\")\n",
    "else:\n",
    "    print(\"File not saved\")"
   ]
  }
 ],
 "metadata": {
  "kernelspec": {
   "display_name": "nepali-news-algorithms-J5nQd0Uu-py3.12",
   "language": "python",
   "name": "python3"
  },
  "language_info": {
   "codemirror_mode": {
    "name": "ipython",
    "version": 3
   },
   "file_extension": ".py",
   "mimetype": "text/x-python",
   "name": "python",
   "nbconvert_exporter": "python",
   "pygments_lexer": "ipython3",
   "version": "3.12.4"
  }
 },
 "nbformat": 4,
 "nbformat_minor": 2
}
