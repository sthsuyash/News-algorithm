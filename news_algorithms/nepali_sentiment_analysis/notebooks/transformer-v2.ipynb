{
 "cells": [
  {
   "cell_type": "markdown",
   "metadata": {},
   "source": []
  },
  {
   "cell_type": "code",
   "execution_count": 1,
   "metadata": {},
   "outputs": [],
   "source": [
    "import os\n",
    "import pandas as pd\n",
    "import numpy as np\n",
    "import torch\n",
    "import torch.nn as nn\n",
    "import torch.nn.functional as F\n",
    "import torch.optim as optim\n",
    "import matplotlib.pyplot as plt\n",
    "import seaborn as sns\n",
    "from tqdm import tqdm\n",
    "from sklearn.metrics import classification_report, confusion_matrix, f1_score, precision_score, recall_score\n",
    "from torch.utils.data import DataLoader, TensorDataset, random_split\n",
    "from sklearn.model_selection import train_test_split\n",
    "import re"
   ]
  },
  {
   "cell_type": "code",
   "execution_count": 2,
   "metadata": {},
   "outputs": [
    {
     "name": "stdout",
     "output_type": "stream",
     "text": [
      "Device: cuda\n"
     ]
    }
   ],
   "source": [
    "device = torch.device(\"cuda\" if torch.cuda.is_available() else \"cpu\")\n",
    "print(\"Device:\", device)"
   ]
  },
  {
   "cell_type": "code",
   "execution_count": 3,
   "metadata": {},
   "outputs": [],
   "source": [
    "import sys\n",
    "current_dir = os.getcwd()\n",
    "project_root = os.path.abspath(os.path.join(current_dir, '../../'))\n",
    "sys.path.append(project_root)"
   ]
  },
  {
   "cell_type": "markdown",
   "metadata": {},
   "source": [
    "### Data Loading and Preprocessing"
   ]
  },
  {
   "cell_type": "code",
   "execution_count": 4,
   "metadata": {},
   "outputs": [],
   "source": [
    "DATASET_PATH = os.path.join(\n",
    "    project_root,\n",
    "    'nepali_sentiment_analysis',\n",
    "    'dataset',\n",
    "    'processed',\n",
    "    'combined_cleaned_data.csv'\n",
    ")"
   ]
  },
  {
   "cell_type": "code",
   "execution_count": 5,
   "metadata": {},
   "outputs": [
    {
     "name": "stdout",
     "output_type": "stream",
     "text": [
      "Dataset Loaded Successfully!\n"
     ]
    },
    {
     "data": {
      "text/html": [
       "<div>\n",
       "<style scoped>\n",
       "    .dataframe tbody tr th:only-of-type {\n",
       "        vertical-align: middle;\n",
       "    }\n",
       "\n",
       "    .dataframe tbody tr th {\n",
       "        vertical-align: top;\n",
       "    }\n",
       "\n",
       "    .dataframe thead th {\n",
       "        text-align: right;\n",
       "    }\n",
       "</style>\n",
       "<table border=\"1\" class=\"dataframe\">\n",
       "  <thead>\n",
       "    <tr style=\"text-align: right;\">\n",
       "      <th></th>\n",
       "      <th>Sentiment</th>\n",
       "      <th>Sentences</th>\n",
       "    </tr>\n",
       "  </thead>\n",
       "  <tbody>\n",
       "    <tr>\n",
       "      <th>0</th>\n",
       "      <td>0</td>\n",
       "      <td>पुन निर्वाचन गरे यस्तै हुने हो</td>\n",
       "    </tr>\n",
       "    <tr>\n",
       "      <th>1</th>\n",
       "      <td>0</td>\n",
       "      <td>निर्वाचन कति गरिरहने</td>\n",
       "    </tr>\n",
       "    <tr>\n",
       "      <th>2</th>\n",
       "      <td>0</td>\n",
       "      <td>शासन व्यवस्था चुनाव पध्दति फेर्नु एउटा उपचार हो</td>\n",
       "    </tr>\n",
       "    <tr>\n",
       "      <th>3</th>\n",
       "      <td>0</td>\n",
       "      <td>क्या अचम्मकाे नगरपालिका डाेजरम्यान बालेनकाे</td>\n",
       "    </tr>\n",
       "    <tr>\n",
       "      <th>4</th>\n",
       "      <td>0</td>\n",
       "      <td>प्युठान नगरपालिका नेपाल स्वयंसेवक राष्ट्रिय सम...</td>\n",
       "    </tr>\n",
       "  </tbody>\n",
       "</table>\n",
       "</div>"
      ],
      "text/plain": [
       "   Sentiment                                          Sentences\n",
       "0          0                     पुन निर्वाचन गरे यस्तै हुने हो\n",
       "1          0                               निर्वाचन कति गरिरहने\n",
       "2          0    शासन व्यवस्था चुनाव पध्दति फेर्नु एउटा उपचार हो\n",
       "3          0        क्या अचम्मकाे नगरपालिका डाेजरम्यान बालेनकाे\n",
       "4          0  प्युठान नगरपालिका नेपाल स्वयंसेवक राष्ट्रिय सम..."
      ]
     },
     "execution_count": 5,
     "metadata": {},
     "output_type": "execute_result"
    }
   ],
   "source": [
    "df = pd.read_csv(DATASET_PATH)\n",
    "print(\"Dataset Loaded Successfully!\")\n",
    "df.head()"
   ]
  },
  {
   "cell_type": "markdown",
   "metadata": {},
   "source": [
    "#### Sentiment Distribution"
   ]
  },
  {
   "cell_type": "code",
   "execution_count": 6,
   "metadata": {},
   "outputs": [
    {
     "name": "stdout",
     "output_type": "stream",
     "text": [
      "\n",
      "Sentiment Distribution:\n",
      "Sentiment\n",
      "1    15951\n",
      "2    14422\n",
      "0    13263\n",
      "Name: count, dtype: int64\n"
     ]
    }
   ],
   "source": [
    "print(\"\\nSentiment Distribution:\")\n",
    "print(df['Sentiment'].value_counts())"
   ]
  },
  {
   "cell_type": "markdown",
   "metadata": {},
   "source": [
    "#### Visualization"
   ]
  },
  {
   "cell_type": "code",
   "execution_count": 7,
   "metadata": {},
   "outputs": [
    {
     "data": {
      "image/png": "[encoded data removed]",
      "text/plain": [
       "<Figure size 600x400 with 1 Axes>"
      ]
     },
     "metadata": {},
     "output_type": "display_data"
    }
   ],
   "source": [
    "from nepali_sentiment_analysis.utils import visualization\n",
    "\n",
    "labels_dict = {0: 'Neutral', 1: 'Positive', 2: 'Negative'}\n",
    "\n",
    "visualization.plot_sentiment_distribution(\n",
    "    df, 'Sentiment Distribution', labels_dict\n",
    ")\n"
   ]
  },
  {
   "cell_type": "markdown",
   "metadata": {},
   "source": [
    "#### Preprocessing"
   ]
  },
  {
   "cell_type": "code",
   "execution_count": 8,
   "metadata": {},
   "outputs": [
    {
     "name": "stderr",
     "output_type": "stream",
     "text": [
      "100%|██████████| 43636/43636 [00:00<00:00, 52698.92it/s]"
     ]
    },
    {
     "name": "stdout",
     "output_type": "stream",
     "text": [
      "\n",
      "Sample Preprocessed Text:\n"
     ]
    },
    {
     "name": "stderr",
     "output_type": "stream",
     "text": [
      "\n"
     ]
    },
    {
     "data": {
      "text/html": [
       "<div>\n",
       "<style scoped>\n",
       "    .dataframe tbody tr th:only-of-type {\n",
       "        vertical-align: middle;\n",
       "    }\n",
       "\n",
       "    .dataframe tbody tr th {\n",
       "        vertical-align: top;\n",
       "    }\n",
       "\n",
       "    .dataframe thead th {\n",
       "        text-align: right;\n",
       "    }\n",
       "</style>\n",
       "<table border=\"1\" class=\"dataframe\">\n",
       "  <thead>\n",
       "    <tr style=\"text-align: right;\">\n",
       "      <th></th>\n",
       "      <th>Sentiment</th>\n",
       "      <th>Sentences</th>\n",
       "      <th>Processed_Sentences</th>\n",
       "    </tr>\n",
       "  </thead>\n",
       "  <tbody>\n",
       "    <tr>\n",
       "      <th>0</th>\n",
       "      <td>0</td>\n",
       "      <td>पुन निर्वाचन गरे यस्तै हुने हो</td>\n",
       "      <td>पुन निर्वाचन गरे यस्तै हुने हो</td>\n",
       "    </tr>\n",
       "    <tr>\n",
       "      <th>1</th>\n",
       "      <td>0</td>\n",
       "      <td>निर्वाचन कति गरिरहने</td>\n",
       "      <td>निर्वाचन कति गरिरहने</td>\n",
       "    </tr>\n",
       "    <tr>\n",
       "      <th>2</th>\n",
       "      <td>0</td>\n",
       "      <td>शासन व्यवस्था चुनाव पध्दति फेर्नु एउटा उपचार हो</td>\n",
       "      <td>शासन व्यवस्था चुनाव पध्दति फेर्नु एउटा उपचार हो</td>\n",
       "    </tr>\n",
       "    <tr>\n",
       "      <th>3</th>\n",
       "      <td>0</td>\n",
       "      <td>क्या अचम्मकाे नगरपालिका डाेजरम्यान बालेनकाे</td>\n",
       "      <td>क्या अचम्मकाे नगरपालिका डाेजरम्यान बालेनकाे</td>\n",
       "    </tr>\n",
       "    <tr>\n",
       "      <th>4</th>\n",
       "      <td>0</td>\n",
       "      <td>प्युठान नगरपालिका नेपाल स्वयंसेवक राष्ट्रिय सम...</td>\n",
       "      <td>प्युठान नगरपालिका नेपाल स्वयंसेवक राष्ट्रिय सम...</td>\n",
       "    </tr>\n",
       "  </tbody>\n",
       "</table>\n",
       "</div>"
      ],
      "text/plain": [
       "   Sentiment                                          Sentences  \\\n",
       "0          0                     पुन निर्वाचन गरे यस्तै हुने हो   \n",
       "1          0                               निर्वाचन कति गरिरहने   \n",
       "2          0    शासन व्यवस्था चुनाव पध्दति फेर्नु एउटा उपचार हो   \n",
       "3          0        क्या अचम्मकाे नगरपालिका डाेजरम्यान बालेनकाे   \n",
       "4          0  प्युठान नगरपालिका नेपाल स्वयंसेवक राष्ट्रिय सम...   \n",
       "\n",
       "                                 Processed_Sentences  \n",
       "0                     पुन निर्वाचन गरे यस्तै हुने हो  \n",
       "1                               निर्वाचन कति गरिरहने  \n",
       "2    शासन व्यवस्था चुनाव पध्दति फेर्नु एउटा उपचार हो  \n",
       "3        क्या अचम्मकाे नगरपालिका डाेजरम्यान बालेनकाे  \n",
       "4  प्युठान नगरपालिका नेपाल स्वयंसेवक राष्ट्रिय सम...  "
      ]
     },
     "execution_count": 8,
     "metadata": {},
     "output_type": "execute_result"
    }
   ],
   "source": [
    "from utils.preprocess import preprocess\n",
    "\n",
    "tqdm.pandas()\n",
    "df[\"Processed_Sentences\"] = df[\"Sentences\"].progress_apply(lambda x: preprocess(x))\n",
    "\n",
    "print(\"\\nSample Preprocessed Text:\")\n",
    "df.head()\n"
   ]
  },
  {
   "cell_type": "markdown",
   "metadata": {},
   "source": [
    "#### Embedding\n"
   ]
  },
  {
   "cell_type": "code",
   "execution_count": 9,
   "metadata": {},
   "outputs": [
    {
     "name": "stdout",
     "output_type": "stream",
     "text": [
      "Loaded embeddings with dimension: 300\n"
     ]
    }
   ],
   "source": [
    "from utils.embedding import Embeddings\n",
    "\n",
    "embedding_path = \"models/nepali_embeddings_word2vec.kv\"\n",
    "word_vectors = Embeddings().load_vector()\n",
    "\n",
    "embedding_dim = word_vectors.vector_size\n",
    "print(f\"Loaded embeddings with dimension: {embedding_dim}\")"
   ]
  },
  {
   "cell_type": "code",
   "execution_count": 10,
   "metadata": {},
   "outputs": [
    {
     "name": "stdout",
     "output_type": "stream",
     "text": [
      "Embedded Sentences Shape: (43636, 32, 300)\n"
     ]
    }
   ],
   "source": [
    "# Sentence to embedding conversion with improved handling\n",
    "max_length = 32\n",
    "\n",
    "\n",
    "def sentence_to_embedding(sentence):\n",
    "    tokens = sentence.split()\n",
    "    embeddings = [\n",
    "        word_vectors[token] if token in word_vectors else np.zeros(\n",
    "            embedding_dim)\n",
    "        for token in tokens\n",
    "    ]\n",
    "    if len(embeddings) > max_length:\n",
    "        embeddings = embeddings[:max_length]\n",
    "    else:\n",
    "        embeddings += [np.zeros(embedding_dim)] * \\\n",
    "            (max_length - len(embeddings))\n",
    "    return np.array(embeddings)\n",
    "\n",
    "\n",
    "embedded_sentences = np.array(\n",
    "    df[\"Processed_Sentences\"].apply(sentence_to_embedding).tolist())\n",
    "sentiments = df[\"Sentiment\"].values\n",
    "\n",
    "print(f\"Embedded Sentences Shape: {embedded_sentences.shape}\")"
   ]
  },
  {
   "cell_type": "markdown",
   "metadata": {},
   "source": [
    "### Model Definition"
   ]
  },
  {
   "cell_type": "code",
   "execution_count": 11,
   "metadata": {},
   "outputs": [],
   "source": [
    "import math\n",
    "\n",
    "\n",
    "class SentimentTransformer(nn.Module):\n",
    "    def __init__(self, d_model, num_heads, num_layers, num_classes, d_ff, max_len, dropout):\n",
    "        super(SentimentTransformer, self).__init__()\n",
    "        self.positional_encoding = PositionalEncoding(d_model, max_len)\n",
    "        self.encoder_layers = nn.ModuleList(\n",
    "            [EncoderLayer(d_model, num_heads, d_ff, dropout)\n",
    "             for _ in range(num_layers)]\n",
    "        )\n",
    "        self.classifier = nn.Linear(d_model, num_classes)\n",
    "\n",
    "    def forward(self, x):\n",
    "        x = self.positional_encoding(x)\n",
    "        for layer in self.encoder_layers:\n",
    "            x = layer(x)\n",
    "        x = x.mean(dim=1)\n",
    "        return self.classifier(x)\n",
    "\n",
    "\n",
    "class PositionalEncoding(nn.Module):\n",
    "    def __init__(self, d_model, max_len):\n",
    "        super(PositionalEncoding, self).__init__()\n",
    "        self.encoding = torch.zeros(max_len, d_model)\n",
    "        position = torch.arange(0, max_len).unsqueeze(1)\n",
    "        div_term = torch.exp(-torch.arange(0, d_model, 2)\n",
    "                             * (math.log(10000.0) / d_model))\n",
    "        self.encoding[:, 0::2] = torch.sin(position * div_term)\n",
    "        self.encoding[:, 1::2] = torch.cos(position * div_term)\n",
    "        self.encoding = self.encoding.unsqueeze(0)\n",
    "\n",
    "    def forward(self, x):\n",
    "        return x + self.encoding[:, :x.size(1), :].to(x.device)\n",
    "\n",
    "\n",
    "class EncoderLayer(nn.Module):\n",
    "    def __init__(self, d_model, num_heads, d_ff, dropout):\n",
    "        super(EncoderLayer, self).__init__()\n",
    "        self.self_attn = MultiHeadAttention(d_model, num_heads)\n",
    "        self.feed_forward = nn.Sequential(\n",
    "            nn.Linear(d_model, d_ff),\n",
    "            nn.ReLU(),\n",
    "            nn.Linear(d_ff, d_model)\n",
    "        )\n",
    "        self.norm1 = nn.LayerNorm(d_model)\n",
    "        self.norm2 = nn.LayerNorm(d_model)\n",
    "        self.dropout = nn.Dropout(dropout)\n",
    "\n",
    "    def forward(self, x):\n",
    "        attn_output = self.self_attn(x, x, x)\n",
    "        x = self.norm1(x + attn_output)\n",
    "        x = self.norm2(x + self.feed_forward(x))\n",
    "        return self.dropout(x)\n",
    "\n",
    "\n",
    "class MultiHeadAttention(nn.Module):\n",
    "    def __init__(self, d_model, num_heads):\n",
    "        super(MultiHeadAttention, self).__init__()\n",
    "        assert d_model % num_heads == 0\n",
    "        self.d_k = d_model // num_heads\n",
    "        self.num_heads = num_heads\n",
    "        self.q_linear = nn.Linear(d_model, d_model)\n",
    "        self.k_linear = nn.Linear(d_model, d_model)\n",
    "        self.v_linear = nn.Linear(d_model, d_model)\n",
    "        self.out = nn.Linear(d_model, d_model)\n",
    "\n",
    "    def forward(self, q, k, v):\n",
    "        bs = q.size(0)\n",
    "        q = self.q_linear(q).view(bs, -1, self.num_heads,\n",
    "                                  self.d_k).transpose(1, 2)\n",
    "        k = self.k_linear(k).view(bs, -1, self.num_heads,\n",
    "                                  self.d_k).transpose(1, 2)\n",
    "        v = self.v_linear(v).view(bs, -1, self.num_heads,\n",
    "                                  self.d_k).transpose(1, 2)\n",
    "        scores = torch.matmul(q, k.transpose(-2, -1)) / math.sqrt(self.d_k)\n",
    "        attn = F.softmax(scores, dim=-1)\n",
    "        output = torch.matmul(attn, v).transpose(\n",
    "            1, 2).contiguous().view(bs, -1, self.num_heads * self.d_k)\n",
    "        return self.out(output)"
   ]
  },
  {
   "cell_type": "markdown",
   "metadata": {},
   "source": [
    "### Data Preparation for Training"
   ]
  },
  {
   "cell_type": "code",
   "execution_count": 12,
   "metadata": {},
   "outputs": [],
   "source": [
    "\n",
    "from torch.utils.data import DataLoader, TensorDataset, random_split\n",
    "\n",
    "# Convert data to tensors\n",
    "embedded_sentences_tensor = torch.tensor(\n",
    "    embedded_sentences, dtype=torch.float32)\n",
    "sentiments_tensor = torch.tensor(sentiments, dtype=torch.long)"
   ]
  },
  {
   "cell_type": "code",
   "execution_count": 13,
   "metadata": {},
   "outputs": [],
   "source": [
    "# Create dataset and split\n",
    "dataset = TensorDataset(embedded_sentences_tensor, sentiments_tensor)\n",
    "train_size = int(0.8 * len(dataset))\n",
    "val_size = len(dataset) - train_size\n",
    "train_dataset, val_dataset = random_split(dataset, [train_size, val_size])"
   ]
  },
  {
   "cell_type": "code",
   "execution_count": 14,
   "metadata": {},
   "outputs": [],
   "source": [
    "# Create DataLoader for batch processing\n",
    "batch_size = 32\n",
    "train_loader = DataLoader(train_dataset, batch_size=batch_size, shuffle=True)\n",
    "val_loader = DataLoader(val_dataset, batch_size=batch_size)"
   ]
  },
  {
   "cell_type": "code",
   "execution_count": 15,
   "metadata": {},
   "outputs": [
    {
     "name": "stdout",
     "output_type": "stream",
     "text": [
      "Training Set Size: 34908\n",
      "Validation Set Size: 8728\n"
     ]
    }
   ],
   "source": [
    "# Print dataset sizes\n",
    "print(f\"Training Set Size: {train_size}\")\n",
    "print(f\"Validation Set Size: {val_size}\")"
   ]
  },
  {
   "cell_type": "markdown",
   "metadata": {},
   "source": [
    "### Model Initialization and Hyperparameters"
   ]
  },
  {
   "cell_type": "code",
   "execution_count": 16,
   "metadata": {},
   "outputs": [],
   "source": [
    "# Model parameters\n",
    "d_model = embedding_dim\n",
    "num_heads = 4\n",
    "num_layers = 2\n",
    "num_classes = 3\n",
    "d_ff = 128\n",
    "dropout = 0.1\n",
    "max_len = max_length"
   ]
  },
  {
   "cell_type": "code",
   "execution_count": 17,
   "metadata": {},
   "outputs": [],
   "source": [
    "# Class weights (to handle class imbalance)\n",
    "class_counts = df['Sentiment'].value_counts().sort_index().values\n",
    "class_weights = 1.0 / class_counts\n",
    "class_weights = class_weights / class_weights.sum()\n",
    "class_weights_tensor = torch.tensor(\n",
    "    class_weights, \n",
    "    dtype=torch.float32\n",
    "    ).to(device)"
   ]
  },
  {
   "cell_type": "code",
   "execution_count": 18,
   "metadata": {},
   "outputs": [],
   "source": [
    "# Instantiate the model\n",
    "model = SentimentTransformer(\n",
    "    d_model, num_heads, num_layers, num_classes, d_ff, max_len, dropout\n",
    ").to(device)"
   ]
  },
  {
   "cell_type": "code",
   "execution_count": 19,
   "metadata": {},
   "outputs": [],
   "source": [
    "# Define weighted loss function and optimizer\n",
    "criterion = nn.CrossEntropyLoss(weight=class_weights_tensor)\n",
    "optimizer = optim.Adam(model.parameters(), lr=0.001)"
   ]
  },
  {
   "cell_type": "code",
   "execution_count": 20,
   "metadata": {},
   "outputs": [
    {
     "name": "stderr",
     "output_type": "stream",
     "text": [
      "c:\\Users\\Suyash Shrestha\\AppData\\Local\\pypoetry\\Cache\\virtualenvs\\nepali-news-algorithms-J5nQd0Uu-py3.12\\Lib\\site-packages\\torch\\optim\\lr_scheduler.py:62: UserWarning: The verbose parameter is deprecated. Please use get_last_lr() to access the learning rate.\n",
      "  warnings.warn(\n"
     ]
    }
   ],
   "source": [
    "# Learning rate scheduler\n",
    "scheduler = optim.lr_scheduler.ReduceLROnPlateau(\n",
    "    optimizer, mode='min', factor=0.5, patience=3, verbose=True\n",
    ")"
   ]
  },
  {
   "cell_type": "code",
   "execution_count": 21,
   "metadata": {},
   "outputs": [],
   "source": [
    "# Early stopping parameters\n",
    "early_stopping_patience = 5\n",
    "best_val_loss = float('inf')\n",
    "no_improvement_epochs = 0"
   ]
  },
  {
   "cell_type": "markdown",
   "metadata": {},
   "source": [
    "### Training Loop with Early Stopping"
   ]
  },
  {
   "cell_type": "code",
   "execution_count": 22,
   "metadata": {},
   "outputs": [
    {
     "name": "stdout",
     "output_type": "stream",
     "text": [
      "Epoch 1/50, Train Loss: 0.7619, Validation Loss: 0.7192, Validation Accuracy: 0.6849\n",
      "Validation loss improved. Model saved.\n",
      "Epoch 2/50, Train Loss: 0.7329, Validation Loss: 0.7383, Validation Accuracy: 0.6934\n",
      "Epoch 3/50, Train Loss: 0.7206, Validation Loss: 0.7371, Validation Accuracy: 0.6841\n",
      "Epoch 4/50, Train Loss: 0.7171, Validation Loss: 0.7374, Validation Accuracy: 0.6913\n",
      "Epoch 5/50, Train Loss: 0.7136, Validation Loss: 0.7322, Validation Accuracy: 0.6833\n",
      "Epoch 6/50, Train Loss: 0.6863, Validation Loss: 0.6967, Validation Accuracy: 0.7002\n",
      "Validation loss improved. Model saved.\n",
      "Epoch 7/50, Train Loss: 0.6732, Validation Loss: 0.6959, Validation Accuracy: 0.7002\n",
      "Validation loss improved. Model saved.\n",
      "Epoch 8/50, Train Loss: 0.6669, Validation Loss: 0.6942, Validation Accuracy: 0.7020\n",
      "Validation loss improved. Model saved.\n",
      "Epoch 9/50, Train Loss: 0.6632, Validation Loss: 0.6959, Validation Accuracy: 0.7029\n",
      "Epoch 10/50, Train Loss: 0.6549, Validation Loss: 0.6880, Validation Accuracy: 0.7013\n",
      "Validation loss improved. Model saved.\n",
      "Epoch 11/50, Train Loss: 0.6505, Validation Loss: 0.6896, Validation Accuracy: 0.7092\n",
      "Epoch 12/50, Train Loss: 0.6490, Validation Loss: 0.6906, Validation Accuracy: 0.7038\n",
      "Epoch 13/50, Train Loss: 0.6488, Validation Loss: 0.6887, Validation Accuracy: 0.7070\n",
      "Epoch 14/50, Train Loss: 0.6437, Validation Loss: 0.6939, Validation Accuracy: 0.7004\n",
      "Epoch 15/50, Train Loss: 0.6293, Validation Loss: 0.6936, Validation Accuracy: 0.7080\n",
      "Early stopping triggered.\n"
     ]
    }
   ],
   "source": [
    "num_epochs = 50\n",
    "train_losses, val_losses, val_accuracies = [], [], []\n",
    "\n",
    "for epoch in range(num_epochs):\n",
    "    # Training phase\n",
    "    model.train()\n",
    "    total_train_loss = 0\n",
    "\n",
    "    for inputs, labels in train_loader:\n",
    "        inputs, labels = inputs.to(device), labels.to(device)\n",
    "\n",
    "        # Forward pass\n",
    "        outputs = model(inputs)\n",
    "        loss = criterion(outputs, labels)\n",
    "\n",
    "        # Backward pass\n",
    "        optimizer.zero_grad()\n",
    "        loss.backward()\n",
    "        optimizer.step()\n",
    "\n",
    "        total_train_loss += loss.item()\n",
    "\n",
    "    # Validation phase\n",
    "    model.eval()\n",
    "    total_val_loss, correct_predictions = 0, 0\n",
    "    with torch.no_grad():\n",
    "        for inputs, labels in val_loader:\n",
    "            inputs, labels = inputs.to(device), labels.to(device)\n",
    "            outputs = model(inputs)\n",
    "            loss = criterion(outputs, labels)\n",
    "            total_val_loss += loss.item()\n",
    "\n",
    "            # Compute accuracy\n",
    "            _, predicted = torch.max(outputs, 1)\n",
    "            correct_predictions += (predicted == labels).sum().item()\n",
    "\n",
    "    # Calculate metrics\n",
    "    train_loss = total_train_loss / len(train_loader)\n",
    "    val_loss = total_val_loss / len(val_loader)\n",
    "    val_accuracy = correct_predictions / len(val_loader.dataset)\n",
    "\n",
    "    # Save metrics\n",
    "    train_losses.append(train_loss)\n",
    "    val_losses.append(val_loss)\n",
    "    val_accuracies.append(val_accuracy)\n",
    "\n",
    "    # Print epoch summary\n",
    "    print(\n",
    "        f\"Epoch {epoch + 1}/{num_epochs}, \"\n",
    "        f\"Train Loss: {train_loss:.4f}, Validation Loss: {val_loss:.4f}, \"\n",
    "        f\"Validation Accuracy: {val_accuracy:.4f}\"\n",
    "    )\n",
    "\n",
    "    # Update scheduler and check early stopping\n",
    "    scheduler.step(val_loss)\n",
    "    if val_loss < best_val_loss:\n",
    "        best_val_loss = val_loss\n",
    "        no_improvement_epochs = 0\n",
    "        torch.save(model.state_dict(), \"best_model.pth\")\n",
    "        print(\"Validation loss improved. Model saved.\")\n",
    "    else:\n",
    "        no_improvement_epochs += 1\n",
    "        if no_improvement_epochs >= early_stopping_patience:\n",
    "            print(\"Early stopping triggered.\")\n",
    "            break"
   ]
  },
  {
   "cell_type": "markdown",
   "metadata": {},
   "source": [
    "### Training Visualization"
   ]
  },
  {
   "cell_type": "code",
   "execution_count": 23,
   "metadata": {},
   "outputs": [
    {
     "data": {
      "image/png": "[encoded data removed]",
      "text/plain": [
       "<Figure size 1000x500 with 1 Axes>"
      ]
     },
     "metadata": {},
     "output_type": "display_data"
    }
   ],
   "source": [
    "# Plot training and validation loss\n",
    "plt.figure(figsize=(10, 5))\n",
    "plt.plot(train_losses, label=\"Train Loss\")\n",
    "plt.plot(val_losses, label=\"Validation Loss\")\n",
    "plt.title(\"Loss Curve\")\n",
    "plt.xlabel(\"Epochs\")\n",
    "plt.ylabel(\"Loss\")\n",
    "plt.legend()\n",
    "plt.show()"
   ]
  },
  {
   "cell_type": "code",
   "execution_count": 24,
   "metadata": {},
   "outputs": [
    {
     "data": {
      "image/png": "[encoded data removed]",
      "text/plain": [
       "<Figure size 1000x500 with 1 Axes>"
      ]
     },
     "metadata": {},
     "output_type": "display_data"
    }
   ],
   "source": [
    "# Plot validation accuracy\n",
    "plt.figure(figsize=(10, 5))\n",
    "plt.plot(val_accuracies, label=\"Validation Accuracy\", color=\"green\")\n",
    "plt.title(\"Validation Accuracy Curve\")\n",
    "plt.xlabel(\"Epochs\")\n",
    "plt.ylabel(\"Accuracy\")\n",
    "plt.legend()\n",
    "plt.show()"
   ]
  },
  {
   "cell_type": "markdown",
   "metadata": {},
   "source": [
    "### Evaluation"
   ]
  },
  {
   "cell_type": "code",
   "execution_count": 25,
   "metadata": {},
   "outputs": [
    {
     "name": "stdout",
     "output_type": "stream",
     "text": [
      "Best model loaded for evaluation.\n"
     ]
    },
    {
     "name": "stderr",
     "output_type": "stream",
     "text": [
      "C:\\Users\\Suyash Shrestha\\AppData\\Local\\Temp\\ipykernel_18388\\2669732529.py:2: FutureWarning: You are using `torch.load` with `weights_only=False` (the current default value), which uses the default pickle module implicitly. It is possible to construct malicious pickle data which will execute arbitrary code during unpickling (See https://github.com/pytorch/pytorch/blob/main/SECURITY.md#untrusted-models for more details). In a future release, the default value for `weights_only` will be flipped to `True`. This limits the functions that could be executed during unpickling. Arbitrary objects will no longer be allowed to be loaded via this mode unless they are explicitly allowlisted by the user via `torch.serialization.add_safe_globals`. We recommend you start setting `weights_only=True` for any use case where you don't have full control of the loaded file. Please open an issue on GitHub for any issues related to this experimental feature.\n",
      "  model.load_state_dict(torch.load(\"best_model.pth\"))\n"
     ]
    }
   ],
   "source": [
    "# Load the best model\n",
    "model.load_state_dict(torch.load(\"best_model.pth\"))\n",
    "model.eval()\n",
    "print(\"Best model loaded for evaluation.\")"
   ]
  },
  {
   "cell_type": "code",
   "execution_count": 26,
   "metadata": {},
   "outputs": [],
   "source": [
    "\n",
    "# Evaluate model on validation set\n",
    "predictions, actuals = [], []\n",
    "\n",
    "with torch.no_grad():\n",
    "    for inputs, labels in val_loader:\n",
    "        inputs, labels = inputs.to(device), labels.to(device)\n",
    "        outputs = model(inputs)\n",
    "        _, predicted = torch.max(outputs, 1)\n",
    "        predictions.extend(predicted.cpu().numpy())\n",
    "        actuals.extend(labels.cpu().numpy())"
   ]
  },
  {
   "cell_type": "code",
   "execution_count": 27,
   "metadata": {},
   "outputs": [],
   "source": [
    "# Calculate metrics\n",
    "f1 = f1_score(actuals, predictions, average=\"weighted\")\n",
    "precision = precision_score(actuals, predictions, average=\"weighted\")\n",
    "recall = recall_score(actuals, predictions, average=\"weighted\")\n",
    "conf_matrix = confusion_matrix(actuals, predictions)"
   ]
  },
  {
   "cell_type": "code",
   "execution_count": 28,
   "metadata": {},
   "outputs": [
    {
     "name": "stdout",
     "output_type": "stream",
     "text": [
      "F1 Score: 0.7014\n",
      "Precision: 0.7025\n",
      "Recall: 0.7013\n",
      "\n",
      "Classification Report:\n",
      "              precision    recall  f1-score   support\n",
      "\n",
      "     Neutral       0.73      0.68      0.71      2626\n",
      "    Positive       0.70      0.69      0.70      3168\n",
      "    Negative       0.68      0.73      0.70      2934\n",
      "\n",
      "    accuracy                           0.70      8728\n",
      "   macro avg       0.70      0.70      0.70      8728\n",
      "weighted avg       0.70      0.70      0.70      8728\n",
      "\n"
     ]
    }
   ],
   "source": [
    "# Display metrics\n",
    "print(f\"F1 Score: {f1:.4f}\")\n",
    "print(f\"Precision: {precision:.4f}\")\n",
    "print(f\"Recall: {recall:.4f}\")\n",
    "print(\"\\nClassification Report:\")\n",
    "print(classification_report(actuals, predictions,\n",
    "      target_names=[\"Neutral\", \"Positive\", \"Negative\"]))"
   ]
  },
  {
   "cell_type": "code",
   "execution_count": 29,
   "metadata": {},
   "outputs": [
    {
     "data": {
      "image/png": "[encoded data removed]",
      "text/plain": [
       "<Figure size 800x600 with 2 Axes>"
      ]
     },
     "metadata": {},
     "output_type": "display_data"
    }
   ],
   "source": [
    "# Plot confusion matrix\n",
    "plt.figure(figsize=(8, 6))\n",
    "sns.heatmap(\n",
    "    conf_matrix,\n",
    "    annot=True,\n",
    "    fmt='d',\n",
    "    cmap='Blues',\n",
    "    xticklabels=[\"Neutral\", \"Positive\", \"Negative\"],\n",
    "    yticklabels=[\"Neutral\", \"Positive\", \"Negative\"]\n",
    ")\n",
    "plt.title(\"Confusion Matrix\")\n",
    "plt.xlabel(\"Predicted\")\n",
    "plt.ylabel(\"Actual\")\n",
    "plt.show()"
   ]
  }
 ],
 "metadata": {
  "kernelspec": {
   "display_name": "nepali-news-algorithms-J5nQd0Uu-py3.12",
   "language": "python",
   "name": "python3"
  },
  "language_info": {
   "codemirror_mode": {
    "name": "ipython",
    "version": 3
   },
   "file_extension": ".py",
   "mimetype": "text/x-python",
   "name": "python",
   "nbconvert_exporter": "python",
   "pygments_lexer": "ipython3",
   "version": "3.12.4"
  }
 },
 "nbformat": 4,
 "nbformat_minor": 2
}
