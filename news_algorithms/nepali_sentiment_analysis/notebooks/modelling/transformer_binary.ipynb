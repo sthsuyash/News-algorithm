{
 "cells": [
  {
   "cell_type": "markdown",
   "id": "958487d9-4b79-4384-8805-849cf5c887d2",
   "metadata": {},
   "source": [
    "# Nepali Sentiment analysis with transformer architecture\n"
   ]
  },
  {
   "cell_type": "code",
   "execution_count": 1,
   "id": "8d1212b6-3a99-4f3a-921d-cf60d53a5300",
   "metadata": {},
   "outputs": [
    {
     "name": "stdout",
     "output_type": "stream",
     "text": [
      "Note: you may need to restart the kernel to use updated packages.\n"
     ]
    },
    {
     "name": "stderr",
     "output_type": "stream",
     "text": [
      "\n",
      "[notice] A new release of pip is available: 24.2 -> 24.3.1\n",
      "[notice] To update, run: python.exe -m pip install --upgrade pip\n"
     ]
    }
   ],
   "source": [
    "%pip install --quiet gensim nltk optuna seaborn torch"
   ]
  },
  {
   "cell_type": "code",
   "execution_count": 2,
   "id": "62125e13-7944-4072-b0d4-642a325c9a10",
   "metadata": {},
   "outputs": [],
   "source": [
    "import os\n",
    "import numpy as np\n",
    "import pandas as pd\n",
    "import seaborn as sns\n",
    "import matplotlib.pyplot as plt\n",
    "\n",
    "import torch\n",
    "import torch.nn as nn\n",
    "import torch.optim as optim\n",
    "from torch.utils.data import DataLoader, TensorDataset\n",
    "\n",
    "import pickle\n",
    "import gensim\n",
    "from gensim.models import Word2Vec\n",
    "\n",
    "from collections import Counter\n",
    "from sklearn.model_selection import train_test_split\n",
    "from sklearn.metrics import accuracy_score, precision_score, recall_score, f1_score, confusion_matrix, classification_report"
   ]
  },
  {
   "cell_type": "code",
   "execution_count": 3,
   "id": "10a017cc-50e5-4f81-9df7-9b1c49aca6d9",
   "metadata": {},
   "outputs": [],
   "source": [
    "os.chdir(\"../../..\")\n",
    "from src.utils.visualization import plot_sentiment_distribution"
   ]
  },
  {
   "cell_type": "code",
   "execution_count": 4,
   "id": "6ee2ccf7-b5f4-4672-bf96-35a9d1cd281e",
   "metadata": {},
   "outputs": [
    {
     "data": {
      "text/html": [
       "<div>\n",
       "<style scoped>\n",
       "    .dataframe tbody tr th:only-of-type {\n",
       "        vertical-align: middle;\n",
       "    }\n",
       "\n",
       "    .dataframe tbody tr th {\n",
       "        vertical-align: top;\n",
       "    }\n",
       "\n",
       "    .dataframe thead th {\n",
       "        text-align: right;\n",
       "    }\n",
       "</style>\n",
       "<table border=\"1\" class=\"dataframe\">\n",
       "  <thead>\n",
       "    <tr style=\"text-align: right;\">\n",
       "      <th></th>\n",
       "      <th>Sentences</th>\n",
       "      <th>Sentiment</th>\n",
       "    </tr>\n",
       "  </thead>\n",
       "  <tbody>\n",
       "    <tr>\n",
       "      <th>0</th>\n",
       "      <td>पुन निर्वाचन गरे यस्तै हुने हो निर्वाचन कति गर...</td>\n",
       "      <td>0</td>\n",
       "    </tr>\n",
       "    <tr>\n",
       "      <th>1</th>\n",
       "      <td>क्या अचम्मकाे नगरपालिका डाेजरम्यान बालेनकाे</td>\n",
       "      <td>0</td>\n",
       "    </tr>\n",
       "    <tr>\n",
       "      <th>2</th>\n",
       "      <td>प्युठान नगरपालिका नेपाल स्वयंसेवक राष्ट्रिय सम...</td>\n",
       "      <td>0</td>\n",
       "    </tr>\n",
       "    <tr>\n",
       "      <th>3</th>\n",
       "      <td>कपिलवस्तुको शिवराज नगरपालिका का बासिन्दाले पाए...</td>\n",
       "      <td>0</td>\n",
       "    </tr>\n",
       "    <tr>\n",
       "      <th>4</th>\n",
       "      <td>कपिलवस्तुको शिवराज नगरपालिका का बासिन्दाले वर्...</td>\n",
       "      <td>0</td>\n",
       "    </tr>\n",
       "  </tbody>\n",
       "</table>\n",
       "</div>"
      ],
      "text/plain": [
       "                                           Sentences  Sentiment\n",
       "0  पुन निर्वाचन गरे यस्तै हुने हो निर्वाचन कति गर...          0\n",
       "1        क्या अचम्मकाे नगरपालिका डाेजरम्यान बालेनकाे          0\n",
       "2  प्युठान नगरपालिका नेपाल स्वयंसेवक राष्ट्रिय सम...          0\n",
       "3  कपिलवस्तुको शिवराज नगरपालिका का बासिन्दाले पाए...          0\n",
       "4  कपिलवस्तुको शिवराज नगरपालिका का बासिन्दाले वर्...          0"
      ]
     },
     "execution_count": 4,
     "metadata": {},
     "output_type": "execute_result"
    }
   ],
   "source": [
    "df = pd.read_csv(\n",
    "    'dataset/processed/combined_sentiment_dataset.csv', encoding='utf-8')\n",
    "df.head()"
   ]
  },
  {
   "cell_type": "code",
   "execution_count": 5,
   "id": "1e34ac27",
   "metadata": {},
   "outputs": [
    {
     "data": {
      "text/plain": [
       "(40708, 2)"
      ]
     },
     "execution_count": 5,
     "metadata": {},
     "output_type": "execute_result"
    }
   ],
   "source": [
    "df.shape"
   ]
  },
  {
   "cell_type": "code",
   "execution_count": 6,
   "id": "d8ff03bb-46af-460d-a409-c0d896862ea0",
   "metadata": {},
   "outputs": [
    {
     "data": {
      "image/png": "[encoded data removed]",
      "text/plain": [
       "<Figure size 600x400 with 1 Axes>"
      ]
     },
     "metadata": {},
     "output_type": "display_data"
    }
   ],
   "source": [
    "labels_dict = {0: 'Neutral', 1: 'Positive', 2: 'Negative'}\n",
    "\n",
    "plot_sentiment_distribution(\n",
    "    df, 'Sentiment Distribution', labels_dict\n",
    ")"
   ]
  },
  {
   "cell_type": "code",
   "execution_count": 7,
   "id": "0df5eb45-34c0-4ab5-a92a-447ccf5c73a7",
   "metadata": {},
   "outputs": [
    {
     "data": {
      "text/plain": [
       "Sentiment\n",
       "1    15857\n",
       "0    14393\n",
       "Name: count, dtype: int64"
      ]
     },
     "execution_count": 7,
     "metadata": {},
     "output_type": "execute_result"
    }
   ],
   "source": [
    "df = df[df['Sentiment'] != 0]\n",
    "df = df.reset_index(drop=True)\n",
    "\n",
    "df['Sentiment'] = df['Sentiment'].replace(2, 0)\n",
    "df['Sentiment'].value_counts()"
   ]
  },
  {
   "cell_type": "code",
   "execution_count": 8,
   "id": "f1fff834-ea6c-4226-9c3e-f3104585dd01",
   "metadata": {},
   "outputs": [
    {
     "data": {
      "image/png": "[encoded data removed]",
      "text/plain": [
       "<Figure size 600x400 with 1 Axes>"
      ]
     },
     "metadata": {},
     "output_type": "display_data"
    }
   ],
   "source": [
    "labels_dict = {0: 'Negative', 1: 'Positive'}\n",
    "\n",
    "plot_sentiment_distribution(\n",
    "    df, 'Sentiment Distribution', labels_dict\n",
    ")"
   ]
  },
  {
   "cell_type": "markdown",
   "id": "c7bbbdcc-a59e-439d-bff0-3f3e7611f315",
   "metadata": {},
   "source": [
    "### Preprocessing\n"
   ]
  },
  {
   "cell_type": "code",
   "execution_count": 9,
   "id": "c75aba01-7a6d-442e-ba2f-ea285838f4ab",
   "metadata": {},
   "outputs": [
    {
     "data": {
      "text/html": [
       "<div>\n",
       "<style scoped>\n",
       "    .dataframe tbody tr th:only-of-type {\n",
       "        vertical-align: middle;\n",
       "    }\n",
       "\n",
       "    .dataframe tbody tr th {\n",
       "        vertical-align: top;\n",
       "    }\n",
       "\n",
       "    .dataframe thead th {\n",
       "        text-align: right;\n",
       "    }\n",
       "</style>\n",
       "<table border=\"1\" class=\"dataframe\">\n",
       "  <thead>\n",
       "    <tr style=\"text-align: right;\">\n",
       "      <th></th>\n",
       "      <th>Sentences</th>\n",
       "      <th>Sentiment</th>\n",
       "    </tr>\n",
       "  </thead>\n",
       "  <tbody>\n",
       "    <tr>\n",
       "      <th>9953</th>\n",
       "      <td>रक्षाबन्धन जनै पूर्णिमा राखी विविध स्वरूपमा सा...</td>\n",
       "      <td>1</td>\n",
       "    </tr>\n",
       "    <tr>\n",
       "      <th>24967</th>\n",
       "      <td>निजी अस्पतालमा कोभिड का बिरामीको उपचार व्यवस्थ...</td>\n",
       "      <td>1</td>\n",
       "    </tr>\n",
       "    <tr>\n",
       "      <th>15440</th>\n",
       "      <td>नरैनापुरकै प्राथमिक स्वास्थ्य केन्द्रमा आइसोले...</td>\n",
       "      <td>1</td>\n",
       "    </tr>\n",
       "    <tr>\n",
       "      <th>28181</th>\n",
       "      <td>कोभिड शंका लागेमा नमूना परीक्षणका लागि राष्ट्र...</td>\n",
       "      <td>1</td>\n",
       "    </tr>\n",
       "    <tr>\n",
       "      <th>16933</th>\n",
       "      <td>विश्व नै कोभिड सँग जुधिरहेको संकटकालीन अवस्थाम...</td>\n",
       "      <td>0</td>\n",
       "    </tr>\n",
       "  </tbody>\n",
       "</table>\n",
       "</div>"
      ],
      "text/plain": [
       "                                               Sentences  Sentiment\n",
       "9953   रक्षाबन्धन जनै पूर्णिमा राखी विविध स्वरूपमा सा...          1\n",
       "24967  निजी अस्पतालमा कोभिड का बिरामीको उपचार व्यवस्थ...          1\n",
       "15440  नरैनापुरकै प्राथमिक स्वास्थ्य केन्द्रमा आइसोले...          1\n",
       "28181  कोभिड शंका लागेमा नमूना परीक्षणका लागि राष्ट्र...          1\n",
       "16933  विश्व नै कोभिड सँग जुधिरहेको संकटकालीन अवस्थाम...          0"
      ]
     },
     "execution_count": 9,
     "metadata": {},
     "output_type": "execute_result"
    }
   ],
   "source": [
    "df.sample(5)"
   ]
  },
  {
   "cell_type": "code",
   "execution_count": 10,
   "id": "cb1ca441-73b5-4952-933f-ef305e9f9174",
   "metadata": {},
   "outputs": [
    {
     "name": "stdout",
     "output_type": "stream",
     "text": [
      "Average length of reviews: 113.0764958677686\n"
     ]
    }
   ],
   "source": [
    "df['review_length'] = df['Sentences'].apply(len)\n",
    "average_review_length = df['review_length'].mean()\n",
    "\n",
    "print(f\"Average length of reviews: {average_review_length}\")"
   ]
  },
  {
   "cell_type": "markdown",
   "id": "bdf751ec-21c5-4fe6-8916-16e0958866a5",
   "metadata": {},
   "source": [
    "### Tokenization\n"
   ]
  },
  {
   "cell_type": "code",
   "execution_count": 11,
   "id": "901f6052-575d-4128-9526-240fa46beee0",
   "metadata": {},
   "outputs": [],
   "source": [
    "from src.utils.preprocessing import tokenizer"
   ]
  },
  {
   "cell_type": "code",
   "execution_count": 12,
   "id": "a17a6549-df63-44f2-8252-9ee0fc0a5073",
   "metadata": {},
   "outputs": [],
   "source": [
    "sentences = [item for item in df['Sentences']]\n",
    "sentiments = [item for item in df['Sentiment']]\n",
    "\n",
    "tokenized_sentences = [tokenizer.tokenize(sentence) for sentence in sentences]"
   ]
  },
  {
   "cell_type": "code",
   "execution_count": 13,
   "id": "d1089b53-2508-418e-896f-d930833052b5",
   "metadata": {},
   "outputs": [
    {
     "name": "stdout",
     "output_type": "stream",
     "text": [
      "Found\n"
     ]
    }
   ],
   "source": [
    "import os\n",
    "from gensim.models import KeyedVectors\n",
    "\n",
    "# Load pre-trained Word2Vec model from the file\n",
    "word2vec_model_path = 'dataset/nepali_embeddings_word2vec.txt'\n",
    "\n",
    "# If you have saved the model in a pickle file before, load from pickle for faster loading\n",
    "embedding_model_file = 'src/models/nepali_word2vec_model.pkl'\n",
    "\n",
    "# Check if pickle file exists to load the embeddings faster\n",
    "if os.path.exists(embedding_model_file):\n",
    "    print(\"Found\")\n",
    "    with open(embedding_model_file, 'rb') as f:\n",
    "        word2vec_model = pickle.load(f)\n",
    "else:\n",
    "    # Load Word2Vec model if pickle file doesn't exist\n",
    "    word2vec_model = gensim.models.KeyedVectors.load_word2vec_format(\n",
    "        word2vec_model_path, binary=False)\n",
    "    # Save the model for future use\n",
    "    with open(embedding_model_file, 'wb') as f:\n",
    "        pickle.dump(word2vec_model, f)"
   ]
  },
  {
   "cell_type": "code",
   "execution_count": 14,
   "id": "0c7d8b37-c864-4bf8-8f18-6948c9c30ea5",
   "metadata": {},
   "outputs": [],
   "source": [
    "# Convert each token to its word2vec embedding\n",
    "max_length = 32\n",
    "\n",
    "embedded_reviews = []\n",
    "\n",
    "for tokens in tokenized_sentences:\n",
    "    review_vector = []\n",
    "    for token in tokens:\n",
    "        if token in word2vec_model:\n",
    "            review_vector.append(word2vec_model[token])\n",
    "        else:\n",
    "            # If token not found, use a zero vector\n",
    "            review_vector.append(np.zeros(word2vec_model.vector_size))\n",
    "\n",
    "    # Pad the review to max_length with zero vectors\n",
    "    if len(review_vector) > max_length:\n",
    "        review_vector = review_vector[:max_length]\n",
    "    else:\n",
    "        review_vector.extend(\n",
    "            [np.zeros(word2vec_model.vector_size)] * (max_length - len(review_vector)))\n",
    "\n",
    "    embedded_reviews.append(review_vector)"
   ]
  },
  {
   "cell_type": "code",
   "execution_count": 15,
   "id": "74de3f1e-bea5-4920-b94a-3e7c18090e87",
   "metadata": {},
   "outputs": [
    {
     "data": {
      "text/plain": [
       "(30250, 32, 300)"
      ]
     },
     "execution_count": 15,
     "metadata": {},
     "output_type": "execute_result"
    }
   ],
   "source": [
    "embedded_reviews_array = np.array(embedded_reviews)\n",
    "embedded_reviews_array.shape"
   ]
  },
  {
   "cell_type": "markdown",
   "id": "9493b84c-e744-4584-9f20-c3720628c563",
   "metadata": {},
   "source": [
    "## Transformer Model\n"
   ]
  },
  {
   "cell_type": "code",
   "execution_count": 16,
   "id": "dd5d4487-9386-4b7a-8cda-4fe8780b38d0",
   "metadata": {},
   "outputs": [],
   "source": [
    "from src.models.transformer_binary import NepaliSentimentBinaryModel"
   ]
  },
  {
   "cell_type": "code",
   "execution_count": 17,
   "id": "20a8b976-95a3-423a-bbd1-aef6a3063323",
   "metadata": {},
   "outputs": [],
   "source": [
    "# # Parameters\n",
    "# d_model = 300\n",
    "# num_heads = 4\n",
    "# num_layers = 2\n",
    "# num_classes = 2\n",
    "\n",
    "# d_ff = 600\n",
    "# max_len = max_length\n",
    "# dropout = 0.1\n",
    "\n",
    "# Parameters\n",
    "d_model = 300      # Embedding size (reasonable for most tasks)\n",
    "num_heads = 6      # Number of attention heads (divides d_model evenly)\n",
    "# Number of transformer layers (balance between depth and efficiency)\n",
    "num_layers = 4\n",
    "num_classes = 2    # Sentiment classification (positive/negative)\n",
    "\n",
    "d_ff = 60        # Feedforward layer size (2-4 times d_model for more capacity)\n",
    "# Max sequence length (adjust based on input text length)\n",
    "max_len = max_length\n",
    "# Dropout rate (balance between overfitting and underfitting)\n",
    "dropout = 0.1"
   ]
  },
  {
   "cell_type": "markdown",
   "id": "3b3fc5c7-a3e1-425b-82e3-afb895919098",
   "metadata": {},
   "source": [
    "- num_heads = 6 divides d_model evenly, improving attention mechanism efficiency.\n",
    "- num_layers = 4 provides a deeper model, allowing it to learn more complex patterns.\n",
    "- d_ff = 1024 provides a sufficient capacity for the feedforward network, allowing the model to learn richer transformations.\n",
    "- max_len = 256 is a middle ground that can handle most sequences without requiring excessive memory.\n",
    "- dropout = 0.1 keeps the model regularized while avoiding overfitting, but you can adjust it based on performance.\n"
   ]
  },
  {
   "cell_type": "code",
   "execution_count": null,
   "id": "36fc671d-1fd9-441a-8647-04801b872833",
   "metadata": {},
   "outputs": [],
   "source": [
    "model = NepaliSentimentBinaryModel(\n",
    "    d_model, num_heads, num_layers, d_ff, max_len, dropout\n",
    ")\n",
    "criterion = nn.CrossEntropyLoss()\n",
    "optimizer = torch.optim.AdamW(model.parameters(), lr=0.0001)"
   ]
  },
  {
   "cell_type": "code",
   "execution_count": null,
   "id": "e2fd0816-074e-40b6-9c7b-e6ba4d0e22f0",
   "metadata": {},
   "outputs": [],
   "source": [
    "sentiments_tensor = torch.tensor(sentiments, dtype=torch.long)\n",
    "embedded_reviews_tensor = torch.tensor(\n",
    "    embedded_reviews_array, \n",
    "    dtype=torch.float32\n",
    ")"
   ]
  },
  {
   "cell_type": "code",
   "execution_count": null,
   "id": "cdc131c8-a11a-436b-b678-2ecd30895a24",
   "metadata": {},
   "outputs": [],
   "source": [
    "device = \"cuda\" if torch.cuda.is_available() else \"cpu\"\n",
    "print(\"Device:\", device)\n",
    "model = model.to(device)"
   ]
  },
  {
   "cell_type": "code",
   "execution_count": null,
   "id": "e3ac2e40-1b13-4a3a-8fb5-0051836286e0",
   "metadata": {},
   "outputs": [],
   "source": [
    "# Shape: (30150, 32, 300)\n",
    "X = torch.tensor(embedded_reviews_array, dtype=torch.float32)\n",
    "y = torch.tensor(sentiments, dtype=torch.long)  # Shape: (30150,)\n",
    "\n",
    "print(f\"Shape of X: {X.shape}\")"
   ]
  },
  {
   "cell_type": "code",
   "execution_count": null,
   "id": "dd1f94c0",
   "metadata": {},
   "outputs": [],
   "source": [
    "# First, split into training and temp (validation + test) sets\n",
    "X_train, X_temp, y_train, y_temp = train_test_split(\n",
    "    X, y, test_size=0.3, random_state=42)"
   ]
  },
  {
   "cell_type": "code",
   "execution_count": null,
   "id": "b998f40c",
   "metadata": {},
   "outputs": [],
   "source": [
    "# Then, split the temp set into validation and test sets\n",
    "X_val, X_test, y_val, y_test = train_test_split(\n",
    "    X_temp, y_temp, test_size=0.5, random_state=42)"
   ]
  },
  {
   "cell_type": "code",
   "execution_count": null,
   "id": "e4285145",
   "metadata": {},
   "outputs": [],
   "source": [
    "# Convert to DataLoader for batch processing\n",
    "train_data = TensorDataset(X_train, y_train)\n",
    "val_data = TensorDataset(X_val, y_val)\n",
    "test_data = TensorDataset(X_test, y_test)"
   ]
  },
  {
   "cell_type": "code",
   "execution_count": null,
   "id": "1e2778a5",
   "metadata": {},
   "outputs": [],
   "source": [
    "train_loader = DataLoader(train_data, batch_size=64, shuffle=True)\n",
    "val_loader = DataLoader(val_data, batch_size=64, shuffle=False)\n",
    "test_loader = DataLoader(test_data, batch_size=64, shuffle=False)"
   ]
  },
  {
   "cell_type": "code",
   "execution_count": null,
   "id": "f81f144b",
   "metadata": {},
   "outputs": [],
   "source": [
    "# Early stopping parameters\n",
    "patience = 5  # Number of epochs with no improvement before stopping\n",
    "best_val_loss = float('inf')\n",
    "epochs_without_improvement = 0\n",
    "\n",
    "# Learning rate scheduler\n",
    "scheduler = optim.lr_scheduler.ReduceLROnPlateau(\n",
    "    optimizer, 'min', patience=2, factor=0.5)"
   ]
  },
  {
   "cell_type": "code",
   "execution_count": null,
   "id": "7ed87aaa",
   "metadata": {},
   "outputs": [],
   "source": [
    "# Training and evaluation function\n",
    "def evaluate(model, loader, device):\n",
    "    model.eval()\n",
    "    correct = 0\n",
    "    total = len(loader.dataset)\n",
    "    all_labels = []\n",
    "    all_predictions = []\n",
    "    with torch.no_grad():\n",
    "        for inputs, labels in loader:\n",
    "            inputs = inputs.to(device)\n",
    "            labels = labels.to(device)\n",
    "            outputs = model(inputs)\n",
    "            _, predicted = torch.max(outputs, 1)  # For multiclass\n",
    "            all_labels.extend(labels.view(-1).cpu().numpy())\n",
    "            all_predictions.extend(predicted.view(-1).cpu().numpy())\n",
    "            correct += (predicted == labels).sum().item()\n",
    "\n",
    "    accuracy = 100 * correct / total\n",
    "    f1 = f1_score(all_labels, all_predictions, average='weighted')\n",
    "    precision = precision_score(\n",
    "        all_labels, all_predictions, average='weighted')\n",
    "    recall = recall_score(all_labels, all_predictions, average='weighted')\n",
    "    return accuracy, f1, precision, recall"
   ]
  },
  {
   "cell_type": "code",
   "execution_count": null,
   "id": "74698081-8acf-4e18-9d34-0ffcd02db930",
   "metadata": {},
   "outputs": [],
   "source": [
    "print(f\"Outputs shape: {outputs.shape}, Labels shape: {labels.shape}\")\n"
   ]
  },
  {
   "cell_type": "code",
   "execution_count": null,
   "id": "c4eea852-1ace-479c-9bae-cc3a52491238",
   "metadata": {},
   "outputs": [],
   "source": [
    "num_epochs = 20\n",
    "\n",
    "# Tracking metrics\n",
    "train_accuracies = []\n",
    "val_accuracies = []\n",
    "train_losses = []\n",
    "val_losses = []\n",
    "\n",
    "for epoch in range(num_epochs):\n",
    "    # Training loop\n",
    "    model.train()\n",
    "    running_loss = 0.0\n",
    "    correct_predictions = 0\n",
    "    total_predictions = 0\n",
    "\n",
    "    for inputs, labels in train_loader:\n",
    "        inputs, labels = inputs.to(device), labels.to(device)\n",
    "        \n",
    "        optimizer.zero_grad()\n",
    "\n",
    "         # Compute loss\n",
    "\n",
    "        # Forward pass\n",
    "        outputs = model(inputs)\n",
    "        loss = criterion(outputs.view(-1), labels)  # Flatten outputs to match label shape\n",
    "\n",
    "        # Backward pass\n",
    "        loss.backward()\n",
    "        optimizer.step()\n",
    "\n",
    "         # Track loss and accuracy\n",
    "        running_loss += loss.item()\n",
    "        predictions = (torch.sigmoid(outputs.view(-1)) > 0.5).long()  # Binary predictions\n",
    "        correct_predictions += (predictions == labels).sum().item()\n",
    "        total_predictions += labels.size(0)\n",
    "\n",
    "    train_loss = running_loss / len(train_loader)  # Average training loss\n",
    "    train_accuracy = 100 * correct_predictions / total_predictions\n",
    "\n",
    "    # Validation loop\n",
    "    model.eval()\n",
    "    val_loss = 0.0\n",
    "    correct_val_predictions = 0\n",
    "    total_val_predictions = 0\n",
    "\n",
    "    true_labels = []\n",
    "    predicted_labels = []\n",
    "\n",
    "    with torch.no_grad():\n",
    "        for inputs, labels in val_loader:\n",
    "            inputs, labels = inputs.to(device), labels.to(device)\n",
    "\n",
    "            # Forward pass\n",
    "            outputs = model(inputs)\n",
    "            loss = criterion(outputs, labels)\n",
    "            val_loss += loss.item()\n",
    "\n",
    "            _, predicted = torch.max(outputs, 1)\n",
    "            correct_val_predictions += (predicted == labels).sum().item()\n",
    "            total_val_predictions += labels.size(0)\n",
    "\n",
    "            # Store true and predicted labels for confusion matrix\n",
    "            true_labels.extend(labels.cpu().numpy())\n",
    "            predicted_labels.extend(predicted.cpu().numpy())\n",
    "\n",
    "    val_loss /= len(val_loader)  # Average validation loss\n",
    "    val_accuracy = 100 * correct_val_predictions / total_val_predictions\n",
    "\n",
    "    # Append metrics to lists for tracking\n",
    "    train_losses.append(train_loss)\n",
    "    val_losses.append(val_loss)\n",
    "    train_accuracies.append(train_accuracy)\n",
    "    val_accuracies.append(val_accuracy)\n",
    "\n",
    "    print(f\"Epoch {epoch+1}/{num_epochs}, \"\n",
    "          f\"Train Loss: {train_loss:.4f}, \"\n",
    "          f\"Train Accuracy: {train_accuracy:.2f}%, \"\n",
    "          f\"Validation Loss: {val_loss:.4f}, \"\n",
    "          f\"Validation Accuracy: {val_accuracy:.2f}%\")\n",
    "\n",
    "    # Early stopping and learning rate scheduling\n",
    "    if val_loss < best_val_loss:\n",
    "        best_val_loss = val_loss\n",
    "        epochs_without_improvement = 0\n",
    "        torch.save(model.state_dict(), \"best_model.pth\")  # Save the best model\n",
    "    else:\n",
    "        epochs_without_improvement += 1\n",
    "\n",
    "    if epochs_without_improvement >= patience:  # Early stopping condition\n",
    "        print(\"Early stopping triggered.\")\n",
    "        break"
   ]
  },
  {
   "cell_type": "code",
   "execution_count": null,
   "id": "f2db1b0b-a010-4cd6-b0dd-8e89c7c83fca",
   "metadata": {},
   "outputs": [],
   "source": [
    "# Load best model for final evaluation\n",
    "model.load_state_dict(torch.load('best_model.pth'))\n",
    "\n",
    "# Evaluate on test set\n",
    "test_accuracy, test_f1, test_precision, test_recall = evaluate(\n",
    "    model, test_loader, device)\n",
    "print(f\"Test Accuracy: {test_accuracy:.2f}%\")\n",
    "print(f\"Test F1 Score: {test_f1:.2f}\")\n",
    "print(f\"Test Precision: {test_precision:.2f}\")\n",
    "print(f\"Test Recall: {test_recall:.2f}\")\n",
    "conf_matrix = confusion_matrix(true_labels, predicted_labels)\n",
    "print(\"\\nConfusion Matrix:\")\n",
    "print(conf_matrix)"
   ]
  },
  {
   "cell_type": "code",
   "execution_count": null,
   "id": "555ce5cc-6755-4bbd-a4ac-4393a15e524d",
   "metadata": {},
   "outputs": [],
   "source": [
    "import matplotlib.pyplot as plt\n",
    "\n",
    "plt.figure(figsize=(10, 5))\n",
    "plt.plot(train_accuracies, label='Train Accuracy')\n",
    "plt.plot(val_accuracies, label='Validation Accuracy')\n",
    "plt.xlabel('Epoch')\n",
    "plt.ylabel('Accuracy')\n",
    "plt.legend()\n",
    "plt.show()"
   ]
  },
  {
   "cell_type": "code",
   "execution_count": null,
   "id": "7419c5b3",
   "metadata": {},
   "outputs": [],
   "source": [
    "# visualize the confusion matrix\n",
    "plt.figure(figsize=(8, 6))\n",
    "sns.heatmap(conf_matrix, annot=True, fmt='d', cmap='Blues', xticklabels=['Positive', 'Negative'], yticklabels=['Positive', 'Negative'])\n",
    "plt.xlabel('Predicted')\n",
    "plt.ylabel('True')\n",
    "plt.title('Confusion Matrix')\n",
    "plt.show()\n",
    "\n",
    "# Print classification report\n",
    "print(\"\\nClassification Report:\")\n",
    "print(classification_report(true_labels, predicted_labels,\n",
    "      target_names=['Positive', 'Negative']\n",
    "      ))"
   ]
  },
  {
   "cell_type": "code",
   "execution_count": null,
   "id": "315dd850",
   "metadata": {},
   "outputs": [],
   "source": [
    "with open('src/models/outputs/binary_transformer.pkl', 'wb') as f:\n",
    "    pickle.dump(model, f)"
   ]
  },
  {
   "cell_type": "code",
   "execution_count": null,
   "id": "9158665e-96f7-4d46-89d2-78798948e7aa",
   "metadata": {},
   "outputs": [],
   "source": []
  }
 ],
 "metadata": {
  "kernelspec": {
   "display_name": "Python 3 (ipykernel)",
   "language": "python",
   "name": "python3"
  },
  "language_info": {
   "codemirror_mode": {
    "name": "ipython",
    "version": 3
   },
   "file_extension": ".py",
   "mimetype": "text/x-python",
   "name": "python",
   "nbconvert_exporter": "python",
   "pygments_lexer": "ipython3",
   "version": "3.12.4"
  }
 },
 "nbformat": 4,
 "nbformat_minor": 5
}
