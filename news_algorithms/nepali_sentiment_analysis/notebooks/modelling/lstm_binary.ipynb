{
 "cells": [
  {
   "cell_type": "markdown",
   "metadata": {
    "id": "h8MxH0KQZdA5"
   },
   "source": [
    "# 1. Data Import and Analysis\n"
   ]
  },
  {
   "cell_type": "code",
   "execution_count": 1,
   "metadata": {
    "id": "KJKhnaCTZdA8"
   },
   "outputs": [
    {
     "name": "stdout",
     "output_type": "stream",
     "text": [
      "Note: you may need to restart the kernel to use updated packages.\n"
     ]
    },
    {
     "name": "stderr",
     "output_type": "stream",
     "text": [
      "\n",
      "[notice] A new release of pip is available: 24.2 -> 24.3.1\n",
      "[notice] To update, run: python.exe -m pip install --upgrade pip\n"
     ]
    }
   ],
   "source": [
    "%pip install --quiet gensim nltk optuna seaborn torch"
   ]
  },
  {
   "cell_type": "code",
   "execution_count": 2,
   "metadata": {
    "colab": {
     "base_uri": "https://localhost:8080/"
    },
    "id": "l5Iy7-hiZdA-",
    "outputId": "d60e517d-14e3-4d46-fb2d-c8702468bbb7"
   },
   "outputs": [],
   "source": [
    "import os\n",
    "import numpy as np\n",
    "import pandas as pd\n",
    "import seaborn as sns\n",
    "import matplotlib.pyplot as plt\n",
    "\n",
    "import torch\n",
    "import torch.nn as nn\n",
    "import torch.optim as optim\n",
    "from torch.utils.data import DataLoader, TensorDataset\n",
    "\n",
    "import pickle\n",
    "import gensim\n",
    "from gensim.models import Word2Vec\n",
    "\n",
    "from sklearn.model_selection import train_test_split\n",
    "from sklearn.metrics import accuracy_score, precision_score, recall_score, f1_score, confusion_matrix, classification_report"
   ]
  },
  {
   "cell_type": "code",
   "execution_count": 3,
   "metadata": {},
   "outputs": [],
   "source": [
    "os.chdir(\"../../..\")\n"
   ]
  },
  {
   "cell_type": "code",
   "execution_count": 4,
   "metadata": {},
   "outputs": [],
   "source": [
    "from src.utils.visualization import plot_sentiment_distribution\n",
    "from src.utils.preprocessing import preprocess_text"
   ]
  },
  {
   "cell_type": "code",
   "execution_count": 5,
   "metadata": {
    "id": "kf-vYM9sZdBA"
   },
   "outputs": [
    {
     "data": {
      "text/html": [
       "<div>\n",
       "<style scoped>\n",
       "    .dataframe tbody tr th:only-of-type {\n",
       "        vertical-align: middle;\n",
       "    }\n",
       "\n",
       "    .dataframe tbody tr th {\n",
       "        vertical-align: top;\n",
       "    }\n",
       "\n",
       "    .dataframe thead th {\n",
       "        text-align: right;\n",
       "    }\n",
       "</style>\n",
       "<table border=\"1\" class=\"dataframe\">\n",
       "  <thead>\n",
       "    <tr style=\"text-align: right;\">\n",
       "      <th></th>\n",
       "      <th>Sentences</th>\n",
       "      <th>Sentiment</th>\n",
       "    </tr>\n",
       "  </thead>\n",
       "  <tbody>\n",
       "    <tr>\n",
       "      <th>0</th>\n",
       "      <td>पुन निर्वाचन गरे यस्तै हुने हो निर्वाचन कति गर...</td>\n",
       "      <td>0</td>\n",
       "    </tr>\n",
       "    <tr>\n",
       "      <th>1</th>\n",
       "      <td>क्या अचम्मकाे नगरपालिका डाेजरम्यान बालेनकाे</td>\n",
       "      <td>0</td>\n",
       "    </tr>\n",
       "    <tr>\n",
       "      <th>2</th>\n",
       "      <td>प्युठान नगरपालिका नेपाल स्वयंसेवक राष्ट्रिय सम...</td>\n",
       "      <td>0</td>\n",
       "    </tr>\n",
       "    <tr>\n",
       "      <th>3</th>\n",
       "      <td>कपिलवस्तुको शिवराज नगरपालिका का बासिन्दाले पाए...</td>\n",
       "      <td>0</td>\n",
       "    </tr>\n",
       "    <tr>\n",
       "      <th>4</th>\n",
       "      <td>कपिलवस्तुको शिवराज नगरपालिका का बासिन्दाले वर्...</td>\n",
       "      <td>0</td>\n",
       "    </tr>\n",
       "  </tbody>\n",
       "</table>\n",
       "</div>"
      ],
      "text/plain": [
       "                                           Sentences  Sentiment\n",
       "0  पुन निर्वाचन गरे यस्तै हुने हो निर्वाचन कति गर...          0\n",
       "1        क्या अचम्मकाे नगरपालिका डाेजरम्यान बालेनकाे          0\n",
       "2  प्युठान नगरपालिका नेपाल स्वयंसेवक राष्ट्रिय सम...          0\n",
       "3  कपिलवस्तुको शिवराज नगरपालिका का बासिन्दाले पाए...          0\n",
       "4  कपिलवस्तुको शिवराज नगरपालिका का बासिन्दाले वर्...          0"
      ]
     },
     "execution_count": 5,
     "metadata": {},
     "output_type": "execute_result"
    }
   ],
   "source": [
    "df = pd.read_csv(\n",
    "    'dataset/processed/combined_sentiment_dataset.csv', \n",
    "    encoding='utf-8'\n",
    ")\n",
    "df.head()"
   ]
  },
  {
   "cell_type": "code",
   "execution_count": 6,
   "metadata": {
    "colab": {
     "base_uri": "https://localhost:8080/"
    },
    "id": "CK90EEaZZdBF",
    "outputId": "55c364c3-42e2-4251-b323-09212b0b61a0"
   },
   "outputs": [
    {
     "data": {
      "text/plain": [
       "(40708, 2)"
      ]
     },
     "execution_count": 6,
     "metadata": {},
     "output_type": "execute_result"
    }
   ],
   "source": [
    "df.shape"
   ]
  },
  {
   "cell_type": "markdown",
   "metadata": {},
   "source": [
    "Remove the neutral data\n"
   ]
  },
  {
   "cell_type": "code",
   "execution_count": 7,
   "metadata": {},
   "outputs": [],
   "source": [
    "df = df[df['Sentiment'] != 0]\n",
    "df = df.reset_index(drop=True)"
   ]
  },
  {
   "cell_type": "code",
   "execution_count": 8,
   "metadata": {
    "colab": {
     "base_uri": "https://localhost:8080/",
     "height": 198
    },
    "id": "phyBZ3mKZdBJ",
    "outputId": "059c03ee-9805-4642-978b-439a7ecacc51"
   },
   "outputs": [
    {
     "data": {
      "text/plain": [
       "Sentiment\n",
       "1    15857\n",
       "0    14393\n",
       "Name: count, dtype: int64"
      ]
     },
     "execution_count": 8,
     "metadata": {},
     "output_type": "execute_result"
    }
   ],
   "source": [
    "# replace the label 2: negative with 0 for neg\n",
    "df['Sentiment'] = df['Sentiment'].replace(2, 0)\n",
    "df['Sentiment'].value_counts()"
   ]
  },
  {
   "cell_type": "code",
   "execution_count": 10,
   "metadata": {},
   "outputs": [],
   "source": [
    "labels_dict = {\n",
    "    0: 'Negative',\n",
    "    1: 'Positive', \n",
    "}"
   ]
  },
  {
   "cell_type": "code",
   "execution_count": 11,
   "metadata": {
    "colab": {
     "base_uri": "https://localhost:8080/",
     "height": 331
    },
    "id": "PK9R7fhvZdBG",
    "outputId": "77307a76-b687-4e2a-cfd4-1f0ae327b108"
   },
   "outputs": [
    {
     "data": {
      "image/png": "[encoded data removed]",
      "text/plain": [
       "<Figure size 600x400 with 1 Axes>"
      ]
     },
     "metadata": {},
     "output_type": "display_data"
    }
   ],
   "source": [
    "plot_sentiment_distribution(\n",
    "    df, \n",
    "    'Sentiment Distribution', \n",
    "    labels_dict\n",
    ")"
   ]
  },
  {
   "cell_type": "markdown",
   "metadata": {
    "id": "QeTIH7U-ZdBK"
   },
   "source": [
    "### Length of the reviews\n"
   ]
  },
  {
   "cell_type": "code",
   "execution_count": 12,
   "metadata": {
    "colab": {
     "base_uri": "https://localhost:8080/"
    },
    "id": "cHrGR8DkZdBK",
    "outputId": "524907f0-a7cc-4ab7-b8af-04c1b55c6a30"
   },
   "outputs": [
    {
     "name": "stdout",
     "output_type": "stream",
     "text": [
      "Average length of Sentence : 16.58899173553719\n",
      "Average length of positive Sentence : 14.492463896071136\n",
      "Average length of negative Sentence : 18.89877023553116\n"
     ]
    }
   ],
   "source": [
    "def print_len(data):\n",
    "    total_len = 0\n",
    "    pos_len = 0\n",
    "    neg_len = 0\n",
    "    for index, row in data.iterrows():\n",
    "        l = len(row['Sentences'].split(' '))\n",
    "        total_len += l\n",
    "        if row['Sentiment'] == 0:\n",
    "            pos_len += l\n",
    "        else:\n",
    "            neg_len += l\n",
    "\n",
    "    print('Average length of Sentence : ' +\n",
    "          str(total_len/len(data['Sentences'])))\n",
    "    print('Average length of positive Sentence : ' +\n",
    "          str(pos_len/df['Sentiment'].value_counts()[1]))\n",
    "    print('Average length of negative Sentence : ' +\n",
    "          str(neg_len/df['Sentiment'].value_counts()[0]))\n",
    "\n",
    "\n",
    "print_len(df)"
   ]
  },
  {
   "cell_type": "code",
   "execution_count": 13,
   "metadata": {},
   "outputs": [
    {
     "data": {
      "text/plain": [
       "58"
      ]
     },
     "execution_count": 13,
     "metadata": {},
     "output_type": "execute_result"
    }
   ],
   "source": [
    "# maximum length of sentence from the column 'Sentences' using numpy or pandas\n",
    "max_len = df['Sentences'].apply(lambda x: len(x.split(' '))).max()\n",
    "max_len"
   ]
  },
  {
   "cell_type": "markdown",
   "metadata": {
    "id": "nQwcCIjCZdBL"
   },
   "source": [
    "### Missing and Duplicated values\n"
   ]
  },
  {
   "cell_type": "code",
   "execution_count": 14,
   "metadata": {
    "colab": {
     "base_uri": "https://localhost:8080/",
     "height": 167
    },
    "id": "XrZh83DzZdBM",
    "outputId": "b6f32fc5-38d4-4d32-c113-633cc3e442f5"
   },
   "outputs": [
    {
     "data": {
      "text/plain": [
       "Sentences    0\n",
       "Sentiment    0\n",
       "dtype: int64"
      ]
     },
     "execution_count": 14,
     "metadata": {},
     "output_type": "execute_result"
    }
   ],
   "source": [
    "df.isna().sum()"
   ]
  },
  {
   "cell_type": "code",
   "execution_count": 15,
   "metadata": {
    "colab": {
     "base_uri": "https://localhost:8080/"
    },
    "id": "uyvw81gTZdBM",
    "outputId": "f7d59d4d-eb33-47a6-f22f-ca3811c5d022"
   },
   "outputs": [
    {
     "data": {
      "text/plain": [
       "100"
      ]
     },
     "execution_count": 15,
     "metadata": {},
     "output_type": "execute_result"
    }
   ],
   "source": [
    "df.duplicated().sum()"
   ]
  },
  {
   "cell_type": "code",
   "execution_count": 16,
   "metadata": {
    "id": "o0QKxsxCZdBN"
   },
   "outputs": [],
   "source": [
    "df = df.drop_duplicates()"
   ]
  },
  {
   "cell_type": "markdown",
   "metadata": {
    "id": "toJiBLwQZdBc"
   },
   "source": [
    "# 3. Text Understanding\n"
   ]
  },
  {
   "cell_type": "code",
   "execution_count": 17,
   "metadata": {
    "colab": {
     "base_uri": "https://localhost:8080/"
    },
    "id": "jEHhVV1eZdBc",
    "outputId": "fedd5e8b-1118-4681-82e9-e10656586e30"
   },
   "outputs": [
    {
     "name": "stdout",
     "output_type": "stream",
     "text": [
      "Top 20 Positive Words:\n",
      "लागि\n",
      "कोभिड\n",
      "तथा\n",
      "गर्न\n",
      "गर्ने\n",
      "गरेको\n",
      "सहयोग\n",
      "खोप\n",
      "रोकथाम\n",
      "परीक्षण\n",
      "सरकारले\n",
      "शुभकामना\n",
      "विरुद्धको\n",
      "विरुद्ध\n",
      "नेपाली\n",
      "नेपाल\n",
      "निर्णय\n",
      "नियन्त्रण\n",
      "हार्दिक\n",
      "स्वास्थ्य\n",
      "----------------\n",
      "Top 20 Negative Words:\n",
      "मृत्यु\n",
      "संख्या\n",
      "पुष्टि\n",
      "संक्रमण\n",
      "जनामा\n",
      "भएको\n",
      "हजार\n",
      "संक्रमित\n",
      "जना\n",
      "कोरोना\n",
      "थप\n",
      "भाइरस\n",
      "नेपालमा\n",
      "संक्रमितको\n",
      "लाख\n",
      "पुगेको\n",
      "एक\n",
      "जनाको\n",
      "सय\n",
      "कारण\n"
     ]
    }
   ],
   "source": [
    "from collections import Counter\n",
    "\n",
    "positive_reviews = df[df['Sentiment'] == 1]['Sentences']\n",
    "negative_reviews = df[df['Sentiment'] == 0]['Sentences']\n",
    "\n",
    "positive_text = ' '.join(positive_reviews)\n",
    "negative_text = ' '.join(negative_reviews)\n",
    "\n",
    "positive_word_freq = Counter(positive_text.split(' '))\n",
    "negative_word_freq = Counter(negative_text.split(' '))\n",
    "\n",
    "# Create a list to store the frequency differences\n",
    "word_diff = {}\n",
    "\n",
    "# Calculate the frequency difference for each word\n",
    "all_words = set(positive_word_freq.keys()).union(\n",
    "    set(negative_word_freq.keys()))\n",
    "for word in all_words:\n",
    "    pos_freq = positive_word_freq.get(word, 0)\n",
    "    neg_freq = negative_word_freq.get(word, 0)\n",
    "    word_diff[word] = abs(pos_freq - neg_freq)\n",
    "\n",
    "# Separate positive and negative words based on frequency difference\n",
    "positive_words_diff = {}\n",
    "negative_words_diff = {}\n",
    "\n",
    "# Classify words based on where they are more frequent\n",
    "for word, diff in word_diff.items():\n",
    "    if positive_word_freq.get(word, 0) > negative_word_freq.get(word, 0):\n",
    "        positive_words_diff[word] = diff\n",
    "    elif negative_word_freq.get(word, 0) > positive_word_freq.get(word, 0):\n",
    "        negative_words_diff[word] = diff\n",
    "\n",
    "# Sort the words by frequency difference (descending)\n",
    "sorted_positive_words = sorted(\n",
    "    positive_words_diff.items(), key=lambda x: x[1], reverse=True)\n",
    "sorted_negative_words = sorted(\n",
    "    negative_words_diff.items(), key=lambda x: x[1], reverse=True)\n",
    "\n",
    "# Print the top 10 words for both positive and negative categories\n",
    "print(\"Top 20 Positive Words:\")\n",
    "for word, diff in sorted_positive_words[:20]:\n",
    "    print(word)\n",
    "\n",
    "print(\"----------------\\nTop 20 Negative Words:\")\n",
    "for word, diff in sorted_negative_words[:20]:\n",
    "    print(word)"
   ]
  },
  {
   "cell_type": "markdown",
   "metadata": {
    "id": "IzF7SVLXZ-la"
   },
   "source": [
    "# LSTM Model\n"
   ]
  },
  {
   "cell_type": "code",
   "execution_count": 18,
   "metadata": {
    "id": "hfPWh3p5ZdBf"
   },
   "outputs": [],
   "source": [
    "sentences = [item for item in df['Sentences']]\n",
    "sentiments = [item for item in df['Sentiment']]"
   ]
  },
  {
   "cell_type": "code",
   "execution_count": 19,
   "metadata": {
    "id": "Y9L-6jwvaA2x"
   },
   "outputs": [],
   "source": [
    "from src.utils.preprocessing import tokenizer\n",
    "tokenized_sentences = [tokenizer.tokenize(sentence) for sentence in sentences]"
   ]
  },
  {
   "cell_type": "code",
   "execution_count": 20,
   "metadata": {},
   "outputs": [
    {
     "name": "stdout",
     "output_type": "stream",
     "text": [
      "90th percentile sentence length: 32.0\n"
     ]
    }
   ],
   "source": [
    "import numpy as np\n",
    "\n",
    "sentence_lengths = [len(tokens) for tokens in tokenized_sentences]  # List of sentence lengths\n",
    "percentile_90 = np.percentile(sentence_lengths, 90)\n",
    "print(f\"90th percentile sentence length: {percentile_90}\")"
   ]
  },
  {
   "cell_type": "code",
   "execution_count": 21,
   "metadata": {},
   "outputs": [],
   "source": [
    "from gensim.models import KeyedVectors\n",
    "\n",
    "embedding_model_file = 'src/models/word2vec_model.bin'\n",
    "word2vec_model = KeyedVectors.load_word2vec_format(embedding_model_file, binary=True)"
   ]
  },
  {
   "cell_type": "code",
   "execution_count": 22,
   "metadata": {},
   "outputs": [],
   "source": [
    "# Convert each token to its word2vec embedding\n",
    "max_length = 32\n",
    "\n",
    "embedded_reviews = []\n",
    "\n",
    "for tokens in tokenized_sentences:\n",
    "    review_vector = []\n",
    "    for token in tokens:\n",
    "        if token in word2vec_model:\n",
    "            review_vector.append(word2vec_model[token])\n",
    "        else:\n",
    "            # If token not found, use a zero vector\n",
    "            review_vector.append(np.zeros(word2vec_model.vector_size))\n",
    "\n",
    "    # Pad the review to max_length with zero vectors\n",
    "    if len(review_vector) > max_length:\n",
    "        review_vector = review_vector[:max_length]\n",
    "    else:\n",
    "        review_vector.extend(\n",
    "            [np.zeros(word2vec_model.vector_size)] * (max_length - len(review_vector)))\n",
    "\n",
    "    embedded_reviews.append(review_vector)"
   ]
  },
  {
   "cell_type": "code",
   "execution_count": 23,
   "metadata": {
    "colab": {
     "base_uri": "https://localhost:8080/"
    },
    "id": "UgG6QJjSaIvc",
    "outputId": "620fb754-42f4-4f98-bf52-b1766233b715"
   },
   "outputs": [
    {
     "data": {
      "text/plain": [
       "(30150, 32, 300)"
      ]
     },
     "execution_count": 23,
     "metadata": {},
     "output_type": "execute_result"
    }
   ],
   "source": [
    "embedded_reviews_array = np.array(embedded_reviews)\n",
    "embedded_reviews_array.shape"
   ]
  },
  {
   "cell_type": "code",
   "execution_count": 24,
   "metadata": {
    "id": "nXT-lIpIaKp_"
   },
   "outputs": [],
   "source": [
    "import numpy as np\n",
    "import torch\n",
    "import torch.nn as nn\n",
    "import torch.optim as optim\n",
    "from torch.utils.data import DataLoader, TensorDataset\n",
    "from sklearn.model_selection import train_test_split"
   ]
  },
  {
   "cell_type": "code",
   "execution_count": 25,
   "metadata": {
    "id": "Lys_FZ_WaPEg"
   },
   "outputs": [
    {
     "name": "stdout",
     "output_type": "stream",
     "text": [
      "Shape of X: torch.Size([30150, 32, 300])\n"
     ]
    }
   ],
   "source": [
    "# Shape: (30150, 32, 300)\n",
    "X = torch.tensor(embedded_reviews_array, dtype=torch.float32)\n",
    "y = torch.tensor(sentiments, dtype=torch.long)  # Shape: (30150,)\n",
    "\n",
    "print(f\"Shape of X: {X.shape}\")"
   ]
  },
  {
   "cell_type": "markdown",
   "metadata": {},
   "source": [
    "Split the dataset into Training, Validation, and Test sets.\n"
   ]
  },
  {
   "cell_type": "code",
   "execution_count": 26,
   "metadata": {
    "id": "D7cT2vjFaQQp"
   },
   "outputs": [],
   "source": [
    "# First, split into training and temp (validation + test) sets\n",
    "X_train, X_temp, y_train, y_temp = train_test_split(\n",
    "    X, y, \n",
    "    test_size=0.3, \n",
    "    random_state=42\n",
    ")"
   ]
  },
  {
   "cell_type": "code",
   "execution_count": 27,
   "metadata": {},
   "outputs": [],
   "source": [
    "# Then, split the temp set into validation and test sets\n",
    "X_val, X_test, y_val, y_test = train_test_split(\n",
    "    X_temp, y_temp, \n",
    "    test_size=0.5, random_state=42\n",
    ")"
   ]
  },
  {
   "cell_type": "code",
   "execution_count": 28,
   "metadata": {
    "id": "fRzwA900aRuz"
   },
   "outputs": [],
   "source": [
    "# Convert to DataLoader for batch processing\n",
    "train_data = TensorDataset(X_train, y_train)\n",
    "val_data = TensorDataset(X_val, y_val)\n",
    "test_data = TensorDataset(X_test, y_test)"
   ]
  },
  {
   "cell_type": "code",
   "execution_count": 29,
   "metadata": {},
   "outputs": [],
   "source": [
    "train_loader = DataLoader(train_data, batch_size=64, shuffle=True)\n",
    "val_loader = DataLoader(val_data, batch_size=64, shuffle=False)\n",
    "test_loader = DataLoader(test_data, batch_size=64, shuffle=False)"
   ]
  },
  {
   "cell_type": "code",
   "execution_count": 30,
   "metadata": {
    "id": "oZ_6AiuCaTfD"
   },
   "outputs": [],
   "source": [
    "from src.models.lstm_binary import LSTMBinaryModel"
   ]
  },
  {
   "cell_type": "code",
   "execution_count": 31,
   "metadata": {
    "id": "r7WGtrMsaUok"
   },
   "outputs": [],
   "source": [
    "# Model parameters\n",
    "input_dim = 300     # Embedding dimension\n",
    "hidden_dim = 128    # Number of LSTM units\n",
    "output_dim = 1      # Number of classes (0 or 1)\n",
    "num_layers = 2      # Number of LSTM layers"
   ]
  },
  {
   "cell_type": "code",
   "execution_count": 32,
   "metadata": {
    "id": "ulSi8a5FaV1Q"
   },
   "outputs": [],
   "source": [
    "# Instantiate the model, loss function, and optimizer\n",
    "model = LSTMBinaryModel(input_dim, hidden_dim, output_dim, num_layers)\n",
    "criterion = nn.BCEWithLogitsLoss()\n",
    "optimizer = optim.AdamW(model.parameters(), lr=0.0001)"
   ]
  },
  {
   "cell_type": "code",
   "execution_count": 33,
   "metadata": {
    "colab": {
     "base_uri": "https://localhost:8080/"
    },
    "id": "lXdmxRpsaXZy",
    "outputId": "8de8b03a-a93d-4fea-f57f-f46189e34eb3"
   },
   "outputs": [
    {
     "name": "stdout",
     "output_type": "stream",
     "text": [
      "Device:  cuda\n"
     ]
    }
   ],
   "source": [
    "device = \"cuda\" if torch.cuda.is_available() else \"cpu\"\n",
    "print(\"Device: \", device)"
   ]
  },
  {
   "cell_type": "code",
   "execution_count": 34,
   "metadata": {
    "id": "k41jcbI8aZpC"
   },
   "outputs": [],
   "source": [
    "model = model.to(device)"
   ]
  },
  {
   "cell_type": "code",
   "execution_count": 35,
   "metadata": {},
   "outputs": [],
   "source": [
    "# Early stopping parameters\n",
    "patience = 10  # Number of epochs with no improvement before stopping\n",
    "best_val_loss = float('inf')\n",
    "epochs_without_improvement = 0\n",
    "\n",
    "# Learning rate scheduler\n",
    "scheduler = optim.lr_scheduler.ReduceLROnPlateau(optimizer, 'min', patience=2, factor=0.5)"
   ]
  },
  {
   "cell_type": "code",
   "execution_count": 42,
   "metadata": {
    "colab": {
     "base_uri": "https://localhost:8080/"
    },
    "id": "ghlybZyOacBE",
    "outputId": "ae5d7b61-757b-4757-a8b1-370d7d4169ba"
   },
   "outputs": [
    {
     "ename": "ValueError",
     "evalue": "Target size (torch.Size([64])) must be the same as input size (torch.Size([64, 1]))",
     "output_type": "error",
     "traceback": [
      "\u001b[1;31m---------------------------------------------------------------------------\u001b[0m",
      "\u001b[1;31mValueError\u001b[0m                                Traceback (most recent call last)",
      "Cell \u001b[1;32mIn[42], line 51\u001b[0m\n\u001b[0;32m     49\u001b[0m outputs \u001b[38;5;241m=\u001b[39m model(inputs)\n\u001b[0;32m     50\u001b[0m labels \u001b[38;5;241m=\u001b[39m labels\u001b[38;5;241m.\u001b[39mfloat()\n\u001b[1;32m---> 51\u001b[0m loss \u001b[38;5;241m=\u001b[39m \u001b[43mcriterion\u001b[49m\u001b[43m(\u001b[49m\u001b[43moutputs\u001b[49m\u001b[43m,\u001b[49m\u001b[43m \u001b[49m\u001b[43mlabels\u001b[49m\u001b[43m)\u001b[49m\n\u001b[0;32m     52\u001b[0m val_loss \u001b[38;5;241m+\u001b[39m\u001b[38;5;241m=\u001b[39m loss\u001b[38;5;241m.\u001b[39mitem()\n\u001b[0;32m     54\u001b[0m \u001b[38;5;66;03m# Threshold the logits for binary classification\u001b[39;00m\n",
      "File \u001b[1;32m~\\AppData\\Local\\Programs\\Python\\Python312\\Lib\\site-packages\\torch\\nn\\modules\\module.py:1553\u001b[0m, in \u001b[0;36mModule._wrapped_call_impl\u001b[1;34m(self, *args, **kwargs)\u001b[0m\n\u001b[0;32m   1551\u001b[0m     \u001b[38;5;28;01mreturn\u001b[39;00m \u001b[38;5;28mself\u001b[39m\u001b[38;5;241m.\u001b[39m_compiled_call_impl(\u001b[38;5;241m*\u001b[39margs, \u001b[38;5;241m*\u001b[39m\u001b[38;5;241m*\u001b[39mkwargs)  \u001b[38;5;66;03m# type: ignore[misc]\u001b[39;00m\n\u001b[0;32m   1552\u001b[0m \u001b[38;5;28;01melse\u001b[39;00m:\n\u001b[1;32m-> 1553\u001b[0m     \u001b[38;5;28;01mreturn\u001b[39;00m \u001b[38;5;28;43mself\u001b[39;49m\u001b[38;5;241;43m.\u001b[39;49m\u001b[43m_call_impl\u001b[49m\u001b[43m(\u001b[49m\u001b[38;5;241;43m*\u001b[39;49m\u001b[43margs\u001b[49m\u001b[43m,\u001b[49m\u001b[43m \u001b[49m\u001b[38;5;241;43m*\u001b[39;49m\u001b[38;5;241;43m*\u001b[39;49m\u001b[43mkwargs\u001b[49m\u001b[43m)\u001b[49m\n",
      "File \u001b[1;32m~\\AppData\\Local\\Programs\\Python\\Python312\\Lib\\site-packages\\torch\\nn\\modules\\module.py:1562\u001b[0m, in \u001b[0;36mModule._call_impl\u001b[1;34m(self, *args, **kwargs)\u001b[0m\n\u001b[0;32m   1557\u001b[0m \u001b[38;5;66;03m# If we don't have any hooks, we want to skip the rest of the logic in\u001b[39;00m\n\u001b[0;32m   1558\u001b[0m \u001b[38;5;66;03m# this function, and just call forward.\u001b[39;00m\n\u001b[0;32m   1559\u001b[0m \u001b[38;5;28;01mif\u001b[39;00m \u001b[38;5;129;01mnot\u001b[39;00m (\u001b[38;5;28mself\u001b[39m\u001b[38;5;241m.\u001b[39m_backward_hooks \u001b[38;5;129;01mor\u001b[39;00m \u001b[38;5;28mself\u001b[39m\u001b[38;5;241m.\u001b[39m_backward_pre_hooks \u001b[38;5;129;01mor\u001b[39;00m \u001b[38;5;28mself\u001b[39m\u001b[38;5;241m.\u001b[39m_forward_hooks \u001b[38;5;129;01mor\u001b[39;00m \u001b[38;5;28mself\u001b[39m\u001b[38;5;241m.\u001b[39m_forward_pre_hooks\n\u001b[0;32m   1560\u001b[0m         \u001b[38;5;129;01mor\u001b[39;00m _global_backward_pre_hooks \u001b[38;5;129;01mor\u001b[39;00m _global_backward_hooks\n\u001b[0;32m   1561\u001b[0m         \u001b[38;5;129;01mor\u001b[39;00m _global_forward_hooks \u001b[38;5;129;01mor\u001b[39;00m _global_forward_pre_hooks):\n\u001b[1;32m-> 1562\u001b[0m     \u001b[38;5;28;01mreturn\u001b[39;00m \u001b[43mforward_call\u001b[49m\u001b[43m(\u001b[49m\u001b[38;5;241;43m*\u001b[39;49m\u001b[43margs\u001b[49m\u001b[43m,\u001b[49m\u001b[43m \u001b[49m\u001b[38;5;241;43m*\u001b[39;49m\u001b[38;5;241;43m*\u001b[39;49m\u001b[43mkwargs\u001b[49m\u001b[43m)\u001b[49m\n\u001b[0;32m   1564\u001b[0m \u001b[38;5;28;01mtry\u001b[39;00m:\n\u001b[0;32m   1565\u001b[0m     result \u001b[38;5;241m=\u001b[39m \u001b[38;5;28;01mNone\u001b[39;00m\n",
      "File \u001b[1;32m~\\AppData\\Local\\Programs\\Python\\Python312\\Lib\\site-packages\\torch\\nn\\modules\\loss.py:734\u001b[0m, in \u001b[0;36mBCEWithLogitsLoss.forward\u001b[1;34m(self, input, target)\u001b[0m\n\u001b[0;32m    733\u001b[0m \u001b[38;5;28;01mdef\u001b[39;00m \u001b[38;5;21mforward\u001b[39m(\u001b[38;5;28mself\u001b[39m, \u001b[38;5;28minput\u001b[39m: Tensor, target: Tensor) \u001b[38;5;241m-\u001b[39m\u001b[38;5;241m>\u001b[39m Tensor:\n\u001b[1;32m--> 734\u001b[0m     \u001b[38;5;28;01mreturn\u001b[39;00m \u001b[43mF\u001b[49m\u001b[38;5;241;43m.\u001b[39;49m\u001b[43mbinary_cross_entropy_with_logits\u001b[49m\u001b[43m(\u001b[49m\u001b[38;5;28;43minput\u001b[39;49m\u001b[43m,\u001b[49m\u001b[43m \u001b[49m\u001b[43mtarget\u001b[49m\u001b[43m,\u001b[49m\n\u001b[0;32m    735\u001b[0m \u001b[43m                                              \u001b[49m\u001b[38;5;28;43mself\u001b[39;49m\u001b[38;5;241;43m.\u001b[39;49m\u001b[43mweight\u001b[49m\u001b[43m,\u001b[49m\n\u001b[0;32m    736\u001b[0m \u001b[43m                                              \u001b[49m\u001b[43mpos_weight\u001b[49m\u001b[38;5;241;43m=\u001b[39;49m\u001b[38;5;28;43mself\u001b[39;49m\u001b[38;5;241;43m.\u001b[39;49m\u001b[43mpos_weight\u001b[49m\u001b[43m,\u001b[49m\n\u001b[0;32m    737\u001b[0m \u001b[43m                                              \u001b[49m\u001b[43mreduction\u001b[49m\u001b[38;5;241;43m=\u001b[39;49m\u001b[38;5;28;43mself\u001b[39;49m\u001b[38;5;241;43m.\u001b[39;49m\u001b[43mreduction\u001b[49m\u001b[43m)\u001b[49m\n",
      "File \u001b[1;32m~\\AppData\\Local\\Programs\\Python\\Python312\\Lib\\site-packages\\torch\\nn\\functional.py:3242\u001b[0m, in \u001b[0;36mbinary_cross_entropy_with_logits\u001b[1;34m(input, target, weight, size_average, reduce, reduction, pos_weight)\u001b[0m\n\u001b[0;32m   3239\u001b[0m     reduction_enum \u001b[38;5;241m=\u001b[39m _Reduction\u001b[38;5;241m.\u001b[39mget_enum(reduction)\n\u001b[0;32m   3241\u001b[0m \u001b[38;5;28;01mif\u001b[39;00m \u001b[38;5;129;01mnot\u001b[39;00m (target\u001b[38;5;241m.\u001b[39msize() \u001b[38;5;241m==\u001b[39m \u001b[38;5;28minput\u001b[39m\u001b[38;5;241m.\u001b[39msize()):\n\u001b[1;32m-> 3242\u001b[0m     \u001b[38;5;28;01mraise\u001b[39;00m \u001b[38;5;167;01mValueError\u001b[39;00m(\u001b[38;5;124mf\u001b[39m\u001b[38;5;124m\"\u001b[39m\u001b[38;5;124mTarget size (\u001b[39m\u001b[38;5;132;01m{\u001b[39;00mtarget\u001b[38;5;241m.\u001b[39msize()\u001b[38;5;132;01m}\u001b[39;00m\u001b[38;5;124m) must be the same as input size (\u001b[39m\u001b[38;5;132;01m{\u001b[39;00m\u001b[38;5;28minput\u001b[39m\u001b[38;5;241m.\u001b[39msize()\u001b[38;5;132;01m}\u001b[39;00m\u001b[38;5;124m)\u001b[39m\u001b[38;5;124m\"\u001b[39m)\n\u001b[0;32m   3244\u001b[0m \u001b[38;5;28;01mreturn\u001b[39;00m torch\u001b[38;5;241m.\u001b[39mbinary_cross_entropy_with_logits(\u001b[38;5;28minput\u001b[39m, target, weight, pos_weight, reduction_enum)\n",
      "\u001b[1;31mValueError\u001b[0m: Target size (torch.Size([64])) must be the same as input size (torch.Size([64, 1]))"
     ]
    }
   ],
   "source": [
    "for epoch in range(num_epochs):\n",
    "    # Training loop\n",
    "    model.train()\n",
    "    running_loss = 0.0\n",
    "    correct_predictions = 0\n",
    "    total_predictions = 0\n",
    "    \n",
    "    for inputs, labels in train_loader:\n",
    "        inputs, labels = inputs.to(device), labels.to(device)\n",
    "\n",
    "        # Ensure labels are of shape (batch_size,)\n",
    "        labels = labels.unsqueeze(1).float()  # Add an extra dimension and cast to float\n",
    "        \n",
    "        optimizer.zero_grad()\n",
    "\n",
    "        # Forward pass\n",
    "        outputs = model(inputs)\n",
    "        loss = criterion(outputs, labels)\n",
    "\n",
    "        # Backward pass\n",
    "        loss.backward()\n",
    "        optimizer.step()\n",
    "\n",
    "        # Track loss and accuracy\n",
    "        running_loss += loss.item()\n",
    "        \n",
    "        # Threshold the logits for binary classification\n",
    "        predicted = (torch.sigmoid(outputs) > 0.5).float()  # Threshold at 0.5\n",
    "        correct_predictions += (predicted == labels).sum().item()\n",
    "        total_predictions += labels.size(0)\n",
    "\n",
    "    train_loss = running_loss / len(train_loader)  # Average training loss\n",
    "    train_accuracy = 100 * correct_predictions / total_predictions\n",
    "\n",
    "    # Validation loop\n",
    "    model.eval()\n",
    "    val_loss = 0.0\n",
    "    correct_val_predictions = 0\n",
    "    total_val_predictions = 0\n",
    "\n",
    "    true_labels = []\n",
    "    predicted_labels = []\n",
    "\n",
    "    with torch.no_grad():\n",
    "        for inputs, labels in val_loader:\n",
    "            inputs, labels = inputs.to(device), labels.to(device)\n",
    "\n",
    "            # Forward pass\n",
    "            outputs = model(inputs)\n",
    "            labels = labels.float()\n",
    "            loss = criterion(outputs, labels)\n",
    "            val_loss += loss.item()\n",
    "\n",
    "            # Threshold the logits for binary classification\n",
    "            predicted = (torch.sigmoid(outputs) > 0.5).float()  # Threshold at 0.5\n",
    "            correct_val_predictions += (predicted == labels).sum().item()\n",
    "            total_val_predictions += labels.size(0)\n",
    "\n",
    "            # Store true and predicted labels for confusion matrix\n",
    "            true_labels.extend(labels.cpu().numpy())\n",
    "            predicted_labels.extend(predicted.cpu().numpy())\n",
    "\n",
    "    val_loss /= len(val_loader)  # Average validation loss\n",
    "    val_accuracy = 100 * correct_val_predictions / total_val_predictions\n",
    "\n",
    "    # Append metrics to lists for tracking\n",
    "    train_losses.append(train_loss)\n",
    "    val_losses.append(val_loss)\n",
    "    train_accuracies.append(train_accuracy)\n",
    "    val_accuracies.append(val_accuracy)\n",
    "\n",
    "    print(f\"Epoch {epoch+1}/{num_epochs}, \"\n",
    "          f\"Train Loss: {train_loss:.4f}, \"\n",
    "          f\"Train Accuracy: {train_accuracy:.2f}%, \"\n",
    "          f\"Validation Loss: {val_loss:.4f}, \"\n",
    "          f\"Validation Accuracy: {val_accuracy:.2f}%\")\n",
    "\n",
    "    # Early stopping and learning rate scheduling\n",
    "    if val_loss < best_val_loss:\n",
    "        best_val_loss = val_loss\n",
    "        epochs_without_improvement = 0\n",
    "        print(\"Best validation loss so far\")\n",
    "    else:\n",
    "        epochs_without_improvement += 1\n",
    "        print(f\"{epochs_without_improvement}/{patience} epochs without improvement\")\n",
    "\n",
    "    if epochs_without_improvement >= patience:  # Early stopping condition\n",
    "        print(\"Early stopping triggered.\")\n",
    "        break"
   ]
  },
  {
   "cell_type": "code",
   "execution_count": null,
   "metadata": {},
   "outputs": [],
   "source": [
    "output_file = \"src/models/outputs/lstm_binary_model.pth\"\n",
    "        torch.save(model.state_dict(), output_file)\n",
    "        print(f\"Model saved to {output_file}\")"
   ]
  },
  {
   "cell_type": "code",
   "execution_count": null,
   "metadata": {},
   "outputs": [],
   "source": [
    "# Training and evaluation function\n",
    "def evaluate(model, loader, device):\n",
    "    model.eval()\n",
    "    correct = 0\n",
    "    total = len(loader.dataset)\n",
    "    all_labels = []\n",
    "    all_predictions = []\n",
    "    with torch.no_grad():\n",
    "        for inputs, labels in loader:\n",
    "            inputs = inputs.to(device)\n",
    "            labels = labels.to(device)\n",
    "            outputs = model(inputs)\n",
    "            _, predicted = torch.max(outputs, 1)  # For multiclass\n",
    "            all_labels.extend(labels.view(-1).cpu().numpy())\n",
    "            all_predictions.extend(predicted.view(-1).cpu().numpy())\n",
    "            correct += (predicted == labels).sum().item()\n",
    "\n",
    "    accuracy = 100 * correct / total\n",
    "    f1 = f1_score(all_labels, all_predictions, average='weighted')\n",
    "    precision = precision_score(all_labels, all_predictions, average='weighted')\n",
    "    recall = recall_score(all_labels, all_predictions, average='weighted')\n",
    "    return accuracy, f1, precision, recall"
   ]
  },
  {
   "cell_type": "code",
   "execution_count": null,
   "metadata": {},
   "outputs": [],
   "source": [
    "# Load best model for final evaluation\n",
    "model.load_state_dict(\n",
    "    torch.load(\n",
    "        output_file,\n",
    "        map_location=torch.device('cpu'),\n",
    "        weights_only=True\n",
    "    )\n",
    ")\n",
    "\n",
    "# Evaluate on test set\n",
    "test_accuracy, test_f1, test_precision, test_recall = evaluate(model, test_loader, device)\n",
    "print(f\"Test Accuracy: {test_accuracy:.2f}%\")\n",
    "print(f\"Test F1 Score: {test_f1:.2f}\")\n",
    "print(f\"Test Precision: {test_precision:.2f}\")\n",
    "print(f\"Test Recall: {test_recall:.2f}\")\n",
    "conf_matrix = confusion_matrix(true_labels, predicted_labels)\n",
    "print(\"\\nConfusion Matrix:\")\n",
    "print(conf_matrix)"
   ]
  },
  {
   "cell_type": "code",
   "execution_count": null,
   "metadata": {},
   "outputs": [],
   "source": [
    "import matplotlib.pyplot as plt\n",
    "\n",
    "plt.figure(figsize=(10, 5))\n",
    "plt.plot(train_accuracies, label='Train Accuracy')\n",
    "plt.plot(val_accuracies, label='Validation Accuracy')\n",
    "plt.xlabel('Epoch')\n",
    "plt.ylabel('Accuracy')\n",
    "plt.legend()\n",
    "plt.show()\n"
   ]
  },
  {
   "cell_type": "code",
   "execution_count": null,
   "metadata": {},
   "outputs": [],
   "source": [
    "# visualize the confusion matrix\n",
    "plt.figure(figsize=(8, 6))\n",
    "sns.heatmap(conf_matrix, annot=True, fmt='d', cmap='Blues', xticklabels=['Neutral', 'Positive', 'Negative'], yticklabels=['Neutral', 'Positive', 'Negative'])\n",
    "plt.xlabel('Predicted')\n",
    "plt.ylabel('True')\n",
    "plt.title('Confusion Matrix')\n",
    "plt.show()\n",
    "\n",
    "# Print classification report\n",
    "print(\"\\nClassification Report:\")\n",
    "print(classification_report(true_labels, predicted_labels, target_names=['Neutral', 'Positive', 'Negative']))"
   ]
  },
  {
   "cell_type": "code",
   "execution_count": null,
   "metadata": {},
   "outputs": [],
   "source": [
    "# Load the model\n",
    "model = LSTMBinaryModel(input_dim, hidden_dim, output_dim, num_layers).to(device)\n",
    "model.load_state_dict(torch.load(output_file))\n",
    "model.eval()\n",
    "\n",
    "sentences = [\"यो फोन खराब छ\", \"म यो फोन राम्रो पाए\", \"यो फोन राम्रो छ\"]\n",
    "max_length = 20\n",
    "for sentence in sentences:\n",
    "    sentence = preprocess_text(sentence)\n",
    "    tokens = tokenizer.tokenize(sentence)\n",
    "    review_vector = []\n",
    "    for token in tokens:\n",
    "        if token in word2vec_model:\n",
    "            review_vector.append(word2vec_model[token])\n",
    "        else:\n",
    "            review_vector.append(np.zeros(word2vec_model.vector_size))\n",
    "\n",
    "    # Pad the review to max_length with zero vectors\n",
    "    if len(review_vector) > max_length:\n",
    "        review_vector = review_vector[:max_length]\n",
    "    else:\n",
    "        review_vector.extend([np.zeros(word2vec_model.vector_size)] * (max_length - len(review_vector)))\n",
    "\n",
    "    review_vector = torch.tensor(review_vector, dtype=torch.float32).unsqueeze(0).to(device)\n",
    "    output = model(review_vector)\n",
    "    probability = torch.sigmoid(output).item()\n",
    "    predicted = (probability > 0.5)\n",
    "\n",
    "    print(f\"Sentence: {sentence}\")\n",
    "    print(f\"Predicted Sentiment: {labels_dict[int(predicted)]}\")\n",
    "    print(f\"Confidence: {probability:.2f}\")"
   ]
  },
  {
   "cell_type": "code",
   "execution_count": null,
   "metadata": {},
   "outputs": [],
   "source": []
  }
 ],
 "metadata": {
  "colab": {
   "collapsed_sections": [
    "hXCDqZ3rBd5-"
   ],
   "provenance": []
  },
  "kernelspec": {
   "display_name": "Python 3 (ipykernel)",
   "language": "python",
   "name": "python3"
  },
  "language_info": {
   "codemirror_mode": {
    "name": "ipython",
    "version": 3
   },
   "file_extension": ".py",
   "mimetype": "text/x-python",
   "name": "python",
   "nbconvert_exporter": "python",
   "pygments_lexer": "ipython3",
   "version": "3.12.4"
  }
 },
 "nbformat": 4,
 "nbformat_minor": 4
}
