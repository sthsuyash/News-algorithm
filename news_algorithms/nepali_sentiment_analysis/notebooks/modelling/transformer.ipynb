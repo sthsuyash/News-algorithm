{
 "cells": [
  {
   "cell_type": "markdown",
   "metadata": {},
   "source": [
    "# Transformer model for Nepali Sentiment Analysis"
   ]
  },
  {
   "cell_type": "code",
   "execution_count": 1,
   "metadata": {},
   "outputs": [],
   "source": [
    "import warnings\n",
    "warnings.filterwarnings(\"ignore\")"
   ]
  },
  {
   "cell_type": "code",
   "execution_count": 2,
   "metadata": {},
   "outputs": [],
   "source": [
    "import os\n",
    "import numpy as np\n",
    "import pandas as pd\n",
    "import seaborn as sns\n",
    "import matplotlib.pyplot as plt"
   ]
  },
  {
   "cell_type": "code",
   "execution_count": 3,
   "metadata": {},
   "outputs": [
    {
     "name": "stdout",
     "output_type": "stream",
     "text": [
      "Device: cuda\n"
     ]
    }
   ],
   "source": [
    "import torch\n",
    "\n",
    "device = torch.device(\"cuda\" if torch.cuda.is_available() else \"cpu\")\n",
    "print(\"Device:\", device)"
   ]
  },
  {
   "cell_type": "code",
   "execution_count": 4,
   "metadata": {},
   "outputs": [],
   "source": [
    "import sys\n",
    "current_dir = os.getcwd()\n",
    "project_root = os.path.abspath(os.path.join(current_dir, '../../../'))\n",
    "sys.path.append(project_root)"
   ]
  },
  {
   "cell_type": "markdown",
   "metadata": {},
   "source": [
    "### Data Loading and Preprocessing"
   ]
  },
  {
   "cell_type": "code",
   "execution_count": 5,
   "metadata": {},
   "outputs": [],
   "source": [
    "DATASET_PATH = os.path.join(\n",
    "    project_root,\n",
    "    'nepali_sentiment_analysis',\n",
    "    'dataset',\n",
    "    'processed',\n",
    "    'combined_cleaned_data.csv'\n",
    ")"
   ]
  },
  {
   "cell_type": "code",
   "execution_count": 6,
   "metadata": {},
   "outputs": [
    {
     "name": "stdout",
     "output_type": "stream",
     "text": [
      "Dataset Loaded Successfully!\n"
     ]
    },
    {
     "data": {
      "text/html": [
       "<div>\n",
       "<style scoped>\n",
       "    .dataframe tbody tr th:only-of-type {\n",
       "        vertical-align: middle;\n",
       "    }\n",
       "\n",
       "    .dataframe tbody tr th {\n",
       "        vertical-align: top;\n",
       "    }\n",
       "\n",
       "    .dataframe thead th {\n",
       "        text-align: right;\n",
       "    }\n",
       "</style>\n",
       "<table border=\"1\" class=\"dataframe\">\n",
       "  <thead>\n",
       "    <tr style=\"text-align: right;\">\n",
       "      <th></th>\n",
       "      <th>Sentiment</th>\n",
       "      <th>Sentences</th>\n",
       "    </tr>\n",
       "  </thead>\n",
       "  <tbody>\n",
       "    <tr>\n",
       "      <th>0</th>\n",
       "      <td>0</td>\n",
       "      <td>पुन निर्वाचन गरे यस्तै हुने हो</td>\n",
       "    </tr>\n",
       "    <tr>\n",
       "      <th>1</th>\n",
       "      <td>0</td>\n",
       "      <td>निर्वाचन कति गरिरहने</td>\n",
       "    </tr>\n",
       "    <tr>\n",
       "      <th>2</th>\n",
       "      <td>0</td>\n",
       "      <td>शासन व्यवस्था चुनाव पध्दति फेर्नु एउटा उपचार हो</td>\n",
       "    </tr>\n",
       "    <tr>\n",
       "      <th>3</th>\n",
       "      <td>0</td>\n",
       "      <td>क्या अचम्मकाे नगरपालिका डाेजरम्यान बालेनकाे</td>\n",
       "    </tr>\n",
       "    <tr>\n",
       "      <th>4</th>\n",
       "      <td>0</td>\n",
       "      <td>प्युठान नगरपालिका नेपाल स्वयंसेवक राष्ट्रिय सम...</td>\n",
       "    </tr>\n",
       "  </tbody>\n",
       "</table>\n",
       "</div>"
      ],
      "text/plain": [
       "   Sentiment                                          Sentences\n",
       "0          0                     पुन निर्वाचन गरे यस्तै हुने हो\n",
       "1          0                               निर्वाचन कति गरिरहने\n",
       "2          0    शासन व्यवस्था चुनाव पध्दति फेर्नु एउटा उपचार हो\n",
       "3          0        क्या अचम्मकाे नगरपालिका डाेजरम्यान बालेनकाे\n",
       "4          0  प्युठान नगरपालिका नेपाल स्वयंसेवक राष्ट्रिय सम..."
      ]
     },
     "execution_count": 6,
     "metadata": {},
     "output_type": "execute_result"
    }
   ],
   "source": [
    "df = pd.read_csv(DATASET_PATH)\n",
    "print(\"Dataset Loaded Successfully!\")\n",
    "df.head()"
   ]
  },
  {
   "cell_type": "markdown",
   "metadata": {},
   "source": [
    "## Embedding\n"
   ]
  },
  {
   "cell_type": "code",
   "execution_count": 7,
   "metadata": {},
   "outputs": [
    {
     "name": "stdout",
     "output_type": "stream",
     "text": [
      "Loaded embeddings with dimension: 300\n"
     ]
    }
   ],
   "source": [
    "from utils.embedding import Embeddings\n",
    "\n",
    "word_vectors = Embeddings().load_vector()\n",
    "embedding_dim = word_vectors.vector_size\n",
    "print(f\"Loaded embeddings with dimension: {embedding_dim}\")"
   ]
  },
  {
   "cell_type": "code",
   "execution_count": 8,
   "metadata": {},
   "outputs": [
    {
     "name": "stdout",
     "output_type": "stream",
     "text": [
      "Embedded Sentences Shape: (43636, 120, 300)\n"
     ]
    }
   ],
   "source": [
    "# Sentence to embedding conversion with improved handling\n",
    "max_length = 120\n",
    "\n",
    "\n",
    "def sentence_to_embedding(sentence):\n",
    "    tokens = sentence.split()\n",
    "    embeddings = [\n",
    "        word_vectors[token] \n",
    "        if token in word_vectors \n",
    "        else np.zeros(embedding_dim)\n",
    "        for token in tokens\n",
    "    ]\n",
    "    if len(embeddings) > max_length:\n",
    "        embeddings = embeddings[:max_length]\n",
    "    else:\n",
    "        embeddings += [np.zeros(embedding_dim)] * (max_length - len(embeddings))\n",
    "    return np.array(embeddings)\n",
    "\n",
    "\n",
    "embedded_sentences = np.array(\n",
    "    df[\"Sentences\"].apply(sentence_to_embedding).tolist()\n",
    ")\n",
    "sentiments = df[\"Sentiment\"].values\n",
    "\n",
    "print(f\"Embedded Sentences Shape: {embedded_sentences.shape}\")"
   ]
  },
  {
   "cell_type": "markdown",
   "metadata": {},
   "source": [
    "---"
   ]
  },
  {
   "cell_type": "markdown",
   "metadata": {},
   "source": [
    "### Data Preparation for Training"
   ]
  },
  {
   "cell_type": "code",
   "execution_count": 9,
   "metadata": {},
   "outputs": [],
   "source": [
    "from torch.utils.data import DataLoader, TensorDataset, random_split\n",
    "\n",
    "# Convert data to tensors\n",
    "embedded_sentences_tensor = torch.tensor(embedded_sentences, dtype=torch.float32)\n",
    "sentiments_tensor = torch.tensor(sentiments, dtype=torch.long)"
   ]
  },
  {
   "cell_type": "code",
   "execution_count": 10,
   "metadata": {},
   "outputs": [],
   "source": [
    "# Create dataset and split\n",
    "dataset = TensorDataset(embedded_sentences_tensor, sentiments_tensor)\n",
    "train_size = int(0.8 * len(dataset))\n",
    "val_size = len(dataset) - train_size\n",
    "train_dataset, val_dataset = random_split(dataset, [train_size, val_size])"
   ]
  },
  {
   "cell_type": "code",
   "execution_count": 11,
   "metadata": {},
   "outputs": [],
   "source": [
    "# Create DataLoader for batch processing\n",
    "batch_size = 64\n",
    "train_loader = DataLoader(train_dataset, batch_size=batch_size, shuffle=True)\n",
    "val_loader = DataLoader(val_dataset, batch_size=batch_size)"
   ]
  },
  {
   "cell_type": "code",
   "execution_count": 12,
   "metadata": {},
   "outputs": [
    {
     "name": "stdout",
     "output_type": "stream",
     "text": [
      "Training Set Size: 34908\n",
      "Validation Set Size: 8728\n"
     ]
    }
   ],
   "source": [
    "# Print dataset sizes\n",
    "print(f\"Training Set Size: {train_size}\")\n",
    "print(f\"Validation Set Size: {val_size}\")"
   ]
  },
  {
   "cell_type": "markdown",
   "metadata": {},
   "source": [
    "### Model Initialization and Hyperparameters"
   ]
  },
  {
   "cell_type": "code",
   "execution_count": 16,
   "metadata": {},
   "outputs": [],
   "source": [
    "# Model parameters\n",
    "d_model = embedding_dim\n",
    "num_heads = 6\n",
    "num_layers = 6\n",
    "num_classes = 3\n",
    "d_ff = 1200\n",
    "dropout = 0.2\n",
    "max_len = max_length"
   ]
  },
  {
   "cell_type": "code",
   "execution_count": 17,
   "metadata": {},
   "outputs": [],
   "source": [
    "from nepali_sentiment_analysis.transformer_model import SentimentTransformer"
   ]
  },
  {
   "cell_type": "code",
   "execution_count": 18,
   "metadata": {},
   "outputs": [],
   "source": [
    "model = SentimentTransformer(\n",
    "    d_model, \n",
    "    num_heads, \n",
    "    num_layers, \n",
    "    num_classes, \n",
    "    d_ff, \n",
    "    max_len, \n",
    "    dropout\n",
    ").to(device)"
   ]
  },
  {
   "cell_type": "code",
   "execution_count": 19,
   "metadata": {},
   "outputs": [],
   "source": [
    "import torch.nn as nn\n",
    "import torch.nn.functional as F\n",
    "import torch.optim as optim"
   ]
  },
  {
   "cell_type": "code",
   "execution_count": 20,
   "metadata": {},
   "outputs": [],
   "source": [
    "# Define weighted loss function and optimizer\n",
    "criterion = nn.CrossEntropyLoss()\n",
    "optimizer = optim.AdamW(model.parameters(), lr=0.001)\n",
    "# optimizer = optim.SGD(model.parameters(), lr=0.001, momentum=0.9)"
   ]
  },
  {
   "cell_type": "code",
   "execution_count": 21,
   "metadata": {},
   "outputs": [],
   "source": [
    "# Learning rate scheduler\n",
    "scheduler = optim.lr_scheduler.ReduceLROnPlateau(\n",
    "    optimizer, mode=\"min\", factor=0.5, patience=3, verbose=True\n",
    ")"
   ]
  },
  {
   "cell_type": "code",
   "execution_count": 22,
   "metadata": {},
   "outputs": [],
   "source": [
    "# Early stopping parameters\n",
    "early_stopping_patience = 5\n",
    "best_val_loss = float('inf')\n",
    "no_improvement_epochs = 0"
   ]
  },
  {
   "cell_type": "markdown",
   "metadata": {},
   "source": [
    "### Training Loop with Early Stopping"
   ]
  },
  {
   "cell_type": "code",
   "execution_count": 23,
   "metadata": {},
   "outputs": [
    {
     "name": "stdout",
     "output_type": "stream",
     "text": [
      "Epoch 1/50, Train Loss: 1.3257, Validation Loss: 0.7554, Validation Accuracy: 0.6980\n",
      "Validation loss improved. Model saved.\n",
      "Epoch 2/50, Train Loss: 0.7151, Validation Loss: 0.7115, Validation Accuracy: 0.7036\n",
      "Validation loss improved. Model saved.\n",
      "Epoch 3/50, Train Loss: 0.6613, Validation Loss: 0.7102, Validation Accuracy: 0.7135\n",
      "Validation loss improved. Model saved.\n",
      "Epoch 4/50, Train Loss: 0.6232, Validation Loss: 0.7379, Validation Accuracy: 0.7210\n",
      "Epoch 5/50, Train Loss: 0.5946, Validation Loss: 0.6829, Validation Accuracy: 0.7156\n",
      "Validation loss improved. Model saved.\n",
      "Epoch 6/50, Train Loss: 0.5774, Validation Loss: 0.7221, Validation Accuracy: 0.7021\n",
      "Epoch 7/50, Train Loss: 0.5503, Validation Loss: 0.6961, Validation Accuracy: 0.7183\n",
      "Epoch 8/50, Train Loss: 0.5289, Validation Loss: 0.7120, Validation Accuracy: 0.7250\n",
      "Epoch 9/50, Train Loss: 0.5088, Validation Loss: 0.6923, Validation Accuracy: 0.7222\n",
      "Epoch 10/50, Train Loss: 0.3913, Validation Loss: 0.7605, Validation Accuracy: 0.7270\n",
      "Early stopping triggered.\n"
     ]
    }
   ],
   "source": [
    "num_epochs = 50\n",
    "train_losses, val_losses, val_accuracies = [], [], []\n",
    "\n",
    "for epoch in range(num_epochs):\n",
    "    # Training phase\n",
    "    model.train()\n",
    "    total_train_loss = 0\n",
    "\n",
    "    for inputs, labels in train_loader:\n",
    "        inputs, labels = inputs.to(device), labels.to(device)\n",
    "\n",
    "        # Forward pass\n",
    "        outputs = model(inputs)\n",
    "        loss = criterion(outputs, labels)\n",
    "\n",
    "        # Backward pass\n",
    "        optimizer.zero_grad()\n",
    "        loss.backward()\n",
    "        optimizer.step()\n",
    "\n",
    "        total_train_loss += loss.item()\n",
    "\n",
    "    # Validation phase\n",
    "    model.eval()\n",
    "    total_val_loss, correct_predictions = 0, 0\n",
    "    with torch.no_grad():\n",
    "        for inputs, labels in val_loader:\n",
    "            inputs, labels = inputs.to(device), labels.to(device)\n",
    "            outputs = model(inputs)\n",
    "            loss = criterion(outputs, labels)\n",
    "            total_val_loss += loss.item()\n",
    "\n",
    "            # Compute accuracy\n",
    "            _, predicted = torch.max(outputs, 1)\n",
    "            correct_predictions += (predicted == labels).sum().item()\n",
    "\n",
    "    # Calculate metrics\n",
    "    train_loss = total_train_loss / len(train_loader)\n",
    "    val_loss = total_val_loss / len(val_loader)\n",
    "    val_accuracy = correct_predictions / len(val_loader.dataset)\n",
    "\n",
    "    # Save metrics\n",
    "    train_losses.append(train_loss)\n",
    "    val_losses.append(val_loss)\n",
    "    val_accuracies.append(val_accuracy)\n",
    "\n",
    "    # Print epoch summary\n",
    "    print(\n",
    "        f\"Epoch {epoch + 1}/{num_epochs}, \"\n",
    "        f\"Train Loss: {train_loss:.4f}, Validation Loss: {val_loss:.4f}, \"\n",
    "        f\"Validation Accuracy: {val_accuracy:.4f}\"\n",
    "    )\n",
    "\n",
    "    # Update scheduler and check early stopping\n",
    "    scheduler.step(val_loss)\n",
    "    if val_loss < best_val_loss:\n",
    "        best_val_loss = val_loss\n",
    "        no_improvement_epochs = 0\n",
    "        torch.save(model.state_dict(), \"../../models/best_model.pth\")\n",
    "        print(\"Validation loss improved. Model saved.\")\n",
    "    else:\n",
    "        no_improvement_epochs += 1\n",
    "        if no_improvement_epochs >= early_stopping_patience:\n",
    "            print(\"Early stopping triggered.\")\n",
    "            break"
   ]
  },
  {
   "cell_type": "markdown",
   "metadata": {},
   "source": [
    "### Training Visualization"
   ]
  },
  {
   "cell_type": "code",
   "execution_count": 24,
   "metadata": {},
   "outputs": [
    {
     "data": {
      "image/png": "[encoded data removed]",
      "text/plain": [
       "<Figure size 1000x500 with 1 Axes>"
      ]
     },
     "metadata": {},
     "output_type": "display_data"
    }
   ],
   "source": [
    "# Plot training and validation loss\n",
    "plt.figure(figsize=(10, 5))\n",
    "plt.plot(train_losses, label=\"Train Loss\")\n",
    "plt.plot(val_losses, label=\"Validation Loss\")\n",
    "plt.title(\"Loss Curve\")\n",
    "plt.xlabel(\"Epochs\")\n",
    "plt.ylabel(\"Loss\")\n",
    "plt.legend()\n",
    "plt.show()"
   ]
  },
  {
   "cell_type": "code",
   "execution_count": 25,
   "metadata": {},
   "outputs": [
    {
     "data": {
      "image/png": "[encoded data removed]",
      "text/plain": [
       "<Figure size 1000x500 with 1 Axes>"
      ]
     },
     "metadata": {},
     "output_type": "display_data"
    }
   ],
   "source": [
    "# Plot validation accuracy\n",
    "plt.figure(figsize=(10, 5))\n",
    "plt.plot(val_accuracies, label=\"Validation Accuracy\", color=\"green\")\n",
    "plt.title(\"Validation Accuracy Curve\")\n",
    "plt.xlabel(\"Epochs\")\n",
    "plt.ylabel(\"Accuracy\")\n",
    "plt.legend()\n",
    "plt.show()"
   ]
  },
  {
   "cell_type": "markdown",
   "metadata": {},
   "source": [
    "### Evaluation"
   ]
  },
  {
   "cell_type": "code",
   "execution_count": 26,
   "metadata": {},
   "outputs": [
    {
     "name": "stdout",
     "output_type": "stream",
     "text": [
      "Best model loaded for evaluation.\n"
     ]
    }
   ],
   "source": [
    "# Load the best model\n",
    "model.load_state_dict(torch.load(\"../../models/best_model.pth\"))\n",
    "model.eval()\n",
    "print(\"Best model loaded for evaluation.\")"
   ]
  },
  {
   "cell_type": "code",
   "execution_count": 27,
   "metadata": {},
   "outputs": [],
   "source": [
    "# Evaluate model on validation set\n",
    "predictions, actuals = [], []\n",
    "\n",
    "with torch.no_grad():\n",
    "    for inputs, labels in val_loader:\n",
    "        inputs, labels = inputs.to(device), labels.to(device)\n",
    "        outputs = model(inputs)\n",
    "        _, predicted = torch.max(outputs, 1)\n",
    "        predictions.extend(predicted.cpu().numpy())\n",
    "        actuals.extend(labels.cpu().numpy())"
   ]
  },
  {
   "cell_type": "code",
   "execution_count": 28,
   "metadata": {},
   "outputs": [],
   "source": [
    "from sklearn.metrics import (\n",
    "    classification_report,\n",
    "    confusion_matrix,\n",
    "    f1_score,\n",
    "    precision_score,\n",
    "    recall_score,\n",
    ")"
   ]
  },
  {
   "cell_type": "code",
   "execution_count": 29,
   "metadata": {},
   "outputs": [],
   "source": [
    "# Calculate metrics\n",
    "f1 = f1_score(actuals, predictions, average=\"weighted\")\n",
    "precision = precision_score(actuals, predictions, average=\"weighted\")\n",
    "recall = recall_score(actuals, predictions, average=\"weighted\")\n",
    "conf_matrix = confusion_matrix(actuals, predictions)"
   ]
  },
  {
   "cell_type": "code",
   "execution_count": 30,
   "metadata": {},
   "outputs": [
    {
     "name": "stdout",
     "output_type": "stream",
     "text": [
      "F1 Score: 0.7158\n",
      "Precision: 0.7198\n",
      "Recall: 0.7156\n",
      "\n",
      "Classification Report:\n",
      "              precision    recall  f1-score   support\n",
      "\n",
      "     Neutral       0.67      0.77      0.71      2636\n",
      "    Positive       0.76      0.68      0.72      3223\n",
      "    Negative       0.72      0.71      0.71      2869\n",
      "\n",
      "    accuracy                           0.72      8728\n",
      "   macro avg       0.72      0.72      0.72      8728\n",
      "weighted avg       0.72      0.72      0.72      8728\n",
      "\n"
     ]
    }
   ],
   "source": [
    "# Display metrics\n",
    "print(f\"F1 Score: {f1:.4f}\")\n",
    "print(f\"Precision: {precision:.4f}\")\n",
    "print(f\"Recall: {recall:.4f}\")\n",
    "print(\"\\nClassification Report:\")\n",
    "print(classification_report(actuals, predictions,\n",
    "      target_names=[\"Neutral\", \"Positive\", \"Negative\"]))"
   ]
  },
  {
   "cell_type": "code",
   "execution_count": 31,
   "metadata": {},
   "outputs": [
    {
     "data": {
      "image/png": "[encoded data removed]",
      "text/plain": [
       "<Figure size 800x600 with 2 Axes>"
      ]
     },
     "metadata": {},
     "output_type": "display_data"
    }
   ],
   "source": [
    "plt.figure(figsize=(8, 6))\n",
    "sns.heatmap(\n",
    "    conf_matrix,\n",
    "    annot=True,\n",
    "    fmt='d',\n",
    "    cmap='Blues',\n",
    "    xticklabels=[\"Neutral\", \"Positive\", \"Negative\"],\n",
    "    yticklabels=[\"Neutral\", \"Positive\", \"Negative\"]\n",
    ")\n",
    "plt.title(\"Confusion Matrix\")\n",
    "plt.xlabel(\"Predicted\")\n",
    "plt.ylabel(\"Actual\")\n",
    "plt.show()"
   ]
  },
  {
   "cell_type": "markdown",
   "metadata": {},
   "source": [
    "## Saving the Model"
   ]
  },
  {
   "cell_type": "code",
   "execution_count": 32,
   "metadata": {},
   "outputs": [
    {
     "name": "stdout",
     "output_type": "stream",
     "text": [
      "Model saved to c:\\Users\\Suyash Shrestha\\Personal\\_Nepali_news_project\\News-algorithm\\news_algorithms\\nepali_sentiment_analysis\\models\\sentiment_transformer_model.pth\n"
     ]
    }
   ],
   "source": [
    "current_path = os.path.abspath(os.path.join(current_dir, \"..\", \"..\"))\n",
    "\n",
    "# Check if 'models' directory exists, if not, create it\n",
    "models_dir = os.path.join(current_path, \"models\")\n",
    "if not os.path.exists(models_dir):\n",
    "    os.makedirs(models_dir)\n",
    "\n",
    "# Save the model\n",
    "model_save_path = os.path.join(models_dir, \"sentiment_transformer_model.pth\")\n",
    "torch.save(model.state_dict(), model_save_path)\n",
    "print(f\"Model saved to {model_save_path}\")"
   ]
  },
  {
   "cell_type": "markdown",
   "metadata": {},
   "source": [
    "## Loading the Model"
   ]
  },
  {
   "cell_type": "code",
   "execution_count": 33,
   "metadata": {},
   "outputs": [
    {
     "name": "stdout",
     "output_type": "stream",
     "text": [
      "Model loaded successfully for inference!\n"
     ]
    }
   ],
   "source": [
    "# Load the model for inference\n",
    "loaded_model = SentimentTransformer(\n",
    "    d_model, num_heads, num_layers, num_classes, d_ff, max_len, dropout\n",
    ")\n",
    "loaded_model.load_state_dict(torch.load(model_save_path))\n",
    "loaded_model.to(device)\n",
    "loaded_model.eval()\n",
    "print(\"Model loaded successfully for inference!\")"
   ]
  },
  {
   "cell_type": "code",
   "execution_count": 34,
   "metadata": {},
   "outputs": [],
   "source": [
    "# Sample sentences for inference\n",
    "sentences = [\"म आजको खाना खान गरें।\", \"मलाई यो गाउँ मन पर्छ।\", \"म यो गाडी नचलाउन चाहन्छु\"]"
   ]
  },
  {
   "cell_type": "code",
   "execution_count": 35,
   "metadata": {},
   "outputs": [],
   "source": [
    "from utils.preprocess import preprocess"
   ]
  },
  {
   "cell_type": "code",
   "execution_count": 36,
   "metadata": {},
   "outputs": [],
   "source": [
    "processed_sentences = [preprocess(sentence)[0] for sentence in sentences]\n",
    "embedded_sentences = np.array([\n",
    "    sentence_to_embedding(sentence) \n",
    "    for sentence \n",
    "    in processed_sentences\n",
    "])"
   ]
  },
  {
   "cell_type": "code",
   "execution_count": 37,
   "metadata": {},
   "outputs": [],
   "source": [
    "# Convert to tensor\n",
    "embedded_sentences_tensor = torch.tensor(embedded_sentences, dtype=torch.float32).to(\n",
    "    device\n",
    ")"
   ]
  },
  {
   "cell_type": "code",
   "execution_count": 38,
   "metadata": {},
   "outputs": [],
   "source": [
    "# Perform inference\n",
    "predictions = []\n",
    "\n",
    "with torch.no_grad():\n",
    "    for inputs in embedded_sentences_tensor:\n",
    "        inputs = inputs.unsqueeze(0)\n",
    "        outputs = loaded_model(inputs)\n",
    "        _, predicted = torch.max(outputs, 1)\n",
    "        predictions.append(predicted.item())"
   ]
  },
  {
   "cell_type": "code",
   "execution_count": 39,
   "metadata": {},
   "outputs": [],
   "source": [
    "labels_dict = {0: \"Neutral\", 1: \"Positive\", 2: \"Negative\"}"
   ]
  },
  {
   "cell_type": "code",
   "execution_count": 40,
   "metadata": {},
   "outputs": [
    {
     "name": "stdout",
     "output_type": "stream",
     "text": [
      "Sentence: म आजको खाना खान गरें।\n",
      "Predicted Sentiment: Neutral\n",
      "\n",
      "Sentence: मलाई यो गाउँ मन पर्छ।\n",
      "Predicted Sentiment: Neutral\n",
      "\n",
      "Sentence: म यो गाडी नचलाउन चाहन्छु\n",
      "Predicted Sentiment: Neutral\n",
      "\n"
     ]
    }
   ],
   "source": [
    "# Display predictions\n",
    "for sentence, prediction in zip(sentences, predictions):\n",
    "    print(f\"Sentence: {sentence}\")\n",
    "    print(f\"Predicted Sentiment: {labels_dict[prediction]}\\n\")"
   ]
  },
  {
   "cell_type": "code",
   "execution_count": 41,
   "metadata": {},
   "outputs": [
    {
     "name": "stdout",
     "output_type": "stream",
     "text": [
      "Text: म खुसी छु\n",
      "Predicted Sentiment: Positive\n"
     ]
    }
   ],
   "source": [
    "text = \"म खुसी छु\"\n",
    "processed_text = preprocess(text)[0]\n",
    "embedded_text = sentence_to_embedding(processed_text)\n",
    "embedded_text_tensor = (\n",
    "    torch.tensor(embedded_text, dtype=torch.float32).unsqueeze(0).to(device)\n",
    ")\n",
    "\n",
    "# Perform inference\n",
    "with torch.no_grad():\n",
    "    outputs = loaded_model(embedded_text_tensor)\n",
    "    _, predicted = torch.max(outputs, 1)\n",
    "\n",
    "# Display prediction\n",
    "print(f\"Text: {text}\")\n",
    "print(f\"Predicted Sentiment: {labels_dict[predicted.item()]}\")"
   ]
  }
 ],
 "metadata": {
  "kernelspec": {
   "display_name": "nepali-news-algorithms-pgvW4vYa-py3.12",
   "language": "python",
   "name": "python3"
  },
  "language_info": {
   "codemirror_mode": {
    "name": "ipython",
    "version": 3
   },
   "file_extension": ".py",
   "mimetype": "text/x-python",
   "name": "python",
   "nbconvert_exporter": "python",
   "pygments_lexer": "ipython3",
   "version": "3.12.4"
  }
 },
 "nbformat": 4,
 "nbformat_minor": 2
}
